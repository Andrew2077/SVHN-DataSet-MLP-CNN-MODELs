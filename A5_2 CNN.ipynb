{
 "cells": [
  {
   "cell_type": "markdown",
   "metadata": {},
   "source": [
    "---\n",
    "# Cairo University Faculty of Engineering\n",
    "## Deep Learning \n",
    "## Assignment 5_2\n",
    "\n",
    "---"
   ]
  },
  {
   "attachments": {},
   "cell_type": "markdown",
   "metadata": {},
   "source": [
    "Please write your full name here\n",
    "- **Name** : Andrew Muhsen Paramedis"
   ]
  },
  {
   "cell_type": "markdown",
   "metadata": {
    "id": "rffwkDWTz_Fo"
   },
   "source": [
    "## Image classifier for the SVHN dataset\n",
    "### Instructions\n",
    "\n",
    "In this notebook, you will create a neural network that classifies real-world images digits. \n",
    "Within this notebook you will find instructions in each section for how to complete the assignment. \n",
    "\n",
    "Pay close attention to the instructions. Feel free to add extra cells into the notebook as required.\n",
    "\n",
    "### Let's get started!\n",
    "\n",
    "We'll start by running some imports, and loading the dataset. You are free to make further imports throughout the notebook as you wish. "
   ]
  },
  {
   "cell_type": "code",
   "execution_count": 1,
   "metadata": {
    "id": "O3vI8jSIz_Fs"
   },
   "outputs": [],
   "source": [
    "import tensorflow as tf\n",
    "import numpy as np\n",
    "from scipy.io import loadmat"
   ]
  },
  {
   "cell_type": "markdown",
   "metadata": {
    "id": "8OrHY7TRz_Fx"
   },
   "source": [
    "For this assignmnet, you will use the [SVHN dataset](http://ufldl.stanford.edu/housenumbers/). This is an image dataset of over 600,000 digit images in all, and is a harder dataset than MNIST as the numbers appear in the context of natural scene images. SVHN is obtained from house numbers in Google Street View images.\n",
    "\n",
    "* Y. Netzer, T. Wang, A. Coates, A. Bissacco, B. Wu and A. Y. Ng. \"Reading Digits in Natural Images with Unsupervised Feature Learning\". NIPS Workshop on Deep Learning and Unsupervised Feature Learning, 2011.\n",
    "\n",
    "The train and test datasets required for this project can be downloaded from [here](http://ufldl.stanford.edu/housenumbers/train.tar.gz) and [here](http://ufldl.stanford.edu/housenumbers/test.tar.gz). Once unzipped, you will have two files: `train_32x32.mat` and `test_32x32.mat`. \n",
    "\n",
    "- If using Colab: You should store these files in Drive.\n",
    "\n",
    "Your goal is to develop an end-to-end workflow for building, training, validating, evaluating and saving a neural network that classifies a real-world image into one of ten classes."
   ]
  },
  {
   "cell_type": "code",
   "execution_count": 2,
   "metadata": {
    "id": "YWdiz3n_z_Fy"
   },
   "outputs": [],
   "source": [
    "# Load the dataset from your Drive folder\n",
    "\n",
    "train = loadmat('train_32x32.mat')\n",
    "test = loadmat('test_32x32.mat')"
   ]
  },
  {
   "cell_type": "markdown",
   "metadata": {
    "id": "Sot1IcuZz_F2"
   },
   "source": [
    "Both `train` and `test` are dictionaries with keys `X` and `y` for the input images and labels respectively."
   ]
  },
  {
   "cell_type": "markdown",
   "metadata": {
    "id": "_Q1n_Ai2z_F3"
   },
   "source": [
    "## 1. Inspect and preprocess the dataset\n",
    "* Extract the training and testing images and labels separately from the train and test dictionaries loaded for you.\n",
    "* Select a random sample of images and corresponding labels from the dataset (at least 10), and display them in a figure.\n",
    "* Convert the training and test images to grayscale by taking the average across all colour channels for each pixel. _Hint: retain the channel dimension, which will now have size 1._\n",
    "* Select a random sample of the grayscale images and corresponding labels from the dataset (at least 10), and display them in a figure."
   ]
  },
  {
   "cell_type": "code",
   "execution_count": 3,
   "metadata": {},
   "outputs": [
    {
     "data": {
      "text/plain": [
       "dict"
      ]
     },
     "execution_count": 3,
     "metadata": {},
     "output_type": "execute_result"
    }
   ],
   "source": [
    "type(train)"
   ]
  },
  {
   "cell_type": "code",
   "execution_count": 4,
   "metadata": {
    "id": "-WIH5hyXz_F4"
   },
   "outputs": [
    {
     "data": {
      "text/plain": [
       "dict_keys(['__header__', '__version__', '__globals__', 'X', 'y'])"
      ]
     },
     "execution_count": 4,
     "metadata": {},
     "output_type": "execute_result"
    }
   ],
   "source": [
    "train.keys()"
   ]
  },
  {
   "cell_type": "code",
   "execution_count": 5,
   "metadata": {},
   "outputs": [
    {
     "name": "stdout",
     "output_type": "stream",
     "text": [
      "b'MATLAB 5.0 MAT-file, Platform: GLNXA64, Created on: Mon Dec  5 21:09:26 2011'\n",
      "1.0\n",
      "[]\n"
     ]
    }
   ],
   "source": [
    "print(train['__header__'])\n",
    "print(train['__version__'])\n",
    "print(train['__globals__'])"
   ]
  },
  {
   "cell_type": "code",
   "execution_count": 6,
   "metadata": {
    "id": "zmGJK3xgz_F8"
   },
   "outputs": [
    {
     "name": "stdout",
     "output_type": "stream",
     "text": [
      "Xtrain shape :  (32, 32, 3, 73257)\n",
      "ytrain shape : (73257, 1)\n",
      "xtest shape :  (32, 32, 3, 26032)\n",
      "ytest shape : (73257, 1)\n"
     ]
    }
   ],
   "source": [
    "print('Xtrain shape : ' , train['X'].shape)\n",
    "print('ytrain shape :' , train['y'].shape)\n",
    "\n",
    "print('xtest shape : ' , test['X'].shape)\n",
    "print('ytest shape :' , train['y'].shape)"
   ]
  },
  {
   "cell_type": "code",
   "execution_count": 7,
   "metadata": {},
   "outputs": [
    {
     "name": "stdout",
     "output_type": "stream",
     "text": [
      "(32, 32, 3, 73257)\n",
      "(73257, 1)\n",
      "(73257, 32, 32, 3)\n",
      "(73257, 1)\n"
     ]
    }
   ],
   "source": [
    "train_X = train['X']\n",
    "train_y = train['y']\n",
    "test_X = test['X']\n",
    "test_y = test['y']\n",
    "\n",
    "print(train_X.shape)\n",
    "print(train_y.shape)\n",
    "\n",
    "#*width, height, channels, number of images\n",
    "train_X = train_X.transpose(3,0,1,2)/255.0\n",
    "test_X = test_X.transpose(3,0,1,2)/255.0\n",
    "#train_y = train_y.reshape(-1)\n",
    "#test_y = test_y.reshape(-1)\n",
    "\n",
    "#*number of images, width, height, channels\n",
    "print(train_X.shape)\n",
    "print(train_y.shape)"
   ]
  },
  {
   "cell_type": "code",
   "execution_count": 8,
   "metadata": {},
   "outputs": [
    {
     "name": "stdout",
     "output_type": "stream",
     "text": [
      "[ 1  2  3  4  5  6  7  8  9 10]\n"
     ]
    },
    {
     "data": {
      "text/plain": [
       "array([0, 1, 2, 3, 4, 5, 6, 7, 8, 9], dtype=uint8)"
      ]
     },
     "execution_count": 8,
     "metadata": {},
     "output_type": "execute_result"
    }
   ],
   "source": [
    "print(np.unique(train_y))\n",
    "train_y[train_y==10] = 0\n",
    "test_y[test_y==10] = 0\n",
    "np.unique(train_y)"
   ]
  },
  {
   "cell_type": "code",
   "execution_count": 9,
   "metadata": {
    "id": "6SR4gYffz_F_"
   },
   "outputs": [
    {
     "name": "stderr",
     "output_type": "stream",
     "text": [
      "c:\\Users\\DELL\\anaconda3\\envs\\tfgpy\\lib\\site-packages\\matplotlib\\text.py:1241: FutureWarning: elementwise comparison failed; returning scalar instead, but in the future will perform elementwise comparison\n",
      "  if s != self._text:\n"
     ]
    },
    {
     "data": {
      "image/png": "[encoded data removed]",
      "text/plain": [
       "<Figure size 1000x400 with 10 Axes>"
      ]
     },
     "metadata": {},
     "output_type": "display_data"
    }
   ],
   "source": [
    "from matplotlib import pyplot as plt\n",
    "import numpy as np \n",
    "%matplotlib inline\n",
    "\n",
    "def plotting_samples(train_X, train_y):\n",
    "    fig, ax = plt.subplots(2, 5, figsize=(10, 4))\n",
    "    for i in range(2):\n",
    "        for j in range (5):\n",
    "            x = np.random.randint(0, 1000)\n",
    "            ax[i, j].imshow(train_X[x])\n",
    "            ax[i, j].set_title(train_y[x])\n",
    "            ax[i, j].axis('off')\n",
    "            \n",
    "plotting_samples(train_X, train_y)"
   ]
  },
  {
   "cell_type": "code",
   "execution_count": 10,
   "metadata": {
    "id": "UXYwWhHpz_GD"
   },
   "outputs": [],
   "source": [
    "#* np.mean (images , Keepdims = True , axis = channel)\n",
    "train_X_gray = np.mean(train_X,keepdims=True,axis = -1)\n",
    "test_X_gray = np.mean(test_X,keepdims=True,axis = -1)\n",
    "\n"
   ]
  },
  {
   "cell_type": "code",
   "execution_count": 11,
   "metadata": {
    "id": "auFZ63dtz_GH"
   },
   "outputs": [
    {
     "data": {
      "image/png": "[encoded data removed]",
      "text/plain": [
       "<Figure size 1000x400 with 10 Axes>"
      ]
     },
     "metadata": {},
     "output_type": "display_data"
    }
   ],
   "source": [
    "def plotting_samples_gray(train_X, train_y):\n",
    "    fig, ax = plt.subplots(2, 5, figsize=(10, 4))\n",
    "    for i in range(2):\n",
    "        for j in range (5):\n",
    "            x = np.random.randint(0, 1000)\n",
    "            ax[i, j].imshow(train_X_gray[x])\n",
    "            ax[i, j].set_title(train_y[x])\n",
    "            ax[i, j].axis('off')\n",
    "            \n",
    "            \n",
    "plotting_samples_gray(train_X, train_y)"
   ]
  },
  {
   "cell_type": "markdown",
   "metadata": {
    "id": "7e7iSyWXz_GN"
   },
   "source": [
    "## 2. MLP neural network classifier\n",
    "* Build an MLP classifier model using the Sequential API. Your model should use only Flatten and Dense layers, with the final layer having a 10-way softmax output. \n",
    "* You should design and build the model yourself. Feel free to experiment with different MLP architectures. _Hint: to achieve a reasonable accuracy you won't need to use more than 4 or 5 layers._\n",
    "* Print out the model summary (using the summary() method)\n",
    "* Compile and train the model (recommend a maximum of 30 epochs), making use of both training and validation sets during the training run. \n",
    "* Your model should track at least one appropriate metric, and use at least one callback during training, like a ModelCheckpoint callback.\n",
    "* As a guide, you should aim to achieve a final categorical cross entropy training loss of less than 1.0 (the validation loss might be higher).\n",
    "* Plot the learning curves for loss vs epoch and accuracy vs epoch for both training and validation sets.\n",
    "* Compute and display the loss and accuracy of the trained model on the test set."
   ]
  },
  {
   "cell_type": "code",
   "execution_count": 12,
   "metadata": {},
   "outputs": [],
   "source": [
    "import tensorflow as tf \n",
    "from tensorflow import keras\n",
    "from keras import layers , Model\n"
   ]
  },
  {
   "cell_type": "code",
   "execution_count": 13,
   "metadata": {},
   "outputs": [],
   "source": [
    "from sklearn.model_selection import train_test_split\n",
    "\n",
    "train_y = keras.utils.to_categorical(train_y, num_classes=10)\n",
    "test_y = keras.utils.to_categorical(test_y, num_classes=10)\n",
    "#! i dont know why it is not working?!! with the class [10] ?!\n",
    "\n",
    "xtrain , xval , ytrain , yval = train_test_split(train_X_gray, train_y, test_size = 0.15, random_state = 42)\n",
    "#ytrain = keras.utils.to_categorical(ytrain, 10)\n",
    "#yval = keras.utils.to_categorical(yval, 10)"
   ]
  },
  {
   "cell_type": "code",
   "execution_count": 14,
   "metadata": {},
   "outputs": [
    {
     "name": "stdout",
     "output_type": "stream",
     "text": [
      "Model: \"MLp_model\"\n",
      "_________________________________________________________________\n",
      " Layer (type)                Output Shape              Param #   \n",
      "=================================================================\n",
      " input_1 (InputLayer)        [(None, 32, 32, 1)]       0         \n",
      "                                                                 \n",
      " flatten (Flatten)           (None, 1024)              0         \n",
      "                                                                 \n",
      " dense (Dense)               (None, 128)               131200    \n",
      "                                                                 \n",
      " dense_1 (Dense)             (None, 128)               16512     \n",
      "                                                                 \n",
      " dense_2 (Dense)             (None, 64)                8256      \n",
      "                                                                 \n",
      " dense_3 (Dense)             (None, 10)                650       \n",
      "                                                                 \n",
      "=================================================================\n",
      "Total params: 156,618\n",
      "Trainable params: 156,618\n",
      "Non-trainable params: 0\n",
      "_________________________________________________________________\n"
     ]
    }
   ],
   "source": [
    "# * MLP model\n",
    "def Create_MLP_model():\n",
    "    inputs = keras.Input(shape=train_X_gray[0].shape)\n",
    "    flatten = layers.Flatten()(inputs)\n",
    "    #layer1 = layers.Dense(256,  activation='relu')(flatten)\n",
    "    layer1 = layers.Dense(128,  activation='relu')(flatten)\n",
    "    layer2 = layers.Dense(128,  activation='relu')(layer1)\n",
    "    layer3 = layers.Dense(64, activation='relu')(layer2)\n",
    "    Outputs = layers.Dense(10, activation='softmax')(layer3)\n",
    "    MLP_model = Model(inputs =inputs, outputs = Outputs, name= 'MLp_model')\n",
    "    return MLP_model\n",
    "\n",
    "MLP_model = Create_MLP_model()\n",
    "MLP_model.summary()"
   ]
  },
  {
   "cell_type": "code",
   "execution_count": 15,
   "metadata": {},
   "outputs": [],
   "source": [
    "from keras.callbacks import ModelCheckpoint, ReduceLROnPlateau\n",
    "\n",
    "\n",
    "MLP_model.compile(optimizer='adam',loss='CategoricalCrossentropy', metrics=['accuracy'])\n",
    "callback_best = ModelCheckpoint('MLPmodel/best_model', save_best_only=True, save_weights_only=True, monitor=\"val_accuracy\")"
   ]
  },
  {
   "cell_type": "code",
   "execution_count": 16,
   "metadata": {
    "id": "YxJXq3xYz_GU"
   },
   "outputs": [
    {
     "name": "stdout",
     "output_type": "stream",
     "text": [
      "Epoch 1/30\n",
      "973/973 [==============================] - 5s 4ms/step - loss: 1.9812 - accuracy: 0.2908 - val_loss: 1.5439 - val_accuracy: 0.4622\n",
      "Epoch 2/30\n",
      "973/973 [==============================] - 3s 3ms/step - loss: 1.3917 - accuracy: 0.5414 - val_loss: 1.2814 - val_accuracy: 0.5870\n",
      "Epoch 3/30\n",
      "973/973 [==============================] - 3s 3ms/step - loss: 1.2344 - accuracy: 0.6050 - val_loss: 1.1488 - val_accuracy: 0.6343\n",
      "Epoch 4/30\n",
      "973/973 [==============================] - 3s 3ms/step - loss: 1.1631 - accuracy: 0.6319 - val_loss: 1.1127 - val_accuracy: 0.6478\n",
      "Epoch 5/30\n",
      "973/973 [==============================] - 3s 3ms/step - loss: 1.1061 - accuracy: 0.6510 - val_loss: 1.0330 - val_accuracy: 0.6781\n",
      "Epoch 6/30\n",
      "973/973 [==============================] - 3s 3ms/step - loss: 1.0667 - accuracy: 0.6655 - val_loss: 1.0438 - val_accuracy: 0.6695\n",
      "Epoch 7/30\n",
      "973/973 [==============================] - 3s 3ms/step - loss: 1.0292 - accuracy: 0.6794 - val_loss: 0.9903 - val_accuracy: 0.6899\n",
      "Epoch 8/30\n",
      "973/973 [==============================] - 3s 3ms/step - loss: 1.0015 - accuracy: 0.6870 - val_loss: 0.9776 - val_accuracy: 0.6919\n",
      "Epoch 9/30\n",
      "973/973 [==============================] - 4s 4ms/step - loss: 0.9853 - accuracy: 0.6919 - val_loss: 0.9782 - val_accuracy: 0.6915\n",
      "Epoch 10/30\n",
      "973/973 [==============================] - 3s 3ms/step - loss: 0.9675 - accuracy: 0.6988 - val_loss: 0.9481 - val_accuracy: 0.7059\n",
      "Epoch 11/30\n",
      "973/973 [==============================] - 3s 3ms/step - loss: 0.9627 - accuracy: 0.6971 - val_loss: 0.9542 - val_accuracy: 0.6982\n",
      "Epoch 12/30\n",
      "973/973 [==============================] - 4s 4ms/step - loss: 0.9493 - accuracy: 0.7038 - val_loss: 0.9680 - val_accuracy: 0.6932\n",
      "Epoch 13/30\n",
      "973/973 [==============================] - 4s 4ms/step - loss: 0.9361 - accuracy: 0.7060 - val_loss: 0.9383 - val_accuracy: 0.7077\n",
      "Epoch 14/30\n",
      "973/973 [==============================] - 3s 3ms/step - loss: 0.9298 - accuracy: 0.7083 - val_loss: 0.9351 - val_accuracy: 0.7108\n",
      "Epoch 15/30\n",
      "973/973 [==============================] - 3s 3ms/step - loss: 0.9166 - accuracy: 0.7112 - val_loss: 0.9042 - val_accuracy: 0.7157\n",
      "Epoch 16/30\n",
      "973/973 [==============================] - 3s 3ms/step - loss: 0.9114 - accuracy: 0.7116 - val_loss: 0.9512 - val_accuracy: 0.7011\n",
      "Epoch 17/30\n",
      "973/973 [==============================] - 3s 3ms/step - loss: 0.9048 - accuracy: 0.7152 - val_loss: 1.0070 - val_accuracy: 0.6790\n",
      "Epoch 18/30\n",
      "973/973 [==============================] - 3s 3ms/step - loss: 0.8962 - accuracy: 0.7154 - val_loss: 0.8873 - val_accuracy: 0.7204\n",
      "Epoch 19/30\n",
      "973/973 [==============================] - 3s 3ms/step - loss: 0.8866 - accuracy: 0.7191 - val_loss: 0.8890 - val_accuracy: 0.7185\n",
      "Epoch 20/30\n",
      "973/973 [==============================] - 3s 3ms/step - loss: 0.8819 - accuracy: 0.7211 - val_loss: 0.8917 - val_accuracy: 0.7206\n",
      "Epoch 21/30\n",
      "973/973 [==============================] - 3s 3ms/step - loss: 0.8810 - accuracy: 0.7206 - val_loss: 0.9560 - val_accuracy: 0.6963\n",
      "Epoch 22/30\n",
      "973/973 [==============================] - 3s 3ms/step - loss: 0.8718 - accuracy: 0.7226 - val_loss: 0.8826 - val_accuracy: 0.7239\n",
      "Epoch 23/30\n",
      "973/973 [==============================] - 3s 3ms/step - loss: 0.8649 - accuracy: 0.7250 - val_loss: 0.8549 - val_accuracy: 0.7324\n",
      "Epoch 24/30\n",
      "973/973 [==============================] - 3s 3ms/step - loss: 0.8585 - accuracy: 0.7292 - val_loss: 0.9494 - val_accuracy: 0.6972\n",
      "Epoch 25/30\n",
      "973/973 [==============================] - 3s 3ms/step - loss: 0.8503 - accuracy: 0.7304 - val_loss: 0.8852 - val_accuracy: 0.7184\n",
      "Epoch 26/30\n",
      "973/973 [==============================] - 3s 3ms/step - loss: 0.8487 - accuracy: 0.7295 - val_loss: 0.8798 - val_accuracy: 0.7223\n",
      "Epoch 27/30\n",
      "973/973 [==============================] - 4s 4ms/step - loss: 0.8410 - accuracy: 0.7331 - val_loss: 0.8878 - val_accuracy: 0.7207\n",
      "Epoch 28/30\n",
      "973/973 [==============================] - 3s 3ms/step - loss: 0.8403 - accuracy: 0.7342 - val_loss: 0.8518 - val_accuracy: 0.7295\n",
      "Epoch 29/30\n",
      "973/973 [==============================] - 4s 4ms/step - loss: 0.8346 - accuracy: 0.7342 - val_loss: 0.8677 - val_accuracy: 0.7265\n",
      "Epoch 30/30\n",
      "973/973 [==============================] - 3s 3ms/step - loss: 0.8334 - accuracy: 0.7355 - val_loss: 0.8498 - val_accuracy: 0.7361\n"
     ]
    }
   ],
   "source": [
    "history = MLP_model.fit(xtrain, ytrain, epochs = 30 , validation_data = (xval, yval), batch_size = 64, callbacks = [callback_best], verbose = 1)"
   ]
  },
  {
   "cell_type": "code",
   "execution_count": 17,
   "metadata": {
    "id": "pPPbzGhVz_GW"
   },
   "outputs": [
    {
     "data": {
      "application/vnd.plotly.v1+json": {
       "config": {
        "plotlyServerURL": "https://plot.ly"
       },
       "data": [
        {
         "hovertemplate": "variable=loss<br>index=%{x}<br>value=%{y}<extra></extra>",
         "legendgroup": "loss",
         "line": {
          "color": "#636efa",
          "dash": "solid"
         },
         "marker": {
          "symbol": "circle"
         },
         "mode": "lines",
         "name": "loss",
         "orientation": "v",
         "showlegend": true,
         "type": "scatter",
         "x": [
          0,
          1,
          2,
          3,
          4,
          5,
          6,
          7,
          8,
          9,
          10,
          11,
          12,
          13,
          14,
          15,
          16,
          17,
          18,
          19,
          20,
          21,
          22,
          23,
          24,
          25,
          26,
          27,
          28,
          29
         ],
         "xaxis": "x",
         "y": [
          1.9811919927597046,
          1.3917046785354614,
          1.2344350814819336,
          1.163089632987976,
          1.1060723066329956,
          1.0667273998260498,
          1.0292025804519653,
          1.001457929611206,
          0.9852873086929321,
          0.9674705266952515,
          0.9626886248588562,
          0.9493455290794373,
          0.9361093044281006,
          0.9298297762870789,
          0.9165953397750854,
          0.9114024639129639,
          0.9047689437866211,
          0.8962330222129822,
          0.886628270149231,
          0.8819417953491211,
          0.8809800148010254,
          0.8717835545539856,
          0.8649377226829529,
          0.8584940433502197,
          0.8502572178840637,
          0.8486649394035339,
          0.840954065322876,
          0.8402605652809143,
          0.8346408605575562,
          0.8334180116653442
         ],
         "yaxis": "y"
        },
        {
         "hovertemplate": "variable=val_loss<br>index=%{x}<br>value=%{y}<extra></extra>",
         "legendgroup": "val_loss",
         "line": {
          "color": "#EF553B",
          "dash": "solid"
         },
         "marker": {
          "symbol": "circle"
         },
         "mode": "lines",
         "name": "val_loss",
         "orientation": "v",
         "showlegend": true,
         "type": "scatter",
         "x": [
          0,
          1,
          2,
          3,
          4,
          5,
          6,
          7,
          8,
          9,
          10,
          11,
          12,
          13,
          14,
          15,
          16,
          17,
          18,
          19,
          20,
          21,
          22,
          23,
          24,
          25,
          26,
          27,
          28,
          29
         ],
         "xaxis": "x",
         "y": [
          1.5439103841781616,
          1.2814143896102905,
          1.148787498474121,
          1.1127320528030396,
          1.0329606533050537,
          1.0438271760940552,
          0.9902709126472473,
          0.977634072303772,
          0.9782450199127197,
          0.9481037259101868,
          0.9541841149330139,
          0.9679803252220154,
          0.9382888078689575,
          0.9350539445877075,
          0.9041922092437744,
          0.9512297511100769,
          1.0070422887802124,
          0.8872506022453308,
          0.8889850378036499,
          0.8917449116706848,
          0.9560484886169434,
          0.8826208114624023,
          0.8549014329910278,
          0.9494452476501465,
          0.8851801753044128,
          0.8798040151596069,
          0.8878082633018494,
          0.8517521619796753,
          0.8677460551261902,
          0.8497936725616455
         ],
         "yaxis": "y"
        }
       ],
       "layout": {
        "legend": {
         "title": {
          "text": "variable"
         },
         "tracegroupgap": 0
        },
        "template": {
         "data": {
          "bar": [
           {
            "error_x": {
             "color": "#f2f5fa"
            },
            "error_y": {
             "color": "#f2f5fa"
            },
            "marker": {
             "line": {
              "color": "rgb(17,17,17)",
              "width": 0.5
             },
             "pattern": {
              "fillmode": "overlay",
              "size": 10,
              "solidity": 0.2
             }
            },
            "type": "bar"
           }
          ],
          "barpolar": [
           {
            "marker": {
             "line": {
              "color": "rgb(17,17,17)",
              "width": 0.5
             },
             "pattern": {
              "fillmode": "overlay",
              "size": 10,
              "solidity": 0.2
             }
            },
            "type": "barpolar"
           }
          ],
          "carpet": [
           {
            "aaxis": {
             "endlinecolor": "#A2B1C6",
             "gridcolor": "#506784",
             "linecolor": "#506784",
             "minorgridcolor": "#506784",
             "startlinecolor": "#A2B1C6"
            },
            "baxis": {
             "endlinecolor": "#A2B1C6",
             "gridcolor": "#506784",
             "linecolor": "#506784",
             "minorgridcolor": "#506784",
             "startlinecolor": "#A2B1C6"
            },
            "type": "carpet"
           }
          ],
          "choropleth": [
           {
            "colorbar": {
             "outlinewidth": 0,
             "ticks": ""
            },
            "type": "choropleth"
           }
          ],
          "contour": [
           {
            "colorbar": {
             "outlinewidth": 0,
             "ticks": ""
            },
            "colorscale": [
             [
              0,
              "#0d0887"
             ],
             [
              0.1111111111111111,
              "#46039f"
             ],
             [
              0.2222222222222222,
              "#7201a8"
             ],
             [
              0.3333333333333333,
              "#9c179e"
             ],
             [
              0.4444444444444444,
              "#bd3786"
             ],
             [
              0.5555555555555556,
              "#d8576b"
             ],
             [
              0.6666666666666666,
              "#ed7953"
             ],
             [
              0.7777777777777778,
              "#fb9f3a"
             ],
             [
              0.8888888888888888,
              "#fdca26"
             ],
             [
              1,
              "#f0f921"
             ]
            ],
            "type": "contour"
           }
          ],
          "contourcarpet": [
           {
            "colorbar": {
             "outlinewidth": 0,
             "ticks": ""
            },
            "type": "contourcarpet"
           }
          ],
          "heatmap": [
           {
            "colorbar": {
             "outlinewidth": 0,
             "ticks": ""
            },
            "colorscale": [
             [
              0,
              "#0d0887"
             ],
             [
              0.1111111111111111,
              "#46039f"
             ],
             [
              0.2222222222222222,
              "#7201a8"
             ],
             [
              0.3333333333333333,
              "#9c179e"
             ],
             [
              0.4444444444444444,
              "#bd3786"
             ],
             [
              0.5555555555555556,
              "#d8576b"
             ],
             [
              0.6666666666666666,
              "#ed7953"
             ],
             [
              0.7777777777777778,
              "#fb9f3a"
             ],
             [
              0.8888888888888888,
              "#fdca26"
             ],
             [
              1,
              "#f0f921"
             ]
            ],
            "type": "heatmap"
           }
          ],
          "heatmapgl": [
           {
            "colorbar": {
             "outlinewidth": 0,
             "ticks": ""
            },
            "colorscale": [
             [
              0,
              "#0d0887"
             ],
             [
              0.1111111111111111,
              "#46039f"
             ],
             [
              0.2222222222222222,
              "#7201a8"
             ],
             [
              0.3333333333333333,
              "#9c179e"
             ],
             [
              0.4444444444444444,
              "#bd3786"
             ],
             [
              0.5555555555555556,
              "#d8576b"
             ],
             [
              0.6666666666666666,
              "#ed7953"
             ],
             [
              0.7777777777777778,
              "#fb9f3a"
             ],
             [
              0.8888888888888888,
              "#fdca26"
             ],
             [
              1,
              "#f0f921"
             ]
            ],
            "type": "heatmapgl"
           }
          ],
          "histogram": [
           {
            "marker": {
             "pattern": {
              "fillmode": "overlay",
              "size": 10,
              "solidity": 0.2
             }
            },
            "type": "histogram"
           }
          ],
          "histogram2d": [
           {
            "colorbar": {
             "outlinewidth": 0,
             "ticks": ""
            },
            "colorscale": [
             [
              0,
              "#0d0887"
             ],
             [
              0.1111111111111111,
              "#46039f"
             ],
             [
              0.2222222222222222,
              "#7201a8"
             ],
             [
              0.3333333333333333,
              "#9c179e"
             ],
             [
              0.4444444444444444,
              "#bd3786"
             ],
             [
              0.5555555555555556,
              "#d8576b"
             ],
             [
              0.6666666666666666,
              "#ed7953"
             ],
             [
              0.7777777777777778,
              "#fb9f3a"
             ],
             [
              0.8888888888888888,
              "#fdca26"
             ],
             [
              1,
              "#f0f921"
             ]
            ],
            "type": "histogram2d"
           }
          ],
          "histogram2dcontour": [
           {
            "colorbar": {
             "outlinewidth": 0,
             "ticks": ""
            },
            "colorscale": [
             [
              0,
              "#0d0887"
             ],
             [
              0.1111111111111111,
              "#46039f"
             ],
             [
              0.2222222222222222,
              "#7201a8"
             ],
             [
              0.3333333333333333,
              "#9c179e"
             ],
             [
              0.4444444444444444,
              "#bd3786"
             ],
             [
              0.5555555555555556,
              "#d8576b"
             ],
             [
              0.6666666666666666,
              "#ed7953"
             ],
             [
              0.7777777777777778,
              "#fb9f3a"
             ],
             [
              0.8888888888888888,
              "#fdca26"
             ],
             [
              1,
              "#f0f921"
             ]
            ],
            "type": "histogram2dcontour"
           }
          ],
          "mesh3d": [
           {
            "colorbar": {
             "outlinewidth": 0,
             "ticks": ""
            },
            "type": "mesh3d"
           }
          ],
          "parcoords": [
           {
            "line": {
             "colorbar": {
              "outlinewidth": 0,
              "ticks": ""
             }
            },
            "type": "parcoords"
           }
          ],
          "pie": [
           {
            "automargin": true,
            "type": "pie"
           }
          ],
          "scatter": [
           {
            "marker": {
             "line": {
              "color": "#283442"
             }
            },
            "type": "scatter"
           }
          ],
          "scatter3d": [
           {
            "line": {
             "colorbar": {
              "outlinewidth": 0,
              "ticks": ""
             }
            },
            "marker": {
             "colorbar": {
              "outlinewidth": 0,
              "ticks": ""
             }
            },
            "type": "scatter3d"
           }
          ],
          "scattercarpet": [
           {
            "marker": {
             "colorbar": {
              "outlinewidth": 0,
              "ticks": ""
             }
            },
            "type": "scattercarpet"
           }
          ],
          "scattergeo": [
           {
            "marker": {
             "colorbar": {
              "outlinewidth": 0,
              "ticks": ""
             }
            },
            "type": "scattergeo"
           }
          ],
          "scattergl": [
           {
            "marker": {
             "line": {
              "color": "#283442"
             }
            },
            "type": "scattergl"
           }
          ],
          "scattermapbox": [
           {
            "marker": {
             "colorbar": {
              "outlinewidth": 0,
              "ticks": ""
             }
            },
            "type": "scattermapbox"
           }
          ],
          "scatterpolar": [
           {
            "marker": {
             "colorbar": {
              "outlinewidth": 0,
              "ticks": ""
             }
            },
            "type": "scatterpolar"
           }
          ],
          "scatterpolargl": [
           {
            "marker": {
             "colorbar": {
              "outlinewidth": 0,
              "ticks": ""
             }
            },
            "type": "scatterpolargl"
           }
          ],
          "scatterternary": [
           {
            "marker": {
             "colorbar": {
              "outlinewidth": 0,
              "ticks": ""
             }
            },
            "type": "scatterternary"
           }
          ],
          "surface": [
           {
            "colorbar": {
             "outlinewidth": 0,
             "ticks": ""
            },
            "colorscale": [
             [
              0,
              "#0d0887"
             ],
             [
              0.1111111111111111,
              "#46039f"
             ],
             [
              0.2222222222222222,
              "#7201a8"
             ],
             [
              0.3333333333333333,
              "#9c179e"
             ],
             [
              0.4444444444444444,
              "#bd3786"
             ],
             [
              0.5555555555555556,
              "#d8576b"
             ],
             [
              0.6666666666666666,
              "#ed7953"
             ],
             [
              0.7777777777777778,
              "#fb9f3a"
             ],
             [
              0.8888888888888888,
              "#fdca26"
             ],
             [
              1,
              "#f0f921"
             ]
            ],
            "type": "surface"
           }
          ],
          "table": [
           {
            "cells": {
             "fill": {
              "color": "#506784"
             },
             "line": {
              "color": "rgb(17,17,17)"
             }
            },
            "header": {
             "fill": {
              "color": "#2a3f5f"
             },
             "line": {
              "color": "rgb(17,17,17)"
             }
            },
            "type": "table"
           }
          ]
         },
         "layout": {
          "annotationdefaults": {
           "arrowcolor": "#f2f5fa",
           "arrowhead": 0,
           "arrowwidth": 1
          },
          "autotypenumbers": "strict",
          "coloraxis": {
           "colorbar": {
            "outlinewidth": 0,
            "ticks": ""
           }
          },
          "colorscale": {
           "diverging": [
            [
             0,
             "#8e0152"
            ],
            [
             0.1,
             "#c51b7d"
            ],
            [
             0.2,
             "#de77ae"
            ],
            [
             0.3,
             "#f1b6da"
            ],
            [
             0.4,
             "#fde0ef"
            ],
            [
             0.5,
             "#f7f7f7"
            ],
            [
             0.6,
             "#e6f5d0"
            ],
            [
             0.7,
             "#b8e186"
            ],
            [
             0.8,
             "#7fbc41"
            ],
            [
             0.9,
             "#4d9221"
            ],
            [
             1,
             "#276419"
            ]
           ],
           "sequential": [
            [
             0,
             "#0d0887"
            ],
            [
             0.1111111111111111,
             "#46039f"
            ],
            [
             0.2222222222222222,
             "#7201a8"
            ],
            [
             0.3333333333333333,
             "#9c179e"
            ],
            [
             0.4444444444444444,
             "#bd3786"
            ],
            [
             0.5555555555555556,
             "#d8576b"
            ],
            [
             0.6666666666666666,
             "#ed7953"
            ],
            [
             0.7777777777777778,
             "#fb9f3a"
            ],
            [
             0.8888888888888888,
             "#fdca26"
            ],
            [
             1,
             "#f0f921"
            ]
           ],
           "sequentialminus": [
            [
             0,
             "#0d0887"
            ],
            [
             0.1111111111111111,
             "#46039f"
            ],
            [
             0.2222222222222222,
             "#7201a8"
            ],
            [
             0.3333333333333333,
             "#9c179e"
            ],
            [
             0.4444444444444444,
             "#bd3786"
            ],
            [
             0.5555555555555556,
             "#d8576b"
            ],
            [
             0.6666666666666666,
             "#ed7953"
            ],
            [
             0.7777777777777778,
             "#fb9f3a"
            ],
            [
             0.8888888888888888,
             "#fdca26"
            ],
            [
             1,
             "#f0f921"
            ]
           ]
          },
          "colorway": [
           "#636efa",
           "#EF553B",
           "#00cc96",
           "#ab63fa",
           "#FFA15A",
           "#19d3f3",
           "#FF6692",
           "#B6E880",
           "#FF97FF",
           "#FECB52"
          ],
          "font": {
           "color": "#f2f5fa"
          },
          "geo": {
           "bgcolor": "rgb(17,17,17)",
           "lakecolor": "rgb(17,17,17)",
           "landcolor": "rgb(17,17,17)",
           "showlakes": true,
           "showland": true,
           "subunitcolor": "#506784"
          },
          "hoverlabel": {
           "align": "left"
          },
          "hovermode": "closest",
          "mapbox": {
           "style": "dark"
          },
          "paper_bgcolor": "rgb(17,17,17)",
          "plot_bgcolor": "rgb(17,17,17)",
          "polar": {
           "angularaxis": {
            "gridcolor": "#506784",
            "linecolor": "#506784",
            "ticks": ""
           },
           "bgcolor": "rgb(17,17,17)",
           "radialaxis": {
            "gridcolor": "#506784",
            "linecolor": "#506784",
            "ticks": ""
           }
          },
          "scene": {
           "xaxis": {
            "backgroundcolor": "rgb(17,17,17)",
            "gridcolor": "#506784",
            "gridwidth": 2,
            "linecolor": "#506784",
            "showbackground": true,
            "ticks": "",
            "zerolinecolor": "#C8D4E3"
           },
           "yaxis": {
            "backgroundcolor": "rgb(17,17,17)",
            "gridcolor": "#506784",
            "gridwidth": 2,
            "linecolor": "#506784",
            "showbackground": true,
            "ticks": "",
            "zerolinecolor": "#C8D4E3"
           },
           "zaxis": {
            "backgroundcolor": "rgb(17,17,17)",
            "gridcolor": "#506784",
            "gridwidth": 2,
            "linecolor": "#506784",
            "showbackground": true,
            "ticks": "",
            "zerolinecolor": "#C8D4E3"
           }
          },
          "shapedefaults": {
           "line": {
            "color": "#f2f5fa"
           }
          },
          "sliderdefaults": {
           "bgcolor": "#C8D4E3",
           "bordercolor": "rgb(17,17,17)",
           "borderwidth": 1,
           "tickwidth": 0
          },
          "ternary": {
           "aaxis": {
            "gridcolor": "#506784",
            "linecolor": "#506784",
            "ticks": ""
           },
           "baxis": {
            "gridcolor": "#506784",
            "linecolor": "#506784",
            "ticks": ""
           },
           "bgcolor": "rgb(17,17,17)",
           "caxis": {
            "gridcolor": "#506784",
            "linecolor": "#506784",
            "ticks": ""
           }
          },
          "title": {
           "x": 0.05
          },
          "updatemenudefaults": {
           "bgcolor": "#506784",
           "borderwidth": 0
          },
          "xaxis": {
           "automargin": true,
           "gridcolor": "#283442",
           "linecolor": "#506784",
           "ticks": "",
           "title": {
            "standoff": 15
           },
           "zerolinecolor": "#283442",
           "zerolinewidth": 2
          },
          "yaxis": {
           "automargin": true,
           "gridcolor": "#283442",
           "linecolor": "#506784",
           "ticks": "",
           "title": {
            "standoff": 15
           },
           "zerolinecolor": "#283442",
           "zerolinewidth": 2
          }
         }
        },
        "title": {
         "text": "Loss"
        },
        "xaxis": {
         "anchor": "y",
         "domain": [
          0,
          1
         ],
         "title": {
          "text": "index"
         }
        },
        "yaxis": {
         "anchor": "x",
         "domain": [
          0,
          1
         ],
         "title": {
          "text": "value"
         }
        }
       }
      }
     },
     "metadata": {},
     "output_type": "display_data"
    }
   ],
   "source": [
    "import plotly.express as px\n",
    "px.line(history.history, y=['loss', 'val_loss'], title='Loss', template='plotly_dark')\n"
   ]
  },
  {
   "cell_type": "code",
   "execution_count": 18,
   "metadata": {},
   "outputs": [
    {
     "data": {
      "application/vnd.plotly.v1+json": {
       "config": {
        "plotlyServerURL": "https://plot.ly"
       },
       "data": [
        {
         "hovertemplate": "variable=accuracy<br>index=%{x}<br>value=%{y}<extra></extra>",
         "legendgroup": "accuracy",
         "line": {
          "color": "#636efa",
          "dash": "solid"
         },
         "marker": {
          "symbol": "circle"
         },
         "mode": "lines",
         "name": "accuracy",
         "orientation": "v",
         "showlegend": true,
         "type": "scatter",
         "x": [
          0,
          1,
          2,
          3,
          4,
          5,
          6,
          7,
          8,
          9,
          10,
          11,
          12,
          13,
          14,
          15,
          16,
          17,
          18,
          19,
          20,
          21,
          22,
          23,
          24,
          25,
          26,
          27,
          28,
          29
         ],
         "xaxis": "x",
         "y": [
          0.29080748558044434,
          0.5414338111877441,
          0.6050459146499634,
          0.6319296956062317,
          0.6509764194488525,
          0.665510356426239,
          0.6793537735939026,
          0.6870462894439697,
          0.6918802857398987,
          0.6987537741661072,
          0.697147786617279,
          0.7038446664810181,
          0.7059645652770996,
          0.7082931995391846,
          0.7111517786979675,
          0.7115532755851746,
          0.7152469754219055,
          0.7154397368431091,
          0.7191494703292847,
          0.7211248278617859,
          0.720626950263977,
          0.7225701808929443,
          0.7249630689620972,
          0.7292349338531494,
          0.7303751707077026,
          0.7294918894767761,
          0.7331213355064392,
          0.7342294454574585,
          0.73418128490448,
          0.735546350479126
         ],
         "yaxis": "y"
        },
        {
         "hovertemplate": "variable=val_accuracy<br>index=%{x}<br>value=%{y}<extra></extra>",
         "legendgroup": "val_accuracy",
         "line": {
          "color": "#EF553B",
          "dash": "solid"
         },
         "marker": {
          "symbol": "circle"
         },
         "mode": "lines",
         "name": "val_accuracy",
         "orientation": "v",
         "showlegend": true,
         "type": "scatter",
         "x": [
          0,
          1,
          2,
          3,
          4,
          5,
          6,
          7,
          8,
          9,
          10,
          11,
          12,
          13,
          14,
          15,
          16,
          17,
          18,
          19,
          20,
          21,
          22,
          23,
          24,
          25,
          26,
          27,
          28,
          29
         ],
         "xaxis": "x",
         "y": [
          0.4621894657611847,
          0.5870416164398193,
          0.6342706084251404,
          0.6478296518325806,
          0.6781326532363892,
          0.6694876551628113,
          0.6898716688156128,
          0.6918736696243286,
          0.6915096640586853,
          0.7058877348899841,
          0.6981527209281921,
          0.6932386755943298,
          0.7077077031135559,
          0.7108017206192017,
          0.7157157063484192,
          0.7010647058486938,
          0.6789516806602478,
          0.7204477190971375,
          0.7185367345809937,
          0.7206296920776367,
          0.6963326930999756,
          0.7239057421684265,
          0.7323687076568604,
          0.6972426772117615,
          0.7184457182884216,
          0.722267746925354,
          0.7207207083702087,
          0.7294567227363586,
          0.7265447378158569,
          0.7360997200012207
         ],
         "yaxis": "y"
        }
       ],
       "layout": {
        "legend": {
         "title": {
          "text": "variable"
         },
         "tracegroupgap": 0
        },
        "template": {
         "data": {
          "bar": [
           {
            "error_x": {
             "color": "#f2f5fa"
            },
            "error_y": {
             "color": "#f2f5fa"
            },
            "marker": {
             "line": {
              "color": "rgb(17,17,17)",
              "width": 0.5
             },
             "pattern": {
              "fillmode": "overlay",
              "size": 10,
              "solidity": 0.2
             }
            },
            "type": "bar"
           }
          ],
          "barpolar": [
           {
            "marker": {
             "line": {
              "color": "rgb(17,17,17)",
              "width": 0.5
             },
             "pattern": {
              "fillmode": "overlay",
              "size": 10,
              "solidity": 0.2
             }
            },
            "type": "barpolar"
           }
          ],
          "carpet": [
           {
            "aaxis": {
             "endlinecolor": "#A2B1C6",
             "gridcolor": "#506784",
             "linecolor": "#506784",
             "minorgridcolor": "#506784",
             "startlinecolor": "#A2B1C6"
            },
            "baxis": {
             "endlinecolor": "#A2B1C6",
             "gridcolor": "#506784",
             "linecolor": "#506784",
             "minorgridcolor": "#506784",
             "startlinecolor": "#A2B1C6"
            },
            "type": "carpet"
           }
          ],
          "choropleth": [
           {
            "colorbar": {
             "outlinewidth": 0,
             "ticks": ""
            },
            "type": "choropleth"
           }
          ],
          "contour": [
           {
            "colorbar": {
             "outlinewidth": 0,
             "ticks": ""
            },
            "colorscale": [
             [
              0,
              "#0d0887"
             ],
             [
              0.1111111111111111,
              "#46039f"
             ],
             [
              0.2222222222222222,
              "#7201a8"
             ],
             [
              0.3333333333333333,
              "#9c179e"
             ],
             [
              0.4444444444444444,
              "#bd3786"
             ],
             [
              0.5555555555555556,
              "#d8576b"
             ],
             [
              0.6666666666666666,
              "#ed7953"
             ],
             [
              0.7777777777777778,
              "#fb9f3a"
             ],
             [
              0.8888888888888888,
              "#fdca26"
             ],
             [
              1,
              "#f0f921"
             ]
            ],
            "type": "contour"
           }
          ],
          "contourcarpet": [
           {
            "colorbar": {
             "outlinewidth": 0,
             "ticks": ""
            },
            "type": "contourcarpet"
           }
          ],
          "heatmap": [
           {
            "colorbar": {
             "outlinewidth": 0,
             "ticks": ""
            },
            "colorscale": [
             [
              0,
              "#0d0887"
             ],
             [
              0.1111111111111111,
              "#46039f"
             ],
             [
              0.2222222222222222,
              "#7201a8"
             ],
             [
              0.3333333333333333,
              "#9c179e"
             ],
             [
              0.4444444444444444,
              "#bd3786"
             ],
             [
              0.5555555555555556,
              "#d8576b"
             ],
             [
              0.6666666666666666,
              "#ed7953"
             ],
             [
              0.7777777777777778,
              "#fb9f3a"
             ],
             [
              0.8888888888888888,
              "#fdca26"
             ],
             [
              1,
              "#f0f921"
             ]
            ],
            "type": "heatmap"
           }
          ],
          "heatmapgl": [
           {
            "colorbar": {
             "outlinewidth": 0,
             "ticks": ""
            },
            "colorscale": [
             [
              0,
              "#0d0887"
             ],
             [
              0.1111111111111111,
              "#46039f"
             ],
             [
              0.2222222222222222,
              "#7201a8"
             ],
             [
              0.3333333333333333,
              "#9c179e"
             ],
             [
              0.4444444444444444,
              "#bd3786"
             ],
             [
              0.5555555555555556,
              "#d8576b"
             ],
             [
              0.6666666666666666,
              "#ed7953"
             ],
             [
              0.7777777777777778,
              "#fb9f3a"
             ],
             [
              0.8888888888888888,
              "#fdca26"
             ],
             [
              1,
              "#f0f921"
             ]
            ],
            "type": "heatmapgl"
           }
          ],
          "histogram": [
           {
            "marker": {
             "pattern": {
              "fillmode": "overlay",
              "size": 10,
              "solidity": 0.2
             }
            },
            "type": "histogram"
           }
          ],
          "histogram2d": [
           {
            "colorbar": {
             "outlinewidth": 0,
             "ticks": ""
            },
            "colorscale": [
             [
              0,
              "#0d0887"
             ],
             [
              0.1111111111111111,
              "#46039f"
             ],
             [
              0.2222222222222222,
              "#7201a8"
             ],
             [
              0.3333333333333333,
              "#9c179e"
             ],
             [
              0.4444444444444444,
              "#bd3786"
             ],
             [
              0.5555555555555556,
              "#d8576b"
             ],
             [
              0.6666666666666666,
              "#ed7953"
             ],
             [
              0.7777777777777778,
              "#fb9f3a"
             ],
             [
              0.8888888888888888,
              "#fdca26"
             ],
             [
              1,
              "#f0f921"
             ]
            ],
            "type": "histogram2d"
           }
          ],
          "histogram2dcontour": [
           {
            "colorbar": {
             "outlinewidth": 0,
             "ticks": ""
            },
            "colorscale": [
             [
              0,
              "#0d0887"
             ],
             [
              0.1111111111111111,
              "#46039f"
             ],
             [
              0.2222222222222222,
              "#7201a8"
             ],
             [
              0.3333333333333333,
              "#9c179e"
             ],
             [
              0.4444444444444444,
              "#bd3786"
             ],
             [
              0.5555555555555556,
              "#d8576b"
             ],
             [
              0.6666666666666666,
              "#ed7953"
             ],
             [
              0.7777777777777778,
              "#fb9f3a"
             ],
             [
              0.8888888888888888,
              "#fdca26"
             ],
             [
              1,
              "#f0f921"
             ]
            ],
            "type": "histogram2dcontour"
           }
          ],
          "mesh3d": [
           {
            "colorbar": {
             "outlinewidth": 0,
             "ticks": ""
            },
            "type": "mesh3d"
           }
          ],
          "parcoords": [
           {
            "line": {
             "colorbar": {
              "outlinewidth": 0,
              "ticks": ""
             }
            },
            "type": "parcoords"
           }
          ],
          "pie": [
           {
            "automargin": true,
            "type": "pie"
           }
          ],
          "scatter": [
           {
            "marker": {
             "line": {
              "color": "#283442"
             }
            },
            "type": "scatter"
           }
          ],
          "scatter3d": [
           {
            "line": {
             "colorbar": {
              "outlinewidth": 0,
              "ticks": ""
             }
            },
            "marker": {
             "colorbar": {
              "outlinewidth": 0,
              "ticks": ""
             }
            },
            "type": "scatter3d"
           }
          ],
          "scattercarpet": [
           {
            "marker": {
             "colorbar": {
              "outlinewidth": 0,
              "ticks": ""
             }
            },
            "type": "scattercarpet"
           }
          ],
          "scattergeo": [
           {
            "marker": {
             "colorbar": {
              "outlinewidth": 0,
              "ticks": ""
             }
            },
            "type": "scattergeo"
           }
          ],
          "scattergl": [
           {
            "marker": {
             "line": {
              "color": "#283442"
             }
            },
            "type": "scattergl"
           }
          ],
          "scattermapbox": [
           {
            "marker": {
             "colorbar": {
              "outlinewidth": 0,
              "ticks": ""
             }
            },
            "type": "scattermapbox"
           }
          ],
          "scatterpolar": [
           {
            "marker": {
             "colorbar": {
              "outlinewidth": 0,
              "ticks": ""
             }
            },
            "type": "scatterpolar"
           }
          ],
          "scatterpolargl": [
           {
            "marker": {
             "colorbar": {
              "outlinewidth": 0,
              "ticks": ""
             }
            },
            "type": "scatterpolargl"
           }
          ],
          "scatterternary": [
           {
            "marker": {
             "colorbar": {
              "outlinewidth": 0,
              "ticks": ""
             }
            },
            "type": "scatterternary"
           }
          ],
          "surface": [
           {
            "colorbar": {
             "outlinewidth": 0,
             "ticks": ""
            },
            "colorscale": [
             [
              0,
              "#0d0887"
             ],
             [
              0.1111111111111111,
              "#46039f"
             ],
             [
              0.2222222222222222,
              "#7201a8"
             ],
             [
              0.3333333333333333,
              "#9c179e"
             ],
             [
              0.4444444444444444,
              "#bd3786"
             ],
             [
              0.5555555555555556,
              "#d8576b"
             ],
             [
              0.6666666666666666,
              "#ed7953"
             ],
             [
              0.7777777777777778,
              "#fb9f3a"
             ],
             [
              0.8888888888888888,
              "#fdca26"
             ],
             [
              1,
              "#f0f921"
             ]
            ],
            "type": "surface"
           }
          ],
          "table": [
           {
            "cells": {
             "fill": {
              "color": "#506784"
             },
             "line": {
              "color": "rgb(17,17,17)"
             }
            },
            "header": {
             "fill": {
              "color": "#2a3f5f"
             },
             "line": {
              "color": "rgb(17,17,17)"
             }
            },
            "type": "table"
           }
          ]
         },
         "layout": {
          "annotationdefaults": {
           "arrowcolor": "#f2f5fa",
           "arrowhead": 0,
           "arrowwidth": 1
          },
          "autotypenumbers": "strict",
          "coloraxis": {
           "colorbar": {
            "outlinewidth": 0,
            "ticks": ""
           }
          },
          "colorscale": {
           "diverging": [
            [
             0,
             "#8e0152"
            ],
            [
             0.1,
             "#c51b7d"
            ],
            [
             0.2,
             "#de77ae"
            ],
            [
             0.3,
             "#f1b6da"
            ],
            [
             0.4,
             "#fde0ef"
            ],
            [
             0.5,
             "#f7f7f7"
            ],
            [
             0.6,
             "#e6f5d0"
            ],
            [
             0.7,
             "#b8e186"
            ],
            [
             0.8,
             "#7fbc41"
            ],
            [
             0.9,
             "#4d9221"
            ],
            [
             1,
             "#276419"
            ]
           ],
           "sequential": [
            [
             0,
             "#0d0887"
            ],
            [
             0.1111111111111111,
             "#46039f"
            ],
            [
             0.2222222222222222,
             "#7201a8"
            ],
            [
             0.3333333333333333,
             "#9c179e"
            ],
            [
             0.4444444444444444,
             "#bd3786"
            ],
            [
             0.5555555555555556,
             "#d8576b"
            ],
            [
             0.6666666666666666,
             "#ed7953"
            ],
            [
             0.7777777777777778,
             "#fb9f3a"
            ],
            [
             0.8888888888888888,
             "#fdca26"
            ],
            [
             1,
             "#f0f921"
            ]
           ],
           "sequentialminus": [
            [
             0,
             "#0d0887"
            ],
            [
             0.1111111111111111,
             "#46039f"
            ],
            [
             0.2222222222222222,
             "#7201a8"
            ],
            [
             0.3333333333333333,
             "#9c179e"
            ],
            [
             0.4444444444444444,
             "#bd3786"
            ],
            [
             0.5555555555555556,
             "#d8576b"
            ],
            [
             0.6666666666666666,
             "#ed7953"
            ],
            [
             0.7777777777777778,
             "#fb9f3a"
            ],
            [
             0.8888888888888888,
             "#fdca26"
            ],
            [
             1,
             "#f0f921"
            ]
           ]
          },
          "colorway": [
           "#636efa",
           "#EF553B",
           "#00cc96",
           "#ab63fa",
           "#FFA15A",
           "#19d3f3",
           "#FF6692",
           "#B6E880",
           "#FF97FF",
           "#FECB52"
          ],
          "font": {
           "color": "#f2f5fa"
          },
          "geo": {
           "bgcolor": "rgb(17,17,17)",
           "lakecolor": "rgb(17,17,17)",
           "landcolor": "rgb(17,17,17)",
           "showlakes": true,
           "showland": true,
           "subunitcolor": "#506784"
          },
          "hoverlabel": {
           "align": "left"
          },
          "hovermode": "closest",
          "mapbox": {
           "style": "dark"
          },
          "paper_bgcolor": "rgb(17,17,17)",
          "plot_bgcolor": "rgb(17,17,17)",
          "polar": {
           "angularaxis": {
            "gridcolor": "#506784",
            "linecolor": "#506784",
            "ticks": ""
           },
           "bgcolor": "rgb(17,17,17)",
           "radialaxis": {
            "gridcolor": "#506784",
            "linecolor": "#506784",
            "ticks": ""
           }
          },
          "scene": {
           "xaxis": {
            "backgroundcolor": "rgb(17,17,17)",
            "gridcolor": "#506784",
            "gridwidth": 2,
            "linecolor": "#506784",
            "showbackground": true,
            "ticks": "",
            "zerolinecolor": "#C8D4E3"
           },
           "yaxis": {
            "backgroundcolor": "rgb(17,17,17)",
            "gridcolor": "#506784",
            "gridwidth": 2,
            "linecolor": "#506784",
            "showbackground": true,
            "ticks": "",
            "zerolinecolor": "#C8D4E3"
           },
           "zaxis": {
            "backgroundcolor": "rgb(17,17,17)",
            "gridcolor": "#506784",
            "gridwidth": 2,
            "linecolor": "#506784",
            "showbackground": true,
            "ticks": "",
            "zerolinecolor": "#C8D4E3"
           }
          },
          "shapedefaults": {
           "line": {
            "color": "#f2f5fa"
           }
          },
          "sliderdefaults": {
           "bgcolor": "#C8D4E3",
           "bordercolor": "rgb(17,17,17)",
           "borderwidth": 1,
           "tickwidth": 0
          },
          "ternary": {
           "aaxis": {
            "gridcolor": "#506784",
            "linecolor": "#506784",
            "ticks": ""
           },
           "baxis": {
            "gridcolor": "#506784",
            "linecolor": "#506784",
            "ticks": ""
           },
           "bgcolor": "rgb(17,17,17)",
           "caxis": {
            "gridcolor": "#506784",
            "linecolor": "#506784",
            "ticks": ""
           }
          },
          "title": {
           "x": 0.05
          },
          "updatemenudefaults": {
           "bgcolor": "#506784",
           "borderwidth": 0
          },
          "xaxis": {
           "automargin": true,
           "gridcolor": "#283442",
           "linecolor": "#506784",
           "ticks": "",
           "title": {
            "standoff": 15
           },
           "zerolinecolor": "#283442",
           "zerolinewidth": 2
          },
          "yaxis": {
           "automargin": true,
           "gridcolor": "#283442",
           "linecolor": "#506784",
           "ticks": "",
           "title": {
            "standoff": 15
           },
           "zerolinecolor": "#283442",
           "zerolinewidth": 2
          }
         }
        },
        "title": {
         "text": "Accuracy"
        },
        "xaxis": {
         "anchor": "y",
         "domain": [
          0,
          1
         ],
         "title": {
          "text": "index"
         }
        },
        "yaxis": {
         "anchor": "x",
         "domain": [
          0,
          1
         ],
         "title": {
          "text": "value"
         }
        }
       }
      }
     },
     "metadata": {},
     "output_type": "display_data"
    }
   ],
   "source": [
    "px.line(history.history, y=['accuracy', 'val_accuracy'], title='Accuracy', template='plotly_dark')"
   ]
  },
  {
   "cell_type": "code",
   "execution_count": 19,
   "metadata": {
    "id": "7b5_8VsCz_GZ"
   },
   "outputs": [],
   "source": [
    "from plotly.subplots import make_subplots\n",
    "import plotly.graph_objects as go\n",
    "def showBoth(history= history):\n",
    "    fig = make_subplots(rows=2, cols=1, shared_xaxes=True, vertical_spacing=0.15, )\n",
    "    trace1 = go.Scatter(y=history.history['accuracy'], name='train_accuracy')\n",
    "    trace2 = go.Scatter(y=history.history['val_accuracy'], name='val_accuracy')\n",
    "    trace3 = go.Scatter(y=history.history['loss'], name='train_loss')\n",
    "    trace4 = go.Scatter(y=history.history['val_loss'], name='val_loss')\n",
    "    fig.append_trace(trace1, row=1, col=1)\n",
    "    fig.append_trace(trace2, row=1, col=1)\n",
    "    fig.append_trace(trace3, row=2, col=1)\n",
    "    fig.append_trace(trace4, row=2, col=1)\n",
    "    fig.update_layout(template='plotly_dark')\n",
    "    fig.update_xaxes(title_text='Epochs', row=2, col=1)\n",
    "    fig.update_yaxes(title_text='Accuracy', row=1, col=1)\n",
    "    fig.update_yaxes(title_text='Loss', row=2, col=1)\n",
    "    fig.update_layout(title_text='Training and Validation Accuracy and Loss', title_x=0.5)\n",
    "    fig.show()\n",
    "\n",
    "#showBoth()"
   ]
  },
  {
   "cell_type": "code",
   "execution_count": 20,
   "metadata": {
    "id": "b0kH6VYqz_Gc"
   },
   "outputs": [
    {
     "name": "stdout",
     "output_type": "stream",
     "text": [
      "814/814 [==============================] - 2s 2ms/step - loss: 0.9879 - accuracy: 0.6921\n"
     ]
    },
    {
     "data": {
      "text/plain": [
       "[0.9878735542297363, 0.6921481490135193]"
      ]
     },
     "execution_count": 20,
     "metadata": {},
     "output_type": "execute_result"
    }
   ],
   "source": [
    "MLP_model.evaluate(test_X_gray, test_y)"
   ]
  },
  {
   "cell_type": "markdown",
   "metadata": {
    "id": "ncPtDtCLz_Gg"
   },
   "source": [
    "## 3. CNN neural network classifier\n",
    "* Build a CNN classifier model using the Sequential API. Your model should use the Conv2D, MaxPool2D, BatchNormalization, Flatten, Dense and Dropout layers. The final layer should again have a 10-way softmax output. \n",
    "* You should design and build the model yourself. Feel free to experiment with different CNN architectures. _Hint: to achieve a reasonable accuracy you won't need to use more than 2 or 3 convolutional layers and 2 fully connected layers.)_\n",
    "* The CNN model **must** use fewer trainable parameters than your MLP model.\n",
    "* Compile and train the model (recommend a maximum of 30 epochs), making use of both training and validation sets during the training run.\n",
    "* Your model should track at least one appropriate metric, and use at least one callback during training, like a ModelCheckpoint callback.\n",
    "* **You should aim to beat the MLP model performance with fewer parameters!**\n",
    "* Plot the learning curves for loss vs epoch and accuracy vs epoch for both training and validation sets.\n",
    "* Compute and display the loss and accuracy of the trained model on the test set."
   ]
  },
  {
   "cell_type": "code",
   "execution_count": 21,
   "metadata": {
    "id": "yk2mH3Npz_Gh"
   },
   "outputs": [
    {
     "name": "stdout",
     "output_type": "stream",
     "text": [
      "Model: \"CNN_model\"\n",
      "_________________________________________________________________\n",
      " Layer (type)                Output Shape              Param #   \n",
      "=================================================================\n",
      " input_2 (InputLayer)        [(None, 32, 32, 1)]       0         \n",
      "                                                                 \n",
      " conv2d (Conv2D)             (None, 30, 30, 32)        320       \n",
      "                                                                 \n",
      " max_pooling2d (MaxPooling2D  (None, 15, 15, 32)       0         \n",
      " )                                                               \n",
      "                                                                 \n",
      " batch_normalization (BatchN  (None, 15, 15, 32)       128       \n",
      " ormalization)                                                   \n",
      "                                                                 \n",
      " conv2d_1 (Conv2D)           (None, 13, 13, 64)        18496     \n",
      "                                                                 \n",
      " max_pooling2d_1 (MaxPooling  (None, 6, 6, 64)         0         \n",
      " 2D)                                                             \n",
      "                                                                 \n",
      " batch_normalization_1 (Batc  (None, 6, 6, 64)         256       \n",
      " hNormalization)                                                 \n",
      "                                                                 \n",
      " conv2d_2 (Conv2D)           (None, 4, 4, 128)         73856     \n",
      "                                                                 \n",
      " max_pooling2d_2 (MaxPooling  (None, 2, 2, 128)        0         \n",
      " 2D)                                                             \n",
      "                                                                 \n",
      " batch_normalization_2 (Batc  (None, 2, 2, 128)        512       \n",
      " hNormalization)                                                 \n",
      "                                                                 \n",
      " flatten_1 (Flatten)         (None, 512)               0         \n",
      "                                                                 \n",
      " dense_4 (Dense)             (None, 64)                32832     \n",
      "                                                                 \n",
      " dropout (Dropout)           (None, 64)                0         \n",
      "                                                                 \n",
      " dense_5 (Dense)             (None, 32)                2080      \n",
      "                                                                 \n",
      " dropout_1 (Dropout)         (None, 32)                0         \n",
      "                                                                 \n",
      " dense_6 (Dense)             (None, 10)                330       \n",
      "                                                                 \n",
      "=================================================================\n",
      "Total params: 128,810\n",
      "Trainable params: 128,362\n",
      "Non-trainable params: 448\n",
      "_________________________________________________________________\n"
     ]
    }
   ],
   "source": [
    "#* CNN model\n",
    "def Create_CNN_model():\n",
    "    Inputs = keras.Input(shape=train_X_gray[0].shape)\n",
    "\n",
    "    layer = layers.Conv2D(32, (3, 3), activation='relu')(Inputs)\n",
    "    layer = layers.MaxPooling2D((2, 2))(layer)\n",
    "    layer = layers.BatchNormalization()(layer)\n",
    "\n",
    "    layer = layers.Conv2D(64, (3, 3), activation='relu')(layer)\n",
    "    layer = layers.MaxPooling2D((2, 2))(layer)\n",
    "    layer = layers.BatchNormalization()(layer)\n",
    "\n",
    "    layer = layers.Conv2D(128, (3, 3), activation='relu')(layer)\n",
    "    layer = layers.MaxPooling2D((2, 2))(layer)\n",
    "    layer = layers.BatchNormalization()(layer)\n",
    "\n",
    "    layer = layers.Flatten()(layer)\n",
    "    layer = layers.Dense(64, activation='relu')(layer)\n",
    "    layer = layers.Dropout(0.3)(layer)\n",
    "    layer = layers.Dense(32, activation='relu')(layer)\n",
    "    layer = layers.Dropout(0.3)(layer)\n",
    "    layer = layers.Dense(10 , activation='softmax')(layer)\n",
    "\n",
    "    CNN_model = Model(inputs = Inputs, outputs = layer, name= 'CNN_model')\n",
    "    return CNN_model\n",
    "\n",
    "CNN_model = Create_CNN_model()\n",
    "CNN_model.summary()"
   ]
  },
  {
   "cell_type": "code",
   "execution_count": 22,
   "metadata": {},
   "outputs": [],
   "source": [
    "CNN_model.compile(optimizer='adam',loss='CategoricalCrossentropy', metrics=['accuracy'])\n",
    "callback_best = ModelCheckpoint('CNNmodel/best_model', save_best_only=True, save_weights_only=True, monitor=\"val_accuracy\")"
   ]
  },
  {
   "cell_type": "code",
   "execution_count": 23,
   "metadata": {
    "id": "lbgRgZ5cz_Gn"
   },
   "outputs": [
    {
     "name": "stdout",
     "output_type": "stream",
     "text": [
      "Epoch 1/30\n",
      "973/973 [==============================] - 8s 6ms/step - loss: 0.9859 - accuracy: 0.6817 - val_loss: 0.5038 - val_accuracy: 0.8454\n",
      "Epoch 2/30\n",
      "973/973 [==============================] - 6s 6ms/step - loss: 0.5338 - accuracy: 0.8455 - val_loss: 0.4322 - val_accuracy: 0.8729\n",
      "Epoch 3/30\n",
      "973/973 [==============================] - 6s 6ms/step - loss: 0.4349 - accuracy: 0.8772 - val_loss: 0.3656 - val_accuracy: 0.8934\n",
      "Epoch 4/30\n",
      "973/973 [==============================] - 6s 6ms/step - loss: 0.3807 - accuracy: 0.8942 - val_loss: 0.5832 - val_accuracy: 0.8235\n",
      "Epoch 5/30\n",
      "973/973 [==============================] - 6s 6ms/step - loss: 0.3462 - accuracy: 0.9049 - val_loss: 0.3571 - val_accuracy: 0.8947\n",
      "Epoch 6/30\n",
      "973/973 [==============================] - 6s 6ms/step - loss: 0.3177 - accuracy: 0.9119 - val_loss: 0.3865 - val_accuracy: 0.8887\n",
      "Epoch 7/30\n",
      "973/973 [==============================] - 6s 6ms/step - loss: 0.2968 - accuracy: 0.9178 - val_loss: 0.3383 - val_accuracy: 0.9028\n",
      "Epoch 8/30\n",
      "973/973 [==============================] - 6s 6ms/step - loss: 0.2737 - accuracy: 0.9244 - val_loss: 0.3339 - val_accuracy: 0.9102\n",
      "Epoch 9/30\n",
      "973/973 [==============================] - 6s 6ms/step - loss: 0.2576 - accuracy: 0.9286 - val_loss: 0.3603 - val_accuracy: 0.9015\n",
      "Epoch 10/30\n",
      "973/973 [==============================] - 7s 7ms/step - loss: 0.2428 - accuracy: 0.9326 - val_loss: 0.4355 - val_accuracy: 0.8678\n",
      "Epoch 11/30\n",
      "973/973 [==============================] - 6s 7ms/step - loss: 0.2284 - accuracy: 0.9366 - val_loss: 0.3361 - val_accuracy: 0.9095\n",
      "Epoch 12/30\n",
      "973/973 [==============================] - 6s 6ms/step - loss: 0.2173 - accuracy: 0.9388 - val_loss: 0.4017 - val_accuracy: 0.8940\n",
      "Epoch 13/30\n",
      "973/973 [==============================] - 6s 7ms/step - loss: 0.2054 - accuracy: 0.9424 - val_loss: 0.3290 - val_accuracy: 0.9117\n",
      "Epoch 14/30\n",
      "973/973 [==============================] - 7s 7ms/step - loss: 0.1915 - accuracy: 0.9455 - val_loss: 0.3536 - val_accuracy: 0.9055\n",
      "Epoch 15/30\n",
      "973/973 [==============================] - 6s 6ms/step - loss: 0.1846 - accuracy: 0.9471 - val_loss: 0.3733 - val_accuracy: 0.9055\n",
      "Epoch 16/30\n",
      "973/973 [==============================] - 6s 6ms/step - loss: 0.1746 - accuracy: 0.9503 - val_loss: 0.3811 - val_accuracy: 0.9022\n",
      "Epoch 17/30\n",
      "973/973 [==============================] - 6s 6ms/step - loss: 0.1686 - accuracy: 0.9528 - val_loss: 0.4826 - val_accuracy: 0.8676\n",
      "Epoch 18/30\n",
      "973/973 [==============================] - 6s 6ms/step - loss: 0.1590 - accuracy: 0.9536 - val_loss: 0.3657 - val_accuracy: 0.9126\n",
      "Epoch 19/30\n",
      "973/973 [==============================] - 6s 6ms/step - loss: 0.1547 - accuracy: 0.9557 - val_loss: 0.3781 - val_accuracy: 0.9075\n",
      "Epoch 20/30\n",
      "973/973 [==============================] - 6s 6ms/step - loss: 0.1491 - accuracy: 0.9576 - val_loss: 0.4265 - val_accuracy: 0.8988\n",
      "Epoch 21/30\n",
      "973/973 [==============================] - 6s 6ms/step - loss: 0.1415 - accuracy: 0.9589 - val_loss: 0.4386 - val_accuracy: 0.8883\n",
      "Epoch 22/30\n",
      "973/973 [==============================] - 6s 6ms/step - loss: 0.1369 - accuracy: 0.9599 - val_loss: 0.3822 - val_accuracy: 0.9147\n",
      "Epoch 23/30\n",
      "973/973 [==============================] - 6s 6ms/step - loss: 0.1364 - accuracy: 0.9596 - val_loss: 0.4535 - val_accuracy: 0.9014\n",
      "Epoch 24/30\n",
      "973/973 [==============================] - 6s 6ms/step - loss: 0.1277 - accuracy: 0.9624 - val_loss: 0.4135 - val_accuracy: 0.9150\n",
      "Epoch 25/30\n",
      "973/973 [==============================] - 6s 6ms/step - loss: 0.1227 - accuracy: 0.9635 - val_loss: 0.4536 - val_accuracy: 0.9078\n",
      "Epoch 26/30\n",
      "973/973 [==============================] - 6s 6ms/step - loss: 0.1195 - accuracy: 0.9647 - val_loss: 0.4376 - val_accuracy: 0.9104\n",
      "Epoch 27/30\n",
      "973/973 [==============================] - 6s 6ms/step - loss: 0.1190 - accuracy: 0.9643 - val_loss: 0.4968 - val_accuracy: 0.8913\n",
      "Epoch 28/30\n",
      "973/973 [==============================] - 6s 6ms/step - loss: 0.1099 - accuracy: 0.9666 - val_loss: 0.4681 - val_accuracy: 0.9155\n",
      "Epoch 29/30\n",
      "973/973 [==============================] - 6s 6ms/step - loss: 0.1131 - accuracy: 0.9662 - val_loss: 0.4453 - val_accuracy: 0.9125\n",
      "Epoch 30/30\n",
      "973/973 [==============================] - 6s 6ms/step - loss: 0.1041 - accuracy: 0.9687 - val_loss: 0.4541 - val_accuracy: 0.9086\n"
     ]
    }
   ],
   "source": [
    "history = CNN_model.fit(xtrain, ytrain, epochs = 30 , validation_data = (xval, yval), batch_size = 64, callbacks = [callback_best], verbose = 1)"
   ]
  },
  {
   "cell_type": "code",
   "execution_count": 24,
   "metadata": {
    "id": "nkmS2vV2z_Gs"
   },
   "outputs": [
    {
     "data": {
      "application/vnd.plotly.v1+json": {
       "config": {
        "plotlyServerURL": "https://plot.ly"
       },
       "data": [
        {
         "hovertemplate": "variable=loss<br>index=%{x}<br>value=%{y}<extra></extra>",
         "legendgroup": "loss",
         "line": {
          "color": "#636efa",
          "dash": "solid"
         },
         "marker": {
          "symbol": "circle"
         },
         "mode": "lines",
         "name": "loss",
         "orientation": "v",
         "showlegend": true,
         "type": "scatter",
         "x": [
          0,
          1,
          2,
          3,
          4,
          5,
          6,
          7,
          8,
          9,
          10,
          11,
          12,
          13,
          14,
          15,
          16,
          17,
          18,
          19,
          20,
          21,
          22,
          23,
          24,
          25,
          26,
          27,
          28,
          29
         ],
         "xaxis": "x",
         "y": [
          0.9858974814414978,
          0.5337952971458435,
          0.43490704894065857,
          0.3807257115840912,
          0.34616515040397644,
          0.3177354335784912,
          0.2967878580093384,
          0.2737392783164978,
          0.25758931040763855,
          0.24279457330703735,
          0.22841206192970276,
          0.21728375554084778,
          0.20536687970161438,
          0.1915300488471985,
          0.18458260595798492,
          0.17456012964248657,
          0.16856075823307037,
          0.15895994007587433,
          0.15470629930496216,
          0.1491415798664093,
          0.14148002862930298,
          0.1369195580482483,
          0.13641029596328735,
          0.1276821345090866,
          0.12265467643737793,
          0.11945033073425293,
          0.11896604299545288,
          0.10992225259542465,
          0.11308867484331131,
          0.10406918823719025
         ],
         "yaxis": "y"
        },
        {
         "hovertemplate": "variable=val_loss<br>index=%{x}<br>value=%{y}<extra></extra>",
         "legendgroup": "val_loss",
         "line": {
          "color": "#EF553B",
          "dash": "solid"
         },
         "marker": {
          "symbol": "circle"
         },
         "mode": "lines",
         "name": "val_loss",
         "orientation": "v",
         "showlegend": true,
         "type": "scatter",
         "x": [
          0,
          1,
          2,
          3,
          4,
          5,
          6,
          7,
          8,
          9,
          10,
          11,
          12,
          13,
          14,
          15,
          16,
          17,
          18,
          19,
          20,
          21,
          22,
          23,
          24,
          25,
          26,
          27,
          28,
          29
         ],
         "xaxis": "x",
         "y": [
          0.5038043260574341,
          0.4322354197502136,
          0.36562711000442505,
          0.5831712484359741,
          0.35711848735809326,
          0.38649603724479675,
          0.3383135199546814,
          0.3338972330093384,
          0.3603200912475586,
          0.43546023964881897,
          0.3361402153968811,
          0.40168461203575134,
          0.32895827293395996,
          0.3535926043987274,
          0.37331631779670715,
          0.38106003403663635,
          0.4826032519340515,
          0.3656909763813019,
          0.37805458903312683,
          0.4264695644378662,
          0.43856605887413025,
          0.3822261393070221,
          0.45353633165359497,
          0.41352272033691406,
          0.45359209179878235,
          0.4375563859939575,
          0.496766597032547,
          0.46813109517097473,
          0.4453454315662384,
          0.45407241582870483
         ],
         "yaxis": "y"
        }
       ],
       "layout": {
        "legend": {
         "title": {
          "text": "variable"
         },
         "tracegroupgap": 0
        },
        "template": {
         "data": {
          "bar": [
           {
            "error_x": {
             "color": "#f2f5fa"
            },
            "error_y": {
             "color": "#f2f5fa"
            },
            "marker": {
             "line": {
              "color": "rgb(17,17,17)",
              "width": 0.5
             },
             "pattern": {
              "fillmode": "overlay",
              "size": 10,
              "solidity": 0.2
             }
            },
            "type": "bar"
           }
          ],
          "barpolar": [
           {
            "marker": {
             "line": {
              "color": "rgb(17,17,17)",
              "width": 0.5
             },
             "pattern": {
              "fillmode": "overlay",
              "size": 10,
              "solidity": 0.2
             }
            },
            "type": "barpolar"
           }
          ],
          "carpet": [
           {
            "aaxis": {
             "endlinecolor": "#A2B1C6",
             "gridcolor": "#506784",
             "linecolor": "#506784",
             "minorgridcolor": "#506784",
             "startlinecolor": "#A2B1C6"
            },
            "baxis": {
             "endlinecolor": "#A2B1C6",
             "gridcolor": "#506784",
             "linecolor": "#506784",
             "minorgridcolor": "#506784",
             "startlinecolor": "#A2B1C6"
            },
            "type": "carpet"
           }
          ],
          "choropleth": [
           {
            "colorbar": {
             "outlinewidth": 0,
             "ticks": ""
            },
            "type": "choropleth"
           }
          ],
          "contour": [
           {
            "colorbar": {
             "outlinewidth": 0,
             "ticks": ""
            },
            "colorscale": [
             [
              0,
              "#0d0887"
             ],
             [
              0.1111111111111111,
              "#46039f"
             ],
             [
              0.2222222222222222,
              "#7201a8"
             ],
             [
              0.3333333333333333,
              "#9c179e"
             ],
             [
              0.4444444444444444,
              "#bd3786"
             ],
             [
              0.5555555555555556,
              "#d8576b"
             ],
             [
              0.6666666666666666,
              "#ed7953"
             ],
             [
              0.7777777777777778,
              "#fb9f3a"
             ],
             [
              0.8888888888888888,
              "#fdca26"
             ],
             [
              1,
              "#f0f921"
             ]
            ],
            "type": "contour"
           }
          ],
          "contourcarpet": [
           {
            "colorbar": {
             "outlinewidth": 0,
             "ticks": ""
            },
            "type": "contourcarpet"
           }
          ],
          "heatmap": [
           {
            "colorbar": {
             "outlinewidth": 0,
             "ticks": ""
            },
            "colorscale": [
             [
              0,
              "#0d0887"
             ],
             [
              0.1111111111111111,
              "#46039f"
             ],
             [
              0.2222222222222222,
              "#7201a8"
             ],
             [
              0.3333333333333333,
              "#9c179e"
             ],
             [
              0.4444444444444444,
              "#bd3786"
             ],
             [
              0.5555555555555556,
              "#d8576b"
             ],
             [
              0.6666666666666666,
              "#ed7953"
             ],
             [
              0.7777777777777778,
              "#fb9f3a"
             ],
             [
              0.8888888888888888,
              "#fdca26"
             ],
             [
              1,
              "#f0f921"
             ]
            ],
            "type": "heatmap"
           }
          ],
          "heatmapgl": [
           {
            "colorbar": {
             "outlinewidth": 0,
             "ticks": ""
            },
            "colorscale": [
             [
              0,
              "#0d0887"
             ],
             [
              0.1111111111111111,
              "#46039f"
             ],
             [
              0.2222222222222222,
              "#7201a8"
             ],
             [
              0.3333333333333333,
              "#9c179e"
             ],
             [
              0.4444444444444444,
              "#bd3786"
             ],
             [
              0.5555555555555556,
              "#d8576b"
             ],
             [
              0.6666666666666666,
              "#ed7953"
             ],
             [
              0.7777777777777778,
              "#fb9f3a"
             ],
             [
              0.8888888888888888,
              "#fdca26"
             ],
             [
              1,
              "#f0f921"
             ]
            ],
            "type": "heatmapgl"
           }
          ],
          "histogram": [
           {
            "marker": {
             "pattern": {
              "fillmode": "overlay",
              "size": 10,
              "solidity": 0.2
             }
            },
            "type": "histogram"
           }
          ],
          "histogram2d": [
           {
            "colorbar": {
             "outlinewidth": 0,
             "ticks": ""
            },
            "colorscale": [
             [
              0,
              "#0d0887"
             ],
             [
              0.1111111111111111,
              "#46039f"
             ],
             [
              0.2222222222222222,
              "#7201a8"
             ],
             [
              0.3333333333333333,
              "#9c179e"
             ],
             [
              0.4444444444444444,
              "#bd3786"
             ],
             [
              0.5555555555555556,
              "#d8576b"
             ],
             [
              0.6666666666666666,
              "#ed7953"
             ],
             [
              0.7777777777777778,
              "#fb9f3a"
             ],
             [
              0.8888888888888888,
              "#fdca26"
             ],
             [
              1,
              "#f0f921"
             ]
            ],
            "type": "histogram2d"
           }
          ],
          "histogram2dcontour": [
           {
            "colorbar": {
             "outlinewidth": 0,
             "ticks": ""
            },
            "colorscale": [
             [
              0,
              "#0d0887"
             ],
             [
              0.1111111111111111,
              "#46039f"
             ],
             [
              0.2222222222222222,
              "#7201a8"
             ],
             [
              0.3333333333333333,
              "#9c179e"
             ],
             [
              0.4444444444444444,
              "#bd3786"
             ],
             [
              0.5555555555555556,
              "#d8576b"
             ],
             [
              0.6666666666666666,
              "#ed7953"
             ],
             [
              0.7777777777777778,
              "#fb9f3a"
             ],
             [
              0.8888888888888888,
              "#fdca26"
             ],
             [
              1,
              "#f0f921"
             ]
            ],
            "type": "histogram2dcontour"
           }
          ],
          "mesh3d": [
           {
            "colorbar": {
             "outlinewidth": 0,
             "ticks": ""
            },
            "type": "mesh3d"
           }
          ],
          "parcoords": [
           {
            "line": {
             "colorbar": {
              "outlinewidth": 0,
              "ticks": ""
             }
            },
            "type": "parcoords"
           }
          ],
          "pie": [
           {
            "automargin": true,
            "type": "pie"
           }
          ],
          "scatter": [
           {
            "marker": {
             "line": {
              "color": "#283442"
             }
            },
            "type": "scatter"
           }
          ],
          "scatter3d": [
           {
            "line": {
             "colorbar": {
              "outlinewidth": 0,
              "ticks": ""
             }
            },
            "marker": {
             "colorbar": {
              "outlinewidth": 0,
              "ticks": ""
             }
            },
            "type": "scatter3d"
           }
          ],
          "scattercarpet": [
           {
            "marker": {
             "colorbar": {
              "outlinewidth": 0,
              "ticks": ""
             }
            },
            "type": "scattercarpet"
           }
          ],
          "scattergeo": [
           {
            "marker": {
             "colorbar": {
              "outlinewidth": 0,
              "ticks": ""
             }
            },
            "type": "scattergeo"
           }
          ],
          "scattergl": [
           {
            "marker": {
             "line": {
              "color": "#283442"
             }
            },
            "type": "scattergl"
           }
          ],
          "scattermapbox": [
           {
            "marker": {
             "colorbar": {
              "outlinewidth": 0,
              "ticks": ""
             }
            },
            "type": "scattermapbox"
           }
          ],
          "scatterpolar": [
           {
            "marker": {
             "colorbar": {
              "outlinewidth": 0,
              "ticks": ""
             }
            },
            "type": "scatterpolar"
           }
          ],
          "scatterpolargl": [
           {
            "marker": {
             "colorbar": {
              "outlinewidth": 0,
              "ticks": ""
             }
            },
            "type": "scatterpolargl"
           }
          ],
          "scatterternary": [
           {
            "marker": {
             "colorbar": {
              "outlinewidth": 0,
              "ticks": ""
             }
            },
            "type": "scatterternary"
           }
          ],
          "surface": [
           {
            "colorbar": {
             "outlinewidth": 0,
             "ticks": ""
            },
            "colorscale": [
             [
              0,
              "#0d0887"
             ],
             [
              0.1111111111111111,
              "#46039f"
             ],
             [
              0.2222222222222222,
              "#7201a8"
             ],
             [
              0.3333333333333333,
              "#9c179e"
             ],
             [
              0.4444444444444444,
              "#bd3786"
             ],
             [
              0.5555555555555556,
              "#d8576b"
             ],
             [
              0.6666666666666666,
              "#ed7953"
             ],
             [
              0.7777777777777778,
              "#fb9f3a"
             ],
             [
              0.8888888888888888,
              "#fdca26"
             ],
             [
              1,
              "#f0f921"
             ]
            ],
            "type": "surface"
           }
          ],
          "table": [
           {
            "cells": {
             "fill": {
              "color": "#506784"
             },
             "line": {
              "color": "rgb(17,17,17)"
             }
            },
            "header": {
             "fill": {
              "color": "#2a3f5f"
             },
             "line": {
              "color": "rgb(17,17,17)"
             }
            },
            "type": "table"
           }
          ]
         },
         "layout": {
          "annotationdefaults": {
           "arrowcolor": "#f2f5fa",
           "arrowhead": 0,
           "arrowwidth": 1
          },
          "autotypenumbers": "strict",
          "coloraxis": {
           "colorbar": {
            "outlinewidth": 0,
            "ticks": ""
           }
          },
          "colorscale": {
           "diverging": [
            [
             0,
             "#8e0152"
            ],
            [
             0.1,
             "#c51b7d"
            ],
            [
             0.2,
             "#de77ae"
            ],
            [
             0.3,
             "#f1b6da"
            ],
            [
             0.4,
             "#fde0ef"
            ],
            [
             0.5,
             "#f7f7f7"
            ],
            [
             0.6,
             "#e6f5d0"
            ],
            [
             0.7,
             "#b8e186"
            ],
            [
             0.8,
             "#7fbc41"
            ],
            [
             0.9,
             "#4d9221"
            ],
            [
             1,
             "#276419"
            ]
           ],
           "sequential": [
            [
             0,
             "#0d0887"
            ],
            [
             0.1111111111111111,
             "#46039f"
            ],
            [
             0.2222222222222222,
             "#7201a8"
            ],
            [
             0.3333333333333333,
             "#9c179e"
            ],
            [
             0.4444444444444444,
             "#bd3786"
            ],
            [
             0.5555555555555556,
             "#d8576b"
            ],
            [
             0.6666666666666666,
             "#ed7953"
            ],
            [
             0.7777777777777778,
             "#fb9f3a"
            ],
            [
             0.8888888888888888,
             "#fdca26"
            ],
            [
             1,
             "#f0f921"
            ]
           ],
           "sequentialminus": [
            [
             0,
             "#0d0887"
            ],
            [
             0.1111111111111111,
             "#46039f"
            ],
            [
             0.2222222222222222,
             "#7201a8"
            ],
            [
             0.3333333333333333,
             "#9c179e"
            ],
            [
             0.4444444444444444,
             "#bd3786"
            ],
            [
             0.5555555555555556,
             "#d8576b"
            ],
            [
             0.6666666666666666,
             "#ed7953"
            ],
            [
             0.7777777777777778,
             "#fb9f3a"
            ],
            [
             0.8888888888888888,
             "#fdca26"
            ],
            [
             1,
             "#f0f921"
            ]
           ]
          },
          "colorway": [
           "#636efa",
           "#EF553B",
           "#00cc96",
           "#ab63fa",
           "#FFA15A",
           "#19d3f3",
           "#FF6692",
           "#B6E880",
           "#FF97FF",
           "#FECB52"
          ],
          "font": {
           "color": "#f2f5fa"
          },
          "geo": {
           "bgcolor": "rgb(17,17,17)",
           "lakecolor": "rgb(17,17,17)",
           "landcolor": "rgb(17,17,17)",
           "showlakes": true,
           "showland": true,
           "subunitcolor": "#506784"
          },
          "hoverlabel": {
           "align": "left"
          },
          "hovermode": "closest",
          "mapbox": {
           "style": "dark"
          },
          "paper_bgcolor": "rgb(17,17,17)",
          "plot_bgcolor": "rgb(17,17,17)",
          "polar": {
           "angularaxis": {
            "gridcolor": "#506784",
            "linecolor": "#506784",
            "ticks": ""
           },
           "bgcolor": "rgb(17,17,17)",
           "radialaxis": {
            "gridcolor": "#506784",
            "linecolor": "#506784",
            "ticks": ""
           }
          },
          "scene": {
           "xaxis": {
            "backgroundcolor": "rgb(17,17,17)",
            "gridcolor": "#506784",
            "gridwidth": 2,
            "linecolor": "#506784",
            "showbackground": true,
            "ticks": "",
            "zerolinecolor": "#C8D4E3"
           },
           "yaxis": {
            "backgroundcolor": "rgb(17,17,17)",
            "gridcolor": "#506784",
            "gridwidth": 2,
            "linecolor": "#506784",
            "showbackground": true,
            "ticks": "",
            "zerolinecolor": "#C8D4E3"
           },
           "zaxis": {
            "backgroundcolor": "rgb(17,17,17)",
            "gridcolor": "#506784",
            "gridwidth": 2,
            "linecolor": "#506784",
            "showbackground": true,
            "ticks": "",
            "zerolinecolor": "#C8D4E3"
           }
          },
          "shapedefaults": {
           "line": {
            "color": "#f2f5fa"
           }
          },
          "sliderdefaults": {
           "bgcolor": "#C8D4E3",
           "bordercolor": "rgb(17,17,17)",
           "borderwidth": 1,
           "tickwidth": 0
          },
          "ternary": {
           "aaxis": {
            "gridcolor": "#506784",
            "linecolor": "#506784",
            "ticks": ""
           },
           "baxis": {
            "gridcolor": "#506784",
            "linecolor": "#506784",
            "ticks": ""
           },
           "bgcolor": "rgb(17,17,17)",
           "caxis": {
            "gridcolor": "#506784",
            "linecolor": "#506784",
            "ticks": ""
           }
          },
          "title": {
           "x": 0.05
          },
          "updatemenudefaults": {
           "bgcolor": "#506784",
           "borderwidth": 0
          },
          "xaxis": {
           "automargin": true,
           "gridcolor": "#283442",
           "linecolor": "#506784",
           "ticks": "",
           "title": {
            "standoff": 15
           },
           "zerolinecolor": "#283442",
           "zerolinewidth": 2
          },
          "yaxis": {
           "automargin": true,
           "gridcolor": "#283442",
           "linecolor": "#506784",
           "ticks": "",
           "title": {
            "standoff": 15
           },
           "zerolinecolor": "#283442",
           "zerolinewidth": 2
          }
         }
        },
        "title": {
         "text": "Loss"
        },
        "xaxis": {
         "anchor": "y",
         "domain": [
          0,
          1
         ],
         "title": {
          "text": "index"
         }
        },
        "yaxis": {
         "anchor": "x",
         "domain": [
          0,
          1
         ],
         "title": {
          "text": "value"
         }
        }
       }
      }
     },
     "metadata": {},
     "output_type": "display_data"
    }
   ],
   "source": [
    "import plotly.express as px\n",
    "px.line(history.history, y=['loss', 'val_loss'], title='Loss', template='plotly_dark')\n"
   ]
  },
  {
   "cell_type": "code",
   "execution_count": 25,
   "metadata": {
    "id": "VytQECDVz_Gv"
   },
   "outputs": [
    {
     "data": {
      "application/vnd.plotly.v1+json": {
       "config": {
        "plotlyServerURL": "https://plot.ly"
       },
       "data": [
        {
         "hovertemplate": "variable=accuracy<br>index=%{x}<br>value=%{y}<extra></extra>",
         "legendgroup": "accuracy",
         "line": {
          "color": "#636efa",
          "dash": "solid"
         },
         "marker": {
          "symbol": "circle"
         },
         "mode": "lines",
         "name": "accuracy",
         "orientation": "v",
         "showlegend": true,
         "type": "scatter",
         "x": [
          0,
          1,
          2,
          3,
          4,
          5,
          6,
          7,
          8,
          9,
          10,
          11,
          12,
          13,
          14,
          15,
          16,
          17,
          18,
          19,
          20,
          21,
          22,
          23,
          24,
          25,
          26,
          27,
          28,
          29
         ],
         "xaxis": "x",
         "y": [
          0.6817145347595215,
          0.8454583287239075,
          0.8772081732749939,
          0.8942153453826904,
          0.9049270749092102,
          0.9118969440460205,
          0.9177747964859009,
          0.9244234561920166,
          0.928598940372467,
          0.932597815990448,
          0.9365966320037842,
          0.9388128519058228,
          0.9423781037330627,
          0.9454936981201172,
          0.9471317529678345,
          0.9502955079078674,
          0.9528168439865112,
          0.9536198377609253,
          0.955675482749939,
          0.9575865864753723,
          0.958935558795929,
          0.9598991274833679,
          0.9596421718597412,
          0.9624365568161011,
          0.9634965062141418,
          0.9647170305252075,
          0.9643155336380005,
          0.9666441679000854,
          0.9662105441093445,
          0.9686837792396545
         ],
         "yaxis": "y"
        },
        {
         "hovertemplate": "variable=val_accuracy<br>index=%{x}<br>value=%{y}<extra></extra>",
         "legendgroup": "val_accuracy",
         "line": {
          "color": "#EF553B",
          "dash": "solid"
         },
         "marker": {
          "symbol": "circle"
         },
         "mode": "lines",
         "name": "val_accuracy",
         "orientation": "v",
         "showlegend": true,
         "type": "scatter",
         "x": [
          0,
          1,
          2,
          3,
          4,
          5,
          6,
          7,
          8,
          9,
          10,
          11,
          12,
          13,
          14,
          15,
          16,
          17,
          18,
          19,
          20,
          21,
          22,
          23,
          24,
          25,
          26,
          27,
          28,
          29
         ],
         "xaxis": "x",
         "y": [
          0.8453908562660217,
          0.8728728890419006,
          0.8934388756752014,
          0.823459804058075,
          0.8947128653526306,
          0.8887068629264832,
          0.9028118848800659,
          0.9101828932762146,
          0.9015378952026367,
          0.8677768707275391,
          0.9095458984375,
          0.8939849138259888,
          0.9117299318313599,
          0.9055418968200684,
          0.9054508805274963,
          0.9021748900413513,
          0.867594838142395,
          0.9126399159431458,
          0.9075438976287842,
          0.8988078832626343,
          0.8883429169654846,
          0.9147329330444336,
          0.9013559222221375,
          0.9150059223175049,
          0.9078168869018555,
          0.9103649258613586,
          0.8912549018859863,
          0.9154609441757202,
          0.9124578833580017,
          0.9086359143257141
         ],
         "yaxis": "y"
        }
       ],
       "layout": {
        "legend": {
         "title": {
          "text": "variable"
         },
         "tracegroupgap": 0
        },
        "template": {
         "data": {
          "bar": [
           {
            "error_x": {
             "color": "#f2f5fa"
            },
            "error_y": {
             "color": "#f2f5fa"
            },
            "marker": {
             "line": {
              "color": "rgb(17,17,17)",
              "width": 0.5
             },
             "pattern": {
              "fillmode": "overlay",
              "size": 10,
              "solidity": 0.2
             }
            },
            "type": "bar"
           }
          ],
          "barpolar": [
           {
            "marker": {
             "line": {
              "color": "rgb(17,17,17)",
              "width": 0.5
             },
             "pattern": {
              "fillmode": "overlay",
              "size": 10,
              "solidity": 0.2
             }
            },
            "type": "barpolar"
           }
          ],
          "carpet": [
           {
            "aaxis": {
             "endlinecolor": "#A2B1C6",
             "gridcolor": "#506784",
             "linecolor": "#506784",
             "minorgridcolor": "#506784",
             "startlinecolor": "#A2B1C6"
            },
            "baxis": {
             "endlinecolor": "#A2B1C6",
             "gridcolor": "#506784",
             "linecolor": "#506784",
             "minorgridcolor": "#506784",
             "startlinecolor": "#A2B1C6"
            },
            "type": "carpet"
           }
          ],
          "choropleth": [
           {
            "colorbar": {
             "outlinewidth": 0,
             "ticks": ""
            },
            "type": "choropleth"
           }
          ],
          "contour": [
           {
            "colorbar": {
             "outlinewidth": 0,
             "ticks": ""
            },
            "colorscale": [
             [
              0,
              "#0d0887"
             ],
             [
              0.1111111111111111,
              "#46039f"
             ],
             [
              0.2222222222222222,
              "#7201a8"
             ],
             [
              0.3333333333333333,
              "#9c179e"
             ],
             [
              0.4444444444444444,
              "#bd3786"
             ],
             [
              0.5555555555555556,
              "#d8576b"
             ],
             [
              0.6666666666666666,
              "#ed7953"
             ],
             [
              0.7777777777777778,
              "#fb9f3a"
             ],
             [
              0.8888888888888888,
              "#fdca26"
             ],
             [
              1,
              "#f0f921"
             ]
            ],
            "type": "contour"
           }
          ],
          "contourcarpet": [
           {
            "colorbar": {
             "outlinewidth": 0,
             "ticks": ""
            },
            "type": "contourcarpet"
           }
          ],
          "heatmap": [
           {
            "colorbar": {
             "outlinewidth": 0,
             "ticks": ""
            },
            "colorscale": [
             [
              0,
              "#0d0887"
             ],
             [
              0.1111111111111111,
              "#46039f"
             ],
             [
              0.2222222222222222,
              "#7201a8"
             ],
             [
              0.3333333333333333,
              "#9c179e"
             ],
             [
              0.4444444444444444,
              "#bd3786"
             ],
             [
              0.5555555555555556,
              "#d8576b"
             ],
             [
              0.6666666666666666,
              "#ed7953"
             ],
             [
              0.7777777777777778,
              "#fb9f3a"
             ],
             [
              0.8888888888888888,
              "#fdca26"
             ],
             [
              1,
              "#f0f921"
             ]
            ],
            "type": "heatmap"
           }
          ],
          "heatmapgl": [
           {
            "colorbar": {
             "outlinewidth": 0,
             "ticks": ""
            },
            "colorscale": [
             [
              0,
              "#0d0887"
             ],
             [
              0.1111111111111111,
              "#46039f"
             ],
             [
              0.2222222222222222,
              "#7201a8"
             ],
             [
              0.3333333333333333,
              "#9c179e"
             ],
             [
              0.4444444444444444,
              "#bd3786"
             ],
             [
              0.5555555555555556,
              "#d8576b"
             ],
             [
              0.6666666666666666,
              "#ed7953"
             ],
             [
              0.7777777777777778,
              "#fb9f3a"
             ],
             [
              0.8888888888888888,
              "#fdca26"
             ],
             [
              1,
              "#f0f921"
             ]
            ],
            "type": "heatmapgl"
           }
          ],
          "histogram": [
           {
            "marker": {
             "pattern": {
              "fillmode": "overlay",
              "size": 10,
              "solidity": 0.2
             }
            },
            "type": "histogram"
           }
          ],
          "histogram2d": [
           {
            "colorbar": {
             "outlinewidth": 0,
             "ticks": ""
            },
            "colorscale": [
             [
              0,
              "#0d0887"
             ],
             [
              0.1111111111111111,
              "#46039f"
             ],
             [
              0.2222222222222222,
              "#7201a8"
             ],
             [
              0.3333333333333333,
              "#9c179e"
             ],
             [
              0.4444444444444444,
              "#bd3786"
             ],
             [
              0.5555555555555556,
              "#d8576b"
             ],
             [
              0.6666666666666666,
              "#ed7953"
             ],
             [
              0.7777777777777778,
              "#fb9f3a"
             ],
             [
              0.8888888888888888,
              "#fdca26"
             ],
             [
              1,
              "#f0f921"
             ]
            ],
            "type": "histogram2d"
           }
          ],
          "histogram2dcontour": [
           {
            "colorbar": {
             "outlinewidth": 0,
             "ticks": ""
            },
            "colorscale": [
             [
              0,
              "#0d0887"
             ],
             [
              0.1111111111111111,
              "#46039f"
             ],
             [
              0.2222222222222222,
              "#7201a8"
             ],
             [
              0.3333333333333333,
              "#9c179e"
             ],
             [
              0.4444444444444444,
              "#bd3786"
             ],
             [
              0.5555555555555556,
              "#d8576b"
             ],
             [
              0.6666666666666666,
              "#ed7953"
             ],
             [
              0.7777777777777778,
              "#fb9f3a"
             ],
             [
              0.8888888888888888,
              "#fdca26"
             ],
             [
              1,
              "#f0f921"
             ]
            ],
            "type": "histogram2dcontour"
           }
          ],
          "mesh3d": [
           {
            "colorbar": {
             "outlinewidth": 0,
             "ticks": ""
            },
            "type": "mesh3d"
           }
          ],
          "parcoords": [
           {
            "line": {
             "colorbar": {
              "outlinewidth": 0,
              "ticks": ""
             }
            },
            "type": "parcoords"
           }
          ],
          "pie": [
           {
            "automargin": true,
            "type": "pie"
           }
          ],
          "scatter": [
           {
            "marker": {
             "line": {
              "color": "#283442"
             }
            },
            "type": "scatter"
           }
          ],
          "scatter3d": [
           {
            "line": {
             "colorbar": {
              "outlinewidth": 0,
              "ticks": ""
             }
            },
            "marker": {
             "colorbar": {
              "outlinewidth": 0,
              "ticks": ""
             }
            },
            "type": "scatter3d"
           }
          ],
          "scattercarpet": [
           {
            "marker": {
             "colorbar": {
              "outlinewidth": 0,
              "ticks": ""
             }
            },
            "type": "scattercarpet"
           }
          ],
          "scattergeo": [
           {
            "marker": {
             "colorbar": {
              "outlinewidth": 0,
              "ticks": ""
             }
            },
            "type": "scattergeo"
           }
          ],
          "scattergl": [
           {
            "marker": {
             "line": {
              "color": "#283442"
             }
            },
            "type": "scattergl"
           }
          ],
          "scattermapbox": [
           {
            "marker": {
             "colorbar": {
              "outlinewidth": 0,
              "ticks": ""
             }
            },
            "type": "scattermapbox"
           }
          ],
          "scatterpolar": [
           {
            "marker": {
             "colorbar": {
              "outlinewidth": 0,
              "ticks": ""
             }
            },
            "type": "scatterpolar"
           }
          ],
          "scatterpolargl": [
           {
            "marker": {
             "colorbar": {
              "outlinewidth": 0,
              "ticks": ""
             }
            },
            "type": "scatterpolargl"
           }
          ],
          "scatterternary": [
           {
            "marker": {
             "colorbar": {
              "outlinewidth": 0,
              "ticks": ""
             }
            },
            "type": "scatterternary"
           }
          ],
          "surface": [
           {
            "colorbar": {
             "outlinewidth": 0,
             "ticks": ""
            },
            "colorscale": [
             [
              0,
              "#0d0887"
             ],
             [
              0.1111111111111111,
              "#46039f"
             ],
             [
              0.2222222222222222,
              "#7201a8"
             ],
             [
              0.3333333333333333,
              "#9c179e"
             ],
             [
              0.4444444444444444,
              "#bd3786"
             ],
             [
              0.5555555555555556,
              "#d8576b"
             ],
             [
              0.6666666666666666,
              "#ed7953"
             ],
             [
              0.7777777777777778,
              "#fb9f3a"
             ],
             [
              0.8888888888888888,
              "#fdca26"
             ],
             [
              1,
              "#f0f921"
             ]
            ],
            "type": "surface"
           }
          ],
          "table": [
           {
            "cells": {
             "fill": {
              "color": "#506784"
             },
             "line": {
              "color": "rgb(17,17,17)"
             }
            },
            "header": {
             "fill": {
              "color": "#2a3f5f"
             },
             "line": {
              "color": "rgb(17,17,17)"
             }
            },
            "type": "table"
           }
          ]
         },
         "layout": {
          "annotationdefaults": {
           "arrowcolor": "#f2f5fa",
           "arrowhead": 0,
           "arrowwidth": 1
          },
          "autotypenumbers": "strict",
          "coloraxis": {
           "colorbar": {
            "outlinewidth": 0,
            "ticks": ""
           }
          },
          "colorscale": {
           "diverging": [
            [
             0,
             "#8e0152"
            ],
            [
             0.1,
             "#c51b7d"
            ],
            [
             0.2,
             "#de77ae"
            ],
            [
             0.3,
             "#f1b6da"
            ],
            [
             0.4,
             "#fde0ef"
            ],
            [
             0.5,
             "#f7f7f7"
            ],
            [
             0.6,
             "#e6f5d0"
            ],
            [
             0.7,
             "#b8e186"
            ],
            [
             0.8,
             "#7fbc41"
            ],
            [
             0.9,
             "#4d9221"
            ],
            [
             1,
             "#276419"
            ]
           ],
           "sequential": [
            [
             0,
             "#0d0887"
            ],
            [
             0.1111111111111111,
             "#46039f"
            ],
            [
             0.2222222222222222,
             "#7201a8"
            ],
            [
             0.3333333333333333,
             "#9c179e"
            ],
            [
             0.4444444444444444,
             "#bd3786"
            ],
            [
             0.5555555555555556,
             "#d8576b"
            ],
            [
             0.6666666666666666,
             "#ed7953"
            ],
            [
             0.7777777777777778,
             "#fb9f3a"
            ],
            [
             0.8888888888888888,
             "#fdca26"
            ],
            [
             1,
             "#f0f921"
            ]
           ],
           "sequentialminus": [
            [
             0,
             "#0d0887"
            ],
            [
             0.1111111111111111,
             "#46039f"
            ],
            [
             0.2222222222222222,
             "#7201a8"
            ],
            [
             0.3333333333333333,
             "#9c179e"
            ],
            [
             0.4444444444444444,
             "#bd3786"
            ],
            [
             0.5555555555555556,
             "#d8576b"
            ],
            [
             0.6666666666666666,
             "#ed7953"
            ],
            [
             0.7777777777777778,
             "#fb9f3a"
            ],
            [
             0.8888888888888888,
             "#fdca26"
            ],
            [
             1,
             "#f0f921"
            ]
           ]
          },
          "colorway": [
           "#636efa",
           "#EF553B",
           "#00cc96",
           "#ab63fa",
           "#FFA15A",
           "#19d3f3",
           "#FF6692",
           "#B6E880",
           "#FF97FF",
           "#FECB52"
          ],
          "font": {
           "color": "#f2f5fa"
          },
          "geo": {
           "bgcolor": "rgb(17,17,17)",
           "lakecolor": "rgb(17,17,17)",
           "landcolor": "rgb(17,17,17)",
           "showlakes": true,
           "showland": true,
           "subunitcolor": "#506784"
          },
          "hoverlabel": {
           "align": "left"
          },
          "hovermode": "closest",
          "mapbox": {
           "style": "dark"
          },
          "paper_bgcolor": "rgb(17,17,17)",
          "plot_bgcolor": "rgb(17,17,17)",
          "polar": {
           "angularaxis": {
            "gridcolor": "#506784",
            "linecolor": "#506784",
            "ticks": ""
           },
           "bgcolor": "rgb(17,17,17)",
           "radialaxis": {
            "gridcolor": "#506784",
            "linecolor": "#506784",
            "ticks": ""
           }
          },
          "scene": {
           "xaxis": {
            "backgroundcolor": "rgb(17,17,17)",
            "gridcolor": "#506784",
            "gridwidth": 2,
            "linecolor": "#506784",
            "showbackground": true,
            "ticks": "",
            "zerolinecolor": "#C8D4E3"
           },
           "yaxis": {
            "backgroundcolor": "rgb(17,17,17)",
            "gridcolor": "#506784",
            "gridwidth": 2,
            "linecolor": "#506784",
            "showbackground": true,
            "ticks": "",
            "zerolinecolor": "#C8D4E3"
           },
           "zaxis": {
            "backgroundcolor": "rgb(17,17,17)",
            "gridcolor": "#506784",
            "gridwidth": 2,
            "linecolor": "#506784",
            "showbackground": true,
            "ticks": "",
            "zerolinecolor": "#C8D4E3"
           }
          },
          "shapedefaults": {
           "line": {
            "color": "#f2f5fa"
           }
          },
          "sliderdefaults": {
           "bgcolor": "#C8D4E3",
           "bordercolor": "rgb(17,17,17)",
           "borderwidth": 1,
           "tickwidth": 0
          },
          "ternary": {
           "aaxis": {
            "gridcolor": "#506784",
            "linecolor": "#506784",
            "ticks": ""
           },
           "baxis": {
            "gridcolor": "#506784",
            "linecolor": "#506784",
            "ticks": ""
           },
           "bgcolor": "rgb(17,17,17)",
           "caxis": {
            "gridcolor": "#506784",
            "linecolor": "#506784",
            "ticks": ""
           }
          },
          "title": {
           "x": 0.05
          },
          "updatemenudefaults": {
           "bgcolor": "#506784",
           "borderwidth": 0
          },
          "xaxis": {
           "automargin": true,
           "gridcolor": "#283442",
           "linecolor": "#506784",
           "ticks": "",
           "title": {
            "standoff": 15
           },
           "zerolinecolor": "#283442",
           "zerolinewidth": 2
          },
          "yaxis": {
           "automargin": true,
           "gridcolor": "#283442",
           "linecolor": "#506784",
           "ticks": "",
           "title": {
            "standoff": 15
           },
           "zerolinecolor": "#283442",
           "zerolinewidth": 2
          }
         }
        },
        "title": {
         "text": "Accuracy"
        },
        "xaxis": {
         "anchor": "y",
         "domain": [
          0,
          1
         ],
         "title": {
          "text": "index"
         }
        },
        "yaxis": {
         "anchor": "x",
         "domain": [
          0,
          1
         ],
         "title": {
          "text": "value"
         }
        }
       }
      }
     },
     "metadata": {},
     "output_type": "display_data"
    }
   ],
   "source": [
    "px.line(history.history, y=['accuracy', 'val_accuracy'], title='Accuracy', template='plotly_dark')"
   ]
  },
  {
   "cell_type": "code",
   "execution_count": 26,
   "metadata": {
    "id": "60mJypwQz_Gx"
   },
   "outputs": [
    {
     "name": "stdout",
     "output_type": "stream",
     "text": [
      "814/814 [==============================] - 3s 3ms/step - loss: 0.4902 - accuracy: 0.9103\n"
     ]
    },
    {
     "data": {
      "text/plain": [
       "[0.49022698402404785, 0.9103026986122131]"
      ]
     },
     "execution_count": 26,
     "metadata": {},
     "output_type": "execute_result"
    }
   ],
   "source": [
    "CNN_model.evaluate(test_X_gray, test_y)"
   ]
  },
  {
   "cell_type": "markdown",
   "metadata": {
    "id": "3iBYFPWUz_G4"
   },
   "source": [
    "## 4. Get model predictions\n",
    "* Load the **best weights** for the MLP and CNN models that you saved during the training run.\n",
    "* Randomly select 5 images and corresponding labels from the test set and display the images with their labels.\n",
    "* Alongside the image and label, show each model’s predictive distribution as a bar chart, and the final model prediction given by the label with maximum probability."
   ]
  },
  {
   "cell_type": "code",
   "execution_count": 27,
   "metadata": {
    "id": "XMYYWs0oz_G5"
   },
   "outputs": [
    {
     "data": {
      "text/plain": [
       "<tensorflow.python.checkpoint.checkpoint.CheckpointLoadStatus at 0x200f1ad2500>"
      ]
     },
     "execution_count": 27,
     "metadata": {},
     "output_type": "execute_result"
    }
   ],
   "source": [
    "Best_MLP_model = Create_MLP_model()\n",
    "Best_MLP_model.load_weights('MLPmodel/best_model')\n",
    "\n",
    "Best_CNN_model = Create_CNN_model()\n",
    "Best_CNN_model.load_weights('CNNmodel/best_model')"
   ]
  },
  {
   "cell_type": "code",
   "execution_count": 99,
   "metadata": {},
   "outputs": [
    {
     "name": "stdout",
     "output_type": "stream",
     "text": [
      "1/1 [==============================] - 0s 28ms/step\n",
      "1/1 [==============================] - 0s 32ms/step\n"
     ]
    },
    {
     "data": {
      "application/vnd.plotly.v1+json": {
       "config": {
        "plotlyServerURL": "https://plot.ly"
       },
       "data": [
        {
         "colorscale": [
          [
           0,
           "rgb(0, 0, 0)"
          ],
          [
           0.09090909090909091,
           "rgb(16, 16, 16)"
          ],
          [
           0.18181818181818182,
           "rgb(38, 38, 38)"
          ],
          [
           0.2727272727272727,
           "rgb(59, 59, 59)"
          ],
          [
           0.36363636363636365,
           "rgb(81, 80, 80)"
          ],
          [
           0.45454545454545453,
           "rgb(102, 101, 101)"
          ],
          [
           0.5454545454545454,
           "rgb(124, 123, 122)"
          ],
          [
           0.6363636363636364,
           "rgb(146, 146, 145)"
          ],
          [
           0.7272727272727273,
           "rgb(171, 171, 170)"
          ],
          [
           0.8181818181818182,
           "rgb(197, 197, 195)"
          ],
          [
           0.9090909090909091,
           "rgb(224, 224, 223)"
          ],
          [
           1,
           "rgb(254, 254, 253)"
          ]
         ],
         "name": "Image",
         "showscale": false,
         "transpose": true,
         "type": "heatmap",
         "xaxis": "x",
         "yaxis": "y",
         "z": [
          [
           0.6549019607843137,
           0.6549019607843137,
           0.6522875816993464,
           0.6483660130718955,
           0.6483660130718955,
           0.6483660130718955,
           0.6483660130718955,
           0.6483660130718955,
           0.6522875816993464,
           0.6522875816993464,
           0.6483660130718955,
           0.6509803921568628,
           0.6509803921568628,
           0.6509803921568628,
           0.6549019607843137,
           0.6549019607843137,
           0.6549019607843137,
           0.6588235294117647,
           0.6627450980392157,
           0.6666666666666666,
           0.6679738562091503,
           0.6718954248366013,
           0.6718954248366013,
           0.6705882352941176,
           0.6745098039215686,
           0.6836601307189542,
           0.6784313725490195,
           0.6732026143790849,
           0.6758169934640522,
           0.6888888888888888,
           0.7150326797385621,
           0.738562091503268
          ],
          [
           0.6549019607843137,
           0.6549019607843137,
           0.6522875816993464,
           0.6483660130718955,
           0.6483660130718955,
           0.6483660130718955,
           0.6483660130718955,
           0.6483660130718955,
           0.6483660130718955,
           0.6483660130718955,
           0.6483660130718955,
           0.6509803921568628,
           0.6509803921568628,
           0.6509803921568628,
           0.6549019607843137,
           0.6549019607843137,
           0.6549019607843137,
           0.6588235294117647,
           0.6627450980392157,
           0.6679738562091503,
           0.6718954248366013,
           0.6718954248366013,
           0.6718954248366013,
           0.6705882352941176,
           0.6745098039215686,
           0.6836601307189542,
           0.6758169934640522,
           0.6705882352941176,
           0.6758169934640522,
           0.6901960784313724,
           0.7163398692810458,
           0.7398692810457517
          ],
          [
           0.6549019607843137,
           0.6549019607843137,
           0.6522875816993464,
           0.6483660130718955,
           0.6483660130718955,
           0.6483660130718955,
           0.6483660130718955,
           0.6483660130718955,
           0.6483660130718955,
           0.6483660130718955,
           0.6483660130718955,
           0.6509803921568628,
           0.6509803921568628,
           0.6509803921568628,
           0.6549019607843137,
           0.6549019607843137,
           0.6549019607843137,
           0.6588235294117647,
           0.6627450980392157,
           0.6679738562091503,
           0.6718954248366013,
           0.6718954248366013,
           0.6718954248366013,
           0.6705882352941176,
           0.6745098039215686,
           0.6823529411764705,
           0.6745098039215686,
           0.6705882352941176,
           0.6758169934640522,
           0.6915032679738561,
           0.7176470588235294,
           0.7398692810457517
          ],
          [
           0.6549019607843137,
           0.6549019607843137,
           0.6522875816993464,
           0.6483660130718955,
           0.6483660130718955,
           0.6483660130718955,
           0.6483660130718955,
           0.6483660130718955,
           0.6483660130718955,
           0.6483660130718955,
           0.6483660130718955,
           0.6470588235294118,
           0.6470588235294118,
           0.6509803921568628,
           0.6549019607843137,
           0.6549019607843137,
           0.6549019607843137,
           0.6588235294117647,
           0.6588235294117647,
           0.6627450980392157,
           0.6679738562091503,
           0.6718954248366013,
           0.6718954248366013,
           0.6705882352941176,
           0.6745098039215686,
           0.6823529411764705,
           0.6784313725490195,
           0.6745098039215686,
           0.6758169934640522,
           0.688888888888889,
           0.7137254901960784,
           0.738562091503268
          ],
          [
           0.6509803921568628,
           0.6509803921568628,
           0.6522875816993464,
           0.6522875816993464,
           0.6483660130718955,
           0.6483660130718955,
           0.6444444444444445,
           0.6405228758169935,
           0.6405228758169935,
           0.6405228758169935,
           0.6405228758169935,
           0.6457516339869281,
           0.6483660130718955,
           0.6522875816993464,
           0.6588235294117647,
           0.6588235294117647,
           0.6509803921568628,
           0.6509803921568628,
           0.6470588235294118,
           0.6483660130718955,
           0.6562091503267974,
           0.6640522875816993,
           0.6640522875816993,
           0.6666666666666666,
           0.6745098039215686,
           0.6810457516339868,
           0.6797385620915032,
           0.6810457516339868,
           0.6849673202614378,
           0.6967320261437909,
           0.7137254901960784,
           0.7320261437908497
          ],
          [
           0.6470588235294118,
           0.6431372549019608,
           0.6444444444444445,
           0.6444444444444445,
           0.6444444444444445,
           0.6444444444444445,
           0.6405228758169935,
           0.6405228758169935,
           0.6444444444444445,
           0.6444444444444445,
           0.6444444444444445,
           0.6470588235294118,
           0.6483660130718955,
           0.6522875816993464,
           0.6549019607843137,
           0.6549019607843137,
           0.6509803921568628,
           0.6470588235294118,
           0.6470588235294118,
           0.6457516339869281,
           0.6535947712418301,
           0.6601307189542484,
           0.661437908496732,
           0.6666666666666666,
           0.6705882352941176,
           0.6758169934640522,
           0.6771241830065359,
           0.6797385620915032,
           0.6862745098039215,
           0.6941176470588236,
           0.7124183006535948,
           0.726797385620915
          ],
          [
           0.6352941176470588,
           0.6339869281045751,
           0.6287581699346405,
           0.6248366013071895,
           0.6287581699346405,
           0.6287581699346405,
           0.6366013071895426,
           0.6444444444444445,
           0.6483660130718955,
           0.6483660130718955,
           0.6483660130718955,
           0.6509803921568628,
           0.6509803921568628,
           0.6509803921568628,
           0.6379084967320262,
           0.6352941176470589,
           0.6392156862745099,
           0.6392156862745099,
           0.6431372549019608,
           0.6444444444444445,
           0.6496732026143791,
           0.6562091503267974,
           0.657516339869281,
           0.6588235294117647,
           0.6627450980392157,
           0.6718954248366013,
           0.6718954248366013,
           0.6758169934640522,
           0.6810457516339868,
           0.6901960784313727,
           0.7098039215686275,
           0.7254901960784313
          ],
          [
           0.6235294117647059,
           0.6196078431372549,
           0.6091503267973857,
           0.5934640522875817,
           0.6091503267973857,
           0.6169934640522876,
           0.6248366013071895,
           0.6405228758169935,
           0.6483660130718955,
           0.6522875816993464,
           0.6522875816993464,
           0.6470588235294118,
           0.6470588235294118,
           0.6392156862745099,
           0.6026143790849673,
           0.6,
           0.6078431372549019,
           0.6117647058823529,
           0.6183006535947713,
           0.6248366013071895,
           0.6313725490196078,
           0.6366013071895426,
           0.6405228758169935,
           0.6431372549019608,
           0.6470588235294118,
           0.661437908496732,
           0.6666666666666666,
           0.6679738562091503,
           0.6732026143790849,
           0.6849673202614378,
           0.7084967320261438,
           0.7294117647058824
          ],
          [
           0.6026143790849673,
           0.6,
           0.5856209150326798,
           0.5620915032679739,
           0.5738562091503269,
           0.5895424836601307,
           0.6091503267973857,
           0.6287581699346405,
           0.6405228758169935,
           0.6444444444444445,
           0.6444444444444445,
           0.6379084967320262,
           0.6352941176470589,
           0.6169934640522876,
           0.5725490196078432,
           0.5725490196078432,
           0.5803921568627451,
           0.5803921568627451,
           0.5869281045751634,
           0.5934640522875817,
           0.6052287581699346,
           0.6130718954248365,
           0.6209150326797386,
           0.6235294117647059,
           0.6287581699346406,
           0.6522875816993464,
           0.6601307189542484,
           0.661437908496732,
           0.6679738562091503,
           0.6823529411764705,
           0.7071895424836602,
           0.7281045751633988
          ],
          [
           0.5843137254901961,
           0.5764705882352942,
           0.5594771241830065,
           0.534640522875817,
           0.5464052287581699,
           0.5699346405228759,
           0.5934640522875817,
           0.6130718954248366,
           0.6248366013071895,
           0.6287581699346405,
           0.6287581699346405,
           0.6196078431372549,
           0.611764705882353,
           0.5934640522875817,
           0.5542483660130718,
           0.5529411764705882,
           0.5568627450980392,
           0.5529411764705882,
           0.5581699346405229,
           0.5660130718954248,
           0.5777777777777778,
           0.5895424836601307,
           0.6013071895424836,
           0.6052287581699346,
           0.6156862745098038,
           0.6418300653594772,
           0.6496732026143791,
           0.6535947712418301,
           0.6627450980392157,
           0.6784313725490195,
           0.7045751633986929,
           0.7241830065359477
          ],
          [
           0.5647058823529412,
           0.5542483660130719,
           0.5359477124183006,
           0.5189542483660131,
           0.534640522875817,
           0.5581699346405228,
           0.5777777777777778,
           0.5973856209150327,
           0.6104575163398693,
           0.6130718954248366,
           0.6091503267973856,
           0.596078431372549,
           0.5882352941176471,
           0.5738562091503269,
           0.5464052287581699,
           0.5411764705882353,
           0.5411764705882353,
           0.5372549019607843,
           0.5372549019607843,
           0.5424836601307189,
           0.5542483660130719,
           0.5699346405228758,
           0.5830065359477125,
           0.592156862745098,
           0.6039215686274509,
           0.6313725490196079,
           0.6405228758169935,
           0.6470588235294118,
           0.6601307189542484,
           0.6745098039215686,
           0.7006535947712419,
           0.722875816993464
          ],
          [
           0.5411764705882353,
           0.530718954248366,
           0.5215686274509804,
           0.5189542483660131,
           0.5320261437908497,
           0.5542483660130718,
           0.5699346405228759,
           0.5895424836601307,
           0.5973856209150327,
           0.5934640522875817,
           0.5869281045751634,
           0.5725490196078432,
           0.5647058823529412,
           0.5503267973856208,
           0.5189542483660131,
           0.5176470588235295,
           0.5176470588235295,
           0.5176470588235295,
           0.5137254901960785,
           0.5176470588235295,
           0.530718954248366,
           0.5464052287581699,
           0.5516339869281046,
           0.5555555555555556,
           0.5712418300653596,
           0.6209150326797385,
           0.6326797385620916,
           0.6392156862745099,
           0.6522875816993464,
           0.6666666666666666,
           0.6980392156862746,
           0.7294117647058823
          ],
          [
           0.5228758169934641,
           0.5098039215686274,
           0.5111111111111112,
           0.534640522875817,
           0.5477124183006535,
           0.5620915032679739,
           0.5777777777777778,
           0.5895424836601307,
           0.592156862745098,
           0.5843137254901961,
           0.5725490196078432,
           0.5607843137254902,
           0.5490196078431372,
           0.5372549019607843,
           0.5098039215686274,
           0.5111111111111111,
           0.5150326797385621,
           0.5176470588235295,
           0.5215686274509804,
           0.526797385620915,
           0.5320261437908497,
           0.5398692810457516,
           0.538562091503268,
           0.5359477124183006,
           0.5464052287581699,
           0.6091503267973856,
           0.627450980392157,
           0.6300653594771243,
           0.6431372549019608,
           0.661437908496732,
           0.6954248366013073,
           0.726797385620915
          ],
          [
           0.5111111111111111,
           0.4901960784313726,
           0.5032679738562091,
           0.5581699346405228,
           0.5660130718954248,
           0.5764705882352942,
           0.5869281045751634,
           0.5934640522875817,
           0.592156862745098,
           0.5803921568627451,
           0.5647058823529412,
           0.5490196078431372,
           0.5372549019607843,
           0.5254901960784314,
           0.5189542483660131,
           0.5241830065359477,
           0.5333333333333333,
           0.5437908496732026,
           0.5542483660130718,
           0.5594771241830065,
           0.5607843137254902,
           0.5542483660130719,
           0.5477124183006535,
           0.538562091503268,
           0.5411764705882353,
           0.6052287581699346,
           0.6248366013071897,
           0.6261437908496733,
           0.6405228758169935,
           0.6601307189542484,
           0.69281045751634,
           0.7241830065359477
          ],
          [
           0.5019607843137255,
           0.4758169934640522,
           0.49673202614379086,
           0.5777777777777778,
           0.5816993464052288,
           0.5843137254901961,
           0.5895424836601307,
           0.592156862745098,
           0.5882352941176471,
           0.5764705882352942,
           0.5607843137254901,
           0.5464052287581699,
           0.530718954248366,
           0.5228758169934641,
           0.5424836601307189,
           0.5568627450980392,
           0.5751633986928105,
           0.592156862745098,
           0.6091503267973856,
           0.6169934640522876,
           0.6117647058823529,
           0.596078431372549,
           0.5803921568627451,
           0.5633986928104576,
           0.5647058823529413,
           0.6091503267973856,
           0.6222222222222222,
           0.6248366013071895,
           0.6366013071895426,
           0.6601307189542484,
           0.69281045751634,
           0.7241830065359477
          ],
          [
           0.5437908496732026,
           0.538562091503268,
           0.5594771241830064,
           0.607843137254902,
           0.6209150326797386,
           0.6261437908496732,
           0.6287581699346405,
           0.6169934640522876,
           0.5973856209150327,
           0.5777777777777778,
           0.5660130718954249,
           0.5633986928104574,
           0.5647058823529413,
           0.5725490196078432,
           0.5882352941176471,
           0.6130718954248366,
           0.6366013071895426,
           0.6549019607843137,
           0.6588235294117647,
           0.6588235294117647,
           0.6535947712418301,
           0.6431372549019608,
           0.6209150326797386,
           0.5947712418300654,
           0.5699346405228759,
           0.526797385620915,
           0.5424836601307189,
           0.5816993464052288,
           0.6222222222222222,
           0.661437908496732,
           0.6980392156862746,
           0.7254901960784313
          ],
          [
           0.5738562091503269,
           0.5777777777777778,
           0.5947712418300654,
           0.6300653594771242,
           0.6418300653594772,
           0.6496732026143791,
           0.6522875816993464,
           0.6339869281045751,
           0.6052287581699347,
           0.5790849673202615,
           0.5673202614379086,
           0.5712418300653596,
           0.5856209150326798,
           0.5973856209150327,
           0.6130718954248366,
           0.6405228758169935,
           0.6679738562091503,
           0.6836601307189544,
           0.6836601307189544,
           0.6797385620915032,
           0.6758169934640522,
           0.6692810457516339,
           0.6444444444444445,
           0.615686274509804,
           0.5790849673202615,
           0.4836601307189543,
           0.4980392156862745,
           0.5581699346405229,
           0.6156862745098038,
           0.661437908496732,
           0.7019607843137255,
           0.726797385620915
          ],
          [
           0.5738562091503269,
           0.5699346405228759,
           0.5882352941176471,
           0.6339869281045752,
           0.6431372549019608,
           0.6483660130718955,
           0.6483660130718955,
           0.6326797385620915,
           0.6052287581699346,
           0.5790849673202615,
           0.5660130718954249,
           0.5660130718954249,
           0.5751633986928105,
           0.5882352941176471,
           0.607843137254902,
           0.6326797385620915,
           0.6549019607843137,
           0.6705882352941176,
           0.6758169934640522,
           0.6732026143790849,
           0.6692810457516339,
           0.6640522875816993,
           0.6418300653594772,
           0.6196078431372549,
           0.5856209150326798,
           0.4954248366013072,
           0.5058823529411764,
           0.5620915032679739,
           0.6156862745098038,
           0.6601307189542484,
           0.6980392156862746,
           0.722875816993464
          ],
          [
           0.5816993464052288,
           0.5764705882352942,
           0.5947712418300654,
           0.6352941176470589,
           0.6431372549019608,
           0.6431372549019608,
           0.6405228758169935,
           0.6248366013071895,
           0.5973856209150327,
           0.5725490196078432,
           0.5581699346405228,
           0.5555555555555555,
           0.5594771241830064,
           0.5725490196078432,
           0.5830065359477125,
           0.6,
           0.6196078431372549,
           0.6352941176470589,
           0.6418300653594772,
           0.6418300653594772,
           0.6379084967320262,
           0.6300653594771243,
           0.6104575163398693,
           0.592156862745098,
           0.5633986928104576,
           0.4954248366013072,
           0.5098039215686274,
           0.5647058823529413,
           0.6156862745098038,
           0.657516339869281,
           0.6901960784313727,
           0.7124183006535948
          ],
          [
           0.5856209150326798,
           0.5803921568627451,
           0.5934640522875817,
           0.615686274509804,
           0.6196078431372549,
           0.6196078431372549,
           0.611764705882353,
           0.596078431372549,
           0.5686274509803922,
           0.5490196078431372,
           0.5333333333333333,
           0.5254901960784314,
           0.5294117647058824,
           0.5359477124183006,
           0.5411764705882353,
           0.5503267973856208,
           0.5673202614379086,
           0.5803921568627451,
           0.5908496732026144,
           0.5908496732026144,
           0.5908496732026144,
           0.5803921568627451,
           0.5633986928104576,
           0.5529411764705882,
           0.5333333333333333,
           0.5006535947712418,
           0.5215686274509804,
           0.5673202614379086,
           0.6156862745098038,
           0.6535947712418301,
           0.6875816993464053,
           0.7098039215686275
          ],
          [
           0.5895424836601307,
           0.5895424836601307,
           0.5882352941176471,
           0.5856209150326798,
           0.5895424836601307,
           0.5882352941176471,
           0.5777777777777778,
           0.5620915032679737,
           0.534640522875817,
           0.5150326797385621,
           0.4993464052287582,
           0.49150326797385624,
           0.49150326797385624,
           0.49411764705882355,
           0.4993464052287582,
           0.5071895424836602,
           0.5202614379084968,
           0.5294117647058824,
           0.5437908496732026,
           0.5437908496732026,
           0.5437908496732026,
           0.5359477124183006,
           0.5281045751633987,
           0.5176470588235295,
           0.5137254901960785,
           0.5124183006535947,
           0.538562091503268,
           0.5764705882352942,
           0.623529411764706,
           0.6549019607843137,
           0.6875816993464053,
           0.7111111111111111
          ],
          [
           0.5973856209150327,
           0.5986928104575163,
           0.5830065359477125,
           0.5555555555555555,
           0.5594771241830065,
           0.5568627450980392,
           0.5450980392156862,
           0.5294117647058824,
           0.5098039215686274,
           0.48888888888888893,
           0.4705882352941176,
           0.46274509803921565,
           0.4588235294117647,
           0.46274509803921565,
           0.4823529411764706,
           0.4862745098039216,
           0.49150326797385624,
           0.5019607843137255,
           0.5137254901960785,
           0.5176470588235295,
           0.5176470588235295,
           0.5150326797385621,
           0.5111111111111112,
           0.5045751633986928,
           0.5098039215686274,
           0.534640522875817,
           0.5607843137254902,
           0.5947712418300654,
           0.6366013071895426,
           0.6666666666666666,
           0.6915032679738563,
           0.7084967320261438
          ],
          [
           0.6052287581699346,
           0.6052287581699346,
           0.5869281045751634,
           0.5503267973856208,
           0.5490196078431372,
           0.5450980392156862,
           0.5333333333333333,
           0.5202614379084968,
           0.4980392156862745,
           0.4823529411764706,
           0.4666666666666666,
           0.4588235294117647,
           0.4522875816993464,
           0.4549019607843137,
           0.47450980392156855,
           0.47450980392156855,
           0.4732026143790849,
           0.4836601307189543,
           0.4980392156862745,
           0.5058823529411764,
           0.5084967320261438,
           0.5045751633986928,
           0.5019607843137255,
           0.5032679738562091,
           0.5150326797385621,
           0.5594771241830065,
           0.5869281045751634,
           0.6156862745098038,
           0.6509803921568628,
           0.6758169934640522,
           0.6967320261437909,
           0.7071895424836602
          ],
          [
           0.611764705882353,
           0.6091503267973856,
           0.5947712418300654,
           0.5620915032679739,
           0.5568627450980392,
           0.5542483660130719,
           0.5424836601307189,
           0.5320261437908497,
           0.5163398692810458,
           0.5019607843137255,
           0.4928104575163399,
           0.4823529411764706,
           0.4732026143790849,
           0.47450980392156855,
           0.49150326797385624,
           0.48366013071895425,
           0.4797385620915033,
           0.48888888888888893,
           0.5071895424836601,
           0.5163398692810458,
           0.5202614379084968,
           0.5176470588235295,
           0.5176470588235295,
           0.5254901960784314,
           0.5411764705882353,
           0.5882352941176471,
           0.6169934640522876,
           0.6405228758169935,
           0.665359477124183,
           0.6875816993464053,
           0.7032679738562092,
           0.7058823529411765
          ],
          [
           0.6130718954248366,
           0.6104575163398693,
           0.6013071895424836,
           0.5908496732026144,
           0.5843137254901961,
           0.5790849673202615,
           0.5673202614379085,
           0.5594771241830065,
           0.5516339869281046,
           0.5398692810457516,
           0.5320261437908497,
           0.5202614379084968,
           0.5124183006535948,
           0.5124183006535948,
           0.5254901960784314,
           0.5124183006535948,
           0.5084967320261438,
           0.5163398692810458,
           0.5359477124183006,
           0.5490196078431372,
           0.5529411764705883,
           0.5516339869281046,
           0.5568627450980392,
           0.5686274509803921,
           0.5882352941176471,
           0.6209150326797386,
           0.6444444444444445,
           0.6640522875816993,
           0.6823529411764705,
           0.6967320261437909,
           0.7071895424836602,
           0.7098039215686275
          ],
          [
           0.6130718954248366,
           0.611764705882353,
           0.611764705882353,
           0.6169934640522876,
           0.6130718954248366,
           0.6013071895424836,
           0.592156862745098,
           0.5843137254901961,
           0.5764705882352942,
           0.5699346405228758,
           0.5673202614379085,
           0.5555555555555556,
           0.5437908496732026,
           0.5477124183006535,
           0.5712418300653594,
           0.5607843137254902,
           0.5529411764705882,
           0.5568627450980392,
           0.5764705882352942,
           0.5934640522875817,
           0.6,
           0.596078431372549,
           0.6013071895424836,
           0.6196078431372549,
           0.6392156862745099,
           0.6405228758169935,
           0.6549019607843137,
           0.6758169934640522,
           0.69281045751634,
           0.7084967320261438,
           0.7150326797385621,
           0.7137254901960784
          ],
          [
           0.6326797385620916,
           0.6287581699346405,
           0.6339869281045752,
           0.6444444444444445,
           0.6418300653594772,
           0.6379084967320262,
           0.6300653594771242,
           0.6261437908496732,
           0.6222222222222222,
           0.6183006535947713,
           0.6169934640522876,
           0.6130718954248366,
           0.6091503267973856,
           0.6091503267973856,
           0.6248366013071895,
           0.615686274509804,
           0.611764705882353,
           0.611764705882353,
           0.6313725490196078,
           0.6352941176470589,
           0.6313725490196078,
           0.6300653594771242,
           0.6457516339869281,
           0.657516339869281,
           0.657516339869281,
           0.6483660130718955,
           0.6444444444444445,
           0.6549019607843137,
           0.6862745098039217,
           0.7045751633986929,
           0.7071895424836602,
           0.7032679738562092
          ],
          [
           0.6444444444444445,
           0.6405228758169935,
           0.6444444444444445,
           0.6601307189542484,
           0.6601307189542484,
           0.6601307189542484,
           0.6588235294117647,
           0.657516339869281,
           0.6549019607843137,
           0.6562091503267974,
           0.6535947712418301,
           0.6549019607843137,
           0.6549019607843137,
           0.6549019607843137,
           0.6588235294117647,
           0.6549019607843137,
           0.6509803921568628,
           0.6509803921568628,
           0.6666666666666666,
           0.661437908496732,
           0.6496732026143791,
           0.6522875816993464,
           0.6718954248366013,
           0.6758169934640522,
           0.6562091503267974,
           0.6431372549019608,
           0.6261437908496732,
           0.6326797385620916,
           0.6732026143790849,
           0.69281045751634,
           0.6954248366013073,
           0.6915032679738563
          ],
          [
           0.6405228758169935,
           0.6366013071895426,
           0.6405228758169935,
           0.6601307189542484,
           0.6601307189542484,
           0.6588235294117647,
           0.6588235294117647,
           0.6549019607843137,
           0.6549019607843137,
           0.6562091503267974,
           0.6562091503267974,
           0.6562091503267974,
           0.6562091503267974,
           0.6562091503267974,
           0.6679738562091503,
           0.6640522875816993,
           0.6562091503267974,
           0.6562091503267974,
           0.6679738562091503,
           0.6640522875816993,
           0.6522875816993464,
           0.6522875816993464,
           0.6718954248366013,
           0.6718954248366013,
           0.6483660130718955,
           0.6209150326797386,
           0.6065359477124183,
           0.6196078431372549,
           0.661437908496732,
           0.6836601307189542,
           0.6901960784313727,
           0.688888888888889
          ],
          [
           0.6339869281045752,
           0.6287581699346405,
           0.6352941176470589,
           0.6549019607843137,
           0.6535947712418301,
           0.6522875816993464,
           0.6496732026143791,
           0.6522875816993464,
           0.6562091503267974,
           0.6588235294117647,
           0.6549019607843137,
           0.6562091503267974,
           0.6562091503267974,
           0.6588235294117647,
           0.6745098039215686,
           0.6705882352941176,
           0.6640522875816993,
           0.6627450980392157,
           0.6718954248366013,
           0.661437908496732,
           0.6470588235294118,
           0.6444444444444445,
           0.6588235294117647,
           0.6562091503267974,
           0.6326797385620916,
           0.596078431372549,
           0.5816993464052288,
           0.5947712418300654,
           0.6444444444444445,
           0.6718954248366013,
           0.6823529411764705,
           0.6810457516339868
          ],
          [
           0.6261437908496732,
           0.6196078431372549,
           0.6235294117647059,
           0.6405228758169935,
           0.6418300653594772,
           0.6418300653594772,
           0.6418300653594772,
           0.6457516339869281,
           0.6496732026143791,
           0.6509803921568628,
           0.6496732026143791,
           0.6535947712418301,
           0.6535947712418301,
           0.6588235294117647,
           0.6705882352941176,
           0.6666666666666666,
           0.6601307189542484,
           0.6588235294117647,
           0.6666666666666666,
           0.6549019607843137,
           0.6352941176470589,
           0.6274509803921569,
           0.6352941176470589,
           0.6300653594771242,
           0.6065359477124184,
           0.5647058823529412,
           0.5503267973856208,
           0.5699346405228759,
           0.6248366013071895,
           0.6562091503267974,
           0.6718954248366013,
           0.6732026143790849
          ],
          [
           0.6183006535947713,
           0.611764705882353,
           0.6130718954248366,
           0.6261437908496732,
           0.6300653594771243,
           0.6339869281045752,
           0.6379084967320262,
           0.6379084967320262,
           0.6418300653594772,
           0.6418300653594772,
           0.6457516339869281,
           0.6509803921568628,
           0.6509803921568628,
           0.6588235294117647,
           0.6666666666666666,
           0.6627450980392157,
           0.6549019607843137,
           0.6509803921568628,
           0.6588235294117647,
           0.6470588235294118,
           0.6274509803921569,
           0.611764705882353,
           0.615686274509804,
           0.603921568627451,
           0.5803921568627451,
           0.5372549019607843,
           0.5254901960784314,
           0.5542483660130718,
           0.6091503267973857,
           0.6444444444444445,
           0.665359477124183,
           0.6705882352941176
          ]
         ]
        },
        {
         "name": "MLP prob distribution",
         "type": "bar",
         "x": [
          0,
          1,
          2,
          3,
          4,
          5,
          6,
          7,
          8,
          9
         ],
         "xaxis": "x2",
         "y": [
          0.5146390795707703,
          0.1531849056482315,
          0.012475919909775257,
          0.019095931202173233,
          0.019271524623036385,
          0.052561383694410324,
          0.07967638224363327,
          0.004541481379419565,
          0.023667629808187485,
          0.1208856850862503
         ],
         "yaxis": "y2"
        },
        {
         "name": "CNN prob distribution",
         "type": "bar",
         "x": [
          0,
          1,
          2,
          3,
          4,
          5,
          6,
          7,
          8,
          9
         ],
         "xaxis": "x3",
         "y": [
          0.0018850908381864429,
          0.00008081345731625333,
          0.0014470057794824243,
          0.000026661247829906642,
          0.00006497422145912424,
          0.00000538170752406586,
          0.000001239545781572815,
          1.8488270825400832e-7,
          0.000191019571502693,
          0.9962976574897766
         ],
         "yaxis": "y3"
        },
        {
         "colorscale": [
          [
           0,
           "rgb(0, 0, 0)"
          ],
          [
           0.09090909090909091,
           "rgb(16, 16, 16)"
          ],
          [
           0.18181818181818182,
           "rgb(38, 38, 38)"
          ],
          [
           0.2727272727272727,
           "rgb(59, 59, 59)"
          ],
          [
           0.36363636363636365,
           "rgb(81, 80, 80)"
          ],
          [
           0.45454545454545453,
           "rgb(102, 101, 101)"
          ],
          [
           0.5454545454545454,
           "rgb(124, 123, 122)"
          ],
          [
           0.6363636363636364,
           "rgb(146, 146, 145)"
          ],
          [
           0.7272727272727273,
           "rgb(171, 171, 170)"
          ],
          [
           0.8181818181818182,
           "rgb(197, 197, 195)"
          ],
          [
           0.9090909090909091,
           "rgb(224, 224, 223)"
          ],
          [
           1,
           "rgb(254, 254, 253)"
          ]
         ],
         "name": "Image",
         "showscale": false,
         "transpose": true,
         "type": "heatmap",
         "xaxis": "x",
         "yaxis": "y",
         "z": [
          [
           0.6549019607843137,
           0.6549019607843137,
           0.6522875816993464,
           0.6483660130718955,
           0.6483660130718955,
           0.6483660130718955,
           0.6483660130718955,
           0.6483660130718955,
           0.6522875816993464,
           0.6522875816993464,
           0.6483660130718955,
           0.6509803921568628,
           0.6509803921568628,
           0.6509803921568628,
           0.6549019607843137,
           0.6549019607843137,
           0.6549019607843137,
           0.6588235294117647,
           0.6627450980392157,
           0.6666666666666666,
           0.6679738562091503,
           0.6718954248366013,
           0.6718954248366013,
           0.6705882352941176,
           0.6745098039215686,
           0.6836601307189542,
           0.6784313725490195,
           0.6732026143790849,
           0.6758169934640522,
           0.6888888888888888,
           0.7150326797385621,
           0.738562091503268
          ],
          [
           0.6549019607843137,
           0.6549019607843137,
           0.6522875816993464,
           0.6483660130718955,
           0.6483660130718955,
           0.6483660130718955,
           0.6483660130718955,
           0.6483660130718955,
           0.6483660130718955,
           0.6483660130718955,
           0.6483660130718955,
           0.6509803921568628,
           0.6509803921568628,
           0.6509803921568628,
           0.6549019607843137,
           0.6549019607843137,
           0.6549019607843137,
           0.6588235294117647,
           0.6627450980392157,
           0.6679738562091503,
           0.6718954248366013,
           0.6718954248366013,
           0.6718954248366013,
           0.6705882352941176,
           0.6745098039215686,
           0.6836601307189542,
           0.6758169934640522,
           0.6705882352941176,
           0.6758169934640522,
           0.6901960784313724,
           0.7163398692810458,
           0.7398692810457517
          ],
          [
           0.6549019607843137,
           0.6549019607843137,
           0.6522875816993464,
           0.6483660130718955,
           0.6483660130718955,
           0.6483660130718955,
           0.6483660130718955,
           0.6483660130718955,
           0.6483660130718955,
           0.6483660130718955,
           0.6483660130718955,
           0.6509803921568628,
           0.6509803921568628,
           0.6509803921568628,
           0.6549019607843137,
           0.6549019607843137,
           0.6549019607843137,
           0.6588235294117647,
           0.6627450980392157,
           0.6679738562091503,
           0.6718954248366013,
           0.6718954248366013,
           0.6718954248366013,
           0.6705882352941176,
           0.6745098039215686,
           0.6823529411764705,
           0.6745098039215686,
           0.6705882352941176,
           0.6758169934640522,
           0.6915032679738561,
           0.7176470588235294,
           0.7398692810457517
          ],
          [
           0.6549019607843137,
           0.6549019607843137,
           0.6522875816993464,
           0.6483660130718955,
           0.6483660130718955,
           0.6483660130718955,
           0.6483660130718955,
           0.6483660130718955,
           0.6483660130718955,
           0.6483660130718955,
           0.6483660130718955,
           0.6470588235294118,
           0.6470588235294118,
           0.6509803921568628,
           0.6549019607843137,
           0.6549019607843137,
           0.6549019607843137,
           0.6588235294117647,
           0.6588235294117647,
           0.6627450980392157,
           0.6679738562091503,
           0.6718954248366013,
           0.6718954248366013,
           0.6705882352941176,
           0.6745098039215686,
           0.6823529411764705,
           0.6784313725490195,
           0.6745098039215686,
           0.6758169934640522,
           0.688888888888889,
           0.7137254901960784,
           0.738562091503268
          ],
          [
           0.6509803921568628,
           0.6509803921568628,
           0.6522875816993464,
           0.6522875816993464,
           0.6483660130718955,
           0.6483660130718955,
           0.6444444444444445,
           0.6405228758169935,
           0.6405228758169935,
           0.6405228758169935,
           0.6405228758169935,
           0.6457516339869281,
           0.6483660130718955,
           0.6522875816993464,
           0.6588235294117647,
           0.6588235294117647,
           0.6509803921568628,
           0.6509803921568628,
           0.6470588235294118,
           0.6483660130718955,
           0.6562091503267974,
           0.6640522875816993,
           0.6640522875816993,
           0.6666666666666666,
           0.6745098039215686,
           0.6810457516339868,
           0.6797385620915032,
           0.6810457516339868,
           0.6849673202614378,
           0.6967320261437909,
           0.7137254901960784,
           0.7320261437908497
          ],
          [
           0.6470588235294118,
           0.6431372549019608,
           0.6444444444444445,
           0.6444444444444445,
           0.6444444444444445,
           0.6444444444444445,
           0.6405228758169935,
           0.6405228758169935,
           0.6444444444444445,
           0.6444444444444445,
           0.6444444444444445,
           0.6470588235294118,
           0.6483660130718955,
           0.6522875816993464,
           0.6549019607843137,
           0.6549019607843137,
           0.6509803921568628,
           0.6470588235294118,
           0.6470588235294118,
           0.6457516339869281,
           0.6535947712418301,
           0.6601307189542484,
           0.661437908496732,
           0.6666666666666666,
           0.6705882352941176,
           0.6758169934640522,
           0.6771241830065359,
           0.6797385620915032,
           0.6862745098039215,
           0.6941176470588236,
           0.7124183006535948,
           0.726797385620915
          ],
          [
           0.6352941176470588,
           0.6339869281045751,
           0.6287581699346405,
           0.6248366013071895,
           0.6287581699346405,
           0.6287581699346405,
           0.6366013071895426,
           0.6444444444444445,
           0.6483660130718955,
           0.6483660130718955,
           0.6483660130718955,
           0.6509803921568628,
           0.6509803921568628,
           0.6509803921568628,
           0.6379084967320262,
           0.6352941176470589,
           0.6392156862745099,
           0.6392156862745099,
           0.6431372549019608,
           0.6444444444444445,
           0.6496732026143791,
           0.6562091503267974,
           0.657516339869281,
           0.6588235294117647,
           0.6627450980392157,
           0.6718954248366013,
           0.6718954248366013,
           0.6758169934640522,
           0.6810457516339868,
           0.6901960784313727,
           0.7098039215686275,
           0.7254901960784313
          ],
          [
           0.6235294117647059,
           0.6196078431372549,
           0.6091503267973857,
           0.5934640522875817,
           0.6091503267973857,
           0.6169934640522876,
           0.6248366013071895,
           0.6405228758169935,
           0.6483660130718955,
           0.6522875816993464,
           0.6522875816993464,
           0.6470588235294118,
           0.6470588235294118,
           0.6392156862745099,
           0.6026143790849673,
           0.6,
           0.6078431372549019,
           0.6117647058823529,
           0.6183006535947713,
           0.6248366013071895,
           0.6313725490196078,
           0.6366013071895426,
           0.6405228758169935,
           0.6431372549019608,
           0.6470588235294118,
           0.661437908496732,
           0.6666666666666666,
           0.6679738562091503,
           0.6732026143790849,
           0.6849673202614378,
           0.7084967320261438,
           0.7294117647058824
          ],
          [
           0.6026143790849673,
           0.6,
           0.5856209150326798,
           0.5620915032679739,
           0.5738562091503269,
           0.5895424836601307,
           0.6091503267973857,
           0.6287581699346405,
           0.6405228758169935,
           0.6444444444444445,
           0.6444444444444445,
           0.6379084967320262,
           0.6352941176470589,
           0.6169934640522876,
           0.5725490196078432,
           0.5725490196078432,
           0.5803921568627451,
           0.5803921568627451,
           0.5869281045751634,
           0.5934640522875817,
           0.6052287581699346,
           0.6130718954248365,
           0.6209150326797386,
           0.6235294117647059,
           0.6287581699346406,
           0.6522875816993464,
           0.6601307189542484,
           0.661437908496732,
           0.6679738562091503,
           0.6823529411764705,
           0.7071895424836602,
           0.7281045751633988
          ],
          [
           0.5843137254901961,
           0.5764705882352942,
           0.5594771241830065,
           0.534640522875817,
           0.5464052287581699,
           0.5699346405228759,
           0.5934640522875817,
           0.6130718954248366,
           0.6248366013071895,
           0.6287581699346405,
           0.6287581699346405,
           0.6196078431372549,
           0.611764705882353,
           0.5934640522875817,
           0.5542483660130718,
           0.5529411764705882,
           0.5568627450980392,
           0.5529411764705882,
           0.5581699346405229,
           0.5660130718954248,
           0.5777777777777778,
           0.5895424836601307,
           0.6013071895424836,
           0.6052287581699346,
           0.6156862745098038,
           0.6418300653594772,
           0.6496732026143791,
           0.6535947712418301,
           0.6627450980392157,
           0.6784313725490195,
           0.7045751633986929,
           0.7241830065359477
          ],
          [
           0.5647058823529412,
           0.5542483660130719,
           0.5359477124183006,
           0.5189542483660131,
           0.534640522875817,
           0.5581699346405228,
           0.5777777777777778,
           0.5973856209150327,
           0.6104575163398693,
           0.6130718954248366,
           0.6091503267973856,
           0.596078431372549,
           0.5882352941176471,
           0.5738562091503269,
           0.5464052287581699,
           0.5411764705882353,
           0.5411764705882353,
           0.5372549019607843,
           0.5372549019607843,
           0.5424836601307189,
           0.5542483660130719,
           0.5699346405228758,
           0.5830065359477125,
           0.592156862745098,
           0.6039215686274509,
           0.6313725490196079,
           0.6405228758169935,
           0.6470588235294118,
           0.6601307189542484,
           0.6745098039215686,
           0.7006535947712419,
           0.722875816993464
          ],
          [
           0.5411764705882353,
           0.530718954248366,
           0.5215686274509804,
           0.5189542483660131,
           0.5320261437908497,
           0.5542483660130718,
           0.5699346405228759,
           0.5895424836601307,
           0.5973856209150327,
           0.5934640522875817,
           0.5869281045751634,
           0.5725490196078432,
           0.5647058823529412,
           0.5503267973856208,
           0.5189542483660131,
           0.5176470588235295,
           0.5176470588235295,
           0.5176470588235295,
           0.5137254901960785,
           0.5176470588235295,
           0.530718954248366,
           0.5464052287581699,
           0.5516339869281046,
           0.5555555555555556,
           0.5712418300653596,
           0.6209150326797385,
           0.6326797385620916,
           0.6392156862745099,
           0.6522875816993464,
           0.6666666666666666,
           0.6980392156862746,
           0.7294117647058823
          ],
          [
           0.5228758169934641,
           0.5098039215686274,
           0.5111111111111112,
           0.534640522875817,
           0.5477124183006535,
           0.5620915032679739,
           0.5777777777777778,
           0.5895424836601307,
           0.592156862745098,
           0.5843137254901961,
           0.5725490196078432,
           0.5607843137254902,
           0.5490196078431372,
           0.5372549019607843,
           0.5098039215686274,
           0.5111111111111111,
           0.5150326797385621,
           0.5176470588235295,
           0.5215686274509804,
           0.526797385620915,
           0.5320261437908497,
           0.5398692810457516,
           0.538562091503268,
           0.5359477124183006,
           0.5464052287581699,
           0.6091503267973856,
           0.627450980392157,
           0.6300653594771243,
           0.6431372549019608,
           0.661437908496732,
           0.6954248366013073,
           0.726797385620915
          ],
          [
           0.5111111111111111,
           0.4901960784313726,
           0.5032679738562091,
           0.5581699346405228,
           0.5660130718954248,
           0.5764705882352942,
           0.5869281045751634,
           0.5934640522875817,
           0.592156862745098,
           0.5803921568627451,
           0.5647058823529412,
           0.5490196078431372,
           0.5372549019607843,
           0.5254901960784314,
           0.5189542483660131,
           0.5241830065359477,
           0.5333333333333333,
           0.5437908496732026,
           0.5542483660130718,
           0.5594771241830065,
           0.5607843137254902,
           0.5542483660130719,
           0.5477124183006535,
           0.538562091503268,
           0.5411764705882353,
           0.6052287581699346,
           0.6248366013071897,
           0.6261437908496733,
           0.6405228758169935,
           0.6601307189542484,
           0.69281045751634,
           0.7241830065359477
          ],
          [
           0.5019607843137255,
           0.4758169934640522,
           0.49673202614379086,
           0.5777777777777778,
           0.5816993464052288,
           0.5843137254901961,
           0.5895424836601307,
           0.592156862745098,
           0.5882352941176471,
           0.5764705882352942,
           0.5607843137254901,
           0.5464052287581699,
           0.530718954248366,
           0.5228758169934641,
           0.5424836601307189,
           0.5568627450980392,
           0.5751633986928105,
           0.592156862745098,
           0.6091503267973856,
           0.6169934640522876,
           0.6117647058823529,
           0.596078431372549,
           0.5803921568627451,
           0.5633986928104576,
           0.5647058823529413,
           0.6091503267973856,
           0.6222222222222222,
           0.6248366013071895,
           0.6366013071895426,
           0.6601307189542484,
           0.69281045751634,
           0.7241830065359477
          ],
          [
           0.5437908496732026,
           0.538562091503268,
           0.5594771241830064,
           0.607843137254902,
           0.6209150326797386,
           0.6261437908496732,
           0.6287581699346405,
           0.6169934640522876,
           0.5973856209150327,
           0.5777777777777778,
           0.5660130718954249,
           0.5633986928104574,
           0.5647058823529413,
           0.5725490196078432,
           0.5882352941176471,
           0.6130718954248366,
           0.6366013071895426,
           0.6549019607843137,
           0.6588235294117647,
           0.6588235294117647,
           0.6535947712418301,
           0.6431372549019608,
           0.6209150326797386,
           0.5947712418300654,
           0.5699346405228759,
           0.526797385620915,
           0.5424836601307189,
           0.5816993464052288,
           0.6222222222222222,
           0.661437908496732,
           0.6980392156862746,
           0.7254901960784313
          ],
          [
           0.5738562091503269,
           0.5777777777777778,
           0.5947712418300654,
           0.6300653594771242,
           0.6418300653594772,
           0.6496732026143791,
           0.6522875816993464,
           0.6339869281045751,
           0.6052287581699347,
           0.5790849673202615,
           0.5673202614379086,
           0.5712418300653596,
           0.5856209150326798,
           0.5973856209150327,
           0.6130718954248366,
           0.6405228758169935,
           0.6679738562091503,
           0.6836601307189544,
           0.6836601307189544,
           0.6797385620915032,
           0.6758169934640522,
           0.6692810457516339,
           0.6444444444444445,
           0.615686274509804,
           0.5790849673202615,
           0.4836601307189543,
           0.4980392156862745,
           0.5581699346405229,
           0.6156862745098038,
           0.661437908496732,
           0.7019607843137255,
           0.726797385620915
          ],
          [
           0.5738562091503269,
           0.5699346405228759,
           0.5882352941176471,
           0.6339869281045752,
           0.6431372549019608,
           0.6483660130718955,
           0.6483660130718955,
           0.6326797385620915,
           0.6052287581699346,
           0.5790849673202615,
           0.5660130718954249,
           0.5660130718954249,
           0.5751633986928105,
           0.5882352941176471,
           0.607843137254902,
           0.6326797385620915,
           0.6549019607843137,
           0.6705882352941176,
           0.6758169934640522,
           0.6732026143790849,
           0.6692810457516339,
           0.6640522875816993,
           0.6418300653594772,
           0.6196078431372549,
           0.5856209150326798,
           0.4954248366013072,
           0.5058823529411764,
           0.5620915032679739,
           0.6156862745098038,
           0.6601307189542484,
           0.6980392156862746,
           0.722875816993464
          ],
          [
           0.5816993464052288,
           0.5764705882352942,
           0.5947712418300654,
           0.6352941176470589,
           0.6431372549019608,
           0.6431372549019608,
           0.6405228758169935,
           0.6248366013071895,
           0.5973856209150327,
           0.5725490196078432,
           0.5581699346405228,
           0.5555555555555555,
           0.5594771241830064,
           0.5725490196078432,
           0.5830065359477125,
           0.6,
           0.6196078431372549,
           0.6352941176470589,
           0.6418300653594772,
           0.6418300653594772,
           0.6379084967320262,
           0.6300653594771243,
           0.6104575163398693,
           0.592156862745098,
           0.5633986928104576,
           0.4954248366013072,
           0.5098039215686274,
           0.5647058823529413,
           0.6156862745098038,
           0.657516339869281,
           0.6901960784313727,
           0.7124183006535948
          ],
          [
           0.5856209150326798,
           0.5803921568627451,
           0.5934640522875817,
           0.615686274509804,
           0.6196078431372549,
           0.6196078431372549,
           0.611764705882353,
           0.596078431372549,
           0.5686274509803922,
           0.5490196078431372,
           0.5333333333333333,
           0.5254901960784314,
           0.5294117647058824,
           0.5359477124183006,
           0.5411764705882353,
           0.5503267973856208,
           0.5673202614379086,
           0.5803921568627451,
           0.5908496732026144,
           0.5908496732026144,
           0.5908496732026144,
           0.5803921568627451,
           0.5633986928104576,
           0.5529411764705882,
           0.5333333333333333,
           0.5006535947712418,
           0.5215686274509804,
           0.5673202614379086,
           0.6156862745098038,
           0.6535947712418301,
           0.6875816993464053,
           0.7098039215686275
          ],
          [
           0.5895424836601307,
           0.5895424836601307,
           0.5882352941176471,
           0.5856209150326798,
           0.5895424836601307,
           0.5882352941176471,
           0.5777777777777778,
           0.5620915032679737,
           0.534640522875817,
           0.5150326797385621,
           0.4993464052287582,
           0.49150326797385624,
           0.49150326797385624,
           0.49411764705882355,
           0.4993464052287582,
           0.5071895424836602,
           0.5202614379084968,
           0.5294117647058824,
           0.5437908496732026,
           0.5437908496732026,
           0.5437908496732026,
           0.5359477124183006,
           0.5281045751633987,
           0.5176470588235295,
           0.5137254901960785,
           0.5124183006535947,
           0.538562091503268,
           0.5764705882352942,
           0.623529411764706,
           0.6549019607843137,
           0.6875816993464053,
           0.7111111111111111
          ],
          [
           0.5973856209150327,
           0.5986928104575163,
           0.5830065359477125,
           0.5555555555555555,
           0.5594771241830065,
           0.5568627450980392,
           0.5450980392156862,
           0.5294117647058824,
           0.5098039215686274,
           0.48888888888888893,
           0.4705882352941176,
           0.46274509803921565,
           0.4588235294117647,
           0.46274509803921565,
           0.4823529411764706,
           0.4862745098039216,
           0.49150326797385624,
           0.5019607843137255,
           0.5137254901960785,
           0.5176470588235295,
           0.5176470588235295,
           0.5150326797385621,
           0.5111111111111112,
           0.5045751633986928,
           0.5098039215686274,
           0.534640522875817,
           0.5607843137254902,
           0.5947712418300654,
           0.6366013071895426,
           0.6666666666666666,
           0.6915032679738563,
           0.7084967320261438
          ],
          [
           0.6052287581699346,
           0.6052287581699346,
           0.5869281045751634,
           0.5503267973856208,
           0.5490196078431372,
           0.5450980392156862,
           0.5333333333333333,
           0.5202614379084968,
           0.4980392156862745,
           0.4823529411764706,
           0.4666666666666666,
           0.4588235294117647,
           0.4522875816993464,
           0.4549019607843137,
           0.47450980392156855,
           0.47450980392156855,
           0.4732026143790849,
           0.4836601307189543,
           0.4980392156862745,
           0.5058823529411764,
           0.5084967320261438,
           0.5045751633986928,
           0.5019607843137255,
           0.5032679738562091,
           0.5150326797385621,
           0.5594771241830065,
           0.5869281045751634,
           0.6156862745098038,
           0.6509803921568628,
           0.6758169934640522,
           0.6967320261437909,
           0.7071895424836602
          ],
          [
           0.611764705882353,
           0.6091503267973856,
           0.5947712418300654,
           0.5620915032679739,
           0.5568627450980392,
           0.5542483660130719,
           0.5424836601307189,
           0.5320261437908497,
           0.5163398692810458,
           0.5019607843137255,
           0.4928104575163399,
           0.4823529411764706,
           0.4732026143790849,
           0.47450980392156855,
           0.49150326797385624,
           0.48366013071895425,
           0.4797385620915033,
           0.48888888888888893,
           0.5071895424836601,
           0.5163398692810458,
           0.5202614379084968,
           0.5176470588235295,
           0.5176470588235295,
           0.5254901960784314,
           0.5411764705882353,
           0.5882352941176471,
           0.6169934640522876,
           0.6405228758169935,
           0.665359477124183,
           0.6875816993464053,
           0.7032679738562092,
           0.7058823529411765
          ],
          [
           0.6130718954248366,
           0.6104575163398693,
           0.6013071895424836,
           0.5908496732026144,
           0.5843137254901961,
           0.5790849673202615,
           0.5673202614379085,
           0.5594771241830065,
           0.5516339869281046,
           0.5398692810457516,
           0.5320261437908497,
           0.5202614379084968,
           0.5124183006535948,
           0.5124183006535948,
           0.5254901960784314,
           0.5124183006535948,
           0.5084967320261438,
           0.5163398692810458,
           0.5359477124183006,
           0.5490196078431372,
           0.5529411764705883,
           0.5516339869281046,
           0.5568627450980392,
           0.5686274509803921,
           0.5882352941176471,
           0.6209150326797386,
           0.6444444444444445,
           0.6640522875816993,
           0.6823529411764705,
           0.6967320261437909,
           0.7071895424836602,
           0.7098039215686275
          ],
          [
           0.6130718954248366,
           0.611764705882353,
           0.611764705882353,
           0.6169934640522876,
           0.6130718954248366,
           0.6013071895424836,
           0.592156862745098,
           0.5843137254901961,
           0.5764705882352942,
           0.5699346405228758,
           0.5673202614379085,
           0.5555555555555556,
           0.5437908496732026,
           0.5477124183006535,
           0.5712418300653594,
           0.5607843137254902,
           0.5529411764705882,
           0.5568627450980392,
           0.5764705882352942,
           0.5934640522875817,
           0.6,
           0.596078431372549,
           0.6013071895424836,
           0.6196078431372549,
           0.6392156862745099,
           0.6405228758169935,
           0.6549019607843137,
           0.6758169934640522,
           0.69281045751634,
           0.7084967320261438,
           0.7150326797385621,
           0.7137254901960784
          ],
          [
           0.6326797385620916,
           0.6287581699346405,
           0.6339869281045752,
           0.6444444444444445,
           0.6418300653594772,
           0.6379084967320262,
           0.6300653594771242,
           0.6261437908496732,
           0.6222222222222222,
           0.6183006535947713,
           0.6169934640522876,
           0.6130718954248366,
           0.6091503267973856,
           0.6091503267973856,
           0.6248366013071895,
           0.615686274509804,
           0.611764705882353,
           0.611764705882353,
           0.6313725490196078,
           0.6352941176470589,
           0.6313725490196078,
           0.6300653594771242,
           0.6457516339869281,
           0.657516339869281,
           0.657516339869281,
           0.6483660130718955,
           0.6444444444444445,
           0.6549019607843137,
           0.6862745098039217,
           0.7045751633986929,
           0.7071895424836602,
           0.7032679738562092
          ],
          [
           0.6444444444444445,
           0.6405228758169935,
           0.6444444444444445,
           0.6601307189542484,
           0.6601307189542484,
           0.6601307189542484,
           0.6588235294117647,
           0.657516339869281,
           0.6549019607843137,
           0.6562091503267974,
           0.6535947712418301,
           0.6549019607843137,
           0.6549019607843137,
           0.6549019607843137,
           0.6588235294117647,
           0.6549019607843137,
           0.6509803921568628,
           0.6509803921568628,
           0.6666666666666666,
           0.661437908496732,
           0.6496732026143791,
           0.6522875816993464,
           0.6718954248366013,
           0.6758169934640522,
           0.6562091503267974,
           0.6431372549019608,
           0.6261437908496732,
           0.6326797385620916,
           0.6732026143790849,
           0.69281045751634,
           0.6954248366013073,
           0.6915032679738563
          ],
          [
           0.6405228758169935,
           0.6366013071895426,
           0.6405228758169935,
           0.6601307189542484,
           0.6601307189542484,
           0.6588235294117647,
           0.6588235294117647,
           0.6549019607843137,
           0.6549019607843137,
           0.6562091503267974,
           0.6562091503267974,
           0.6562091503267974,
           0.6562091503267974,
           0.6562091503267974,
           0.6679738562091503,
           0.6640522875816993,
           0.6562091503267974,
           0.6562091503267974,
           0.6679738562091503,
           0.6640522875816993,
           0.6522875816993464,
           0.6522875816993464,
           0.6718954248366013,
           0.6718954248366013,
           0.6483660130718955,
           0.6209150326797386,
           0.6065359477124183,
           0.6196078431372549,
           0.661437908496732,
           0.6836601307189542,
           0.6901960784313727,
           0.688888888888889
          ],
          [
           0.6339869281045752,
           0.6287581699346405,
           0.6352941176470589,
           0.6549019607843137,
           0.6535947712418301,
           0.6522875816993464,
           0.6496732026143791,
           0.6522875816993464,
           0.6562091503267974,
           0.6588235294117647,
           0.6549019607843137,
           0.6562091503267974,
           0.6562091503267974,
           0.6588235294117647,
           0.6745098039215686,
           0.6705882352941176,
           0.6640522875816993,
           0.6627450980392157,
           0.6718954248366013,
           0.661437908496732,
           0.6470588235294118,
           0.6444444444444445,
           0.6588235294117647,
           0.6562091503267974,
           0.6326797385620916,
           0.596078431372549,
           0.5816993464052288,
           0.5947712418300654,
           0.6444444444444445,
           0.6718954248366013,
           0.6823529411764705,
           0.6810457516339868
          ],
          [
           0.6261437908496732,
           0.6196078431372549,
           0.6235294117647059,
           0.6405228758169935,
           0.6418300653594772,
           0.6418300653594772,
           0.6418300653594772,
           0.6457516339869281,
           0.6496732026143791,
           0.6509803921568628,
           0.6496732026143791,
           0.6535947712418301,
           0.6535947712418301,
           0.6588235294117647,
           0.6705882352941176,
           0.6666666666666666,
           0.6601307189542484,
           0.6588235294117647,
           0.6666666666666666,
           0.6549019607843137,
           0.6352941176470589,
           0.6274509803921569,
           0.6352941176470589,
           0.6300653594771242,
           0.6065359477124184,
           0.5647058823529412,
           0.5503267973856208,
           0.5699346405228759,
           0.6248366013071895,
           0.6562091503267974,
           0.6718954248366013,
           0.6732026143790849
          ],
          [
           0.6183006535947713,
           0.611764705882353,
           0.6130718954248366,
           0.6261437908496732,
           0.6300653594771243,
           0.6339869281045752,
           0.6379084967320262,
           0.6379084967320262,
           0.6418300653594772,
           0.6418300653594772,
           0.6457516339869281,
           0.6509803921568628,
           0.6509803921568628,
           0.6588235294117647,
           0.6666666666666666,
           0.6627450980392157,
           0.6549019607843137,
           0.6509803921568628,
           0.6588235294117647,
           0.6470588235294118,
           0.6274509803921569,
           0.611764705882353,
           0.615686274509804,
           0.603921568627451,
           0.5803921568627451,
           0.5372549019607843,
           0.5254901960784314,
           0.5542483660130718,
           0.6091503267973857,
           0.6444444444444445,
           0.665359477124183,
           0.6705882352941176
          ]
         ]
        }
       ],
       "layout": {
        "template": {
         "data": {
          "bar": [
           {
            "error_x": {
             "color": "#f2f5fa"
            },
            "error_y": {
             "color": "#f2f5fa"
            },
            "marker": {
             "line": {
              "color": "rgb(17,17,17)",
              "width": 0.5
             },
             "pattern": {
              "fillmode": "overlay",
              "size": 10,
              "solidity": 0.2
             }
            },
            "type": "bar"
           }
          ],
          "barpolar": [
           {
            "marker": {
             "line": {
              "color": "rgb(17,17,17)",
              "width": 0.5
             },
             "pattern": {
              "fillmode": "overlay",
              "size": 10,
              "solidity": 0.2
             }
            },
            "type": "barpolar"
           }
          ],
          "carpet": [
           {
            "aaxis": {
             "endlinecolor": "#A2B1C6",
             "gridcolor": "#506784",
             "linecolor": "#506784",
             "minorgridcolor": "#506784",
             "startlinecolor": "#A2B1C6"
            },
            "baxis": {
             "endlinecolor": "#A2B1C6",
             "gridcolor": "#506784",
             "linecolor": "#506784",
             "minorgridcolor": "#506784",
             "startlinecolor": "#A2B1C6"
            },
            "type": "carpet"
           }
          ],
          "choropleth": [
           {
            "colorbar": {
             "outlinewidth": 0,
             "ticks": ""
            },
            "type": "choropleth"
           }
          ],
          "contour": [
           {
            "colorbar": {
             "outlinewidth": 0,
             "ticks": ""
            },
            "colorscale": [
             [
              0,
              "#0d0887"
             ],
             [
              0.1111111111111111,
              "#46039f"
             ],
             [
              0.2222222222222222,
              "#7201a8"
             ],
             [
              0.3333333333333333,
              "#9c179e"
             ],
             [
              0.4444444444444444,
              "#bd3786"
             ],
             [
              0.5555555555555556,
              "#d8576b"
             ],
             [
              0.6666666666666666,
              "#ed7953"
             ],
             [
              0.7777777777777778,
              "#fb9f3a"
             ],
             [
              0.8888888888888888,
              "#fdca26"
             ],
             [
              1,
              "#f0f921"
             ]
            ],
            "type": "contour"
           }
          ],
          "contourcarpet": [
           {
            "colorbar": {
             "outlinewidth": 0,
             "ticks": ""
            },
            "type": "contourcarpet"
           }
          ],
          "heatmap": [
           {
            "colorbar": {
             "outlinewidth": 0,
             "ticks": ""
            },
            "colorscale": [
             [
              0,
              "#0d0887"
             ],
             [
              0.1111111111111111,
              "#46039f"
             ],
             [
              0.2222222222222222,
              "#7201a8"
             ],
             [
              0.3333333333333333,
              "#9c179e"
             ],
             [
              0.4444444444444444,
              "#bd3786"
             ],
             [
              0.5555555555555556,
              "#d8576b"
             ],
             [
              0.6666666666666666,
              "#ed7953"
             ],
             [
              0.7777777777777778,
              "#fb9f3a"
             ],
             [
              0.8888888888888888,
              "#fdca26"
             ],
             [
              1,
              "#f0f921"
             ]
            ],
            "type": "heatmap"
           }
          ],
          "heatmapgl": [
           {
            "colorbar": {
             "outlinewidth": 0,
             "ticks": ""
            },
            "colorscale": [
             [
              0,
              "#0d0887"
             ],
             [
              0.1111111111111111,
              "#46039f"
             ],
             [
              0.2222222222222222,
              "#7201a8"
             ],
             [
              0.3333333333333333,
              "#9c179e"
             ],
             [
              0.4444444444444444,
              "#bd3786"
             ],
             [
              0.5555555555555556,
              "#d8576b"
             ],
             [
              0.6666666666666666,
              "#ed7953"
             ],
             [
              0.7777777777777778,
              "#fb9f3a"
             ],
             [
              0.8888888888888888,
              "#fdca26"
             ],
             [
              1,
              "#f0f921"
             ]
            ],
            "type": "heatmapgl"
           }
          ],
          "histogram": [
           {
            "marker": {
             "pattern": {
              "fillmode": "overlay",
              "size": 10,
              "solidity": 0.2
             }
            },
            "type": "histogram"
           }
          ],
          "histogram2d": [
           {
            "colorbar": {
             "outlinewidth": 0,
             "ticks": ""
            },
            "colorscale": [
             [
              0,
              "#0d0887"
             ],
             [
              0.1111111111111111,
              "#46039f"
             ],
             [
              0.2222222222222222,
              "#7201a8"
             ],
             [
              0.3333333333333333,
              "#9c179e"
             ],
             [
              0.4444444444444444,
              "#bd3786"
             ],
             [
              0.5555555555555556,
              "#d8576b"
             ],
             [
              0.6666666666666666,
              "#ed7953"
             ],
             [
              0.7777777777777778,
              "#fb9f3a"
             ],
             [
              0.8888888888888888,
              "#fdca26"
             ],
             [
              1,
              "#f0f921"
             ]
            ],
            "type": "histogram2d"
           }
          ],
          "histogram2dcontour": [
           {
            "colorbar": {
             "outlinewidth": 0,
             "ticks": ""
            },
            "colorscale": [
             [
              0,
              "#0d0887"
             ],
             [
              0.1111111111111111,
              "#46039f"
             ],
             [
              0.2222222222222222,
              "#7201a8"
             ],
             [
              0.3333333333333333,
              "#9c179e"
             ],
             [
              0.4444444444444444,
              "#bd3786"
             ],
             [
              0.5555555555555556,
              "#d8576b"
             ],
             [
              0.6666666666666666,
              "#ed7953"
             ],
             [
              0.7777777777777778,
              "#fb9f3a"
             ],
             [
              0.8888888888888888,
              "#fdca26"
             ],
             [
              1,
              "#f0f921"
             ]
            ],
            "type": "histogram2dcontour"
           }
          ],
          "mesh3d": [
           {
            "colorbar": {
             "outlinewidth": 0,
             "ticks": ""
            },
            "type": "mesh3d"
           }
          ],
          "parcoords": [
           {
            "line": {
             "colorbar": {
              "outlinewidth": 0,
              "ticks": ""
             }
            },
            "type": "parcoords"
           }
          ],
          "pie": [
           {
            "automargin": true,
            "type": "pie"
           }
          ],
          "scatter": [
           {
            "marker": {
             "line": {
              "color": "#283442"
             }
            },
            "type": "scatter"
           }
          ],
          "scatter3d": [
           {
            "line": {
             "colorbar": {
              "outlinewidth": 0,
              "ticks": ""
             }
            },
            "marker": {
             "colorbar": {
              "outlinewidth": 0,
              "ticks": ""
             }
            },
            "type": "scatter3d"
           }
          ],
          "scattercarpet": [
           {
            "marker": {
             "colorbar": {
              "outlinewidth": 0,
              "ticks": ""
             }
            },
            "type": "scattercarpet"
           }
          ],
          "scattergeo": [
           {
            "marker": {
             "colorbar": {
              "outlinewidth": 0,
              "ticks": ""
             }
            },
            "type": "scattergeo"
           }
          ],
          "scattergl": [
           {
            "marker": {
             "line": {
              "color": "#283442"
             }
            },
            "type": "scattergl"
           }
          ],
          "scattermapbox": [
           {
            "marker": {
             "colorbar": {
              "outlinewidth": 0,
              "ticks": ""
             }
            },
            "type": "scattermapbox"
           }
          ],
          "scatterpolar": [
           {
            "marker": {
             "colorbar": {
              "outlinewidth": 0,
              "ticks": ""
             }
            },
            "type": "scatterpolar"
           }
          ],
          "scatterpolargl": [
           {
            "marker": {
             "colorbar": {
              "outlinewidth": 0,
              "ticks": ""
             }
            },
            "type": "scatterpolargl"
           }
          ],
          "scatterternary": [
           {
            "marker": {
             "colorbar": {
              "outlinewidth": 0,
              "ticks": ""
             }
            },
            "type": "scatterternary"
           }
          ],
          "surface": [
           {
            "colorbar": {
             "outlinewidth": 0,
             "ticks": ""
            },
            "colorscale": [
             [
              0,
              "#0d0887"
             ],
             [
              0.1111111111111111,
              "#46039f"
             ],
             [
              0.2222222222222222,
              "#7201a8"
             ],
             [
              0.3333333333333333,
              "#9c179e"
             ],
             [
              0.4444444444444444,
              "#bd3786"
             ],
             [
              0.5555555555555556,
              "#d8576b"
             ],
             [
              0.6666666666666666,
              "#ed7953"
             ],
             [
              0.7777777777777778,
              "#fb9f3a"
             ],
             [
              0.8888888888888888,
              "#fdca26"
             ],
             [
              1,
              "#f0f921"
             ]
            ],
            "type": "surface"
           }
          ],
          "table": [
           {
            "cells": {
             "fill": {
              "color": "#506784"
             },
             "line": {
              "color": "rgb(17,17,17)"
             }
            },
            "header": {
             "fill": {
              "color": "#2a3f5f"
             },
             "line": {
              "color": "rgb(17,17,17)"
             }
            },
            "type": "table"
           }
          ]
         },
         "layout": {
          "annotationdefaults": {
           "arrowcolor": "#f2f5fa",
           "arrowhead": 0,
           "arrowwidth": 1
          },
          "autotypenumbers": "strict",
          "coloraxis": {
           "colorbar": {
            "outlinewidth": 0,
            "ticks": ""
           }
          },
          "colorscale": {
           "diverging": [
            [
             0,
             "#8e0152"
            ],
            [
             0.1,
             "#c51b7d"
            ],
            [
             0.2,
             "#de77ae"
            ],
            [
             0.3,
             "#f1b6da"
            ],
            [
             0.4,
             "#fde0ef"
            ],
            [
             0.5,
             "#f7f7f7"
            ],
            [
             0.6,
             "#e6f5d0"
            ],
            [
             0.7,
             "#b8e186"
            ],
            [
             0.8,
             "#7fbc41"
            ],
            [
             0.9,
             "#4d9221"
            ],
            [
             1,
             "#276419"
            ]
           ],
           "sequential": [
            [
             0,
             "#0d0887"
            ],
            [
             0.1111111111111111,
             "#46039f"
            ],
            [
             0.2222222222222222,
             "#7201a8"
            ],
            [
             0.3333333333333333,
             "#9c179e"
            ],
            [
             0.4444444444444444,
             "#bd3786"
            ],
            [
             0.5555555555555556,
             "#d8576b"
            ],
            [
             0.6666666666666666,
             "#ed7953"
            ],
            [
             0.7777777777777778,
             "#fb9f3a"
            ],
            [
             0.8888888888888888,
             "#fdca26"
            ],
            [
             1,
             "#f0f921"
            ]
           ],
           "sequentialminus": [
            [
             0,
             "#0d0887"
            ],
            [
             0.1111111111111111,
             "#46039f"
            ],
            [
             0.2222222222222222,
             "#7201a8"
            ],
            [
             0.3333333333333333,
             "#9c179e"
            ],
            [
             0.4444444444444444,
             "#bd3786"
            ],
            [
             0.5555555555555556,
             "#d8576b"
            ],
            [
             0.6666666666666666,
             "#ed7953"
            ],
            [
             0.7777777777777778,
             "#fb9f3a"
            ],
            [
             0.8888888888888888,
             "#fdca26"
            ],
            [
             1,
             "#f0f921"
            ]
           ]
          },
          "colorway": [
           "#636efa",
           "#EF553B",
           "#00cc96",
           "#ab63fa",
           "#FFA15A",
           "#19d3f3",
           "#FF6692",
           "#B6E880",
           "#FF97FF",
           "#FECB52"
          ],
          "font": {
           "color": "#f2f5fa"
          },
          "geo": {
           "bgcolor": "rgb(17,17,17)",
           "lakecolor": "rgb(17,17,17)",
           "landcolor": "rgb(17,17,17)",
           "showlakes": true,
           "showland": true,
           "subunitcolor": "#506784"
          },
          "hoverlabel": {
           "align": "left"
          },
          "hovermode": "closest",
          "mapbox": {
           "style": "dark"
          },
          "paper_bgcolor": "rgb(17,17,17)",
          "plot_bgcolor": "rgb(17,17,17)",
          "polar": {
           "angularaxis": {
            "gridcolor": "#506784",
            "linecolor": "#506784",
            "ticks": ""
           },
           "bgcolor": "rgb(17,17,17)",
           "radialaxis": {
            "gridcolor": "#506784",
            "linecolor": "#506784",
            "ticks": ""
           }
          },
          "scene": {
           "xaxis": {
            "backgroundcolor": "rgb(17,17,17)",
            "gridcolor": "#506784",
            "gridwidth": 2,
            "linecolor": "#506784",
            "showbackground": true,
            "ticks": "",
            "zerolinecolor": "#C8D4E3"
           },
           "yaxis": {
            "backgroundcolor": "rgb(17,17,17)",
            "gridcolor": "#506784",
            "gridwidth": 2,
            "linecolor": "#506784",
            "showbackground": true,
            "ticks": "",
            "zerolinecolor": "#C8D4E3"
           },
           "zaxis": {
            "backgroundcolor": "rgb(17,17,17)",
            "gridcolor": "#506784",
            "gridwidth": 2,
            "linecolor": "#506784",
            "showbackground": true,
            "ticks": "",
            "zerolinecolor": "#C8D4E3"
           }
          },
          "shapedefaults": {
           "line": {
            "color": "#f2f5fa"
           }
          },
          "sliderdefaults": {
           "bgcolor": "#C8D4E3",
           "bordercolor": "rgb(17,17,17)",
           "borderwidth": 1,
           "tickwidth": 0
          },
          "ternary": {
           "aaxis": {
            "gridcolor": "#506784",
            "linecolor": "#506784",
            "ticks": ""
           },
           "baxis": {
            "gridcolor": "#506784",
            "linecolor": "#506784",
            "ticks": ""
           },
           "bgcolor": "rgb(17,17,17)",
           "caxis": {
            "gridcolor": "#506784",
            "linecolor": "#506784",
            "ticks": ""
           }
          },
          "title": {
           "x": 0.05
          },
          "updatemenudefaults": {
           "bgcolor": "#506784",
           "borderwidth": 0
          },
          "xaxis": {
           "automargin": true,
           "gridcolor": "#283442",
           "linecolor": "#506784",
           "ticks": "",
           "title": {
            "standoff": 15
           },
           "zerolinecolor": "#283442",
           "zerolinewidth": 2
          },
          "yaxis": {
           "automargin": true,
           "gridcolor": "#283442",
           "linecolor": "#506784",
           "ticks": "",
           "title": {
            "standoff": 15
           },
           "zerolinecolor": "#283442",
           "zerolinewidth": 2
          }
         }
        },
        "title": {
         "text": "MLP vs CNN Prediction distribution",
         "x": 0.25
        },
        "xaxis": {
         "anchor": "y",
         "domain": [
          0,
          0.27
         ],
         "title": {
          "text": "MLP Predicts [0] -- CNN Predicts [9] "
         }
        },
        "xaxis2": {
         "anchor": "y2",
         "domain": [
          0.37,
          1
         ],
         "dtick": 1
        },
        "xaxis3": {
         "anchor": "y3",
         "domain": [
          0.37,
          1
         ]
        },
        "yaxis": {
         "anchor": "x",
         "domain": [
          0,
          1
         ]
        },
        "yaxis2": {
         "anchor": "x2",
         "domain": [
          0.575,
          1
         ],
         "title": {
          "text": "Prob MLP"
         }
        },
        "yaxis3": {
         "anchor": "x3",
         "domain": [
          0,
          0.425
         ],
         "title": {
          "text": "Prob CMM"
         }
        }
       }
      }
     },
     "metadata": {},
     "output_type": "display_data"
    }
   ],
   "source": [
    "from plotly.subplots import make_subplots\n",
    "import plotly.graph_objects as go\n",
    "\n",
    "\n",
    "def plot_pred_dist(model1 = Best_MLP_model,model2 = Best_CNN_model, test_X_gray = test_X_gray):\n",
    "    fig = make_subplots(rows=2, cols=2, column_widths=[0.3, 0.7],                         \n",
    "                        specs=[[{'rowspan': 2}, {}], [None, {}]])\n",
    "    predicted_classes = [0, 1, 2, 3, 4, 5, 6, 7, 8, 9]\n",
    "\n",
    "    x = np.random.randint(0, len(test_X_gray))\n",
    "    img = test_X_gray[x]\n",
    "    predicted_MLP = list(model1.predict(img.reshape(1, 32, 32, 1))[0])\n",
    "    predicted_CNN = list(model2.predict(img.reshape(1, 32, 32, 1))[0])\n",
    "\n",
    "    trace_Dist_MLP = go.Bar(x=predicted_classes, y=predicted_MLP, name='MLP prob distribution')\n",
    "    race_Dist_CNN = go.Bar(x=predicted_classes, y=predicted_CNN, name='CNN prob distribution')\n",
    "    \n",
    "    #* I know it's not greenish as i ploted them before, but i want to see how far i can go with so many limitions of Image ploting with plotly \n",
    "    #* although Plotly provides more interacity better Visulization it struggles to plot Images, but i managed to ger around it \n",
    "    trace1_img = go.Heatmap(z=np.rot90(np.flip(img.reshape(32, 32))), colorscale='gray', transpose=True, name='Image', showscale=False) \n",
    "    \n",
    "    fig.append_trace(trace1_img, row=1, col=1 )\n",
    "    #fig.append_trace(trace1_img, row=1, col=1 )\n",
    "    fig.append_trace(trace_Dist_MLP, row=1, col=2 )\n",
    "    fig.append_trace(race_Dist_CNN, row=2, col=2 )\n",
    "\n",
    "    fig.update_layout(template='plotly_dark')\n",
    "    fig.update_xaxes(dtick=1, row=1, col=2)\n",
    "    fig.update_yaxes(title_text='Prob MLP', row=1, col=2)\n",
    "    #fig.update_xaxes(title_text=f'predicted Num is {predicted_MLP.index(max(predicted_MLP))}', row=1, col=1)\n",
    "    #fig.update_layout(title_text='MLP Model Prediction distribution', title_x=0.25)\n",
    "    \n",
    "\n",
    "    fig.append_trace(trace1_img, row=1, col=1 )\n",
    "    #fig.update_xaxes(dtick=1, row=1, col=2)\n",
    "    fig.update_yaxes(title_text='Prob CMM', row=2, col=2)\n",
    "    fig.update_xaxes(title_text=f'MLP Predicts [{predicted_MLP.index(max(predicted_MLP))}] -- CNN Predicts [{predicted_CNN.index(max(predicted_CNN))}] ', row=1, col=1 )\n",
    "    fig.update_layout(title_text='MLP vs CNN Prediction distribution', title_x=0.25)\n",
    "    fig.show()\n",
    "    \n",
    "plot_pred_dist()\n"
   ]
  },
  {
   "cell_type": "code",
   "execution_count": 100,
   "metadata": {
    "id": "J_qfLvK-z_HA"
   },
   "outputs": [
    {
     "name": "stdout",
     "output_type": "stream",
     "text": [
      "1/1 [==============================] - 0s 27ms/step\n",
      "1/1 [==============================] - 0s 28ms/step\n"
     ]
    },
    {
     "data": {
      "application/vnd.plotly.v1+json": {
       "config": {
        "plotlyServerURL": "https://plot.ly"
       },
       "data": [
        {
         "colorscale": [
          [
           0,
           "rgb(0, 0, 0)"
          ],
          [
           0.09090909090909091,
           "rgb(16, 16, 16)"
          ],
          [
           0.18181818181818182,
           "rgb(38, 38, 38)"
          ],
          [
           0.2727272727272727,
           "rgb(59, 59, 59)"
          ],
          [
           0.36363636363636365,
           "rgb(81, 80, 80)"
          ],
          [
           0.45454545454545453,
           "rgb(102, 101, 101)"
          ],
          [
           0.5454545454545454,
           "rgb(124, 123, 122)"
          ],
          [
           0.6363636363636364,
           "rgb(146, 146, 145)"
          ],
          [
           0.7272727272727273,
           "rgb(171, 171, 170)"
          ],
          [
           0.8181818181818182,
           "rgb(197, 197, 195)"
          ],
          [
           0.9090909090909091,
           "rgb(224, 224, 223)"
          ],
          [
           1,
           "rgb(254, 254, 253)"
          ]
         ],
         "name": "Image",
         "showscale": false,
         "transpose": true,
         "type": "heatmap",
         "xaxis": "x",
         "yaxis": "y",
         "z": [
          [
           0.22745098039215686,
           0.2235294117647059,
           0.2196078431372549,
           0.22091503267973855,
           0.22352941176470587,
           0.22483660130718952,
           0.22483660130718952,
           0.22352941176470587,
           0.22352941176470587,
           0.2222222222222222,
           0.2169934640522876,
           0.2169934640522876,
           0.2156862745098039,
           0.2196078431372549,
           0.2196078431372549,
           0.2196078431372549,
           0.21960784313725487,
           0.21960784313725487,
           0.21960784313725487,
           0.21830065359477124,
           0.21960784313725493,
           0.21960784313725487,
           0.21437908496732025,
           0.21045751633986928,
           0.21045751633986928,
           0.21045751633986928,
           0.20653594771241832,
           0.21176470588235294,
           0.2156862745098039,
           0.2156862745098039,
           0.21960784313725493,
           0.2222222222222222
          ],
          [
           0.23006535947712417,
           0.2261437908496732,
           0.2222222222222222,
           0.22352941176470587,
           0.22483660130718952,
           0.22091503267973855,
           0.2222222222222222,
           0.2222222222222222,
           0.2196078431372549,
           0.22352941176470587,
           0.2196078431372549,
           0.21830065359477124,
           0.22091503267973855,
           0.2222222222222222,
           0.22483660130718955,
           0.22091503267973855,
           0.21830065359477122,
           0.21830065359477122,
           0.21830065359477122,
           0.21960784313725487,
           0.22091503267973853,
           0.21960784313725493,
           0.2156862745098039,
           0.21045751633986928,
           0.21045751633986928,
           0.21176470588235294,
           0.21045751633986928,
           0.21176470588235294,
           0.2156862745098039,
           0.21960784313725493,
           0.22091503267973855,
           0.2235294117647059
          ],
          [
           0.23006535947712417,
           0.2261437908496732,
           0.22352941176470587,
           0.22483660130718955,
           0.22483660130718955,
           0.22352941176470587,
           0.22091503267973855,
           0.22091503267973855,
           0.2196078431372549,
           0.2196078431372549,
           0.2196078431372549,
           0.2222222222222222,
           0.2222222222222222,
           0.2222222222222222,
           0.22745098039215686,
           0.2222222222222222,
           0.21830065359477124,
           0.21830065359477124,
           0.21830065359477124,
           0.21830065359477124,
           0.21699346405228756,
           0.21699346405228756,
           0.2156862745098039,
           0.21045751633986928,
           0.21045751633986928,
           0.21045751633986928,
           0.20784313725490197,
           0.21045751633986928,
           0.21830065359477127,
           0.21830065359477127,
           0.21830065359477127,
           0.22222222222222224
          ],
          [
           0.23006535947712417,
           0.22745098039215686,
           0.22352941176470587,
           0.22875816993464052,
           0.2235294117647059,
           0.2235294117647059,
           0.2222222222222222,
           0.2196078431372549,
           0.21830065359477124,
           0.21830065359477124,
           0.22483660130718952,
           0.22483660130718952,
           0.22352941176470587,
           0.22745098039215686,
           0.22875816993464052,
           0.22483660130718952,
           0.22091503267973855,
           0.22222222222222224,
           0.22222222222222224,
           0.22222222222222224,
           0.22091503267973858,
           0.21830065359477127,
           0.2156862745098039,
           0.21045751633986928,
           0.21176470588235294,
           0.21045751633986928,
           0.20784313725490197,
           0.21437908496732025,
           0.21830065359477127,
           0.21830065359477127,
           0.21960784313725493,
           0.22222222222222224
          ],
          [
           0.23006535947712417,
           0.22875816993464052,
           0.22483660130718955,
           0.2261437908496732,
           0.2235294117647059,
           0.22091503267973855,
           0.2196078431372549,
           0.21830065359477124,
           0.2169934640522876,
           0.21830065359477124,
           0.22483660130718952,
           0.2261437908496732,
           0.2261437908496732,
           0.23006535947712417,
           0.23006535947712417,
           0.2261437908496732,
           0.2222222222222222,
           0.22352941176470587,
           0.22352941176470587,
           0.22352941176470587,
           0.22091503267973858,
           0.21960784313725493,
           0.21830065359477127,
           0.21176470588235294,
           0.2130718954248366,
           0.21437908496732025,
           0.21176470588235294,
           0.2156862745098039,
           0.21960784313725493,
           0.21960784313725493,
           0.2235294117647059,
           0.2235294117647059
          ],
          [
           0.22483660130718952,
           0.22483660130718952,
           0.2261437908496732,
           0.22745098039215686,
           0.22352941176470587,
           0.2222222222222222,
           0.22483660130718955,
           0.22352941176470587,
           0.2222222222222222,
           0.22483660130718955,
           0.23006535947712417,
           0.22483660130718955,
           0.22352941176470587,
           0.22091503267973855,
           0.2196078431372549,
           0.2196078431372549,
           0.21568627450980393,
           0.21437908496732028,
           0.21045751633986928,
           0.20784313725490197,
           0.20784313725490197,
           0.2026143790849673,
           0.20522875816993466,
           0.21045751633986928,
           0.2130718954248366,
           0.21437908496732025,
           0.21176470588235294,
           0.21437908496732028,
           0.21830065359477124,
           0.2169934640522876,
           0.21437908496732025,
           0.21437908496732025
          ],
          [
           0.22483660130718952,
           0.22745098039215686,
           0.22614379084967318,
           0.22745098039215686,
           0.2222222222222222,
           0.22352941176470587,
           0.22745098039215686,
           0.22614379084967318,
           0.22352941176470587,
           0.22745098039215686,
           0.23137254901960783,
           0.2261437908496732,
           0.22352941176470587,
           0.2222222222222222,
           0.21568627450980393,
           0.21568627450980393,
           0.21830065359477124,
           0.2196078431372549,
           0.2196078431372549,
           0.2222222222222222,
           0.2222222222222222,
           0.21699346405228756,
           0.2130718954248366,
           0.2235294117647059,
           0.2261437908496732,
           0.22352941176470587,
           0.21568627450980393,
           0.21568627450980393,
           0.22091503267973855,
           0.2196078431372549,
           0.21437908496732025,
           0.2156862745098039
          ],
          [
           0.2261437908496732,
           0.2261437908496732,
           0.22614379084967318,
           0.22483660130718952,
           0.2222222222222222,
           0.2222222222222222,
           0.22483660130718952,
           0.22483660130718952,
           0.2222222222222222,
           0.2235294117647059,
           0.2261437908496732,
           0.22483660130718955,
           0.2235294117647059,
           0.2222222222222222,
           0.22091503267973855,
           0.22352941176470587,
           0.22875816993464052,
           0.2366013071895425,
           0.2431372549019608,
           0.24705882352941178,
           0.2522875816993464,
           0.24705882352941178,
           0.23790849673202616,
           0.24836601307189543,
           0.2496732026143791,
           0.2379084967320262,
           0.22091503267973855,
           0.21568627450980393,
           0.22091503267973855,
           0.22091503267973855,
           0.2196078431372549,
           0.21830065359477124
          ],
          [
           0.2261437908496732,
           0.2261437908496732,
           0.22614379084967318,
           0.22614379084967318,
           0.2222222222222222,
           0.22091503267973855,
           0.2222222222222222,
           0.22091503267973855,
           0.21960784313725493,
           0.21830065359477127,
           0.21699346405228756,
           0.21699346405228756,
           0.2222222222222222,
           0.2261437908496732,
           0.2261437908496732,
           0.23267973856209148,
           0.24444444444444444,
           0.25098039215686274,
           0.257516339869281,
           0.26405228758169935,
           0.27058823529411763,
           0.2601307189542484,
           0.26143790849673204,
           0.27712418300653596,
           0.27712418300653596,
           0.26143790849673204,
           0.2379084967320262,
           0.2222222222222222,
           0.22091503267973855,
           0.2222222222222222,
           0.2222222222222222,
           0.22222222222222224
          ],
          [
           0.22745098039215686,
           0.22745098039215686,
           0.22614379084967318,
           0.22483660130718952,
           0.2196078431372549,
           0.2196078431372549,
           0.22091503267973855,
           0.21830065359477127,
           0.21830065359477127,
           0.2156862745098039,
           0.21176470588235294,
           0.21699346405228756,
           0.22091503267973855,
           0.22875816993464052,
           0.2352941176470588,
           0.24705882352941178,
           0.26013071895424833,
           0.26143790849673204,
           0.26143790849673204,
           0.26405228758169935,
           0.2679738562091503,
           0.26405228758169935,
           0.27320261437908494,
           0.2954248366013072,
           0.30718954248366015,
           0.2928104575163399,
           0.26405228758169935,
           0.23529411764705885,
           0.2169934640522876,
           0.22091503267973855,
           0.2222222222222222,
           0.22352941176470587
          ],
          [
           0.2261437908496732,
           0.2261437908496732,
           0.22483660130718952,
           0.2235294117647059,
           0.21830065359477124,
           0.2156862745098039,
           0.21830065359477127,
           0.21830065359477127,
           0.21830065359477127,
           0.21045751633986928,
           0.21045751633986928,
           0.21699346405228756,
           0.22483660130718955,
           0.23398692810457514,
           0.2366013071895425,
           0.2549019607843137,
           0.2718954248366013,
           0.27058823529411763,
           0.265359477124183,
           0.2627450980392157,
           0.2601307189542484,
           0.26013071895424833,
           0.27712418300653596,
           0.3058823529411765,
           0.3254901960784313,
           0.31241830065359477,
           0.28496732026143795,
           0.2431372549019608,
           0.2130718954248366,
           0.22091503267973855,
           0.2222222222222222,
           0.22352941176470587
          ],
          [
           0.22352941176470587,
           0.22483660130718952,
           0.22483660130718952,
           0.22091503267973855,
           0.21307189542483662,
           0.21045751633986928,
           0.21176470588235294,
           0.2130718954248366,
           0.21045751633986928,
           0.20522875816993466,
           0.19869281045751633,
           0.20522875816993466,
           0.21176470588235294,
           0.23398692810457514,
           0.2522875816993464,
           0.2718954248366013,
           0.2862745098039216,
           0.2758169934640523,
           0.265359477124183,
           0.2549019607843137,
           0.24705882352941178,
           0.23790849673202616,
           0.25359477124183005,
           0.3006535947712418,
           0.3281045751633987,
           0.3241830065359477,
           0.29934640522875816,
           0.2758169934640523,
           0.24575163398692812,
           0.21830065359477124,
           0.2261437908496732,
           0.22483660130718955
          ],
          [
           0.22091503267973855,
           0.22745098039215686,
           0.22875816993464052,
           0.22745098039215686,
           0.22745098039215686,
           0.2261437908496732,
           0.2235294117647059,
           0.22483660130718955,
           0.22222222222222224,
           0.21830065359477127,
           0.20915032679738563,
           0.21176470588235294,
           0.21568627450980393,
           0.23267973856209148,
           0.2549019607843137,
           0.2627450980392157,
           0.26013071895424833,
           0.25359477124183005,
           0.24183006535947715,
           0.23006535947712417,
           0.2222222222222222,
           0.2104575163398693,
           0.2196078431372549,
           0.2797385620915033,
           0.3254901960784313,
           0.33856209150326794,
           0.3281045751633987,
           0.3032679738562091,
           0.25620915032679736,
           0.2235294117647059,
           0.22222222222222224,
           0.21960784313725493
          ],
          [
           0.2261437908496732,
           0.23267973856209148,
           0.2379084967320262,
           0.23398692810457514,
           0.22875816993464052,
           0.22745098039215686,
           0.2261437908496732,
           0.22483660130718955,
           0.2261437908496732,
           0.22745098039215686,
           0.22483660130718955,
           0.22091503267973855,
           0.22091503267973855,
           0.2261437908496732,
           0.23921568627450981,
           0.2457516339869281,
           0.24705882352941178,
           0.24183006535947713,
           0.23267973856209148,
           0.22614379084967318,
           0.21830065359477124,
           0.20784313725490197,
           0.2169934640522876,
           0.2784313725490196,
           0.330718954248366,
           0.3450980392156862,
           0.3333333333333333,
           0.3111111111111111,
           0.26405228758169935,
           0.23006535947712417,
           0.2235294117647059,
           0.2156862745098039
          ],
          [
           0.23790849673202616,
           0.24705882352941178,
           0.25620915032679736,
           0.25620915032679736,
           0.24836601307189543,
           0.24836601307189543,
           0.24836601307189543,
           0.24836601307189543,
           0.2496732026143791,
           0.24836601307189543,
           0.24836601307189543,
           0.23529411764705885,
           0.2235294117647059,
           0.22091503267973858,
           0.2235294117647059,
           0.23267973856209148,
           0.24183006535947715,
           0.2366013071895425,
           0.23267973856209148,
           0.2261437908496732,
           0.22091503267973858,
           0.22091503267973855,
           0.2379084967320262,
           0.2928104575163399,
           0.33856209150326794,
           0.34640522875816987,
           0.3359477124183006,
           0.30980392156862746,
           0.26143790849673204,
           0.22745098039215686,
           0.22222222222222224,
           0.2130718954248366
          ],
          [
           0.26405228758169935,
           0.27058823529411763,
           0.2797385620915033,
           0.28627450980392155,
           0.2915032679738562,
           0.2928104575163399,
           0.29150326797385623,
           0.29150326797385623,
           0.29411764705882354,
           0.29934640522875816,
           0.2888888888888889,
           0.2745098039215686,
           0.2522875816993464,
           0.23790849673202616,
           0.2366013071895425,
           0.2339869281045752,
           0.2339869281045752,
           0.23006535947712417,
           0.23137254901960783,
           0.23006535947712417,
           0.22745098039215686,
           0.23529411764705885,
           0.26666666666666666,
           0.31633986928104574,
           0.35947712418300654,
           0.3647058823529412,
           0.35032679738562084,
           0.3111111111111111,
           0.2496732026143791,
           0.2222222222222222,
           0.2222222222222222,
           0.2196078431372549
          ],
          [
           0.27843137254901956,
           0.29150326797385623,
           0.2993464052287582,
           0.30457516339869284,
           0.3058823529411765,
           0.30718954248366015,
           0.3084967320261438,
           0.3084967320261438,
           0.3111111111111111,
           0.3241830065359477,
           0.3398692810457517,
           0.3163398692810458,
           0.2862745098039216,
           0.269281045751634,
           0.2575163398692811,
           0.25620915032679736,
           0.2496732026143791,
           0.24836601307189543,
           0.25098039215686274,
           0.2522875816993464,
           0.24705882352941178,
           0.2718954248366013,
           0.3150326797385621,
           0.3516339869281045,
           0.37516339869281046,
           0.3673202614379085,
           0.3372549019607843,
           0.29673202614379085,
           0.24444444444444446,
           0.2169934640522876,
           0.2261437908496732,
           0.2261437908496732
          ],
          [
           0.24444444444444446,
           0.26405228758169935,
           0.3058823529411765,
           0.3281045751633987,
           0.30980392156862746,
           0.2980392156862745,
           0.28104575163398693,
           0.27581699346405225,
           0.2784313725490197,
           0.29934640522875816,
           0.3359477124183006,
           0.3359477124183006,
           0.33856209150326794,
           0.34117647058823536,
           0.34379084967320267,
           0.3398692810457516,
           0.33202614379084966,
           0.330718954248366,
           0.3359477124183006,
           0.33856209150326794,
           0.33856209150326794,
           0.3477124183006535,
           0.36339869281045756,
           0.3686274509803922,
           0.3581699346405229,
           0.3254901960784313,
           0.2888888888888889,
           0.2549019607843137,
           0.23137254901960788,
           0.23267973856209154,
           0.24052287581699347,
           0.23921568627450981
          ],
          [
           0.23006535947712417,
           0.24444444444444446,
           0.2823529411764706,
           0.3137254901960784,
           0.3176470588235294,
           0.31241830065359477,
           0.3006535947712418,
           0.28496732026143795,
           0.26666666666666666,
           0.27320261437908494,
           0.30588235294117644,
           0.31503267973856214,
           0.32679738562091504,
           0.3398692810457517,
           0.3490196078431373,
           0.3607843137254902,
           0.3764705882352941,
           0.3738562091503268,
           0.37777777777777777,
           0.3803921568627451,
           0.38823529411764707,
           0.36601307189542487,
           0.3398692810457516,
           0.3450980392156862,
           0.33464052287581697,
           0.3006535947712418,
           0.269281045751634,
           0.24052287581699347,
           0.22875816993464052,
           0.22875816993464052,
           0.23267973856209148,
           0.2339869281045752
          ],
          [
           0.21830065359477124,
           0.22222222222222224,
           0.25098039215686274,
           0.28366013071895424,
           0.31633986928104574,
           0.330718954248366,
           0.3333333333333333,
           0.30588235294117644,
           0.2627450980392157,
           0.24444444444444446,
           0.2535947712418301,
           0.27058823529411763,
           0.2901960784313726,
           0.3084967320261438,
           0.322875816993464,
           0.330718954248366,
           0.34117647058823525,
           0.3424836601307189,
           0.34640522875816987,
           0.3516339869281046,
           0.3568627450980392,
           0.3333333333333333,
           0.29934640522875816,
           0.3045751633986928,
           0.29673202614379085,
           0.2679738562091503,
           0.24705882352941178,
           0.23006535947712417,
           0.21568627450980393,
           0.22091503267973858,
           0.2169934640522876,
           0.2196078431372549
          ],
          [
           0.21176470588235297,
           0.20915032679738563,
           0.2196078431372549,
           0.2522875816993464,
           0.3058823529411765,
           0.33856209150326794,
           0.3542483660130719,
           0.32941176470588235,
           0.28235294117647064,
           0.2366013071895425,
           0.2156862745098039,
           0.23006535947712417,
           0.2457516339869281,
           0.2601307189542484,
           0.27450980392156865,
           0.28496732026143795,
           0.3045751633986928,
           0.30718954248366015,
           0.3084967320261438,
           0.3137254901960784,
           0.32156862745098036,
           0.2954248366013072,
           0.25882352941176473,
           0.25882352941176473,
           0.25098039215686274,
           0.23790849673202616,
           0.22483660130718955,
           0.21568627450980393,
           0.21045751633986928,
           0.21307189542483662,
           0.20784313725490197,
           0.20915032679738563
          ],
          [
           0.21176470588235294,
           0.2013071895424837,
           0.203921568627451,
           0.23006535947712417,
           0.2823529411764706,
           0.32941176470588235,
           0.36209150326797385,
           0.35555555555555557,
           0.322875816993464,
           0.27581699346405225,
           0.23006535947712417,
           0.23790849673202616,
           0.23529411764705885,
           0.23529411764705885,
           0.2366013071895425,
           0.24183006535947713,
           0.2496732026143791,
           0.25098039215686274,
           0.2549019607843137,
           0.26143790849673204,
           0.26143790849673204,
           0.25098039215686274,
           0.23137254901960783,
           0.23006535947712417,
           0.2261437908496732,
           0.21830065359477127,
           0.2130718954248366,
           0.21045751633986928,
           0.21176470588235294,
           0.21568627450980393,
           0.21176470588235294,
           0.20653594771241832
          ],
          [
           0.21830065359477124,
           0.20261437908496735,
           0.19869281045751638,
           0.2169934640522876,
           0.261437908496732,
           0.3150326797385621,
           0.3633986928104575,
           0.3712418300653595,
           0.35294117647058826,
           0.3150326797385621,
           0.27058823529411763,
           0.265359477124183,
           0.2522875816993464,
           0.23529411764705885,
           0.2261437908496732,
           0.2196078431372549,
           0.2156862745098039,
           0.2196078431372549,
           0.22091503267973858,
           0.2261437908496732,
           0.23006535947712417,
           0.23137254901960783,
           0.2235294117647059,
           0.22091503267973858,
           0.2169934640522876,
           0.21045751633986928,
           0.20784313725490197,
           0.2130718954248366,
           0.2169934640522876,
           0.21830065359477124,
           0.21568627450980393,
           0.20915032679738563
          ],
          [
           0.21176470588235297,
           0.20915032679738563,
           0.20653594771241832,
           0.20784313725490197,
           0.23006535947712417,
           0.27581699346405225,
           0.32418300653594767,
           0.35294117647058826,
           0.3607843137254902,
           0.33856209150326794,
           0.2928104575163399,
           0.28104575163398693,
           0.25620915032679736,
           0.2366013071895425,
           0.22091503267973855,
           0.2156862745098039,
           0.2196078431372549,
           0.21830065359477124,
           0.21960784313725493,
           0.21830065359477124,
           0.22091503267973855,
           0.21568627450980393,
           0.2169934640522876,
           0.2235294117647059,
           0.22483660130718955,
           0.2196078431372549,
           0.20784313725490197,
           0.21307189542483662,
           0.22745098039215686,
           0.21830065359477124,
           0.20784313725490197,
           0.20130718954248364
          ],
          [
           0.2130718954248366,
           0.21307189542483662,
           0.20915032679738563,
           0.21045751633986928,
           0.22222222222222224,
           0.2522875816993464,
           0.28496732026143795,
           0.3137254901960784,
           0.330718954248366,
           0.31895424836601305,
           0.2849673202614379,
           0.2758169934640523,
           0.25620915032679736,
           0.23921568627450981,
           0.22745098039215686,
           0.21568627450980393,
           0.2026143790849673,
           0.20522875816993466,
           0.20915032679738563,
           0.20915032679738563,
           0.20915032679738563,
           0.203921568627451,
           0.20522875816993466,
           0.2169934640522876,
           0.22875816993464052,
           0.23137254901960788,
           0.22352941176470587,
           0.23137254901960783,
           0.2405228758169935,
           0.23790849673202616,
           0.23267973856209154,
           0.23137254901960788
          ],
          [
           0.21437908496732028,
           0.21568627450980393,
           0.21437908496732025,
           0.2130718954248366,
           0.21307189542483662,
           0.22222222222222224,
           0.23790849673202616,
           0.25882352941176473,
           0.2836601307189543,
           0.2875816993464052,
           0.26405228758169935,
           0.2549019607843137,
           0.2405228758169935,
           0.22875816993464052,
           0.22091503267973858,
           0.21568627450980393,
           0.20784313725490197,
           0.20915032679738563,
           0.21307189542483662,
           0.21437908496732028,
           0.2169934640522876,
           0.21176470588235294,
           0.2169934640522876,
           0.2366013071895425,
           0.2601307189542484,
           0.27320261437908494,
           0.27450980392156865,
           0.2797385620915033,
           0.2849673202614379,
           0.2849673202614379,
           0.2888888888888889,
           0.2901960784313726
          ],
          [
           0.2130718954248366,
           0.2130718954248366,
           0.21437908496732025,
           0.21699346405228756,
           0.21045751633986928,
           0.203921568627451,
           0.20784313725490197,
           0.22091503267973858,
           0.24444444444444446,
           0.24836601307189543,
           0.22875816993464052,
           0.22483660130718952,
           0.21830065359477124,
           0.21437908496732028,
           0.21045751633986928,
           0.20915032679738563,
           0.20915032679738563,
           0.2130718954248366,
           0.2169934640522876,
           0.22222222222222224,
           0.2235294117647059,
           0.23921568627450981,
           0.27058823529411763,
           0.2954248366013072,
           0.3241830065359477,
           0.34640522875816987,
           0.35555555555555557,
           0.35294117647058826,
           0.3450980392156862,
           0.3490196078431373,
           0.35032679738562095,
           0.3516339869281046
          ],
          [
           0.2169934640522876,
           0.2169934640522876,
           0.21960784313725493,
           0.22091503267973855,
           0.2130718954248366,
           0.21045751633986928,
           0.20522875816993466,
           0.2130718954248366,
           0.2196078431372549,
           0.2261437908496732,
           0.22091503267973855,
           0.21830065359477124,
           0.21830065359477124,
           0.21568627450980393,
           0.2169934640522876,
           0.21045751633986928,
           0.20261437908496735,
           0.21045751633986928,
           0.21830065359477124,
           0.2235294117647059,
           0.22483660130718955,
           0.2496732026143791,
           0.2849673202614379,
           0.3111111111111111,
           0.3372549019607843,
           0.3568627450980392,
           0.36601307189542487,
           0.3764705882352941,
           0.3856209150326797,
           0.3803921568627451,
           0.37777777777777777,
           0.37777777777777777
          ],
          [
           0.2156862745098039,
           0.2169934640522876,
           0.21960784313725493,
           0.22222222222222224,
           0.21960784313725493,
           0.21830065359477127,
           0.2156862745098039,
           0.21437908496732025,
           0.21045751633986928,
           0.2169934640522876,
           0.22745098039215686,
           0.22483660130718955,
           0.22745098039215686,
           0.23267973856209148,
           0.2339869281045752,
           0.22483660130718955,
           0.21830065359477124,
           0.22483660130718955,
           0.2366013071895425,
           0.24444444444444444,
           0.24705882352941178,
           0.27450980392156865,
           0.3137254901960784,
           0.3372549019607843,
           0.36601307189542487,
           0.3869281045751634,
           0.39215686274509803,
           0.39477124183006534,
           0.39215686274509803,
           0.3843137254901961,
           0.37777777777777777,
           0.37254901960784315
          ],
          [
           0.21568627450980393,
           0.21830065359477124,
           0.21568627450980393,
           0.2196078431372549,
           0.22483660130718955,
           0.21176470588235294,
           0.203921568627451,
           0.20522875816993466,
           0.21045751633986928,
           0.21568627450980393,
           0.22091503267973855,
           0.22483660130718955,
           0.2379084967320262,
           0.25359477124183005,
           0.27058823529411763,
           0.28366013071895424,
           0.29673202614379085,
           0.30980392156862746,
           0.32941176470588235,
           0.35032679738562095,
           0.36339869281045756,
           0.3803921568627451,
           0.39215686274509803,
           0.3895424836601307,
           0.3843137254901961,
           0.38169934640522873,
           0.3856209150326797,
           0.36601307189542487,
           0.34379084967320256,
           0.33202614379084966,
           0.3150326797385621,
           0.30196078431372547
          ],
          [
           0.2169934640522876,
           0.2169934640522876,
           0.21437908496732025,
           0.2156862745098039,
           0.2196078431372549,
           0.21176470588235294,
           0.21176470588235294,
           0.2196078431372549,
           0.23006535947712417,
           0.24444444444444446,
           0.2601307189542484,
           0.27058823529411763,
           0.2849673202614379,
           0.3058823529411765,
           0.31895424836601305,
           0.3333333333333333,
           0.3542483660130719,
           0.35947712418300654,
           0.3712418300653595,
           0.3830065359477124,
           0.39215686274509803,
           0.3869281045751634,
           0.3712418300653595,
           0.3686274509803922,
           0.3568627450980392,
           0.34640522875816987,
           0.34379084967320256,
           0.31633986928104574,
           0.2875816993464052,
           0.2771241830065359,
           0.26405228758169935,
           0.2496732026143791
          ],
          [
           0.2169934640522876,
           0.2169934640522876,
           0.21307189542483662,
           0.21568627450980393,
           0.21176470588235294,
           0.21176470588235294,
           0.2196078431372549,
           0.23529411764705885,
           0.2496732026143791,
           0.2718954248366013,
           0.3032679738562092,
           0.3176470588235294,
           0.3372549019607843,
           0.3516339869281046,
           0.36078431372549025,
           0.36601307189542487,
           0.36470588235294116,
           0.3686274509803922,
           0.3647058823529412,
           0.36209150326797385,
           0.3633986928104575,
           0.3516339869281046,
           0.3333333333333333,
           0.326797385620915,
           0.3111111111111111,
           0.29411764705882354,
           0.28366013071895424,
           0.2718954248366013,
           0.2575163398692811,
           0.25098039215686274,
           0.23790849673202616,
           0.2222222222222222
          ]
         ]
        },
        {
         "name": "MLP prob distribution",
         "type": "bar",
         "x": [
          0,
          1,
          2,
          3,
          4,
          5,
          6,
          7,
          8,
          9
         ],
         "xaxis": "x2",
         "y": [
          0.008878111839294434,
          0.22927726805210114,
          0.43126705288887024,
          0.17941883206367493,
          0.01516879815608263,
          0.008266869001090527,
          0.004228077828884125,
          0.07639243453741074,
          0.0018485308391973376,
          0.04525402933359146
         ],
         "yaxis": "y2"
        },
        {
         "name": "CNN prob distribution",
         "type": "bar",
         "x": [
          0,
          1,
          2,
          3,
          4,
          5,
          6,
          7,
          8,
          9
         ],
         "xaxis": "x3",
         "y": [
          0.000007788387847540434,
          0.000006316938652162207,
          0.9999388456344604,
          0.0000023940979190228973,
          4.0641114651407406e-7,
          4.609877368721982e-9,
          1.1472905292464475e-8,
          0.00003054525222978555,
          4.773509658662078e-7,
          0.00001320481260336237
         ],
         "yaxis": "y3"
        },
        {
         "colorscale": [
          [
           0,
           "rgb(0, 0, 0)"
          ],
          [
           0.09090909090909091,
           "rgb(16, 16, 16)"
          ],
          [
           0.18181818181818182,
           "rgb(38, 38, 38)"
          ],
          [
           0.2727272727272727,
           "rgb(59, 59, 59)"
          ],
          [
           0.36363636363636365,
           "rgb(81, 80, 80)"
          ],
          [
           0.45454545454545453,
           "rgb(102, 101, 101)"
          ],
          [
           0.5454545454545454,
           "rgb(124, 123, 122)"
          ],
          [
           0.6363636363636364,
           "rgb(146, 146, 145)"
          ],
          [
           0.7272727272727273,
           "rgb(171, 171, 170)"
          ],
          [
           0.8181818181818182,
           "rgb(197, 197, 195)"
          ],
          [
           0.9090909090909091,
           "rgb(224, 224, 223)"
          ],
          [
           1,
           "rgb(254, 254, 253)"
          ]
         ],
         "name": "Image",
         "showscale": false,
         "transpose": true,
         "type": "heatmap",
         "xaxis": "x",
         "yaxis": "y",
         "z": [
          [
           0.22745098039215686,
           0.2235294117647059,
           0.2196078431372549,
           0.22091503267973855,
           0.22352941176470587,
           0.22483660130718952,
           0.22483660130718952,
           0.22352941176470587,
           0.22352941176470587,
           0.2222222222222222,
           0.2169934640522876,
           0.2169934640522876,
           0.2156862745098039,
           0.2196078431372549,
           0.2196078431372549,
           0.2196078431372549,
           0.21960784313725487,
           0.21960784313725487,
           0.21960784313725487,
           0.21830065359477124,
           0.21960784313725493,
           0.21960784313725487,
           0.21437908496732025,
           0.21045751633986928,
           0.21045751633986928,
           0.21045751633986928,
           0.20653594771241832,
           0.21176470588235294,
           0.2156862745098039,
           0.2156862745098039,
           0.21960784313725493,
           0.2222222222222222
          ],
          [
           0.23006535947712417,
           0.2261437908496732,
           0.2222222222222222,
           0.22352941176470587,
           0.22483660130718952,
           0.22091503267973855,
           0.2222222222222222,
           0.2222222222222222,
           0.2196078431372549,
           0.22352941176470587,
           0.2196078431372549,
           0.21830065359477124,
           0.22091503267973855,
           0.2222222222222222,
           0.22483660130718955,
           0.22091503267973855,
           0.21830065359477122,
           0.21830065359477122,
           0.21830065359477122,
           0.21960784313725487,
           0.22091503267973853,
           0.21960784313725493,
           0.2156862745098039,
           0.21045751633986928,
           0.21045751633986928,
           0.21176470588235294,
           0.21045751633986928,
           0.21176470588235294,
           0.2156862745098039,
           0.21960784313725493,
           0.22091503267973855,
           0.2235294117647059
          ],
          [
           0.23006535947712417,
           0.2261437908496732,
           0.22352941176470587,
           0.22483660130718955,
           0.22483660130718955,
           0.22352941176470587,
           0.22091503267973855,
           0.22091503267973855,
           0.2196078431372549,
           0.2196078431372549,
           0.2196078431372549,
           0.2222222222222222,
           0.2222222222222222,
           0.2222222222222222,
           0.22745098039215686,
           0.2222222222222222,
           0.21830065359477124,
           0.21830065359477124,
           0.21830065359477124,
           0.21830065359477124,
           0.21699346405228756,
           0.21699346405228756,
           0.2156862745098039,
           0.21045751633986928,
           0.21045751633986928,
           0.21045751633986928,
           0.20784313725490197,
           0.21045751633986928,
           0.21830065359477127,
           0.21830065359477127,
           0.21830065359477127,
           0.22222222222222224
          ],
          [
           0.23006535947712417,
           0.22745098039215686,
           0.22352941176470587,
           0.22875816993464052,
           0.2235294117647059,
           0.2235294117647059,
           0.2222222222222222,
           0.2196078431372549,
           0.21830065359477124,
           0.21830065359477124,
           0.22483660130718952,
           0.22483660130718952,
           0.22352941176470587,
           0.22745098039215686,
           0.22875816993464052,
           0.22483660130718952,
           0.22091503267973855,
           0.22222222222222224,
           0.22222222222222224,
           0.22222222222222224,
           0.22091503267973858,
           0.21830065359477127,
           0.2156862745098039,
           0.21045751633986928,
           0.21176470588235294,
           0.21045751633986928,
           0.20784313725490197,
           0.21437908496732025,
           0.21830065359477127,
           0.21830065359477127,
           0.21960784313725493,
           0.22222222222222224
          ],
          [
           0.23006535947712417,
           0.22875816993464052,
           0.22483660130718955,
           0.2261437908496732,
           0.2235294117647059,
           0.22091503267973855,
           0.2196078431372549,
           0.21830065359477124,
           0.2169934640522876,
           0.21830065359477124,
           0.22483660130718952,
           0.2261437908496732,
           0.2261437908496732,
           0.23006535947712417,
           0.23006535947712417,
           0.2261437908496732,
           0.2222222222222222,
           0.22352941176470587,
           0.22352941176470587,
           0.22352941176470587,
           0.22091503267973858,
           0.21960784313725493,
           0.21830065359477127,
           0.21176470588235294,
           0.2130718954248366,
           0.21437908496732025,
           0.21176470588235294,
           0.2156862745098039,
           0.21960784313725493,
           0.21960784313725493,
           0.2235294117647059,
           0.2235294117647059
          ],
          [
           0.22483660130718952,
           0.22483660130718952,
           0.2261437908496732,
           0.22745098039215686,
           0.22352941176470587,
           0.2222222222222222,
           0.22483660130718955,
           0.22352941176470587,
           0.2222222222222222,
           0.22483660130718955,
           0.23006535947712417,
           0.22483660130718955,
           0.22352941176470587,
           0.22091503267973855,
           0.2196078431372549,
           0.2196078431372549,
           0.21568627450980393,
           0.21437908496732028,
           0.21045751633986928,
           0.20784313725490197,
           0.20784313725490197,
           0.2026143790849673,
           0.20522875816993466,
           0.21045751633986928,
           0.2130718954248366,
           0.21437908496732025,
           0.21176470588235294,
           0.21437908496732028,
           0.21830065359477124,
           0.2169934640522876,
           0.21437908496732025,
           0.21437908496732025
          ],
          [
           0.22483660130718952,
           0.22745098039215686,
           0.22614379084967318,
           0.22745098039215686,
           0.2222222222222222,
           0.22352941176470587,
           0.22745098039215686,
           0.22614379084967318,
           0.22352941176470587,
           0.22745098039215686,
           0.23137254901960783,
           0.2261437908496732,
           0.22352941176470587,
           0.2222222222222222,
           0.21568627450980393,
           0.21568627450980393,
           0.21830065359477124,
           0.2196078431372549,
           0.2196078431372549,
           0.2222222222222222,
           0.2222222222222222,
           0.21699346405228756,
           0.2130718954248366,
           0.2235294117647059,
           0.2261437908496732,
           0.22352941176470587,
           0.21568627450980393,
           0.21568627450980393,
           0.22091503267973855,
           0.2196078431372549,
           0.21437908496732025,
           0.2156862745098039
          ],
          [
           0.2261437908496732,
           0.2261437908496732,
           0.22614379084967318,
           0.22483660130718952,
           0.2222222222222222,
           0.2222222222222222,
           0.22483660130718952,
           0.22483660130718952,
           0.2222222222222222,
           0.2235294117647059,
           0.2261437908496732,
           0.22483660130718955,
           0.2235294117647059,
           0.2222222222222222,
           0.22091503267973855,
           0.22352941176470587,
           0.22875816993464052,
           0.2366013071895425,
           0.2431372549019608,
           0.24705882352941178,
           0.2522875816993464,
           0.24705882352941178,
           0.23790849673202616,
           0.24836601307189543,
           0.2496732026143791,
           0.2379084967320262,
           0.22091503267973855,
           0.21568627450980393,
           0.22091503267973855,
           0.22091503267973855,
           0.2196078431372549,
           0.21830065359477124
          ],
          [
           0.2261437908496732,
           0.2261437908496732,
           0.22614379084967318,
           0.22614379084967318,
           0.2222222222222222,
           0.22091503267973855,
           0.2222222222222222,
           0.22091503267973855,
           0.21960784313725493,
           0.21830065359477127,
           0.21699346405228756,
           0.21699346405228756,
           0.2222222222222222,
           0.2261437908496732,
           0.2261437908496732,
           0.23267973856209148,
           0.24444444444444444,
           0.25098039215686274,
           0.257516339869281,
           0.26405228758169935,
           0.27058823529411763,
           0.2601307189542484,
           0.26143790849673204,
           0.27712418300653596,
           0.27712418300653596,
           0.26143790849673204,
           0.2379084967320262,
           0.2222222222222222,
           0.22091503267973855,
           0.2222222222222222,
           0.2222222222222222,
           0.22222222222222224
          ],
          [
           0.22745098039215686,
           0.22745098039215686,
           0.22614379084967318,
           0.22483660130718952,
           0.2196078431372549,
           0.2196078431372549,
           0.22091503267973855,
           0.21830065359477127,
           0.21830065359477127,
           0.2156862745098039,
           0.21176470588235294,
           0.21699346405228756,
           0.22091503267973855,
           0.22875816993464052,
           0.2352941176470588,
           0.24705882352941178,
           0.26013071895424833,
           0.26143790849673204,
           0.26143790849673204,
           0.26405228758169935,
           0.2679738562091503,
           0.26405228758169935,
           0.27320261437908494,
           0.2954248366013072,
           0.30718954248366015,
           0.2928104575163399,
           0.26405228758169935,
           0.23529411764705885,
           0.2169934640522876,
           0.22091503267973855,
           0.2222222222222222,
           0.22352941176470587
          ],
          [
           0.2261437908496732,
           0.2261437908496732,
           0.22483660130718952,
           0.2235294117647059,
           0.21830065359477124,
           0.2156862745098039,
           0.21830065359477127,
           0.21830065359477127,
           0.21830065359477127,
           0.21045751633986928,
           0.21045751633986928,
           0.21699346405228756,
           0.22483660130718955,
           0.23398692810457514,
           0.2366013071895425,
           0.2549019607843137,
           0.2718954248366013,
           0.27058823529411763,
           0.265359477124183,
           0.2627450980392157,
           0.2601307189542484,
           0.26013071895424833,
           0.27712418300653596,
           0.3058823529411765,
           0.3254901960784313,
           0.31241830065359477,
           0.28496732026143795,
           0.2431372549019608,
           0.2130718954248366,
           0.22091503267973855,
           0.2222222222222222,
           0.22352941176470587
          ],
          [
           0.22352941176470587,
           0.22483660130718952,
           0.22483660130718952,
           0.22091503267973855,
           0.21307189542483662,
           0.21045751633986928,
           0.21176470588235294,
           0.2130718954248366,
           0.21045751633986928,
           0.20522875816993466,
           0.19869281045751633,
           0.20522875816993466,
           0.21176470588235294,
           0.23398692810457514,
           0.2522875816993464,
           0.2718954248366013,
           0.2862745098039216,
           0.2758169934640523,
           0.265359477124183,
           0.2549019607843137,
           0.24705882352941178,
           0.23790849673202616,
           0.25359477124183005,
           0.3006535947712418,
           0.3281045751633987,
           0.3241830065359477,
           0.29934640522875816,
           0.2758169934640523,
           0.24575163398692812,
           0.21830065359477124,
           0.2261437908496732,
           0.22483660130718955
          ],
          [
           0.22091503267973855,
           0.22745098039215686,
           0.22875816993464052,
           0.22745098039215686,
           0.22745098039215686,
           0.2261437908496732,
           0.2235294117647059,
           0.22483660130718955,
           0.22222222222222224,
           0.21830065359477127,
           0.20915032679738563,
           0.21176470588235294,
           0.21568627450980393,
           0.23267973856209148,
           0.2549019607843137,
           0.2627450980392157,
           0.26013071895424833,
           0.25359477124183005,
           0.24183006535947715,
           0.23006535947712417,
           0.2222222222222222,
           0.2104575163398693,
           0.2196078431372549,
           0.2797385620915033,
           0.3254901960784313,
           0.33856209150326794,
           0.3281045751633987,
           0.3032679738562091,
           0.25620915032679736,
           0.2235294117647059,
           0.22222222222222224,
           0.21960784313725493
          ],
          [
           0.2261437908496732,
           0.23267973856209148,
           0.2379084967320262,
           0.23398692810457514,
           0.22875816993464052,
           0.22745098039215686,
           0.2261437908496732,
           0.22483660130718955,
           0.2261437908496732,
           0.22745098039215686,
           0.22483660130718955,
           0.22091503267973855,
           0.22091503267973855,
           0.2261437908496732,
           0.23921568627450981,
           0.2457516339869281,
           0.24705882352941178,
           0.24183006535947713,
           0.23267973856209148,
           0.22614379084967318,
           0.21830065359477124,
           0.20784313725490197,
           0.2169934640522876,
           0.2784313725490196,
           0.330718954248366,
           0.3450980392156862,
           0.3333333333333333,
           0.3111111111111111,
           0.26405228758169935,
           0.23006535947712417,
           0.2235294117647059,
           0.2156862745098039
          ],
          [
           0.23790849673202616,
           0.24705882352941178,
           0.25620915032679736,
           0.25620915032679736,
           0.24836601307189543,
           0.24836601307189543,
           0.24836601307189543,
           0.24836601307189543,
           0.2496732026143791,
           0.24836601307189543,
           0.24836601307189543,
           0.23529411764705885,
           0.2235294117647059,
           0.22091503267973858,
           0.2235294117647059,
           0.23267973856209148,
           0.24183006535947715,
           0.2366013071895425,
           0.23267973856209148,
           0.2261437908496732,
           0.22091503267973858,
           0.22091503267973855,
           0.2379084967320262,
           0.2928104575163399,
           0.33856209150326794,
           0.34640522875816987,
           0.3359477124183006,
           0.30980392156862746,
           0.26143790849673204,
           0.22745098039215686,
           0.22222222222222224,
           0.2130718954248366
          ],
          [
           0.26405228758169935,
           0.27058823529411763,
           0.2797385620915033,
           0.28627450980392155,
           0.2915032679738562,
           0.2928104575163399,
           0.29150326797385623,
           0.29150326797385623,
           0.29411764705882354,
           0.29934640522875816,
           0.2888888888888889,
           0.2745098039215686,
           0.2522875816993464,
           0.23790849673202616,
           0.2366013071895425,
           0.2339869281045752,
           0.2339869281045752,
           0.23006535947712417,
           0.23137254901960783,
           0.23006535947712417,
           0.22745098039215686,
           0.23529411764705885,
           0.26666666666666666,
           0.31633986928104574,
           0.35947712418300654,
           0.3647058823529412,
           0.35032679738562084,
           0.3111111111111111,
           0.2496732026143791,
           0.2222222222222222,
           0.2222222222222222,
           0.2196078431372549
          ],
          [
           0.27843137254901956,
           0.29150326797385623,
           0.2993464052287582,
           0.30457516339869284,
           0.3058823529411765,
           0.30718954248366015,
           0.3084967320261438,
           0.3084967320261438,
           0.3111111111111111,
           0.3241830065359477,
           0.3398692810457517,
           0.3163398692810458,
           0.2862745098039216,
           0.269281045751634,
           0.2575163398692811,
           0.25620915032679736,
           0.2496732026143791,
           0.24836601307189543,
           0.25098039215686274,
           0.2522875816993464,
           0.24705882352941178,
           0.2718954248366013,
           0.3150326797385621,
           0.3516339869281045,
           0.37516339869281046,
           0.3673202614379085,
           0.3372549019607843,
           0.29673202614379085,
           0.24444444444444446,
           0.2169934640522876,
           0.2261437908496732,
           0.2261437908496732
          ],
          [
           0.24444444444444446,
           0.26405228758169935,
           0.3058823529411765,
           0.3281045751633987,
           0.30980392156862746,
           0.2980392156862745,
           0.28104575163398693,
           0.27581699346405225,
           0.2784313725490197,
           0.29934640522875816,
           0.3359477124183006,
           0.3359477124183006,
           0.33856209150326794,
           0.34117647058823536,
           0.34379084967320267,
           0.3398692810457516,
           0.33202614379084966,
           0.330718954248366,
           0.3359477124183006,
           0.33856209150326794,
           0.33856209150326794,
           0.3477124183006535,
           0.36339869281045756,
           0.3686274509803922,
           0.3581699346405229,
           0.3254901960784313,
           0.2888888888888889,
           0.2549019607843137,
           0.23137254901960788,
           0.23267973856209154,
           0.24052287581699347,
           0.23921568627450981
          ],
          [
           0.23006535947712417,
           0.24444444444444446,
           0.2823529411764706,
           0.3137254901960784,
           0.3176470588235294,
           0.31241830065359477,
           0.3006535947712418,
           0.28496732026143795,
           0.26666666666666666,
           0.27320261437908494,
           0.30588235294117644,
           0.31503267973856214,
           0.32679738562091504,
           0.3398692810457517,
           0.3490196078431373,
           0.3607843137254902,
           0.3764705882352941,
           0.3738562091503268,
           0.37777777777777777,
           0.3803921568627451,
           0.38823529411764707,
           0.36601307189542487,
           0.3398692810457516,
           0.3450980392156862,
           0.33464052287581697,
           0.3006535947712418,
           0.269281045751634,
           0.24052287581699347,
           0.22875816993464052,
           0.22875816993464052,
           0.23267973856209148,
           0.2339869281045752
          ],
          [
           0.21830065359477124,
           0.22222222222222224,
           0.25098039215686274,
           0.28366013071895424,
           0.31633986928104574,
           0.330718954248366,
           0.3333333333333333,
           0.30588235294117644,
           0.2627450980392157,
           0.24444444444444446,
           0.2535947712418301,
           0.27058823529411763,
           0.2901960784313726,
           0.3084967320261438,
           0.322875816993464,
           0.330718954248366,
           0.34117647058823525,
           0.3424836601307189,
           0.34640522875816987,
           0.3516339869281046,
           0.3568627450980392,
           0.3333333333333333,
           0.29934640522875816,
           0.3045751633986928,
           0.29673202614379085,
           0.2679738562091503,
           0.24705882352941178,
           0.23006535947712417,
           0.21568627450980393,
           0.22091503267973858,
           0.2169934640522876,
           0.2196078431372549
          ],
          [
           0.21176470588235297,
           0.20915032679738563,
           0.2196078431372549,
           0.2522875816993464,
           0.3058823529411765,
           0.33856209150326794,
           0.3542483660130719,
           0.32941176470588235,
           0.28235294117647064,
           0.2366013071895425,
           0.2156862745098039,
           0.23006535947712417,
           0.2457516339869281,
           0.2601307189542484,
           0.27450980392156865,
           0.28496732026143795,
           0.3045751633986928,
           0.30718954248366015,
           0.3084967320261438,
           0.3137254901960784,
           0.32156862745098036,
           0.2954248366013072,
           0.25882352941176473,
           0.25882352941176473,
           0.25098039215686274,
           0.23790849673202616,
           0.22483660130718955,
           0.21568627450980393,
           0.21045751633986928,
           0.21307189542483662,
           0.20784313725490197,
           0.20915032679738563
          ],
          [
           0.21176470588235294,
           0.2013071895424837,
           0.203921568627451,
           0.23006535947712417,
           0.2823529411764706,
           0.32941176470588235,
           0.36209150326797385,
           0.35555555555555557,
           0.322875816993464,
           0.27581699346405225,
           0.23006535947712417,
           0.23790849673202616,
           0.23529411764705885,
           0.23529411764705885,
           0.2366013071895425,
           0.24183006535947713,
           0.2496732026143791,
           0.25098039215686274,
           0.2549019607843137,
           0.26143790849673204,
           0.26143790849673204,
           0.25098039215686274,
           0.23137254901960783,
           0.23006535947712417,
           0.2261437908496732,
           0.21830065359477127,
           0.2130718954248366,
           0.21045751633986928,
           0.21176470588235294,
           0.21568627450980393,
           0.21176470588235294,
           0.20653594771241832
          ],
          [
           0.21830065359477124,
           0.20261437908496735,
           0.19869281045751638,
           0.2169934640522876,
           0.261437908496732,
           0.3150326797385621,
           0.3633986928104575,
           0.3712418300653595,
           0.35294117647058826,
           0.3150326797385621,
           0.27058823529411763,
           0.265359477124183,
           0.2522875816993464,
           0.23529411764705885,
           0.2261437908496732,
           0.2196078431372549,
           0.2156862745098039,
           0.2196078431372549,
           0.22091503267973858,
           0.2261437908496732,
           0.23006535947712417,
           0.23137254901960783,
           0.2235294117647059,
           0.22091503267973858,
           0.2169934640522876,
           0.21045751633986928,
           0.20784313725490197,
           0.2130718954248366,
           0.2169934640522876,
           0.21830065359477124,
           0.21568627450980393,
           0.20915032679738563
          ],
          [
           0.21176470588235297,
           0.20915032679738563,
           0.20653594771241832,
           0.20784313725490197,
           0.23006535947712417,
           0.27581699346405225,
           0.32418300653594767,
           0.35294117647058826,
           0.3607843137254902,
           0.33856209150326794,
           0.2928104575163399,
           0.28104575163398693,
           0.25620915032679736,
           0.2366013071895425,
           0.22091503267973855,
           0.2156862745098039,
           0.2196078431372549,
           0.21830065359477124,
           0.21960784313725493,
           0.21830065359477124,
           0.22091503267973855,
           0.21568627450980393,
           0.2169934640522876,
           0.2235294117647059,
           0.22483660130718955,
           0.2196078431372549,
           0.20784313725490197,
           0.21307189542483662,
           0.22745098039215686,
           0.21830065359477124,
           0.20784313725490197,
           0.20130718954248364
          ],
          [
           0.2130718954248366,
           0.21307189542483662,
           0.20915032679738563,
           0.21045751633986928,
           0.22222222222222224,
           0.2522875816993464,
           0.28496732026143795,
           0.3137254901960784,
           0.330718954248366,
           0.31895424836601305,
           0.2849673202614379,
           0.2758169934640523,
           0.25620915032679736,
           0.23921568627450981,
           0.22745098039215686,
           0.21568627450980393,
           0.2026143790849673,
           0.20522875816993466,
           0.20915032679738563,
           0.20915032679738563,
           0.20915032679738563,
           0.203921568627451,
           0.20522875816993466,
           0.2169934640522876,
           0.22875816993464052,
           0.23137254901960788,
           0.22352941176470587,
           0.23137254901960783,
           0.2405228758169935,
           0.23790849673202616,
           0.23267973856209154,
           0.23137254901960788
          ],
          [
           0.21437908496732028,
           0.21568627450980393,
           0.21437908496732025,
           0.2130718954248366,
           0.21307189542483662,
           0.22222222222222224,
           0.23790849673202616,
           0.25882352941176473,
           0.2836601307189543,
           0.2875816993464052,
           0.26405228758169935,
           0.2549019607843137,
           0.2405228758169935,
           0.22875816993464052,
           0.22091503267973858,
           0.21568627450980393,
           0.20784313725490197,
           0.20915032679738563,
           0.21307189542483662,
           0.21437908496732028,
           0.2169934640522876,
           0.21176470588235294,
           0.2169934640522876,
           0.2366013071895425,
           0.2601307189542484,
           0.27320261437908494,
           0.27450980392156865,
           0.2797385620915033,
           0.2849673202614379,
           0.2849673202614379,
           0.2888888888888889,
           0.2901960784313726
          ],
          [
           0.2130718954248366,
           0.2130718954248366,
           0.21437908496732025,
           0.21699346405228756,
           0.21045751633986928,
           0.203921568627451,
           0.20784313725490197,
           0.22091503267973858,
           0.24444444444444446,
           0.24836601307189543,
           0.22875816993464052,
           0.22483660130718952,
           0.21830065359477124,
           0.21437908496732028,
           0.21045751633986928,
           0.20915032679738563,
           0.20915032679738563,
           0.2130718954248366,
           0.2169934640522876,
           0.22222222222222224,
           0.2235294117647059,
           0.23921568627450981,
           0.27058823529411763,
           0.2954248366013072,
           0.3241830065359477,
           0.34640522875816987,
           0.35555555555555557,
           0.35294117647058826,
           0.3450980392156862,
           0.3490196078431373,
           0.35032679738562095,
           0.3516339869281046
          ],
          [
           0.2169934640522876,
           0.2169934640522876,
           0.21960784313725493,
           0.22091503267973855,
           0.2130718954248366,
           0.21045751633986928,
           0.20522875816993466,
           0.2130718954248366,
           0.2196078431372549,
           0.2261437908496732,
           0.22091503267973855,
           0.21830065359477124,
           0.21830065359477124,
           0.21568627450980393,
           0.2169934640522876,
           0.21045751633986928,
           0.20261437908496735,
           0.21045751633986928,
           0.21830065359477124,
           0.2235294117647059,
           0.22483660130718955,
           0.2496732026143791,
           0.2849673202614379,
           0.3111111111111111,
           0.3372549019607843,
           0.3568627450980392,
           0.36601307189542487,
           0.3764705882352941,
           0.3856209150326797,
           0.3803921568627451,
           0.37777777777777777,
           0.37777777777777777
          ],
          [
           0.2156862745098039,
           0.2169934640522876,
           0.21960784313725493,
           0.22222222222222224,
           0.21960784313725493,
           0.21830065359477127,
           0.2156862745098039,
           0.21437908496732025,
           0.21045751633986928,
           0.2169934640522876,
           0.22745098039215686,
           0.22483660130718955,
           0.22745098039215686,
           0.23267973856209148,
           0.2339869281045752,
           0.22483660130718955,
           0.21830065359477124,
           0.22483660130718955,
           0.2366013071895425,
           0.24444444444444444,
           0.24705882352941178,
           0.27450980392156865,
           0.3137254901960784,
           0.3372549019607843,
           0.36601307189542487,
           0.3869281045751634,
           0.39215686274509803,
           0.39477124183006534,
           0.39215686274509803,
           0.3843137254901961,
           0.37777777777777777,
           0.37254901960784315
          ],
          [
           0.21568627450980393,
           0.21830065359477124,
           0.21568627450980393,
           0.2196078431372549,
           0.22483660130718955,
           0.21176470588235294,
           0.203921568627451,
           0.20522875816993466,
           0.21045751633986928,
           0.21568627450980393,
           0.22091503267973855,
           0.22483660130718955,
           0.2379084967320262,
           0.25359477124183005,
           0.27058823529411763,
           0.28366013071895424,
           0.29673202614379085,
           0.30980392156862746,
           0.32941176470588235,
           0.35032679738562095,
           0.36339869281045756,
           0.3803921568627451,
           0.39215686274509803,
           0.3895424836601307,
           0.3843137254901961,
           0.38169934640522873,
           0.3856209150326797,
           0.36601307189542487,
           0.34379084967320256,
           0.33202614379084966,
           0.3150326797385621,
           0.30196078431372547
          ],
          [
           0.2169934640522876,
           0.2169934640522876,
           0.21437908496732025,
           0.2156862745098039,
           0.2196078431372549,
           0.21176470588235294,
           0.21176470588235294,
           0.2196078431372549,
           0.23006535947712417,
           0.24444444444444446,
           0.2601307189542484,
           0.27058823529411763,
           0.2849673202614379,
           0.3058823529411765,
           0.31895424836601305,
           0.3333333333333333,
           0.3542483660130719,
           0.35947712418300654,
           0.3712418300653595,
           0.3830065359477124,
           0.39215686274509803,
           0.3869281045751634,
           0.3712418300653595,
           0.3686274509803922,
           0.3568627450980392,
           0.34640522875816987,
           0.34379084967320256,
           0.31633986928104574,
           0.2875816993464052,
           0.2771241830065359,
           0.26405228758169935,
           0.2496732026143791
          ],
          [
           0.2169934640522876,
           0.2169934640522876,
           0.21307189542483662,
           0.21568627450980393,
           0.21176470588235294,
           0.21176470588235294,
           0.2196078431372549,
           0.23529411764705885,
           0.2496732026143791,
           0.2718954248366013,
           0.3032679738562092,
           0.3176470588235294,
           0.3372549019607843,
           0.3516339869281046,
           0.36078431372549025,
           0.36601307189542487,
           0.36470588235294116,
           0.3686274509803922,
           0.3647058823529412,
           0.36209150326797385,
           0.3633986928104575,
           0.3516339869281046,
           0.3333333333333333,
           0.326797385620915,
           0.3111111111111111,
           0.29411764705882354,
           0.28366013071895424,
           0.2718954248366013,
           0.2575163398692811,
           0.25098039215686274,
           0.23790849673202616,
           0.2222222222222222
          ]
         ]
        }
       ],
       "layout": {
        "template": {
         "data": {
          "bar": [
           {
            "error_x": {
             "color": "#f2f5fa"
            },
            "error_y": {
             "color": "#f2f5fa"
            },
            "marker": {
             "line": {
              "color": "rgb(17,17,17)",
              "width": 0.5
             },
             "pattern": {
              "fillmode": "overlay",
              "size": 10,
              "solidity": 0.2
             }
            },
            "type": "bar"
           }
          ],
          "barpolar": [
           {
            "marker": {
             "line": {
              "color": "rgb(17,17,17)",
              "width": 0.5
             },
             "pattern": {
              "fillmode": "overlay",
              "size": 10,
              "solidity": 0.2
             }
            },
            "type": "barpolar"
           }
          ],
          "carpet": [
           {
            "aaxis": {
             "endlinecolor": "#A2B1C6",
             "gridcolor": "#506784",
             "linecolor": "#506784",
             "minorgridcolor": "#506784",
             "startlinecolor": "#A2B1C6"
            },
            "baxis": {
             "endlinecolor": "#A2B1C6",
             "gridcolor": "#506784",
             "linecolor": "#506784",
             "minorgridcolor": "#506784",
             "startlinecolor": "#A2B1C6"
            },
            "type": "carpet"
           }
          ],
          "choropleth": [
           {
            "colorbar": {
             "outlinewidth": 0,
             "ticks": ""
            },
            "type": "choropleth"
           }
          ],
          "contour": [
           {
            "colorbar": {
             "outlinewidth": 0,
             "ticks": ""
            },
            "colorscale": [
             [
              0,
              "#0d0887"
             ],
             [
              0.1111111111111111,
              "#46039f"
             ],
             [
              0.2222222222222222,
              "#7201a8"
             ],
             [
              0.3333333333333333,
              "#9c179e"
             ],
             [
              0.4444444444444444,
              "#bd3786"
             ],
             [
              0.5555555555555556,
              "#d8576b"
             ],
             [
              0.6666666666666666,
              "#ed7953"
             ],
             [
              0.7777777777777778,
              "#fb9f3a"
             ],
             [
              0.8888888888888888,
              "#fdca26"
             ],
             [
              1,
              "#f0f921"
             ]
            ],
            "type": "contour"
           }
          ],
          "contourcarpet": [
           {
            "colorbar": {
             "outlinewidth": 0,
             "ticks": ""
            },
            "type": "contourcarpet"
           }
          ],
          "heatmap": [
           {
            "colorbar": {
             "outlinewidth": 0,
             "ticks": ""
            },
            "colorscale": [
             [
              0,
              "#0d0887"
             ],
             [
              0.1111111111111111,
              "#46039f"
             ],
             [
              0.2222222222222222,
              "#7201a8"
             ],
             [
              0.3333333333333333,
              "#9c179e"
             ],
             [
              0.4444444444444444,
              "#bd3786"
             ],
             [
              0.5555555555555556,
              "#d8576b"
             ],
             [
              0.6666666666666666,
              "#ed7953"
             ],
             [
              0.7777777777777778,
              "#fb9f3a"
             ],
             [
              0.8888888888888888,
              "#fdca26"
             ],
             [
              1,
              "#f0f921"
             ]
            ],
            "type": "heatmap"
           }
          ],
          "heatmapgl": [
           {
            "colorbar": {
             "outlinewidth": 0,
             "ticks": ""
            },
            "colorscale": [
             [
              0,
              "#0d0887"
             ],
             [
              0.1111111111111111,
              "#46039f"
             ],
             [
              0.2222222222222222,
              "#7201a8"
             ],
             [
              0.3333333333333333,
              "#9c179e"
             ],
             [
              0.4444444444444444,
              "#bd3786"
             ],
             [
              0.5555555555555556,
              "#d8576b"
             ],
             [
              0.6666666666666666,
              "#ed7953"
             ],
             [
              0.7777777777777778,
              "#fb9f3a"
             ],
             [
              0.8888888888888888,
              "#fdca26"
             ],
             [
              1,
              "#f0f921"
             ]
            ],
            "type": "heatmapgl"
           }
          ],
          "histogram": [
           {
            "marker": {
             "pattern": {
              "fillmode": "overlay",
              "size": 10,
              "solidity": 0.2
             }
            },
            "type": "histogram"
           }
          ],
          "histogram2d": [
           {
            "colorbar": {
             "outlinewidth": 0,
             "ticks": ""
            },
            "colorscale": [
             [
              0,
              "#0d0887"
             ],
             [
              0.1111111111111111,
              "#46039f"
             ],
             [
              0.2222222222222222,
              "#7201a8"
             ],
             [
              0.3333333333333333,
              "#9c179e"
             ],
             [
              0.4444444444444444,
              "#bd3786"
             ],
             [
              0.5555555555555556,
              "#d8576b"
             ],
             [
              0.6666666666666666,
              "#ed7953"
             ],
             [
              0.7777777777777778,
              "#fb9f3a"
             ],
             [
              0.8888888888888888,
              "#fdca26"
             ],
             [
              1,
              "#f0f921"
             ]
            ],
            "type": "histogram2d"
           }
          ],
          "histogram2dcontour": [
           {
            "colorbar": {
             "outlinewidth": 0,
             "ticks": ""
            },
            "colorscale": [
             [
              0,
              "#0d0887"
             ],
             [
              0.1111111111111111,
              "#46039f"
             ],
             [
              0.2222222222222222,
              "#7201a8"
             ],
             [
              0.3333333333333333,
              "#9c179e"
             ],
             [
              0.4444444444444444,
              "#bd3786"
             ],
             [
              0.5555555555555556,
              "#d8576b"
             ],
             [
              0.6666666666666666,
              "#ed7953"
             ],
             [
              0.7777777777777778,
              "#fb9f3a"
             ],
             [
              0.8888888888888888,
              "#fdca26"
             ],
             [
              1,
              "#f0f921"
             ]
            ],
            "type": "histogram2dcontour"
           }
          ],
          "mesh3d": [
           {
            "colorbar": {
             "outlinewidth": 0,
             "ticks": ""
            },
            "type": "mesh3d"
           }
          ],
          "parcoords": [
           {
            "line": {
             "colorbar": {
              "outlinewidth": 0,
              "ticks": ""
             }
            },
            "type": "parcoords"
           }
          ],
          "pie": [
           {
            "automargin": true,
            "type": "pie"
           }
          ],
          "scatter": [
           {
            "marker": {
             "line": {
              "color": "#283442"
             }
            },
            "type": "scatter"
           }
          ],
          "scatter3d": [
           {
            "line": {
             "colorbar": {
              "outlinewidth": 0,
              "ticks": ""
             }
            },
            "marker": {
             "colorbar": {
              "outlinewidth": 0,
              "ticks": ""
             }
            },
            "type": "scatter3d"
           }
          ],
          "scattercarpet": [
           {
            "marker": {
             "colorbar": {
              "outlinewidth": 0,
              "ticks": ""
             }
            },
            "type": "scattercarpet"
           }
          ],
          "scattergeo": [
           {
            "marker": {
             "colorbar": {
              "outlinewidth": 0,
              "ticks": ""
             }
            },
            "type": "scattergeo"
           }
          ],
          "scattergl": [
           {
            "marker": {
             "line": {
              "color": "#283442"
             }
            },
            "type": "scattergl"
           }
          ],
          "scattermapbox": [
           {
            "marker": {
             "colorbar": {
              "outlinewidth": 0,
              "ticks": ""
             }
            },
            "type": "scattermapbox"
           }
          ],
          "scatterpolar": [
           {
            "marker": {
             "colorbar": {
              "outlinewidth": 0,
              "ticks": ""
             }
            },
            "type": "scatterpolar"
           }
          ],
          "scatterpolargl": [
           {
            "marker": {
             "colorbar": {
              "outlinewidth": 0,
              "ticks": ""
             }
            },
            "type": "scatterpolargl"
           }
          ],
          "scatterternary": [
           {
            "marker": {
             "colorbar": {
              "outlinewidth": 0,
              "ticks": ""
             }
            },
            "type": "scatterternary"
           }
          ],
          "surface": [
           {
            "colorbar": {
             "outlinewidth": 0,
             "ticks": ""
            },
            "colorscale": [
             [
              0,
              "#0d0887"
             ],
             [
              0.1111111111111111,
              "#46039f"
             ],
             [
              0.2222222222222222,
              "#7201a8"
             ],
             [
              0.3333333333333333,
              "#9c179e"
             ],
             [
              0.4444444444444444,
              "#bd3786"
             ],
             [
              0.5555555555555556,
              "#d8576b"
             ],
             [
              0.6666666666666666,
              "#ed7953"
             ],
             [
              0.7777777777777778,
              "#fb9f3a"
             ],
             [
              0.8888888888888888,
              "#fdca26"
             ],
             [
              1,
              "#f0f921"
             ]
            ],
            "type": "surface"
           }
          ],
          "table": [
           {
            "cells": {
             "fill": {
              "color": "#506784"
             },
             "line": {
              "color": "rgb(17,17,17)"
             }
            },
            "header": {
             "fill": {
              "color": "#2a3f5f"
             },
             "line": {
              "color": "rgb(17,17,17)"
             }
            },
            "type": "table"
           }
          ]
         },
         "layout": {
          "annotationdefaults": {
           "arrowcolor": "#f2f5fa",
           "arrowhead": 0,
           "arrowwidth": 1
          },
          "autotypenumbers": "strict",
          "coloraxis": {
           "colorbar": {
            "outlinewidth": 0,
            "ticks": ""
           }
          },
          "colorscale": {
           "diverging": [
            [
             0,
             "#8e0152"
            ],
            [
             0.1,
             "#c51b7d"
            ],
            [
             0.2,
             "#de77ae"
            ],
            [
             0.3,
             "#f1b6da"
            ],
            [
             0.4,
             "#fde0ef"
            ],
            [
             0.5,
             "#f7f7f7"
            ],
            [
             0.6,
             "#e6f5d0"
            ],
            [
             0.7,
             "#b8e186"
            ],
            [
             0.8,
             "#7fbc41"
            ],
            [
             0.9,
             "#4d9221"
            ],
            [
             1,
             "#276419"
            ]
           ],
           "sequential": [
            [
             0,
             "#0d0887"
            ],
            [
             0.1111111111111111,
             "#46039f"
            ],
            [
             0.2222222222222222,
             "#7201a8"
            ],
            [
             0.3333333333333333,
             "#9c179e"
            ],
            [
             0.4444444444444444,
             "#bd3786"
            ],
            [
             0.5555555555555556,
             "#d8576b"
            ],
            [
             0.6666666666666666,
             "#ed7953"
            ],
            [
             0.7777777777777778,
             "#fb9f3a"
            ],
            [
             0.8888888888888888,
             "#fdca26"
            ],
            [
             1,
             "#f0f921"
            ]
           ],
           "sequentialminus": [
            [
             0,
             "#0d0887"
            ],
            [
             0.1111111111111111,
             "#46039f"
            ],
            [
             0.2222222222222222,
             "#7201a8"
            ],
            [
             0.3333333333333333,
             "#9c179e"
            ],
            [
             0.4444444444444444,
             "#bd3786"
            ],
            [
             0.5555555555555556,
             "#d8576b"
            ],
            [
             0.6666666666666666,
             "#ed7953"
            ],
            [
             0.7777777777777778,
             "#fb9f3a"
            ],
            [
             0.8888888888888888,
             "#fdca26"
            ],
            [
             1,
             "#f0f921"
            ]
           ]
          },
          "colorway": [
           "#636efa",
           "#EF553B",
           "#00cc96",
           "#ab63fa",
           "#FFA15A",
           "#19d3f3",
           "#FF6692",
           "#B6E880",
           "#FF97FF",
           "#FECB52"
          ],
          "font": {
           "color": "#f2f5fa"
          },
          "geo": {
           "bgcolor": "rgb(17,17,17)",
           "lakecolor": "rgb(17,17,17)",
           "landcolor": "rgb(17,17,17)",
           "showlakes": true,
           "showland": true,
           "subunitcolor": "#506784"
          },
          "hoverlabel": {
           "align": "left"
          },
          "hovermode": "closest",
          "mapbox": {
           "style": "dark"
          },
          "paper_bgcolor": "rgb(17,17,17)",
          "plot_bgcolor": "rgb(17,17,17)",
          "polar": {
           "angularaxis": {
            "gridcolor": "#506784",
            "linecolor": "#506784",
            "ticks": ""
           },
           "bgcolor": "rgb(17,17,17)",
           "radialaxis": {
            "gridcolor": "#506784",
            "linecolor": "#506784",
            "ticks": ""
           }
          },
          "scene": {
           "xaxis": {
            "backgroundcolor": "rgb(17,17,17)",
            "gridcolor": "#506784",
            "gridwidth": 2,
            "linecolor": "#506784",
            "showbackground": true,
            "ticks": "",
            "zerolinecolor": "#C8D4E3"
           },
           "yaxis": {
            "backgroundcolor": "rgb(17,17,17)",
            "gridcolor": "#506784",
            "gridwidth": 2,
            "linecolor": "#506784",
            "showbackground": true,
            "ticks": "",
            "zerolinecolor": "#C8D4E3"
           },
           "zaxis": {
            "backgroundcolor": "rgb(17,17,17)",
            "gridcolor": "#506784",
            "gridwidth": 2,
            "linecolor": "#506784",
            "showbackground": true,
            "ticks": "",
            "zerolinecolor": "#C8D4E3"
           }
          },
          "shapedefaults": {
           "line": {
            "color": "#f2f5fa"
           }
          },
          "sliderdefaults": {
           "bgcolor": "#C8D4E3",
           "bordercolor": "rgb(17,17,17)",
           "borderwidth": 1,
           "tickwidth": 0
          },
          "ternary": {
           "aaxis": {
            "gridcolor": "#506784",
            "linecolor": "#506784",
            "ticks": ""
           },
           "baxis": {
            "gridcolor": "#506784",
            "linecolor": "#506784",
            "ticks": ""
           },
           "bgcolor": "rgb(17,17,17)",
           "caxis": {
            "gridcolor": "#506784",
            "linecolor": "#506784",
            "ticks": ""
           }
          },
          "title": {
           "x": 0.05
          },
          "updatemenudefaults": {
           "bgcolor": "#506784",
           "borderwidth": 0
          },
          "xaxis": {
           "automargin": true,
           "gridcolor": "#283442",
           "linecolor": "#506784",
           "ticks": "",
           "title": {
            "standoff": 15
           },
           "zerolinecolor": "#283442",
           "zerolinewidth": 2
          },
          "yaxis": {
           "automargin": true,
           "gridcolor": "#283442",
           "linecolor": "#506784",
           "ticks": "",
           "title": {
            "standoff": 15
           },
           "zerolinecolor": "#283442",
           "zerolinewidth": 2
          }
         }
        },
        "title": {
         "text": "MLP vs CNN Prediction distribution",
         "x": 0.25
        },
        "xaxis": {
         "anchor": "y",
         "domain": [
          0,
          0.27
         ],
         "title": {
          "text": "MLP Predicts [2] -- CNN Predicts [2] "
         }
        },
        "xaxis2": {
         "anchor": "y2",
         "domain": [
          0.37,
          1
         ],
         "dtick": 1
        },
        "xaxis3": {
         "anchor": "y3",
         "domain": [
          0.37,
          1
         ]
        },
        "yaxis": {
         "anchor": "x",
         "domain": [
          0,
          1
         ]
        },
        "yaxis2": {
         "anchor": "x2",
         "domain": [
          0.575,
          1
         ],
         "title": {
          "text": "Prob MLP"
         }
        },
        "yaxis3": {
         "anchor": "x3",
         "domain": [
          0,
          0.425
         ],
         "title": {
          "text": "Prob CMM"
         }
        }
       }
      }
     },
     "metadata": {},
     "output_type": "display_data"
    }
   ],
   "source": [
    "plot_pred_dist()"
   ]
  },
  {
   "cell_type": "code",
   "execution_count": 101,
   "metadata": {
    "id": "2Lx68VA7z_HE"
   },
   "outputs": [
    {
     "name": "stdout",
     "output_type": "stream",
     "text": [
      "1/1 [==============================] - 0s 36ms/step\n",
      "1/1 [==============================] - 0s 25ms/step\n"
     ]
    },
    {
     "data": {
      "application/vnd.plotly.v1+json": {
       "config": {
        "plotlyServerURL": "https://plot.ly"
       },
       "data": [
        {
         "colorscale": [
          [
           0,
           "rgb(0, 0, 0)"
          ],
          [
           0.09090909090909091,
           "rgb(16, 16, 16)"
          ],
          [
           0.18181818181818182,
           "rgb(38, 38, 38)"
          ],
          [
           0.2727272727272727,
           "rgb(59, 59, 59)"
          ],
          [
           0.36363636363636365,
           "rgb(81, 80, 80)"
          ],
          [
           0.45454545454545453,
           "rgb(102, 101, 101)"
          ],
          [
           0.5454545454545454,
           "rgb(124, 123, 122)"
          ],
          [
           0.6363636363636364,
           "rgb(146, 146, 145)"
          ],
          [
           0.7272727272727273,
           "rgb(171, 171, 170)"
          ],
          [
           0.8181818181818182,
           "rgb(197, 197, 195)"
          ],
          [
           0.9090909090909091,
           "rgb(224, 224, 223)"
          ],
          [
           1,
           "rgb(254, 254, 253)"
          ]
         ],
         "name": "Image",
         "showscale": false,
         "transpose": true,
         "type": "heatmap",
         "xaxis": "x",
         "yaxis": "y",
         "z": [
          [
           0.16470588235294117,
           0.16470588235294117,
           0.16470588235294117,
           0.16862745098039214,
           0.16862745098039214,
           0.16862745098039214,
           0.16732026143790849,
           0.16601307189542483,
           0.15294117647058822,
           0.13725490196078433,
           0.13856209150326798,
           0.13856209150326798,
           0.13725490196078433,
           0.13333333333333333,
           0.13333333333333333,
           0.13333333333333333,
           0.13202614379084968,
           0.13594771241830064,
           0.1372549019607843,
           0.14248366013071895,
           0.1542483660130719,
           0.15555555555555556,
           0.15294117647058825,
           0.1450980392156863,
           0.13856209150326798,
           0.14379084967320263,
           0.15294117647058825,
           0.15294117647058825,
           0.15294117647058825,
           0.1503267973856209,
           0.1503267973856209,
           0.14640522875816994
          ],
          [
           0.13594771241830064,
           0.134640522875817,
           0.134640522875817,
           0.134640522875817,
           0.13856209150326798,
           0.13725490196078433,
           0.134640522875817,
           0.13333333333333333,
           0.12549019607843137,
           0.11633986928104577,
           0.11633986928104577,
           0.11241830065359477,
           0.11111111111111112,
           0.10980392156862745,
           0.11241830065359477,
           0.11111111111111112,
           0.11372549019607843,
           0.11372549019607843,
           0.12418300653594772,
           0.12810457516339868,
           0.13202614379084968,
           0.13333333333333333,
           0.13071895424836602,
           0.12418300653594772,
           0.11633986928104574,
           0.12026143790849675,
           0.12941176470588237,
           0.1281045751633987,
           0.12418300653594772,
           0.12679738562091503,
           0.12679738562091503,
           0.12549019607843137
          ],
          [
           0.11372549019607843,
           0.11372549019607843,
           0.11633986928104574,
           0.1176470588235294,
           0.11895424836601308,
           0.11895424836601308,
           0.11895424836601308,
           0.11895424836601308,
           0.10980392156862745,
           0.1019607843137255,
           0.1019607843137255,
           0.10326797385620916,
           0.10980392156862745,
           0.11241830065359477,
           0.10980392156862745,
           0.11111111111111112,
           0.11241830065359477,
           0.12418300653594772,
           0.13071895424836602,
           0.13333333333333333,
           0.1372549019607843,
           0.1372549019607843,
           0.13202614379084968,
           0.12418300653594772,
           0.1176470588235294,
           0.11503267973856209,
           0.11895424836601308,
           0.12026143790849673,
           0.12026143790849673,
           0.12418300653594772,
           0.12418300653594772,
           0.12549019607843137
          ],
          [
           0.10980392156862745,
           0.11111111111111112,
           0.11503267973856209,
           0.11372549019607843,
           0.11372549019607843,
           0.11372549019607843,
           0.1176470588235294,
           0.11503267973856209,
           0.10980392156862745,
           0.10718954248366012,
           0.10718954248366012,
           0.10718954248366012,
           0.10980392156862745,
           0.11503267973856209,
           0.11633986928104574,
           0.11633986928104574,
           0.12026143790849673,
           0.11764705882352942,
           0.12026143790849675,
           0.12418300653594772,
           0.12941176470588237,
           0.13071895424836602,
           0.12679738562091503,
           0.1176470588235294,
           0.10980392156862745,
           0.11111111111111112,
           0.1215686274509804,
           0.12287581699346406,
           0.12679738562091503,
           0.12549019607843137,
           0.12810457516339868,
           0.12941176470588237
          ],
          [
           0.11241830065359477,
           0.11111111111111112,
           0.11111111111111112,
           0.11111111111111112,
           0.10718954248366014,
           0.10196078431372547,
           0.10457516339869281,
           0.11241830065359477,
           0.11241830065359477,
           0.10588235294117647,
           0.10718954248366012,
           0.1111111111111111,
           0.1111111111111111,
           0.11241830065359477,
           0.11241830065359477,
           0.11895424836601308,
           0.12026143790849675,
           0.11503267973856209,
           0.12679738562091505,
           0.12549019607843137,
           0.1215686274509804,
           0.12941176470588237,
           0.13202614379084968,
           0.1215686274509804,
           0.11503267973856209,
           0.1176470588235294,
           0.1215686274509804,
           0.12287581699346406,
           0.12549019607843137,
           0.13202614379084968,
           0.14117647058823532,
           0.14248366013071898
          ],
          [
           0.12418300653594772,
           0.12287581699346406,
           0.11895424836601308,
           0.11633986928104574,
           0.10588235294117647,
           0.09281045751633987,
           0.09281045751633987,
           0.10718954248366014,
           0.10980392156862745,
           0.10980392156862745,
           0.10980392156862745,
           0.11241830065359477,
           0.11372549019607843,
           0.1111111111111111,
           0.10849673202614378,
           0.1111111111111111,
           0.1111111111111111,
           0.11633986928104574,
           0.12810457516339868,
           0.12287581699346406,
           0.12026143790849673,
           0.12941176470588237,
           0.12941176470588237,
           0.1215686274509804,
           0.11895424836601308,
           0.12549019607843137,
           0.1215686274509804,
           0.11895424836601308,
           0.1176470588235294,
           0.12941176470588237,
           0.14379084967320263,
           0.1450980392156863
          ],
          [
           0.134640522875817,
           0.14248366013071898,
           0.14248366013071898,
           0.1372549019607843,
           0.11372549019607843,
           0.09803921568627451,
           0.09542483660130718,
           0.09542483660130718,
           0.10457516339869281,
           0.11241830065359477,
           0.1111111111111111,
           0.1084967320261438,
           0.10718954248366014,
           0.10718954248366012,
           0.10196078431372547,
           0.10326797385620916,
           0.1019607843137255,
           0.1176470588235294,
           0.1176470588235294,
           0.1215686274509804,
           0.12549019607843137,
           0.12941176470588237,
           0.12941176470588237,
           0.13333333333333333,
           0.1372549019607843,
           0.13333333333333333,
           0.11764705882352942,
           0.11241830065359477,
           0.10980392156862745,
           0.1176470588235294,
           0.13202614379084968,
           0.13986928104575166
          ],
          [
           0.1542483660130719,
           0.18039215686274512,
           0.2026143790849673,
           0.1934640522875817,
           0.16209150326797386,
           0.12810457516339868,
           0.10457516339869281,
           0.08104575163398693,
           0.09019607843137255,
           0.11241830065359477,
           0.10718954248366012,
           0.10588235294117647,
           0.10718954248366012,
           0.10588235294117647,
           0.10326797385620916,
           0.10457516339869281,
           0.10065359477124182,
           0.1215686274509804,
           0.11372549019607843,
           0.12941176470588237,
           0.1450980392156863,
           0.1477124183006536,
           0.16209150326797386,
           0.18300653594771243,
           0.19607843137254902,
           0.1699346405228758,
           0.12287581699346406,
           0.11503267973856209,
           0.1019607843137255,
           0.10326797385620916,
           0.11372549019607843,
           0.12549019607843137
          ],
          [
           0.17516339869281047,
           0.23006535947712417,
           0.2862745098039216,
           0.2888888888888889,
           0.25098039215686274,
           0.19607843137254902,
           0.14117647058823532,
           0.09150326797385622,
           0.08627450980392155,
           0.10588235294117647,
           0.10326797385620916,
           0.10718954248366012,
           0.10980392156862746,
           0.10718954248366012,
           0.11111111111111112,
           0.11111111111111112,
           0.11372549019607843,
           0.1372549019607843,
           0.13333333333333333,
           0.15294117647058822,
           0.1869281045751634,
           0.2013071895424837,
           0.23137254901960783,
           0.27320261437908494,
           0.3019607843137255,
           0.2522875816993464,
           0.1607843137254902,
           0.14248366013071895,
           0.10980392156862745,
           0.09542483660130718,
           0.09934640522875816,
           0.10980392156862745
          ],
          [
           0.21437908496732028,
           0.29673202614379085,
           0.38169934640522873,
           0.4026143790849674,
           0.3607843137254902,
           0.29411764705882354,
           0.21045751633986928,
           0.13202614379084968,
           0.1019607843137255,
           0.10588235294117647,
           0.10718954248366012,
           0.11111111111111112,
           0.11111111111111112,
           0.11503267973856209,
           0.11895424836601308,
           0.1176470588235294,
           0.12287581699346406,
           0.15555555555555559,
           0.15686274509803924,
           0.18169934640522875,
           0.22745098039215686,
           0.26666666666666666,
           0.3137254901960784,
           0.3738562091503268,
           0.41568627450980394,
           0.3568627450980392,
           0.23398692810457514,
           0.19999999999999998,
           0.14901960784313728,
           0.10980392156862745,
           0.09803921568627451,
           0.10065359477124185
          ],
          [
           0.281045751633987,
           0.38692810457516336,
           0.4875816993464052,
           0.5124183006535947,
           0.4679738562091504,
           0.388235294117647,
           0.28235294117647064,
           0.1843137254901961,
           0.13202614379084968,
           0.12287581699346406,
           0.12549019607843137,
           0.12418300653594772,
           0.12287581699346406,
           0.12026143790849673,
           0.11895424836601308,
           0.11895424836601308,
           0.1176470588235294,
           0.14640522875816994,
           0.15947712418300655,
           0.18169934640522875,
           0.22745098039215686,
           0.2888888888888889,
           0.35294117647058826,
           0.41307189542483663,
           0.4640522875816994,
           0.4339869281045752,
           0.3372549019607843,
           0.28366013071895424,
           0.20784313725490197,
           0.14640522875816994,
           0.11503267973856209,
           0.1019607843137255
          ],
          [
           0.3254901960784314,
           0.4470588235294118,
           0.5594771241830067,
           0.5882352941176471,
           0.5490196078431372,
           0.46928104575163393,
           0.3607843137254902,
           0.2627450980392157,
           0.1843137254901961,
           0.1450980392156863,
           0.1450980392156863,
           0.13856209150326795,
           0.13071895424836602,
           0.12549019607843137,
           0.11503267973856209,
           0.1084967320261438,
           0.1019607843137255,
           0.10588235294117647,
           0.12941176470588237,
           0.1503267973856209,
           0.1895424836601307,
           0.257516339869281,
           0.330718954248366,
           0.38954248366013067,
           0.4366013071895425,
           0.46013071895424834,
           0.44183006535947716,
           0.3660130718954248,
           0.27058823529411763,
           0.19215686274509802,
           0.13986928104575164,
           0.12026143790849673
          ],
          [
           0.3032679738562091,
           0.4352941176470588,
           0.5594771241830067,
           0.6078431372549019,
           0.5816993464052288,
           0.5228758169934641,
           0.45359477124183006,
           0.3908496732026144,
           0.2836601307189543,
           0.1869281045751634,
           0.17647058823529413,
           0.1607843137254902,
           0.1372549019607843,
           0.12026143790849673,
           0.1084967320261438,
           0.10065359477124185,
           0.10065359477124182,
           0.07581699346405228,
           0.09803921568627451,
           0.1176470588235294,
           0.14640522875816994,
           0.21045751633986928,
           0.277124183006536,
           0.330718954248366,
           0.38431372549019605,
           0.477124183006536,
           0.5254901960784314,
           0.43529411764705883,
           0.31764705882352945,
           0.21437908496732025,
           0.1542483660130719,
           0.12287581699346406
          ],
          [
           0.29673202614379085,
           0.44575163398692813,
           0.5411764705882353,
           0.5947712418300654,
           0.554248366013072,
           0.46928104575163393,
           0.46535947712418296,
           0.4954248366013072,
           0.4562091503267974,
           0.35555555555555557,
           0.27320261437908494,
           0.22222222222222224,
           0.15816993464052287,
           0.10457516339869281,
           0.09411764705882353,
           0.09150326797385622,
           0.13594771241830064,
           0.10457516339869281,
           0.12026143790849673,
           0.12549019607843137,
           0.12679738562091503,
           0.16339869281045752,
           0.19999999999999998,
           0.24444444444444446,
           0.35294117647058826,
           0.530718954248366,
           0.6392156862745098,
           0.5477124183006535,
           0.3594771241830066,
           0.20261437908496735,
           0.13333333333333333,
           0.09542483660130718
          ],
          [
           0.3032679738562091,
           0.44052287581699345,
           0.5424836601307189,
           0.5803921568627451,
           0.5241830065359477,
           0.4143790849673203,
           0.3803921568627451,
           0.42091503267973857,
           0.45751633986928103,
           0.4366013071895425,
           0.3790849673202614,
           0.3176470588235294,
           0.2431372549019608,
           0.18562091503267975,
           0.15555555555555556,
           0.13202614379084968,
           0.1372549019607843,
           0.1450980392156863,
           0.14117647058823532,
           0.13071895424836602,
           0.1281045751633987,
           0.1712418300653595,
           0.20653594771241832,
           0.24836601307189543,
           0.35294117647058826,
           0.5294117647058824,
           0.6313725490196078,
           0.530718954248366,
           0.35555555555555557,
           0.203921568627451,
           0.13202614379084968,
           0.1019607843137255
          ],
          [
           0.27320261437908494,
           0.3934640522875817,
           0.5150326797385621,
           0.554248366013072,
           0.4836601307189543,
           0.3424836601307189,
           0.24836601307189543,
           0.26666666666666666,
           0.37254901960784315,
           0.461437908496732,
           0.4549019607843137,
           0.40915032679738567,
           0.36339869281045756,
           0.3176470588235294,
           0.2810457516339869,
           0.2431372549019608,
           0.19738562091503267,
           0.1699346405228758,
           0.15294117647058822,
           0.1450980392156863,
           0.1607843137254902,
           0.2261437908496732,
           0.28758169934640526,
           0.34771241830065364,
           0.45359477124183006,
           0.5777777777777778,
           0.6222222222222222,
           0.5176470588235295,
           0.35032679738562095,
           0.20784313725490197,
           0.13202614379084968,
           0.1019607843137255
          ],
          [
           0.2888888888888889,
           0.3986928104575163,
           0.5320261437908497,
           0.5660130718954249,
           0.4954248366013072,
           0.33856209150326794,
           0.18562091503267975,
           0.15816993464052287,
           0.2797385620915033,
           0.41568627450980394,
           0.43790849673202614,
           0.42875816993464055,
           0.4300653594771242,
           0.4235294117647059,
           0.3986928104575163,
           0.3738562091503268,
           0.330718954248366,
           0.2718954248366013,
           0.26405228758169935,
           0.2601307189542484,
           0.27843137254901956,
           0.34379084967320267,
           0.4104575163398693,
           0.4666666666666666,
           0.534640522875817,
           0.5986928104575163,
           0.5869281045751634,
           0.47189542483660124,
           0.3241830065359477,
           0.19999999999999998,
           0.13202614379084968,
           0.10457516339869281
          ],
          [
           0.29934640522875816,
           0.43006535947712415,
           0.5660130718954249,
           0.5816993464052288,
           0.5032679738562091,
           0.35816993464052294,
           0.1895424836601307,
           0.1215686274509804,
           0.19999999999999998,
           0.30588235294117644,
           0.3450980392156862,
           0.36470588235294116,
           0.4143790849673203,
           0.46928104575163393,
           0.4901960784313726,
           0.5176470588235293,
           0.5111111111111111,
           0.4758169934640523,
           0.49150326797385624,
           0.49150326797385624,
           0.4888888888888889,
           0.5215686274509803,
           0.5633986928104576,
           0.592156862745098,
           0.6078431372549019,
           0.5816993464052288,
           0.4980392156862745,
           0.39738562091503266,
           0.27843137254901956,
           0.18300653594771243,
           0.12418300653594772,
           0.1084967320261438
          ],
          [
           0.2797385620915032,
           0.4274509803921569,
           0.5725490196078432,
           0.5869281045751634,
           0.515032679738562,
           0.3856209150326797,
           0.22875816993464052,
           0.1450980392156863,
           0.1516339869281046,
           0.18823529411764706,
           0.22875816993464052,
           0.27843137254901956,
           0.3581699346405229,
           0.4392156862745098,
           0.4980392156862745,
           0.5516339869281045,
           0.5830065359477125,
           0.5751633986928105,
           0.615686274509804,
           0.6235294117647059,
           0.6130718954248366,
           0.6143790849673203,
           0.6248366013071895,
           0.6274509803921569,
           0.6052287581699346,
           0.5137254901960784,
           0.3856209150326797,
           0.2980392156862745,
           0.2169934640522876,
           0.15555555555555556,
           0.11633986928104574,
           0.11111111111111112
          ],
          [
           0.24444444444444446,
           0.39215686274509803,
           0.5333333333333333,
           0.5686274509803922,
           0.515032679738562,
           0.41568627450980394,
           0.2928104575163399,
           0.20653594771241832,
           0.1542483660130719,
           0.13333333333333333,
           0.15555555555555556,
           0.21437908496732025,
           0.2745098039215686,
           0.33202614379084966,
           0.3895424836601307,
           0.4313725490196078,
           0.4705882352941177,
           0.5215686274509804,
           0.5777777777777778,
           0.5973856209150327,
           0.5816993464052288,
           0.5607843137254901,
           0.5477124183006535,
           0.530718954248366,
           0.48496732026143796,
           0.39215686274509803,
           0.27320261437908494,
           0.19607843137254902,
           0.15294117647058825,
           0.12418300653594772,
           0.10588235294117647,
           0.11111111111111112
          ],
          [
           0.20784313725490197,
           0.3333333333333333,
           0.4431372549019608,
           0.49150326797385624,
           0.46928104575163393,
           0.407843137254902,
           0.3202614379084967,
           0.23790849673202616,
           0.16470588235294117,
           0.11111111111111112,
           0.10980392156862745,
           0.15294117647058825,
           0.17908496732026147,
           0.21045751633986928,
           0.27320261437908494,
           0.2980392156862745,
           0.34117647058823525,
           0.3934640522875817,
           0.45098039215686275,
           0.47973856209150334,
           0.4679738562091503,
           0.43790849673202614,
           0.4052287581699347,
           0.3869281045751634,
           0.33856209150326794,
           0.2718954248366013,
           0.19999999999999998,
           0.12549019607843137,
           0.10849673202614378,
           0.10326797385620916,
           0.09673202614379084,
           0.10980392156862745
          ],
          [
           0.16862745098039214,
           0.2405228758169935,
           0.32679738562091504,
           0.36339869281045756,
           0.3516339869281045,
           0.322875816993464,
           0.281045751633987,
           0.22091503267973858,
           0.15947712418300655,
           0.11372549019607843,
           0.10326797385620916,
           0.11111111111111112,
           0.11241830065359477,
           0.11895424836601308,
           0.1568627450980392,
           0.1843137254901961,
           0.19869281045751633,
           0.21960784313725493,
           0.25620915032679736,
           0.27320261437908494,
           0.2627450980392157,
           0.25620915032679736,
           0.24705882352941178,
           0.23137254901960783,
           0.20653594771241832,
           0.1843137254901961,
           0.15294117647058825,
           0.09673202614379084,
           0.08627450980392155,
           0.10326797385620916,
           0.11503267973856209,
           0.12679738562091503
          ],
          [
           0.13071895424836602,
           0.16732026143790849,
           0.2261437908496732,
           0.25359477124183005,
           0.2522875816993464,
           0.24052287581699347,
           0.2235294117647059,
           0.19477124183006533,
           0.15947712418300655,
           0.1372549019607843,
           0.1281045751633987,
           0.12679738562091503,
           0.11895424836601305,
           0.11503267973856209,
           0.12287581699346406,
           0.13856209150326795,
           0.13333333333333333,
           0.14901960784313725,
           0.1607843137254902,
           0.16209150326797386,
           0.1581699346405229,
           0.1607843137254902,
           0.15555555555555556,
           0.1411764705882353,
           0.12941176470588237,
           0.13071895424836602,
           0.12679738562091503,
           0.1019607843137255,
           0.09281045751633987,
           0.11372549019607843,
           0.13071895424836602,
           0.13986928104575164
          ],
          [
           0.1111111111111111,
           0.12679738562091503,
           0.1503267973856209,
           0.17516339869281047,
           0.19738562091503267,
           0.20784313725490197,
           0.21307189542483662,
           0.2130718954248366,
           0.20261437908496735,
           0.19215686274509802,
           0.20522875816993466,
           0.2196078431372549,
           0.22745098039215686,
           0.23398692810457514,
           0.23137254901960783,
           0.23137254901960783,
           0.22745098039215686,
           0.23267973856209148,
           0.22091503267973858,
           0.21045751633986928,
           0.20261437908496735,
           0.17908496732026144,
           0.1477124183006536,
           0.11895424836601308,
           0.1019607843137255,
           0.10065359477124185,
           0.10718954248366012,
           0.11633986928104574,
           0.11503267973856209,
           0.11633986928104574,
           0.1372549019607843,
           0.14117647058823532
          ],
          [
           0.11503267973856209,
           0.10980392156862745,
           0.1084967320261438,
           0.13986928104575164,
           0.18823529411764706,
           0.22091503267973855,
           0.24183006535947715,
           0.265359477124183,
           0.2875816993464052,
           0.30980392156862746,
           0.33856209150326794,
           0.3647058823529412,
           0.3934640522875817,
           0.41830065359477125,
           0.4222222222222222,
           0.41568627450980394,
           0.4222222222222222,
           0.4013071895424836,
           0.37516339869281046,
           0.3581699346405229,
           0.33856209150326794,
           0.28758169934640526,
           0.23006535947712417,
           0.18300653594771243,
           0.1542483660130719,
           0.12679738562091503,
           0.11111111111111112,
           0.12549019607843137,
           0.11503267973856209,
           0.1084967320261438,
           0.13333333333333333,
           0.1372549019607843
          ],
          [
           0.12287581699346406,
           0.11764705882352942,
           0.12810457516339868,
           0.18169934640522878,
           0.257516339869281,
           0.3032679738562092,
           0.3254901960784314,
           0.35555555555555557,
           0.4143790849673203,
           0.4758169934640522,
           0.4928104575163399,
           0.5124183006535948,
           0.538562091503268,
           0.5751633986928105,
           0.5816993464052288,
           0.5751633986928105,
           0.5934640522875817,
           0.562091503267974,
           0.5437908496732026,
           0.5359477124183006,
           0.515032679738562,
           0.46013071895424834,
           0.39477124183006534,
           0.34117647058823525,
           0.30196078431372547,
           0.23137254901960783,
           0.15947712418300652,
           0.134640522875817,
           0.1084967320261438,
           0.09934640522875816,
           0.10980392156862746,
           0.12156862745098039
          ],
          [
           0.1372549019607843,
           0.15555555555555556,
           0.20522875816993466,
           0.2928104575163399,
           0.38823529411764707,
           0.44313725490196076,
           0.4666666666666666,
           0.48496732026143796,
           0.5411764705882353,
           0.5986928104575163,
           0.5973856209150327,
           0.5973856209150327,
           0.6065359477124183,
           0.6209150326797386,
           0.6235294117647059,
           0.6235294117647059,
           0.6339869281045752,
           0.6261437908496732,
           0.6274509803921569,
           0.6405228758169934,
           0.6300653594771242,
           0.5895424836601307,
           0.54640522875817,
           0.5045751633986928,
           0.46274509803921565,
           0.3712418300653595,
           0.24705882352941178,
           0.1725490196078431,
           0.11503267973856209,
           0.09542483660130718,
           0.09019607843137255,
           0.10718954248366012
          ],
          [
           0.15163398692810456,
           0.203921568627451,
           0.3032679738562091,
           0.40915032679738567,
           0.5006535947712418,
           0.5542483660130718,
           0.5712418300653596,
           0.5712418300653596,
           0.5843137254901961,
           0.5908496732026144,
           0.5751633986928105,
           0.5594771241830067,
           0.5464052287581699,
           0.534640522875817,
           0.5228758169934641,
           0.5228758169934641,
           0.5215686274509804,
           0.534640522875817,
           0.5542483660130718,
           0.5790849673202615,
           0.5869281045751634,
           0.5856209150326798,
           0.5790849673202615,
           0.5647058823529413,
           0.5450980392156863,
           0.47450980392156866,
           0.3516339869281046,
           0.25098039215686274,
           0.15816993464052287,
           0.11111111111111112,
           0.08758169934640524,
           0.09934640522875816
          ],
          [
           0.17647058823529413,
           0.2522875816993464,
           0.37777777777777777,
           0.48496732026143796,
           0.5450980392156862,
           0.5843137254901961,
           0.5882352941176471,
           0.5660130718954248,
           0.5111111111111111,
           0.46013071895424834,
           0.44575163398692813,
           0.42875816993464055,
           0.40653594771241836,
           0.3790849673202614,
           0.3607843137254902,
           0.3568627450980392,
           0.34379084967320256,
           0.3516339869281046,
           0.38169934640522873,
           0.40392156862745093,
           0.4339869281045751,
           0.4758169934640522,
           0.5019607843137255,
           0.5137254901960784,
           0.530718954248366,
           0.518954248366013,
           0.44575163398692813,
           0.34771241830065364,
           0.23006535947712417,
           0.14117647058823532,
           0.10457516339869281,
           0.10457516339869281
          ],
          [
           0.24183006535947715,
           0.3241830065359477,
           0.43529411764705883,
           0.5006535947712418,
           0.5045751633986928,
           0.48104575163398694,
           0.44575163398692813,
           0.39215686274509803,
           0.31895424836601305,
           0.26666666666666666,
           0.26143790849673204,
           0.26143790849673204,
           0.2522875816993464,
           0.23529411764705885,
           0.2339869281045752,
           0.2339869281045752,
           0.21960784313725493,
           0.2169934640522876,
           0.2261437908496732,
           0.2431372549019608,
           0.27058823529411763,
           0.31764705882352945,
           0.35294117647058826,
           0.37516339869281046,
           0.40653594771241836,
           0.4679738562091503,
           0.5006535947712418,
           0.42091503267973857,
           0.2888888888888889,
           0.17908496732026147,
           0.12549019607843137,
           0.1084967320261438
          ],
          [
           0.2901960784313726,
           0.3908496732026144,
           0.4928104575163399,
           0.4823529411764706,
           0.3856209150326797,
           0.27581699346405225,
           0.19869281045751638,
           0.16470588235294117,
           0.1477124183006536,
           0.1372549019607843,
           0.1372549019607843,
           0.13333333333333333,
           0.13333333333333333,
           0.14248366013071898,
           0.1568627450980392,
           0.16470588235294117,
           0.1712418300653595,
           0.15163398692810456,
           0.14901960784313725,
           0.1568627450980392,
           0.15294117647058825,
           0.15947712418300655,
           0.1803921568627451,
           0.19477124183006533,
           0.23137254901960783,
           0.34117647058823525,
           0.4797385620915033,
           0.47712418300653586,
           0.3398692810457516,
           0.21830065359477124,
           0.15555555555555556,
           0.10326797385620916
          ],
          [
           0.3281045751633987,
           0.4104575163398693,
           0.4784313725490195,
           0.45098039215686275,
           0.34117647058823525,
           0.22875816993464052,
           0.1503267973856209,
           0.11372549019607843,
           0.12287581699346406,
           0.13594771241830064,
           0.12549019607843137,
           0.1176470588235294,
           0.11633986928104574,
           0.11633986928104574,
           0.12810457516339868,
           0.13986928104575164,
           0.14901960784313725,
           0.15555555555555556,
           0.14901960784313725,
           0.15163398692810456,
           0.14901960784313725,
           0.16470588235294117,
           0.17385620915032682,
           0.17385620915032682,
           0.203921568627451,
           0.33202614379084966,
           0.4836601307189543,
           0.4705882352941176,
           0.3372549019607843,
           0.22091503267973858,
           0.16732026143790849,
           0.11111111111111112
          ]
         ]
        },
        {
         "name": "MLP prob distribution",
         "type": "bar",
         "x": [
          0,
          1,
          2,
          3,
          4,
          5,
          6,
          7,
          8,
          9
         ],
         "xaxis": "x2",
         "y": [
          0.0012661265209317207,
          0.0001295719703193754,
          0.9697055816650391,
          0.0045048086903989315,
          0.00006831350765423849,
          0.000002400879566266667,
          0.000014982847460487392,
          0.024284163489937782,
          0.0000029262637326610275,
          0.00002104191116814036
         ],
         "yaxis": "y2"
        },
        {
         "name": "CNN prob distribution",
         "type": "bar",
         "x": [
          0,
          1,
          2,
          3,
          4,
          5,
          6,
          7,
          8,
          9
         ],
         "xaxis": "x3",
         "y": [
          2.2101193966090386e-27,
          1.8049320527186761e-22,
          1,
          1.0463290119226836e-23,
          6.911845947522932e-27,
          3.8837656064384214e-35,
          6.013268561484473e-37,
          4.166479260964407e-21,
          2.0338828918537583e-28,
          6.857910214719122e-24
         ],
         "yaxis": "y3"
        },
        {
         "colorscale": [
          [
           0,
           "rgb(0, 0, 0)"
          ],
          [
           0.09090909090909091,
           "rgb(16, 16, 16)"
          ],
          [
           0.18181818181818182,
           "rgb(38, 38, 38)"
          ],
          [
           0.2727272727272727,
           "rgb(59, 59, 59)"
          ],
          [
           0.36363636363636365,
           "rgb(81, 80, 80)"
          ],
          [
           0.45454545454545453,
           "rgb(102, 101, 101)"
          ],
          [
           0.5454545454545454,
           "rgb(124, 123, 122)"
          ],
          [
           0.6363636363636364,
           "rgb(146, 146, 145)"
          ],
          [
           0.7272727272727273,
           "rgb(171, 171, 170)"
          ],
          [
           0.8181818181818182,
           "rgb(197, 197, 195)"
          ],
          [
           0.9090909090909091,
           "rgb(224, 224, 223)"
          ],
          [
           1,
           "rgb(254, 254, 253)"
          ]
         ],
         "name": "Image",
         "showscale": false,
         "transpose": true,
         "type": "heatmap",
         "xaxis": "x",
         "yaxis": "y",
         "z": [
          [
           0.16470588235294117,
           0.16470588235294117,
           0.16470588235294117,
           0.16862745098039214,
           0.16862745098039214,
           0.16862745098039214,
           0.16732026143790849,
           0.16601307189542483,
           0.15294117647058822,
           0.13725490196078433,
           0.13856209150326798,
           0.13856209150326798,
           0.13725490196078433,
           0.13333333333333333,
           0.13333333333333333,
           0.13333333333333333,
           0.13202614379084968,
           0.13594771241830064,
           0.1372549019607843,
           0.14248366013071895,
           0.1542483660130719,
           0.15555555555555556,
           0.15294117647058825,
           0.1450980392156863,
           0.13856209150326798,
           0.14379084967320263,
           0.15294117647058825,
           0.15294117647058825,
           0.15294117647058825,
           0.1503267973856209,
           0.1503267973856209,
           0.14640522875816994
          ],
          [
           0.13594771241830064,
           0.134640522875817,
           0.134640522875817,
           0.134640522875817,
           0.13856209150326798,
           0.13725490196078433,
           0.134640522875817,
           0.13333333333333333,
           0.12549019607843137,
           0.11633986928104577,
           0.11633986928104577,
           0.11241830065359477,
           0.11111111111111112,
           0.10980392156862745,
           0.11241830065359477,
           0.11111111111111112,
           0.11372549019607843,
           0.11372549019607843,
           0.12418300653594772,
           0.12810457516339868,
           0.13202614379084968,
           0.13333333333333333,
           0.13071895424836602,
           0.12418300653594772,
           0.11633986928104574,
           0.12026143790849675,
           0.12941176470588237,
           0.1281045751633987,
           0.12418300653594772,
           0.12679738562091503,
           0.12679738562091503,
           0.12549019607843137
          ],
          [
           0.11372549019607843,
           0.11372549019607843,
           0.11633986928104574,
           0.1176470588235294,
           0.11895424836601308,
           0.11895424836601308,
           0.11895424836601308,
           0.11895424836601308,
           0.10980392156862745,
           0.1019607843137255,
           0.1019607843137255,
           0.10326797385620916,
           0.10980392156862745,
           0.11241830065359477,
           0.10980392156862745,
           0.11111111111111112,
           0.11241830065359477,
           0.12418300653594772,
           0.13071895424836602,
           0.13333333333333333,
           0.1372549019607843,
           0.1372549019607843,
           0.13202614379084968,
           0.12418300653594772,
           0.1176470588235294,
           0.11503267973856209,
           0.11895424836601308,
           0.12026143790849673,
           0.12026143790849673,
           0.12418300653594772,
           0.12418300653594772,
           0.12549019607843137
          ],
          [
           0.10980392156862745,
           0.11111111111111112,
           0.11503267973856209,
           0.11372549019607843,
           0.11372549019607843,
           0.11372549019607843,
           0.1176470588235294,
           0.11503267973856209,
           0.10980392156862745,
           0.10718954248366012,
           0.10718954248366012,
           0.10718954248366012,
           0.10980392156862745,
           0.11503267973856209,
           0.11633986928104574,
           0.11633986928104574,
           0.12026143790849673,
           0.11764705882352942,
           0.12026143790849675,
           0.12418300653594772,
           0.12941176470588237,
           0.13071895424836602,
           0.12679738562091503,
           0.1176470588235294,
           0.10980392156862745,
           0.11111111111111112,
           0.1215686274509804,
           0.12287581699346406,
           0.12679738562091503,
           0.12549019607843137,
           0.12810457516339868,
           0.12941176470588237
          ],
          [
           0.11241830065359477,
           0.11111111111111112,
           0.11111111111111112,
           0.11111111111111112,
           0.10718954248366014,
           0.10196078431372547,
           0.10457516339869281,
           0.11241830065359477,
           0.11241830065359477,
           0.10588235294117647,
           0.10718954248366012,
           0.1111111111111111,
           0.1111111111111111,
           0.11241830065359477,
           0.11241830065359477,
           0.11895424836601308,
           0.12026143790849675,
           0.11503267973856209,
           0.12679738562091505,
           0.12549019607843137,
           0.1215686274509804,
           0.12941176470588237,
           0.13202614379084968,
           0.1215686274509804,
           0.11503267973856209,
           0.1176470588235294,
           0.1215686274509804,
           0.12287581699346406,
           0.12549019607843137,
           0.13202614379084968,
           0.14117647058823532,
           0.14248366013071898
          ],
          [
           0.12418300653594772,
           0.12287581699346406,
           0.11895424836601308,
           0.11633986928104574,
           0.10588235294117647,
           0.09281045751633987,
           0.09281045751633987,
           0.10718954248366014,
           0.10980392156862745,
           0.10980392156862745,
           0.10980392156862745,
           0.11241830065359477,
           0.11372549019607843,
           0.1111111111111111,
           0.10849673202614378,
           0.1111111111111111,
           0.1111111111111111,
           0.11633986928104574,
           0.12810457516339868,
           0.12287581699346406,
           0.12026143790849673,
           0.12941176470588237,
           0.12941176470588237,
           0.1215686274509804,
           0.11895424836601308,
           0.12549019607843137,
           0.1215686274509804,
           0.11895424836601308,
           0.1176470588235294,
           0.12941176470588237,
           0.14379084967320263,
           0.1450980392156863
          ],
          [
           0.134640522875817,
           0.14248366013071898,
           0.14248366013071898,
           0.1372549019607843,
           0.11372549019607843,
           0.09803921568627451,
           0.09542483660130718,
           0.09542483660130718,
           0.10457516339869281,
           0.11241830065359477,
           0.1111111111111111,
           0.1084967320261438,
           0.10718954248366014,
           0.10718954248366012,
           0.10196078431372547,
           0.10326797385620916,
           0.1019607843137255,
           0.1176470588235294,
           0.1176470588235294,
           0.1215686274509804,
           0.12549019607843137,
           0.12941176470588237,
           0.12941176470588237,
           0.13333333333333333,
           0.1372549019607843,
           0.13333333333333333,
           0.11764705882352942,
           0.11241830065359477,
           0.10980392156862745,
           0.1176470588235294,
           0.13202614379084968,
           0.13986928104575166
          ],
          [
           0.1542483660130719,
           0.18039215686274512,
           0.2026143790849673,
           0.1934640522875817,
           0.16209150326797386,
           0.12810457516339868,
           0.10457516339869281,
           0.08104575163398693,
           0.09019607843137255,
           0.11241830065359477,
           0.10718954248366012,
           0.10588235294117647,
           0.10718954248366012,
           0.10588235294117647,
           0.10326797385620916,
           0.10457516339869281,
           0.10065359477124182,
           0.1215686274509804,
           0.11372549019607843,
           0.12941176470588237,
           0.1450980392156863,
           0.1477124183006536,
           0.16209150326797386,
           0.18300653594771243,
           0.19607843137254902,
           0.1699346405228758,
           0.12287581699346406,
           0.11503267973856209,
           0.1019607843137255,
           0.10326797385620916,
           0.11372549019607843,
           0.12549019607843137
          ],
          [
           0.17516339869281047,
           0.23006535947712417,
           0.2862745098039216,
           0.2888888888888889,
           0.25098039215686274,
           0.19607843137254902,
           0.14117647058823532,
           0.09150326797385622,
           0.08627450980392155,
           0.10588235294117647,
           0.10326797385620916,
           0.10718954248366012,
           0.10980392156862746,
           0.10718954248366012,
           0.11111111111111112,
           0.11111111111111112,
           0.11372549019607843,
           0.1372549019607843,
           0.13333333333333333,
           0.15294117647058822,
           0.1869281045751634,
           0.2013071895424837,
           0.23137254901960783,
           0.27320261437908494,
           0.3019607843137255,
           0.2522875816993464,
           0.1607843137254902,
           0.14248366013071895,
           0.10980392156862745,
           0.09542483660130718,
           0.09934640522875816,
           0.10980392156862745
          ],
          [
           0.21437908496732028,
           0.29673202614379085,
           0.38169934640522873,
           0.4026143790849674,
           0.3607843137254902,
           0.29411764705882354,
           0.21045751633986928,
           0.13202614379084968,
           0.1019607843137255,
           0.10588235294117647,
           0.10718954248366012,
           0.11111111111111112,
           0.11111111111111112,
           0.11503267973856209,
           0.11895424836601308,
           0.1176470588235294,
           0.12287581699346406,
           0.15555555555555559,
           0.15686274509803924,
           0.18169934640522875,
           0.22745098039215686,
           0.26666666666666666,
           0.3137254901960784,
           0.3738562091503268,
           0.41568627450980394,
           0.3568627450980392,
           0.23398692810457514,
           0.19999999999999998,
           0.14901960784313728,
           0.10980392156862745,
           0.09803921568627451,
           0.10065359477124185
          ],
          [
           0.281045751633987,
           0.38692810457516336,
           0.4875816993464052,
           0.5124183006535947,
           0.4679738562091504,
           0.388235294117647,
           0.28235294117647064,
           0.1843137254901961,
           0.13202614379084968,
           0.12287581699346406,
           0.12549019607843137,
           0.12418300653594772,
           0.12287581699346406,
           0.12026143790849673,
           0.11895424836601308,
           0.11895424836601308,
           0.1176470588235294,
           0.14640522875816994,
           0.15947712418300655,
           0.18169934640522875,
           0.22745098039215686,
           0.2888888888888889,
           0.35294117647058826,
           0.41307189542483663,
           0.4640522875816994,
           0.4339869281045752,
           0.3372549019607843,
           0.28366013071895424,
           0.20784313725490197,
           0.14640522875816994,
           0.11503267973856209,
           0.1019607843137255
          ],
          [
           0.3254901960784314,
           0.4470588235294118,
           0.5594771241830067,
           0.5882352941176471,
           0.5490196078431372,
           0.46928104575163393,
           0.3607843137254902,
           0.2627450980392157,
           0.1843137254901961,
           0.1450980392156863,
           0.1450980392156863,
           0.13856209150326795,
           0.13071895424836602,
           0.12549019607843137,
           0.11503267973856209,
           0.1084967320261438,
           0.1019607843137255,
           0.10588235294117647,
           0.12941176470588237,
           0.1503267973856209,
           0.1895424836601307,
           0.257516339869281,
           0.330718954248366,
           0.38954248366013067,
           0.4366013071895425,
           0.46013071895424834,
           0.44183006535947716,
           0.3660130718954248,
           0.27058823529411763,
           0.19215686274509802,
           0.13986928104575164,
           0.12026143790849673
          ],
          [
           0.3032679738562091,
           0.4352941176470588,
           0.5594771241830067,
           0.6078431372549019,
           0.5816993464052288,
           0.5228758169934641,
           0.45359477124183006,
           0.3908496732026144,
           0.2836601307189543,
           0.1869281045751634,
           0.17647058823529413,
           0.1607843137254902,
           0.1372549019607843,
           0.12026143790849673,
           0.1084967320261438,
           0.10065359477124185,
           0.10065359477124182,
           0.07581699346405228,
           0.09803921568627451,
           0.1176470588235294,
           0.14640522875816994,
           0.21045751633986928,
           0.277124183006536,
           0.330718954248366,
           0.38431372549019605,
           0.477124183006536,
           0.5254901960784314,
           0.43529411764705883,
           0.31764705882352945,
           0.21437908496732025,
           0.1542483660130719,
           0.12287581699346406
          ],
          [
           0.29673202614379085,
           0.44575163398692813,
           0.5411764705882353,
           0.5947712418300654,
           0.554248366013072,
           0.46928104575163393,
           0.46535947712418296,
           0.4954248366013072,
           0.4562091503267974,
           0.35555555555555557,
           0.27320261437908494,
           0.22222222222222224,
           0.15816993464052287,
           0.10457516339869281,
           0.09411764705882353,
           0.09150326797385622,
           0.13594771241830064,
           0.10457516339869281,
           0.12026143790849673,
           0.12549019607843137,
           0.12679738562091503,
           0.16339869281045752,
           0.19999999999999998,
           0.24444444444444446,
           0.35294117647058826,
           0.530718954248366,
           0.6392156862745098,
           0.5477124183006535,
           0.3594771241830066,
           0.20261437908496735,
           0.13333333333333333,
           0.09542483660130718
          ],
          [
           0.3032679738562091,
           0.44052287581699345,
           0.5424836601307189,
           0.5803921568627451,
           0.5241830065359477,
           0.4143790849673203,
           0.3803921568627451,
           0.42091503267973857,
           0.45751633986928103,
           0.4366013071895425,
           0.3790849673202614,
           0.3176470588235294,
           0.2431372549019608,
           0.18562091503267975,
           0.15555555555555556,
           0.13202614379084968,
           0.1372549019607843,
           0.1450980392156863,
           0.14117647058823532,
           0.13071895424836602,
           0.1281045751633987,
           0.1712418300653595,
           0.20653594771241832,
           0.24836601307189543,
           0.35294117647058826,
           0.5294117647058824,
           0.6313725490196078,
           0.530718954248366,
           0.35555555555555557,
           0.203921568627451,
           0.13202614379084968,
           0.1019607843137255
          ],
          [
           0.27320261437908494,
           0.3934640522875817,
           0.5150326797385621,
           0.554248366013072,
           0.4836601307189543,
           0.3424836601307189,
           0.24836601307189543,
           0.26666666666666666,
           0.37254901960784315,
           0.461437908496732,
           0.4549019607843137,
           0.40915032679738567,
           0.36339869281045756,
           0.3176470588235294,
           0.2810457516339869,
           0.2431372549019608,
           0.19738562091503267,
           0.1699346405228758,
           0.15294117647058822,
           0.1450980392156863,
           0.1607843137254902,
           0.2261437908496732,
           0.28758169934640526,
           0.34771241830065364,
           0.45359477124183006,
           0.5777777777777778,
           0.6222222222222222,
           0.5176470588235295,
           0.35032679738562095,
           0.20784313725490197,
           0.13202614379084968,
           0.1019607843137255
          ],
          [
           0.2888888888888889,
           0.3986928104575163,
           0.5320261437908497,
           0.5660130718954249,
           0.4954248366013072,
           0.33856209150326794,
           0.18562091503267975,
           0.15816993464052287,
           0.2797385620915033,
           0.41568627450980394,
           0.43790849673202614,
           0.42875816993464055,
           0.4300653594771242,
           0.4235294117647059,
           0.3986928104575163,
           0.3738562091503268,
           0.330718954248366,
           0.2718954248366013,
           0.26405228758169935,
           0.2601307189542484,
           0.27843137254901956,
           0.34379084967320267,
           0.4104575163398693,
           0.4666666666666666,
           0.534640522875817,
           0.5986928104575163,
           0.5869281045751634,
           0.47189542483660124,
           0.3241830065359477,
           0.19999999999999998,
           0.13202614379084968,
           0.10457516339869281
          ],
          [
           0.29934640522875816,
           0.43006535947712415,
           0.5660130718954249,
           0.5816993464052288,
           0.5032679738562091,
           0.35816993464052294,
           0.1895424836601307,
           0.1215686274509804,
           0.19999999999999998,
           0.30588235294117644,
           0.3450980392156862,
           0.36470588235294116,
           0.4143790849673203,
           0.46928104575163393,
           0.4901960784313726,
           0.5176470588235293,
           0.5111111111111111,
           0.4758169934640523,
           0.49150326797385624,
           0.49150326797385624,
           0.4888888888888889,
           0.5215686274509803,
           0.5633986928104576,
           0.592156862745098,
           0.6078431372549019,
           0.5816993464052288,
           0.4980392156862745,
           0.39738562091503266,
           0.27843137254901956,
           0.18300653594771243,
           0.12418300653594772,
           0.1084967320261438
          ],
          [
           0.2797385620915032,
           0.4274509803921569,
           0.5725490196078432,
           0.5869281045751634,
           0.515032679738562,
           0.3856209150326797,
           0.22875816993464052,
           0.1450980392156863,
           0.1516339869281046,
           0.18823529411764706,
           0.22875816993464052,
           0.27843137254901956,
           0.3581699346405229,
           0.4392156862745098,
           0.4980392156862745,
           0.5516339869281045,
           0.5830065359477125,
           0.5751633986928105,
           0.615686274509804,
           0.6235294117647059,
           0.6130718954248366,
           0.6143790849673203,
           0.6248366013071895,
           0.6274509803921569,
           0.6052287581699346,
           0.5137254901960784,
           0.3856209150326797,
           0.2980392156862745,
           0.2169934640522876,
           0.15555555555555556,
           0.11633986928104574,
           0.11111111111111112
          ],
          [
           0.24444444444444446,
           0.39215686274509803,
           0.5333333333333333,
           0.5686274509803922,
           0.515032679738562,
           0.41568627450980394,
           0.2928104575163399,
           0.20653594771241832,
           0.1542483660130719,
           0.13333333333333333,
           0.15555555555555556,
           0.21437908496732025,
           0.2745098039215686,
           0.33202614379084966,
           0.3895424836601307,
           0.4313725490196078,
           0.4705882352941177,
           0.5215686274509804,
           0.5777777777777778,
           0.5973856209150327,
           0.5816993464052288,
           0.5607843137254901,
           0.5477124183006535,
           0.530718954248366,
           0.48496732026143796,
           0.39215686274509803,
           0.27320261437908494,
           0.19607843137254902,
           0.15294117647058825,
           0.12418300653594772,
           0.10588235294117647,
           0.11111111111111112
          ],
          [
           0.20784313725490197,
           0.3333333333333333,
           0.4431372549019608,
           0.49150326797385624,
           0.46928104575163393,
           0.407843137254902,
           0.3202614379084967,
           0.23790849673202616,
           0.16470588235294117,
           0.11111111111111112,
           0.10980392156862745,
           0.15294117647058825,
           0.17908496732026147,
           0.21045751633986928,
           0.27320261437908494,
           0.2980392156862745,
           0.34117647058823525,
           0.3934640522875817,
           0.45098039215686275,
           0.47973856209150334,
           0.4679738562091503,
           0.43790849673202614,
           0.4052287581699347,
           0.3869281045751634,
           0.33856209150326794,
           0.2718954248366013,
           0.19999999999999998,
           0.12549019607843137,
           0.10849673202614378,
           0.10326797385620916,
           0.09673202614379084,
           0.10980392156862745
          ],
          [
           0.16862745098039214,
           0.2405228758169935,
           0.32679738562091504,
           0.36339869281045756,
           0.3516339869281045,
           0.322875816993464,
           0.281045751633987,
           0.22091503267973858,
           0.15947712418300655,
           0.11372549019607843,
           0.10326797385620916,
           0.11111111111111112,
           0.11241830065359477,
           0.11895424836601308,
           0.1568627450980392,
           0.1843137254901961,
           0.19869281045751633,
           0.21960784313725493,
           0.25620915032679736,
           0.27320261437908494,
           0.2627450980392157,
           0.25620915032679736,
           0.24705882352941178,
           0.23137254901960783,
           0.20653594771241832,
           0.1843137254901961,
           0.15294117647058825,
           0.09673202614379084,
           0.08627450980392155,
           0.10326797385620916,
           0.11503267973856209,
           0.12679738562091503
          ],
          [
           0.13071895424836602,
           0.16732026143790849,
           0.2261437908496732,
           0.25359477124183005,
           0.2522875816993464,
           0.24052287581699347,
           0.2235294117647059,
           0.19477124183006533,
           0.15947712418300655,
           0.1372549019607843,
           0.1281045751633987,
           0.12679738562091503,
           0.11895424836601305,
           0.11503267973856209,
           0.12287581699346406,
           0.13856209150326795,
           0.13333333333333333,
           0.14901960784313725,
           0.1607843137254902,
           0.16209150326797386,
           0.1581699346405229,
           0.1607843137254902,
           0.15555555555555556,
           0.1411764705882353,
           0.12941176470588237,
           0.13071895424836602,
           0.12679738562091503,
           0.1019607843137255,
           0.09281045751633987,
           0.11372549019607843,
           0.13071895424836602,
           0.13986928104575164
          ],
          [
           0.1111111111111111,
           0.12679738562091503,
           0.1503267973856209,
           0.17516339869281047,
           0.19738562091503267,
           0.20784313725490197,
           0.21307189542483662,
           0.2130718954248366,
           0.20261437908496735,
           0.19215686274509802,
           0.20522875816993466,
           0.2196078431372549,
           0.22745098039215686,
           0.23398692810457514,
           0.23137254901960783,
           0.23137254901960783,
           0.22745098039215686,
           0.23267973856209148,
           0.22091503267973858,
           0.21045751633986928,
           0.20261437908496735,
           0.17908496732026144,
           0.1477124183006536,
           0.11895424836601308,
           0.1019607843137255,
           0.10065359477124185,
           0.10718954248366012,
           0.11633986928104574,
           0.11503267973856209,
           0.11633986928104574,
           0.1372549019607843,
           0.14117647058823532
          ],
          [
           0.11503267973856209,
           0.10980392156862745,
           0.1084967320261438,
           0.13986928104575164,
           0.18823529411764706,
           0.22091503267973855,
           0.24183006535947715,
           0.265359477124183,
           0.2875816993464052,
           0.30980392156862746,
           0.33856209150326794,
           0.3647058823529412,
           0.3934640522875817,
           0.41830065359477125,
           0.4222222222222222,
           0.41568627450980394,
           0.4222222222222222,
           0.4013071895424836,
           0.37516339869281046,
           0.3581699346405229,
           0.33856209150326794,
           0.28758169934640526,
           0.23006535947712417,
           0.18300653594771243,
           0.1542483660130719,
           0.12679738562091503,
           0.11111111111111112,
           0.12549019607843137,
           0.11503267973856209,
           0.1084967320261438,
           0.13333333333333333,
           0.1372549019607843
          ],
          [
           0.12287581699346406,
           0.11764705882352942,
           0.12810457516339868,
           0.18169934640522878,
           0.257516339869281,
           0.3032679738562092,
           0.3254901960784314,
           0.35555555555555557,
           0.4143790849673203,
           0.4758169934640522,
           0.4928104575163399,
           0.5124183006535948,
           0.538562091503268,
           0.5751633986928105,
           0.5816993464052288,
           0.5751633986928105,
           0.5934640522875817,
           0.562091503267974,
           0.5437908496732026,
           0.5359477124183006,
           0.515032679738562,
           0.46013071895424834,
           0.39477124183006534,
           0.34117647058823525,
           0.30196078431372547,
           0.23137254901960783,
           0.15947712418300652,
           0.134640522875817,
           0.1084967320261438,
           0.09934640522875816,
           0.10980392156862746,
           0.12156862745098039
          ],
          [
           0.1372549019607843,
           0.15555555555555556,
           0.20522875816993466,
           0.2928104575163399,
           0.38823529411764707,
           0.44313725490196076,
           0.4666666666666666,
           0.48496732026143796,
           0.5411764705882353,
           0.5986928104575163,
           0.5973856209150327,
           0.5973856209150327,
           0.6065359477124183,
           0.6209150326797386,
           0.6235294117647059,
           0.6235294117647059,
           0.6339869281045752,
           0.6261437908496732,
           0.6274509803921569,
           0.6405228758169934,
           0.6300653594771242,
           0.5895424836601307,
           0.54640522875817,
           0.5045751633986928,
           0.46274509803921565,
           0.3712418300653595,
           0.24705882352941178,
           0.1725490196078431,
           0.11503267973856209,
           0.09542483660130718,
           0.09019607843137255,
           0.10718954248366012
          ],
          [
           0.15163398692810456,
           0.203921568627451,
           0.3032679738562091,
           0.40915032679738567,
           0.5006535947712418,
           0.5542483660130718,
           0.5712418300653596,
           0.5712418300653596,
           0.5843137254901961,
           0.5908496732026144,
           0.5751633986928105,
           0.5594771241830067,
           0.5464052287581699,
           0.534640522875817,
           0.5228758169934641,
           0.5228758169934641,
           0.5215686274509804,
           0.534640522875817,
           0.5542483660130718,
           0.5790849673202615,
           0.5869281045751634,
           0.5856209150326798,
           0.5790849673202615,
           0.5647058823529413,
           0.5450980392156863,
           0.47450980392156866,
           0.3516339869281046,
           0.25098039215686274,
           0.15816993464052287,
           0.11111111111111112,
           0.08758169934640524,
           0.09934640522875816
          ],
          [
           0.17647058823529413,
           0.2522875816993464,
           0.37777777777777777,
           0.48496732026143796,
           0.5450980392156862,
           0.5843137254901961,
           0.5882352941176471,
           0.5660130718954248,
           0.5111111111111111,
           0.46013071895424834,
           0.44575163398692813,
           0.42875816993464055,
           0.40653594771241836,
           0.3790849673202614,
           0.3607843137254902,
           0.3568627450980392,
           0.34379084967320256,
           0.3516339869281046,
           0.38169934640522873,
           0.40392156862745093,
           0.4339869281045751,
           0.4758169934640522,
           0.5019607843137255,
           0.5137254901960784,
           0.530718954248366,
           0.518954248366013,
           0.44575163398692813,
           0.34771241830065364,
           0.23006535947712417,
           0.14117647058823532,
           0.10457516339869281,
           0.10457516339869281
          ],
          [
           0.24183006535947715,
           0.3241830065359477,
           0.43529411764705883,
           0.5006535947712418,
           0.5045751633986928,
           0.48104575163398694,
           0.44575163398692813,
           0.39215686274509803,
           0.31895424836601305,
           0.26666666666666666,
           0.26143790849673204,
           0.26143790849673204,
           0.2522875816993464,
           0.23529411764705885,
           0.2339869281045752,
           0.2339869281045752,
           0.21960784313725493,
           0.2169934640522876,
           0.2261437908496732,
           0.2431372549019608,
           0.27058823529411763,
           0.31764705882352945,
           0.35294117647058826,
           0.37516339869281046,
           0.40653594771241836,
           0.4679738562091503,
           0.5006535947712418,
           0.42091503267973857,
           0.2888888888888889,
           0.17908496732026147,
           0.12549019607843137,
           0.1084967320261438
          ],
          [
           0.2901960784313726,
           0.3908496732026144,
           0.4928104575163399,
           0.4823529411764706,
           0.3856209150326797,
           0.27581699346405225,
           0.19869281045751638,
           0.16470588235294117,
           0.1477124183006536,
           0.1372549019607843,
           0.1372549019607843,
           0.13333333333333333,
           0.13333333333333333,
           0.14248366013071898,
           0.1568627450980392,
           0.16470588235294117,
           0.1712418300653595,
           0.15163398692810456,
           0.14901960784313725,
           0.1568627450980392,
           0.15294117647058825,
           0.15947712418300655,
           0.1803921568627451,
           0.19477124183006533,
           0.23137254901960783,
           0.34117647058823525,
           0.4797385620915033,
           0.47712418300653586,
           0.3398692810457516,
           0.21830065359477124,
           0.15555555555555556,
           0.10326797385620916
          ],
          [
           0.3281045751633987,
           0.4104575163398693,
           0.4784313725490195,
           0.45098039215686275,
           0.34117647058823525,
           0.22875816993464052,
           0.1503267973856209,
           0.11372549019607843,
           0.12287581699346406,
           0.13594771241830064,
           0.12549019607843137,
           0.1176470588235294,
           0.11633986928104574,
           0.11633986928104574,
           0.12810457516339868,
           0.13986928104575164,
           0.14901960784313725,
           0.15555555555555556,
           0.14901960784313725,
           0.15163398692810456,
           0.14901960784313725,
           0.16470588235294117,
           0.17385620915032682,
           0.17385620915032682,
           0.203921568627451,
           0.33202614379084966,
           0.4836601307189543,
           0.4705882352941176,
           0.3372549019607843,
           0.22091503267973858,
           0.16732026143790849,
           0.11111111111111112
          ]
         ]
        }
       ],
       "layout": {
        "template": {
         "data": {
          "bar": [
           {
            "error_x": {
             "color": "#f2f5fa"
            },
            "error_y": {
             "color": "#f2f5fa"
            },
            "marker": {
             "line": {
              "color": "rgb(17,17,17)",
              "width": 0.5
             },
             "pattern": {
              "fillmode": "overlay",
              "size": 10,
              "solidity": 0.2
             }
            },
            "type": "bar"
           }
          ],
          "barpolar": [
           {
            "marker": {
             "line": {
              "color": "rgb(17,17,17)",
              "width": 0.5
             },
             "pattern": {
              "fillmode": "overlay",
              "size": 10,
              "solidity": 0.2
             }
            },
            "type": "barpolar"
           }
          ],
          "carpet": [
           {
            "aaxis": {
             "endlinecolor": "#A2B1C6",
             "gridcolor": "#506784",
             "linecolor": "#506784",
             "minorgridcolor": "#506784",
             "startlinecolor": "#A2B1C6"
            },
            "baxis": {
             "endlinecolor": "#A2B1C6",
             "gridcolor": "#506784",
             "linecolor": "#506784",
             "minorgridcolor": "#506784",
             "startlinecolor": "#A2B1C6"
            },
            "type": "carpet"
           }
          ],
          "choropleth": [
           {
            "colorbar": {
             "outlinewidth": 0,
             "ticks": ""
            },
            "type": "choropleth"
           }
          ],
          "contour": [
           {
            "colorbar": {
             "outlinewidth": 0,
             "ticks": ""
            },
            "colorscale": [
             [
              0,
              "#0d0887"
             ],
             [
              0.1111111111111111,
              "#46039f"
             ],
             [
              0.2222222222222222,
              "#7201a8"
             ],
             [
              0.3333333333333333,
              "#9c179e"
             ],
             [
              0.4444444444444444,
              "#bd3786"
             ],
             [
              0.5555555555555556,
              "#d8576b"
             ],
             [
              0.6666666666666666,
              "#ed7953"
             ],
             [
              0.7777777777777778,
              "#fb9f3a"
             ],
             [
              0.8888888888888888,
              "#fdca26"
             ],
             [
              1,
              "#f0f921"
             ]
            ],
            "type": "contour"
           }
          ],
          "contourcarpet": [
           {
            "colorbar": {
             "outlinewidth": 0,
             "ticks": ""
            },
            "type": "contourcarpet"
           }
          ],
          "heatmap": [
           {
            "colorbar": {
             "outlinewidth": 0,
             "ticks": ""
            },
            "colorscale": [
             [
              0,
              "#0d0887"
             ],
             [
              0.1111111111111111,
              "#46039f"
             ],
             [
              0.2222222222222222,
              "#7201a8"
             ],
             [
              0.3333333333333333,
              "#9c179e"
             ],
             [
              0.4444444444444444,
              "#bd3786"
             ],
             [
              0.5555555555555556,
              "#d8576b"
             ],
             [
              0.6666666666666666,
              "#ed7953"
             ],
             [
              0.7777777777777778,
              "#fb9f3a"
             ],
             [
              0.8888888888888888,
              "#fdca26"
             ],
             [
              1,
              "#f0f921"
             ]
            ],
            "type": "heatmap"
           }
          ],
          "heatmapgl": [
           {
            "colorbar": {
             "outlinewidth": 0,
             "ticks": ""
            },
            "colorscale": [
             [
              0,
              "#0d0887"
             ],
             [
              0.1111111111111111,
              "#46039f"
             ],
             [
              0.2222222222222222,
              "#7201a8"
             ],
             [
              0.3333333333333333,
              "#9c179e"
             ],
             [
              0.4444444444444444,
              "#bd3786"
             ],
             [
              0.5555555555555556,
              "#d8576b"
             ],
             [
              0.6666666666666666,
              "#ed7953"
             ],
             [
              0.7777777777777778,
              "#fb9f3a"
             ],
             [
              0.8888888888888888,
              "#fdca26"
             ],
             [
              1,
              "#f0f921"
             ]
            ],
            "type": "heatmapgl"
           }
          ],
          "histogram": [
           {
            "marker": {
             "pattern": {
              "fillmode": "overlay",
              "size": 10,
              "solidity": 0.2
             }
            },
            "type": "histogram"
           }
          ],
          "histogram2d": [
           {
            "colorbar": {
             "outlinewidth": 0,
             "ticks": ""
            },
            "colorscale": [
             [
              0,
              "#0d0887"
             ],
             [
              0.1111111111111111,
              "#46039f"
             ],
             [
              0.2222222222222222,
              "#7201a8"
             ],
             [
              0.3333333333333333,
              "#9c179e"
             ],
             [
              0.4444444444444444,
              "#bd3786"
             ],
             [
              0.5555555555555556,
              "#d8576b"
             ],
             [
              0.6666666666666666,
              "#ed7953"
             ],
             [
              0.7777777777777778,
              "#fb9f3a"
             ],
             [
              0.8888888888888888,
              "#fdca26"
             ],
             [
              1,
              "#f0f921"
             ]
            ],
            "type": "histogram2d"
           }
          ],
          "histogram2dcontour": [
           {
            "colorbar": {
             "outlinewidth": 0,
             "ticks": ""
            },
            "colorscale": [
             [
              0,
              "#0d0887"
             ],
             [
              0.1111111111111111,
              "#46039f"
             ],
             [
              0.2222222222222222,
              "#7201a8"
             ],
             [
              0.3333333333333333,
              "#9c179e"
             ],
             [
              0.4444444444444444,
              "#bd3786"
             ],
             [
              0.5555555555555556,
              "#d8576b"
             ],
             [
              0.6666666666666666,
              "#ed7953"
             ],
             [
              0.7777777777777778,
              "#fb9f3a"
             ],
             [
              0.8888888888888888,
              "#fdca26"
             ],
             [
              1,
              "#f0f921"
             ]
            ],
            "type": "histogram2dcontour"
           }
          ],
          "mesh3d": [
           {
            "colorbar": {
             "outlinewidth": 0,
             "ticks": ""
            },
            "type": "mesh3d"
           }
          ],
          "parcoords": [
           {
            "line": {
             "colorbar": {
              "outlinewidth": 0,
              "ticks": ""
             }
            },
            "type": "parcoords"
           }
          ],
          "pie": [
           {
            "automargin": true,
            "type": "pie"
           }
          ],
          "scatter": [
           {
            "marker": {
             "line": {
              "color": "#283442"
             }
            },
            "type": "scatter"
           }
          ],
          "scatter3d": [
           {
            "line": {
             "colorbar": {
              "outlinewidth": 0,
              "ticks": ""
             }
            },
            "marker": {
             "colorbar": {
              "outlinewidth": 0,
              "ticks": ""
             }
            },
            "type": "scatter3d"
           }
          ],
          "scattercarpet": [
           {
            "marker": {
             "colorbar": {
              "outlinewidth": 0,
              "ticks": ""
             }
            },
            "type": "scattercarpet"
           }
          ],
          "scattergeo": [
           {
            "marker": {
             "colorbar": {
              "outlinewidth": 0,
              "ticks": ""
             }
            },
            "type": "scattergeo"
           }
          ],
          "scattergl": [
           {
            "marker": {
             "line": {
              "color": "#283442"
             }
            },
            "type": "scattergl"
           }
          ],
          "scattermapbox": [
           {
            "marker": {
             "colorbar": {
              "outlinewidth": 0,
              "ticks": ""
             }
            },
            "type": "scattermapbox"
           }
          ],
          "scatterpolar": [
           {
            "marker": {
             "colorbar": {
              "outlinewidth": 0,
              "ticks": ""
             }
            },
            "type": "scatterpolar"
           }
          ],
          "scatterpolargl": [
           {
            "marker": {
             "colorbar": {
              "outlinewidth": 0,
              "ticks": ""
             }
            },
            "type": "scatterpolargl"
           }
          ],
          "scatterternary": [
           {
            "marker": {
             "colorbar": {
              "outlinewidth": 0,
              "ticks": ""
             }
            },
            "type": "scatterternary"
           }
          ],
          "surface": [
           {
            "colorbar": {
             "outlinewidth": 0,
             "ticks": ""
            },
            "colorscale": [
             [
              0,
              "#0d0887"
             ],
             [
              0.1111111111111111,
              "#46039f"
             ],
             [
              0.2222222222222222,
              "#7201a8"
             ],
             [
              0.3333333333333333,
              "#9c179e"
             ],
             [
              0.4444444444444444,
              "#bd3786"
             ],
             [
              0.5555555555555556,
              "#d8576b"
             ],
             [
              0.6666666666666666,
              "#ed7953"
             ],
             [
              0.7777777777777778,
              "#fb9f3a"
             ],
             [
              0.8888888888888888,
              "#fdca26"
             ],
             [
              1,
              "#f0f921"
             ]
            ],
            "type": "surface"
           }
          ],
          "table": [
           {
            "cells": {
             "fill": {
              "color": "#506784"
             },
             "line": {
              "color": "rgb(17,17,17)"
             }
            },
            "header": {
             "fill": {
              "color": "#2a3f5f"
             },
             "line": {
              "color": "rgb(17,17,17)"
             }
            },
            "type": "table"
           }
          ]
         },
         "layout": {
          "annotationdefaults": {
           "arrowcolor": "#f2f5fa",
           "arrowhead": 0,
           "arrowwidth": 1
          },
          "autotypenumbers": "strict",
          "coloraxis": {
           "colorbar": {
            "outlinewidth": 0,
            "ticks": ""
           }
          },
          "colorscale": {
           "diverging": [
            [
             0,
             "#8e0152"
            ],
            [
             0.1,
             "#c51b7d"
            ],
            [
             0.2,
             "#de77ae"
            ],
            [
             0.3,
             "#f1b6da"
            ],
            [
             0.4,
             "#fde0ef"
            ],
            [
             0.5,
             "#f7f7f7"
            ],
            [
             0.6,
             "#e6f5d0"
            ],
            [
             0.7,
             "#b8e186"
            ],
            [
             0.8,
             "#7fbc41"
            ],
            [
             0.9,
             "#4d9221"
            ],
            [
             1,
             "#276419"
            ]
           ],
           "sequential": [
            [
             0,
             "#0d0887"
            ],
            [
             0.1111111111111111,
             "#46039f"
            ],
            [
             0.2222222222222222,
             "#7201a8"
            ],
            [
             0.3333333333333333,
             "#9c179e"
            ],
            [
             0.4444444444444444,
             "#bd3786"
            ],
            [
             0.5555555555555556,
             "#d8576b"
            ],
            [
             0.6666666666666666,
             "#ed7953"
            ],
            [
             0.7777777777777778,
             "#fb9f3a"
            ],
            [
             0.8888888888888888,
             "#fdca26"
            ],
            [
             1,
             "#f0f921"
            ]
           ],
           "sequentialminus": [
            [
             0,
             "#0d0887"
            ],
            [
             0.1111111111111111,
             "#46039f"
            ],
            [
             0.2222222222222222,
             "#7201a8"
            ],
            [
             0.3333333333333333,
             "#9c179e"
            ],
            [
             0.4444444444444444,
             "#bd3786"
            ],
            [
             0.5555555555555556,
             "#d8576b"
            ],
            [
             0.6666666666666666,
             "#ed7953"
            ],
            [
             0.7777777777777778,
             "#fb9f3a"
            ],
            [
             0.8888888888888888,
             "#fdca26"
            ],
            [
             1,
             "#f0f921"
            ]
           ]
          },
          "colorway": [
           "#636efa",
           "#EF553B",
           "#00cc96",
           "#ab63fa",
           "#FFA15A",
           "#19d3f3",
           "#FF6692",
           "#B6E880",
           "#FF97FF",
           "#FECB52"
          ],
          "font": {
           "color": "#f2f5fa"
          },
          "geo": {
           "bgcolor": "rgb(17,17,17)",
           "lakecolor": "rgb(17,17,17)",
           "landcolor": "rgb(17,17,17)",
           "showlakes": true,
           "showland": true,
           "subunitcolor": "#506784"
          },
          "hoverlabel": {
           "align": "left"
          },
          "hovermode": "closest",
          "mapbox": {
           "style": "dark"
          },
          "paper_bgcolor": "rgb(17,17,17)",
          "plot_bgcolor": "rgb(17,17,17)",
          "polar": {
           "angularaxis": {
            "gridcolor": "#506784",
            "linecolor": "#506784",
            "ticks": ""
           },
           "bgcolor": "rgb(17,17,17)",
           "radialaxis": {
            "gridcolor": "#506784",
            "linecolor": "#506784",
            "ticks": ""
           }
          },
          "scene": {
           "xaxis": {
            "backgroundcolor": "rgb(17,17,17)",
            "gridcolor": "#506784",
            "gridwidth": 2,
            "linecolor": "#506784",
            "showbackground": true,
            "ticks": "",
            "zerolinecolor": "#C8D4E3"
           },
           "yaxis": {
            "backgroundcolor": "rgb(17,17,17)",
            "gridcolor": "#506784",
            "gridwidth": 2,
            "linecolor": "#506784",
            "showbackground": true,
            "ticks": "",
            "zerolinecolor": "#C8D4E3"
           },
           "zaxis": {
            "backgroundcolor": "rgb(17,17,17)",
            "gridcolor": "#506784",
            "gridwidth": 2,
            "linecolor": "#506784",
            "showbackground": true,
            "ticks": "",
            "zerolinecolor": "#C8D4E3"
           }
          },
          "shapedefaults": {
           "line": {
            "color": "#f2f5fa"
           }
          },
          "sliderdefaults": {
           "bgcolor": "#C8D4E3",
           "bordercolor": "rgb(17,17,17)",
           "borderwidth": 1,
           "tickwidth": 0
          },
          "ternary": {
           "aaxis": {
            "gridcolor": "#506784",
            "linecolor": "#506784",
            "ticks": ""
           },
           "baxis": {
            "gridcolor": "#506784",
            "linecolor": "#506784",
            "ticks": ""
           },
           "bgcolor": "rgb(17,17,17)",
           "caxis": {
            "gridcolor": "#506784",
            "linecolor": "#506784",
            "ticks": ""
           }
          },
          "title": {
           "x": 0.05
          },
          "updatemenudefaults": {
           "bgcolor": "#506784",
           "borderwidth": 0
          },
          "xaxis": {
           "automargin": true,
           "gridcolor": "#283442",
           "linecolor": "#506784",
           "ticks": "",
           "title": {
            "standoff": 15
           },
           "zerolinecolor": "#283442",
           "zerolinewidth": 2
          },
          "yaxis": {
           "automargin": true,
           "gridcolor": "#283442",
           "linecolor": "#506784",
           "ticks": "",
           "title": {
            "standoff": 15
           },
           "zerolinecolor": "#283442",
           "zerolinewidth": 2
          }
         }
        },
        "title": {
         "text": "MLP vs CNN Prediction distribution",
         "x": 0.25
        },
        "xaxis": {
         "anchor": "y",
         "domain": [
          0,
          0.27
         ],
         "title": {
          "text": "MLP Predicts [2] -- CNN Predicts [2] "
         }
        },
        "xaxis2": {
         "anchor": "y2",
         "domain": [
          0.37,
          1
         ],
         "dtick": 1
        },
        "xaxis3": {
         "anchor": "y3",
         "domain": [
          0.37,
          1
         ]
        },
        "yaxis": {
         "anchor": "x",
         "domain": [
          0,
          1
         ]
        },
        "yaxis2": {
         "anchor": "x2",
         "domain": [
          0.575,
          1
         ],
         "title": {
          "text": "Prob MLP"
         }
        },
        "yaxis3": {
         "anchor": "x3",
         "domain": [
          0,
          0.425
         ],
         "title": {
          "text": "Prob CMM"
         }
        }
       }
      }
     },
     "metadata": {},
     "output_type": "display_data"
    }
   ],
   "source": [
    "plot_pred_dist()"
   ]
  },
  {
   "cell_type": "code",
   "execution_count": 102,
   "metadata": {
    "id": "NxKa37PWz_HL"
   },
   "outputs": [
    {
     "name": "stdout",
     "output_type": "stream",
     "text": [
      "1/1 [==============================] - 0s 38ms/step\n",
      "1/1 [==============================] - 0s 37ms/step\n"
     ]
    },
    {
     "data": {
      "application/vnd.plotly.v1+json": {
       "config": {
        "plotlyServerURL": "https://plot.ly"
       },
       "data": [
        {
         "colorscale": [
          [
           0,
           "rgb(0, 0, 0)"
          ],
          [
           0.09090909090909091,
           "rgb(16, 16, 16)"
          ],
          [
           0.18181818181818182,
           "rgb(38, 38, 38)"
          ],
          [
           0.2727272727272727,
           "rgb(59, 59, 59)"
          ],
          [
           0.36363636363636365,
           "rgb(81, 80, 80)"
          ],
          [
           0.45454545454545453,
           "rgb(102, 101, 101)"
          ],
          [
           0.5454545454545454,
           "rgb(124, 123, 122)"
          ],
          [
           0.6363636363636364,
           "rgb(146, 146, 145)"
          ],
          [
           0.7272727272727273,
           "rgb(171, 171, 170)"
          ],
          [
           0.8181818181818182,
           "rgb(197, 197, 195)"
          ],
          [
           0.9090909090909091,
           "rgb(224, 224, 223)"
          ],
          [
           1,
           "rgb(254, 254, 253)"
          ]
         ],
         "name": "Image",
         "showscale": false,
         "transpose": true,
         "type": "heatmap",
         "xaxis": "x",
         "yaxis": "y",
         "z": [
          [
           0.3333333333333333,
           0.3516339869281046,
           0.36601307189542487,
           0.4562091503267974,
           0.6261437908496732,
           0.7176470588235295,
           0.776470588235294,
           0.8183006535947713,
           0.8784313725490196,
           0.918954248366013,
           0.9346405228758169,
           0.9477124183006537,
           0.9699346405228759,
           0.9830065359477125,
           0.9790849673202615,
           0.9712418300653595,
           0.9673202614379085,
           0.9320261437908496,
           0.9019607843137255,
           0.8784313725490196,
           0.8522875816993464,
           0.8209150326797386,
           0.7790849673202613,
           0.738562091503268,
           0.6745098039215686,
           0.538562091503268,
           0.4392156862745098,
           0.3542483660130719,
           0.3137254901960784,
           0.3111111111111111,
           0.3006535947712418,
           0.29673202614379085
          ],
          [
           0.32941176470588235,
           0.33856209150326794,
           0.3738562091503268,
           0.5843137254901961,
           0.9045751633986927,
           0.9934640522875817,
           0.9830065359477125,
           0.9673202614379085,
           0.9437908496732027,
           0.9163398692810457,
           0.8967320261437908,
           0.9516339869281046,
           0.8862745098039215,
           0.776470588235294,
           0.69281045751634,
           0.6444444444444445,
           0.611764705882353,
           0.5790849673202615,
           0.5712418300653594,
           0.592156862745098,
           0.607843137254902,
           0.6248366013071895,
           0.6418300653594772,
           0.665359477124183,
           0.6797385620915032,
           0.5202614379084968,
           0.3934640522875817,
           0.3359477124183006,
           0.2980392156862745,
           0.2901960784313726,
           0.28888888888888886,
           0.29411764705882354
          ],
          [
           0.3215686274509804,
           0.3333333333333333,
           0.35032679738562095,
           0.4261437908496732,
           0.5633986928104576,
           0.6,
           0.6065359477124184,
           0.5895424836601307,
           0.5555555555555555,
           0.5529411764705882,
           0.5712418300653594,
           0.8444444444444444,
           0.7843137254901961,
           0.6954248366013073,
           0.722875816993464,
           0.7607843137254902,
           0.7751633986928104,
           0.8339869281045752,
           0.8758169934640523,
           0.9071895424836601,
           0.9320261437908496,
           0.9529411764705883,
           0.9751633986928104,
           0.9908496732026144,
           0.9254901960784313,
           0.6718954248366013,
           0.4522875816993464,
           0.3424836601307189,
           0.30196078431372547,
           0.29673202614379085,
           0.2915032679738562,
           0.29150326797385623
          ],
          [
           0.31764705882352945,
           0.32679738562091504,
           0.330718954248366,
           0.32287581699346407,
           0.34117647058823525,
           0.35032679738562095,
           0.35294117647058826,
           0.3686274509803922,
           0.3490196078431373,
           0.37516339869281046,
           0.4915032679738562,
           0.8326797385620915,
           0.780392156862745,
           0.8222222222222223,
           0.9647058823529412,
           0.9437908496732025,
           0.94640522875817,
           0.9241830065359476,
           0.8823529411764706,
           0.861437908496732,
           0.8248366013071896,
           0.7895424836601307,
           0.734640522875817,
           0.6915032679738561,
           0.6287581699346405,
           0.5320261437908497,
           0.4235294117647059,
           0.33856209150326794,
           0.3084967320261438,
           0.3045751633986928,
           0.29673202614379085,
           0.2928104575163399
          ],
          [
           0.31633986928104574,
           0.31764705882352945,
           0.32287581699346407,
           0.32941176470588235,
           0.33856209150326794,
           0.33464052287581697,
           0.33856209150326794,
           0.3424836601307189,
           0.3254901960784314,
           0.34117647058823536,
           0.4901960784313726,
           0.8405228758169935,
           0.780392156862745,
           0.819607843137255,
           0.8718954248366013,
           0.6875816993464051,
           0.5869281045751634,
           0.5424836601307189,
           0.4954248366013072,
           0.4588235294117647,
           0.4392156862745098,
           0.4222222222222222,
           0.39999999999999997,
           0.37254901960784315,
           0.3620915032679739,
           0.35555555555555557,
           0.3333333333333333,
           0.3176470588235294,
           0.32026143790849676,
           0.3006535947712418,
           0.28888888888888886,
           0.2928104575163399
          ],
          [
           0.3189542483660131,
           0.3241830065359477,
           0.3241830065359477,
           0.3254901960784313,
           0.32679738562091504,
           0.3215686274509804,
           0.34379084967320256,
           0.3254901960784314,
           0.330718954248366,
           0.34379084967320256,
           0.46535947712418296,
           0.8169934640522877,
           0.7764705882352941,
           0.7869281045751634,
           0.7803921568627451,
           0.5712418300653596,
           0.4496732026143791,
           0.3830065359477124,
           0.3372549019607843,
           0.35555555555555557,
           0.3176470588235294,
           0.3555555555555556,
           0.37777777777777777,
           0.3934640522875817,
           0.43529411764705883,
           0.3790849673202614,
           0.33856209150326794,
           0.3176470588235294,
           0.30980392156862746,
           0.2928104575163399,
           0.29150326797385623,
           0.2928104575163399
          ],
          [
           0.3189542483660131,
           0.3241830065359477,
           0.3241830065359477,
           0.31895424836601305,
           0.32418300653594767,
           0.3006535947712418,
           0.3241830065359477,
           0.30588235294117644,
           0.3241830065359477,
           0.36078431372549025,
           0.3934640522875817,
           0.5516339869281045,
           0.5359477124183006,
           0.522875816993464,
           0.530718954248366,
           0.4261437908496732,
           0.388235294117647,
           0.37516339869281046,
           0.4392156862745098,
           0.6196078431372549,
           0.5777777777777778,
           0.6562091503267974,
           0.6836601307189542,
           0.6993464052287582,
           0.7777777777777777,
           0.5843137254901961,
           0.4235294117647059,
           0.34379084967320256,
           0.3045751633986928,
           0.2954248366013072,
           0.2954248366013072,
           0.2980392156862745
          ],
          [
           0.3254901960784314,
           0.32941176470588235,
           0.3372549019607843,
           0.3908496732026144,
           0.5071895424836601,
           0.5111111111111111,
           0.5633986928104574,
           0.5647058823529411,
           0.5856209150326798,
           0.6627450980392157,
           0.5359477124183006,
           0.3947712418300653,
           0.35947712418300654,
           0.3398692810457516,
           0.3790849673202614,
           0.3490196078431373,
           0.32679738562091504,
           0.3516339869281046,
           0.5137254901960785,
           0.8261437908496733,
           0.7633986928104575,
           0.8418300653594771,
           0.8522875816993464,
           0.7934640522875817,
           0.8941176470588236,
           0.6666666666666666,
           0.47189542483660135,
           0.37516339869281046,
           0.3215686274509804,
           0.3111111111111111,
           0.30065359477124187,
           0.2993464052287582
          ],
          [
           0.3333333333333333,
           0.34640522875817,
           0.3686274509803922,
           0.5477124183006535,
           0.7947712418300653,
           0.7869281045751634,
           0.8588235294117648,
           0.8091503267973855,
           0.8248366013071896,
           0.8549019607843138,
           0.6274509803921569,
           0.4732026143790849,
           0.396078431372549,
           0.39738562091503266,
           0.5803921568627451,
           0.6901960784313724,
           0.6169934640522876,
           0.5163398692810458,
           0.5529411764705882,
           0.8287581699346406,
           0.742483660130719,
           0.819607843137255,
           0.8339869281045752,
           0.7712418300653594,
           0.873202614379085,
           0.6640522875816993,
           0.4823529411764706,
           0.3830065359477124,
           0.3137254901960784,
           0.31241830065359477,
           0.3032679738562092,
           0.29150326797385623
          ],
          [
           0.3372549019607843,
           0.3542483660130719,
           0.3986928104575163,
           0.6849673202614378,
           0.8705882352941177,
           0.7908496732026143,
           0.8810457516339869,
           0.8000000000000002,
           0.8562091503267975,
           0.7738562091503267,
           0.5503267973856208,
           0.41830065359477125,
           0.3712418300653595,
           0.4444444444444445,
           0.7529411764705882,
           0.9424836601307188,
           0.9555555555555556,
           0.9124183006535947,
           0.8705882352941177,
           0.9359477124183005,
           0.7816993464052286,
           0.8444444444444444,
           0.8418300653594771,
           0.8000000000000002,
           0.8875816993464053,
           0.665359477124183,
           0.48104575163398694,
           0.37777777777777777,
           0.2980392156862745,
           0.2954248366013072,
           0.29411764705882354,
           0.29150326797385623
          ],
          [
           0.34117647058823536,
           0.3516339869281046,
           0.42875816993464055,
           0.7607843137254902,
           0.8588235294117647,
           0.8078431372549021,
           0.8862745098039215,
           0.7777777777777777,
           0.8862745098039215,
           0.7359477124183007,
           0.5333333333333333,
           0.43137254901960786,
           0.36601307189542487,
           0.4954248366013072,
           0.7725490196078431,
           0.7529411764705882,
           0.6980392156862746,
           0.792156862745098,
           0.9045751633986928,
           0.9490196078431373,
           0.8026143790849675,
           0.8326797385620915,
           0.815686274509804,
           0.8039215686274511,
           0.8849673202614379,
           0.6666666666666666,
           0.48366013071895425,
           0.3738562091503268,
           0.30718954248366015,
           0.29411764705882354,
           0.2901960784313726,
           0.2901960784313726
          ],
          [
           0.33464052287581697,
           0.3542483660130719,
           0.4470588235294118,
           0.7712418300653594,
           0.8496732026143791,
           0.8104575163398694,
           0.9098039215686274,
           0.7594771241830065,
           0.8993464052287581,
           0.8000000000000002,
           0.5529411764705884,
           0.4326797385620915,
           0.39738562091503266,
           0.6771241830065359,
           0.8065359477124184,
           0.7333333333333334,
           0.7568627450980392,
           0.7032679738562092,
           0.6601307189542484,
           0.6705882352941176,
           0.6222222222222222,
           0.7908496732026143,
           0.8313725490196079,
           0.7960784313725492,
           0.8810457516339869,
           0.6666666666666666,
           0.48627450980392156,
           0.3738562091503268,
           0.30718954248366015,
           0.29411764705882354,
           0.2901960784313726,
           0.2901960784313726
          ],
          [
           0.330718954248366,
           0.3542483660130719,
           0.46013071895424834,
           0.780392156862745,
           0.8444444444444444,
           0.792156862745098,
           0.9294117647058825,
           0.7673202614379084,
           0.8640522875816993,
           0.9398692810457515,
           0.7830065359477124,
           0.6732026143790849,
           0.7477124183006536,
           0.8758169934640523,
           0.7751633986928104,
           0.8326797385620915,
           0.9620915032679739,
           0.9633986928104575,
           0.9294117647058823,
           0.8130718954248365,
           0.6993464052287582,
           0.815686274509804,
           0.811764705882353,
           0.776470588235294,
           0.8797385620915033,
           0.6666666666666666,
           0.4823529411764706,
           0.37254901960784315,
           0.3058823529411765,
           0.29150326797385623,
           0.2901960784313726,
           0.2875816993464052
          ],
          [
           0.3281045751633987,
           0.3516339869281046,
           0.4366013071895425,
           0.7594771241830065,
           0.857516339869281,
           0.7555555555555555,
           0.9215686274509803,
           0.815686274509804,
           0.7176470588235294,
           0.8705882352941177,
           0.9607843137254902,
           0.9843137254901961,
           0.9490196078431373,
           0.8078431372549021,
           0.792156862745098,
           0.8771241830065359,
           0.7411764705882353,
           0.6901960784313724,
           0.8039215686274509,
           0.9150326797385621,
           0.9725490196078431,
           0.9921568627450981,
           0.8784313725490196,
           0.8313725490196079,
           0.8849673202614379,
           0.665359477124183,
           0.48366013071895425,
           0.37516339869281046,
           0.30718954248366015,
           0.2954248366013072,
           0.2901960784313726,
           0.2849673202614379
          ],
          [
           0.322875816993464,
           0.3490196078431373,
           0.4104575163398693,
           0.6836601307189544,
           0.8823529411764706,
           0.7294117647058823,
           0.85359477124183,
           0.9490196078431373,
           0.7647058823529411,
           0.6522875816993464,
           0.6588235294117647,
           0.6640522875816993,
           0.6915032679738561,
           0.7660130718954248,
           0.8993464052287581,
           0.8078431372549021,
           0.7032679738562092,
           0.6836601307189542,
           0.6,
           0.6104575163398693,
           0.6888888888888888,
           0.8169934640522877,
           0.7947712418300653,
           0.8078431372549019,
           0.8888888888888888,
           0.6666666666666666,
           0.48366013071895425,
           0.37516339869281046,
           0.3084967320261438,
           0.2954248366013072,
           0.2888888888888889,
           0.2823529411764706
          ],
          [
           0.32156862745098036,
           0.33856209150326794,
           0.3686274509803922,
           0.5633986928104575,
           0.8967320261437908,
           0.7725490196078431,
           0.7098039215686275,
           0.9124183006535947,
           0.9633986928104575,
           0.8627450980392156,
           0.7320261437908497,
           0.7189542483660131,
           0.8366013071895425,
           0.942483660130719,
           0.8300653594771242,
           0.7150326797385621,
           0.8627450980392157,
           0.9607843137254902,
           0.9241830065359476,
           0.865359477124183,
           0.74640522875817,
           0.6549019607843137,
           0.5725490196078432,
           0.7058823529411765,
           0.8888888888888888,
           0.665359477124183,
           0.4823529411764706,
           0.3738562091503268,
           0.3058823529411765,
           0.2954248366013072,
           0.28888888888888886,
           0.2810457516339869
          ],
          [
           0.32287581699346407,
           0.34117647058823525,
           0.3594771241830066,
           0.4143790849673203,
           0.7202614379084967,
           0.9124183006535947,
           0.7594771241830065,
           0.6522875816993464,
           0.8104575163398694,
           0.9411764705882354,
           0.9633986928104575,
           0.9607843137254902,
           0.9098039215686274,
           0.7437908496732026,
           0.6941176470588236,
           0.8287581699346406,
           0.8718954248366013,
           0.7281045751633988,
           0.7254901960784313,
           0.8601307189542483,
           0.9490196078431373,
           0.9477124183006537,
           0.8836601307189542,
           0.9006535947712417,
           0.9071895424836601,
           0.6928104575163397,
           0.4862745098039216,
           0.3790849673202614,
           0.3006535947712418,
           0.2901960784313726,
           0.29150326797385623,
           0.28496732026143795
          ],
          [
           0.31633986928104574,
           0.32941176470588235,
           0.35032679738562095,
           0.3764705882352941,
           0.526797385620915,
           0.8209150326797386,
           0.9281045751633986,
           0.7725490196078431,
           0.6261437908496732,
           0.5986928104575163,
           0.6,
           0.6039215686274509,
           0.6078431372549019,
           0.6823529411764705,
           0.8287581699346406,
           0.8758169934640523,
           0.7176470588235294,
           0.534640522875817,
           0.44836601307189544,
           0.4666666666666666,
           0.5673202614379085,
           0.7254901960784313,
           0.8888888888888888,
           0.9751633986928104,
           0.9385620915032679,
           0.7307189542483661,
           0.5189542483660131,
           0.39477124183006534,
           0.31241830065359477,
           0.2928104575163399,
           0.2888888888888889,
           0.28758169934640526
          ],
          [
           0.30457516339869284,
           0.31241830065359477,
           0.33464052287581697,
           0.34640522875817,
           0.37254901960784315,
           0.5398692810457516,
           0.8091503267973855,
           0.9620915032679739,
           0.9333333333333335,
           0.8457516339869281,
           0.7686274509803921,
           0.7934640522875817,
           0.869281045751634,
           0.9359477124183005,
           0.8875816993464052,
           0.7150326797385621,
           0.5372549019607843,
           0.4444444444444445,
           0.3843137254901961,
           0.32941176470588235,
           0.31633986928104574,
           0.36601307189542487,
           0.4588235294117647,
           0.5908496732026144,
           0.6810457516339868,
           0.5555555555555555,
           0.43137254901960786,
           0.3542483660130719,
           0.30196078431372547,
           0.2954248366013072,
           0.2901960784313726,
           0.29150326797385623
          ],
          [
           0.3019607843137255,
           0.3084967320261438,
           0.31895424836601305,
           0.3254901960784314,
           0.33856209150326794,
           0.35294117647058826,
           0.4522875816993464,
           0.6470588235294118,
           0.8392156862745098,
           0.9450980392156864,
           0.9803921568627452,
           0.9647058823529412,
           0.9071895424836601,
           0.7856209150326797,
           0.6248366013071895,
           0.49411764705882355,
           0.41568627450980394,
           0.3568627450980392,
           0.3241830065359477,
           0.3137254901960784,
           0.3084967320261438,
           0.3111111111111111,
           0.3111111111111111,
           0.330718954248366,
           0.3673202614379085,
           0.3516339869281046,
           0.3372549019607843,
           0.30849673202614375,
           0.29150326797385623,
           0.2954248366013072,
           0.28758169934640526,
           0.28366013071895424
          ],
          [
           0.29934640522875816,
           0.30457516339869284,
           0.3098039215686275,
           0.31633986928104574,
           0.32941176470588235,
           0.3424836601307189,
           0.3333333333333333,
           0.35294117647058826,
           0.4052287581699346,
           0.4928104575163399,
           0.5490196078431372,
           0.5490196078431373,
           0.4993464052287582,
           0.4444444444444445,
           0.42091503267973857,
           0.3712418300653595,
           0.32679738562091504,
           0.3111111111111111,
           0.3045751633986928,
           0.29934640522875816,
           0.2954248366013072,
           0.2928104575163399,
           0.30196078431372547,
           0.3084967320261438,
           0.3045751633986928,
           0.3006535947712418,
           0.2980392156862745,
           0.2888888888888889,
           0.2862745098039216,
           0.28496732026143795,
           0.28888888888888886,
           0.29150326797385623
          ],
          [
           0.29934640522875816,
           0.2993464052287582,
           0.3006535947712418,
           0.3006535947712418,
           0.32026143790849676,
           0.33202614379084966,
           0.3150326797385621,
           0.330718954248366,
           0.32287581699346407,
           0.322875816993464,
           0.29934640522875816,
           0.3359477124183006,
           0.3241830065359477,
           0.3333333333333333,
           0.330718954248366,
           0.3019607843137255,
           0.29673202614379085,
           0.2862745098039216,
           0.27450980392156865,
           0.273202614379085,
           0.27581699346405225,
           0.28758169934640526,
           0.2928104575163399,
           0.29934640522875816,
           0.3006535947712418,
           0.29411764705882354,
           0.2862745098039216,
           0.28627450980392155,
           0.28758169934640526,
           0.2888888888888889,
           0.2888888888888889,
           0.29150326797385623
          ],
          [
           0.29673202614379085,
           0.2980392156862745,
           0.2980392156862745,
           0.29673202614379085,
           0.2928104575163399,
           0.29934640522875816,
           0.29934640522875816,
           0.31241830065359477,
           0.3111111111111111,
           0.3137254901960784,
           0.30980392156862746,
           0.30457516339869284,
           0.3032679738562091,
           0.3071895424836601,
           0.29934640522875816,
           0.2901960784313726,
           0.29411764705882354,
           0.29673202614379085,
           0.29411764705882354,
           0.2901960784313726,
           0.29411764705882354,
           0.30718954248366015,
           0.3084967320261438,
           0.3124183006535948,
           0.31764705882352945,
           0.3150326797385621,
           0.30980392156862746,
           0.31764705882352945,
           0.31895424836601305,
           0.31895424836601305,
           0.31764705882352945,
           0.3215686274509804
          ],
          [
           0.2980392156862745,
           0.3058823529411765,
           0.3058823529411765,
           0.3058823529411765,
           0.3032679738562092,
           0.30457516339869284,
           0.3084967320261438,
           0.31503267973856214,
           0.3163398692810458,
           0.3163398692810458,
           0.31503267973856214,
           0.32287581699346407,
           0.3215686274509804,
           0.32287581699346407,
           0.3189542483660131,
           0.31764705882352945,
           0.3176470588235294,
           0.32941176470588235,
           0.3359477124183006,
           0.33856209150326794,
           0.33856209150326794,
           0.3424836601307189,
           0.3398692810457516,
           0.342483660130719,
           0.35032679738562095,
           0.3490196078431373,
           0.35032679738562095,
           0.35032679738562095,
           0.3490196078431373,
           0.34771241830065364,
           0.3516339869281046,
           0.35816993464052294
          ],
          [
           0.3281045751633987,
           0.3281045751633987,
           0.32679738562091504,
           0.322875816993464,
           0.32941176470588235,
           0.3359477124183006,
           0.33464052287581697,
           0.3398692810457516,
           0.34379084967320267,
           0.34117647058823536,
           0.3424836601307189,
           0.35032679738562095,
           0.35032679738562095,
           0.3516339869281046,
           0.3450980392156863,
           0.3450980392156863,
           0.3450980392156863,
           0.34379084967320267,
           0.3424836601307189,
           0.34379084967320256,
           0.34640522875817,
           0.34771241830065364,
           0.3450980392156863,
           0.3450980392156863,
           0.3359477124183006,
           0.3333333333333333,
           0.3333333333333333,
           0.32679738562091504,
           0.3241830065359477,
           0.32287581699346407,
           0.3150326797385621,
           0.31241830065359477
          ],
          [
           0.3490196078431372,
           0.3424836601307189,
           0.3372549019607843,
           0.33464052287581697,
           0.3372549019607843,
           0.3398692810457516,
           0.3398692810457516,
           0.3372549019607843,
           0.3359477124183006,
           0.3333333333333333,
           0.3333333333333333,
           0.32679738562091504,
           0.3281045751633987,
           0.32941176470588235,
           0.322875816993464,
           0.31895424836601305,
           0.3202614379084967,
           0.3150326797385621,
           0.3084967320261438,
           0.30980392156862746,
           0.30718954248366015,
           0.3045751633986928,
           0.30718954248366015,
           0.3032679738562091,
           0.2980392156862745,
           0.29673202614379085,
           0.2954248366013072,
           0.2862745098039216,
           0.2862745098039216,
           0.28496732026143795,
           0.2823529411764706,
           0.2823529411764706
          ],
          [
           0.3241830065359477,
           0.3215686274509804,
           0.31895424836601305,
           0.3137254901960784,
           0.3150326797385621,
           0.3137254901960784,
           0.31241830065359477,
           0.30457516339869284,
           0.2954248366013072,
           0.2928104575163399,
           0.2901960784313726,
           0.2928104575163399,
           0.2928104575163399,
           0.28888888888888886,
           0.2823529411764706,
           0.2797385620915033,
           0.27712418300653596,
           0.27581699346405225,
           0.27058823529411763,
           0.2679738562091503,
           0.2679738562091503,
           0.2679738562091503,
           0.27058823529411763,
           0.27320261437908494,
           0.269281045751634,
           0.2679738562091503,
           0.27058823529411763,
           0.269281045751634,
           0.27058823529411763,
           0.27320261437908494,
           0.27058823529411763,
           0.27450980392156865
          ],
          [
           0.29673202614379085,
           0.29673202614379085,
           0.2980392156862745,
           0.2928104575163399,
           0.2901960784313726,
           0.2888888888888889,
           0.28627450980392155,
           0.28627450980392155,
           0.2901960784313726,
           0.2875816993464052,
           0.2849673202614379,
           0.2797385620915033,
           0.2745098039215686,
           0.27058823529411763,
           0.27320261437908494,
           0.269281045751634,
           0.26666666666666666,
           0.269281045751634,
           0.269281045751634,
           0.26405228758169935,
           0.2601307189542484,
           0.2601307189542484,
           0.26405228758169935,
           0.265359477124183,
           0.2627450980392157,
           0.2627450980392157,
           0.265359477124183,
           0.265359477124183,
           0.2679738562091503,
           0.27058823529411763,
           0.27058823529411763,
           0.27320261437908494
          ],
          [
           0.2928104575163399,
           0.3006535947712418,
           0.3006535947712418,
           0.2980392156862745,
           0.29150326797385623,
           0.2928104575163399,
           0.2875816993464052,
           0.2849673202614379,
           0.2823529411764706,
           0.2849673202614379,
           0.28496732026143795,
           0.2901960784313726,
           0.2836601307189543,
           0.2758169934640523,
           0.27058823529411763,
           0.26405228758169935,
           0.2601307189542484,
           0.26405228758169935,
           0.26666666666666666,
           0.25882352941176473,
           0.25620915032679736,
           0.2549019607843137,
           0.2562091503267974,
           0.2601307189542484,
           0.25620915032679736,
           0.26143790849673204,
           0.2627450980392157,
           0.26143790849673204,
           0.26405228758169935,
           0.26666666666666666,
           0.27058823529411763,
           0.27320261437908494
          ],
          [
           0.29673202614379085,
           0.2980392156862745,
           0.2954248366013072,
           0.2954248366013072,
           0.29411764705882354,
           0.2928104575163399,
           0.2901960784313726,
           0.28758169934640526,
           0.2901960784313726,
           0.2888888888888889,
           0.2928104575163399,
           0.29150326797385623,
           0.2888888888888889,
           0.2784313725490196,
           0.2745098039215686,
           0.27320261437908494,
           0.2679738562091503,
           0.2679738562091503,
           0.265359477124183,
           0.26143790849673204,
           0.2601307189542484,
           0.2627450980392157,
           0.2627450980392157,
           0.26405228758169935,
           0.2627450980392157,
           0.26405228758169935,
           0.265359477124183,
           0.26143790849673204,
           0.2627450980392157,
           0.25882352941176473,
           0.2627450980392157,
           0.26666666666666666
          ],
          [
           0.28888888888888886,
           0.2915032679738562,
           0.28888888888888886,
           0.28627450980392155,
           0.28758169934640526,
           0.28627450980392155,
           0.28104575163398693,
           0.28104575163398693,
           0.2849673202614379,
           0.2836601307189543,
           0.28496732026143795,
           0.2823529411764706,
           0.2797385620915032,
           0.2718954248366013,
           0.27058823529411763,
           0.27058823529411763,
           0.269281045751634,
           0.26666666666666666,
           0.2601307189542484,
           0.25882352941176473,
           0.2562091503267974,
           0.2575163398692811,
           0.2549019607843137,
           0.25620915032679736,
           0.26013071895424833,
           0.26013071895424833,
           0.261437908496732,
           0.26013071895424833,
           0.25620915032679736,
           0.2549019607843137,
           0.25620915032679736,
           0.2549019607843137
          ],
          [
           0.2823529411764706,
           0.28104575163398693,
           0.2823529411764706,
           0.2797385620915033,
           0.2784313725490196,
           0.2784313725490196,
           0.273202614379085,
           0.27450980392156865,
           0.2758169934640523,
           0.2718954248366013,
           0.2718954248366013,
           0.27058823529411763,
           0.26666666666666666,
           0.26405228758169935,
           0.26405228758169935,
           0.26405228758169935,
           0.26405228758169935,
           0.257516339869281,
           0.25359477124183005,
           0.2522875816993464,
           0.24705882352941178,
           0.2431372549019608,
           0.2431372549019608,
           0.24444444444444446,
           0.2522875816993464,
           0.2522875816993464,
           0.25359477124183005,
           0.2522875816993464,
           0.25098039215686274,
           0.25098039215686274,
           0.24444444444444446,
           0.24575163398692812
          ]
         ]
        },
        {
         "name": "MLP prob distribution",
         "type": "bar",
         "x": [
          0,
          1,
          2,
          3,
          4,
          5,
          6,
          7,
          8,
          9
         ],
         "xaxis": "x2",
         "y": [
          0.002197390655055642,
          0.01348384004086256,
          0.013627995736896992,
          0.0324275828897953,
          0.03303488343954086,
          0.5775919556617737,
          0.13472391664981842,
          0.004010477568954229,
          0.09740148484706879,
          0.09150053560733795
         ],
         "yaxis": "y2"
        },
        {
         "name": "CNN prob distribution",
         "type": "bar",
         "x": [
          0,
          1,
          2,
          3,
          4,
          5,
          6,
          7,
          8,
          9
         ],
         "xaxis": "x3",
         "y": [
          5.735902475646065e-14,
          7.045561467577954e-9,
          1.7567227672543595e-8,
          0.9999984502792358,
          2.2407378036382042e-11,
          0.0000015953112324496033,
          1.213208179751124e-11,
          1.178252073685826e-8,
          6.605498370504392e-10,
          6.307974281805073e-11
         ],
         "yaxis": "y3"
        },
        {
         "colorscale": [
          [
           0,
           "rgb(0, 0, 0)"
          ],
          [
           0.09090909090909091,
           "rgb(16, 16, 16)"
          ],
          [
           0.18181818181818182,
           "rgb(38, 38, 38)"
          ],
          [
           0.2727272727272727,
           "rgb(59, 59, 59)"
          ],
          [
           0.36363636363636365,
           "rgb(81, 80, 80)"
          ],
          [
           0.45454545454545453,
           "rgb(102, 101, 101)"
          ],
          [
           0.5454545454545454,
           "rgb(124, 123, 122)"
          ],
          [
           0.6363636363636364,
           "rgb(146, 146, 145)"
          ],
          [
           0.7272727272727273,
           "rgb(171, 171, 170)"
          ],
          [
           0.8181818181818182,
           "rgb(197, 197, 195)"
          ],
          [
           0.9090909090909091,
           "rgb(224, 224, 223)"
          ],
          [
           1,
           "rgb(254, 254, 253)"
          ]
         ],
         "name": "Image",
         "showscale": false,
         "transpose": true,
         "type": "heatmap",
         "xaxis": "x",
         "yaxis": "y",
         "z": [
          [
           0.3333333333333333,
           0.3516339869281046,
           0.36601307189542487,
           0.4562091503267974,
           0.6261437908496732,
           0.7176470588235295,
           0.776470588235294,
           0.8183006535947713,
           0.8784313725490196,
           0.918954248366013,
           0.9346405228758169,
           0.9477124183006537,
           0.9699346405228759,
           0.9830065359477125,
           0.9790849673202615,
           0.9712418300653595,
           0.9673202614379085,
           0.9320261437908496,
           0.9019607843137255,
           0.8784313725490196,
           0.8522875816993464,
           0.8209150326797386,
           0.7790849673202613,
           0.738562091503268,
           0.6745098039215686,
           0.538562091503268,
           0.4392156862745098,
           0.3542483660130719,
           0.3137254901960784,
           0.3111111111111111,
           0.3006535947712418,
           0.29673202614379085
          ],
          [
           0.32941176470588235,
           0.33856209150326794,
           0.3738562091503268,
           0.5843137254901961,
           0.9045751633986927,
           0.9934640522875817,
           0.9830065359477125,
           0.9673202614379085,
           0.9437908496732027,
           0.9163398692810457,
           0.8967320261437908,
           0.9516339869281046,
           0.8862745098039215,
           0.776470588235294,
           0.69281045751634,
           0.6444444444444445,
           0.611764705882353,
           0.5790849673202615,
           0.5712418300653594,
           0.592156862745098,
           0.607843137254902,
           0.6248366013071895,
           0.6418300653594772,
           0.665359477124183,
           0.6797385620915032,
           0.5202614379084968,
           0.3934640522875817,
           0.3359477124183006,
           0.2980392156862745,
           0.2901960784313726,
           0.28888888888888886,
           0.29411764705882354
          ],
          [
           0.3215686274509804,
           0.3333333333333333,
           0.35032679738562095,
           0.4261437908496732,
           0.5633986928104576,
           0.6,
           0.6065359477124184,
           0.5895424836601307,
           0.5555555555555555,
           0.5529411764705882,
           0.5712418300653594,
           0.8444444444444444,
           0.7843137254901961,
           0.6954248366013073,
           0.722875816993464,
           0.7607843137254902,
           0.7751633986928104,
           0.8339869281045752,
           0.8758169934640523,
           0.9071895424836601,
           0.9320261437908496,
           0.9529411764705883,
           0.9751633986928104,
           0.9908496732026144,
           0.9254901960784313,
           0.6718954248366013,
           0.4522875816993464,
           0.3424836601307189,
           0.30196078431372547,
           0.29673202614379085,
           0.2915032679738562,
           0.29150326797385623
          ],
          [
           0.31764705882352945,
           0.32679738562091504,
           0.330718954248366,
           0.32287581699346407,
           0.34117647058823525,
           0.35032679738562095,
           0.35294117647058826,
           0.3686274509803922,
           0.3490196078431373,
           0.37516339869281046,
           0.4915032679738562,
           0.8326797385620915,
           0.780392156862745,
           0.8222222222222223,
           0.9647058823529412,
           0.9437908496732025,
           0.94640522875817,
           0.9241830065359476,
           0.8823529411764706,
           0.861437908496732,
           0.8248366013071896,
           0.7895424836601307,
           0.734640522875817,
           0.6915032679738561,
           0.6287581699346405,
           0.5320261437908497,
           0.4235294117647059,
           0.33856209150326794,
           0.3084967320261438,
           0.3045751633986928,
           0.29673202614379085,
           0.2928104575163399
          ],
          [
           0.31633986928104574,
           0.31764705882352945,
           0.32287581699346407,
           0.32941176470588235,
           0.33856209150326794,
           0.33464052287581697,
           0.33856209150326794,
           0.3424836601307189,
           0.3254901960784314,
           0.34117647058823536,
           0.4901960784313726,
           0.8405228758169935,
           0.780392156862745,
           0.819607843137255,
           0.8718954248366013,
           0.6875816993464051,
           0.5869281045751634,
           0.5424836601307189,
           0.4954248366013072,
           0.4588235294117647,
           0.4392156862745098,
           0.4222222222222222,
           0.39999999999999997,
           0.37254901960784315,
           0.3620915032679739,
           0.35555555555555557,
           0.3333333333333333,
           0.3176470588235294,
           0.32026143790849676,
           0.3006535947712418,
           0.28888888888888886,
           0.2928104575163399
          ],
          [
           0.3189542483660131,
           0.3241830065359477,
           0.3241830065359477,
           0.3254901960784313,
           0.32679738562091504,
           0.3215686274509804,
           0.34379084967320256,
           0.3254901960784314,
           0.330718954248366,
           0.34379084967320256,
           0.46535947712418296,
           0.8169934640522877,
           0.7764705882352941,
           0.7869281045751634,
           0.7803921568627451,
           0.5712418300653596,
           0.4496732026143791,
           0.3830065359477124,
           0.3372549019607843,
           0.35555555555555557,
           0.3176470588235294,
           0.3555555555555556,
           0.37777777777777777,
           0.3934640522875817,
           0.43529411764705883,
           0.3790849673202614,
           0.33856209150326794,
           0.3176470588235294,
           0.30980392156862746,
           0.2928104575163399,
           0.29150326797385623,
           0.2928104575163399
          ],
          [
           0.3189542483660131,
           0.3241830065359477,
           0.3241830065359477,
           0.31895424836601305,
           0.32418300653594767,
           0.3006535947712418,
           0.3241830065359477,
           0.30588235294117644,
           0.3241830065359477,
           0.36078431372549025,
           0.3934640522875817,
           0.5516339869281045,
           0.5359477124183006,
           0.522875816993464,
           0.530718954248366,
           0.4261437908496732,
           0.388235294117647,
           0.37516339869281046,
           0.4392156862745098,
           0.6196078431372549,
           0.5777777777777778,
           0.6562091503267974,
           0.6836601307189542,
           0.6993464052287582,
           0.7777777777777777,
           0.5843137254901961,
           0.4235294117647059,
           0.34379084967320256,
           0.3045751633986928,
           0.2954248366013072,
           0.2954248366013072,
           0.2980392156862745
          ],
          [
           0.3254901960784314,
           0.32941176470588235,
           0.3372549019607843,
           0.3908496732026144,
           0.5071895424836601,
           0.5111111111111111,
           0.5633986928104574,
           0.5647058823529411,
           0.5856209150326798,
           0.6627450980392157,
           0.5359477124183006,
           0.3947712418300653,
           0.35947712418300654,
           0.3398692810457516,
           0.3790849673202614,
           0.3490196078431373,
           0.32679738562091504,
           0.3516339869281046,
           0.5137254901960785,
           0.8261437908496733,
           0.7633986928104575,
           0.8418300653594771,
           0.8522875816993464,
           0.7934640522875817,
           0.8941176470588236,
           0.6666666666666666,
           0.47189542483660135,
           0.37516339869281046,
           0.3215686274509804,
           0.3111111111111111,
           0.30065359477124187,
           0.2993464052287582
          ],
          [
           0.3333333333333333,
           0.34640522875817,
           0.3686274509803922,
           0.5477124183006535,
           0.7947712418300653,
           0.7869281045751634,
           0.8588235294117648,
           0.8091503267973855,
           0.8248366013071896,
           0.8549019607843138,
           0.6274509803921569,
           0.4732026143790849,
           0.396078431372549,
           0.39738562091503266,
           0.5803921568627451,
           0.6901960784313724,
           0.6169934640522876,
           0.5163398692810458,
           0.5529411764705882,
           0.8287581699346406,
           0.742483660130719,
           0.819607843137255,
           0.8339869281045752,
           0.7712418300653594,
           0.873202614379085,
           0.6640522875816993,
           0.4823529411764706,
           0.3830065359477124,
           0.3137254901960784,
           0.31241830065359477,
           0.3032679738562092,
           0.29150326797385623
          ],
          [
           0.3372549019607843,
           0.3542483660130719,
           0.3986928104575163,
           0.6849673202614378,
           0.8705882352941177,
           0.7908496732026143,
           0.8810457516339869,
           0.8000000000000002,
           0.8562091503267975,
           0.7738562091503267,
           0.5503267973856208,
           0.41830065359477125,
           0.3712418300653595,
           0.4444444444444445,
           0.7529411764705882,
           0.9424836601307188,
           0.9555555555555556,
           0.9124183006535947,
           0.8705882352941177,
           0.9359477124183005,
           0.7816993464052286,
           0.8444444444444444,
           0.8418300653594771,
           0.8000000000000002,
           0.8875816993464053,
           0.665359477124183,
           0.48104575163398694,
           0.37777777777777777,
           0.2980392156862745,
           0.2954248366013072,
           0.29411764705882354,
           0.29150326797385623
          ],
          [
           0.34117647058823536,
           0.3516339869281046,
           0.42875816993464055,
           0.7607843137254902,
           0.8588235294117647,
           0.8078431372549021,
           0.8862745098039215,
           0.7777777777777777,
           0.8862745098039215,
           0.7359477124183007,
           0.5333333333333333,
           0.43137254901960786,
           0.36601307189542487,
           0.4954248366013072,
           0.7725490196078431,
           0.7529411764705882,
           0.6980392156862746,
           0.792156862745098,
           0.9045751633986928,
           0.9490196078431373,
           0.8026143790849675,
           0.8326797385620915,
           0.815686274509804,
           0.8039215686274511,
           0.8849673202614379,
           0.6666666666666666,
           0.48366013071895425,
           0.3738562091503268,
           0.30718954248366015,
           0.29411764705882354,
           0.2901960784313726,
           0.2901960784313726
          ],
          [
           0.33464052287581697,
           0.3542483660130719,
           0.4470588235294118,
           0.7712418300653594,
           0.8496732026143791,
           0.8104575163398694,
           0.9098039215686274,
           0.7594771241830065,
           0.8993464052287581,
           0.8000000000000002,
           0.5529411764705884,
           0.4326797385620915,
           0.39738562091503266,
           0.6771241830065359,
           0.8065359477124184,
           0.7333333333333334,
           0.7568627450980392,
           0.7032679738562092,
           0.6601307189542484,
           0.6705882352941176,
           0.6222222222222222,
           0.7908496732026143,
           0.8313725490196079,
           0.7960784313725492,
           0.8810457516339869,
           0.6666666666666666,
           0.48627450980392156,
           0.3738562091503268,
           0.30718954248366015,
           0.29411764705882354,
           0.2901960784313726,
           0.2901960784313726
          ],
          [
           0.330718954248366,
           0.3542483660130719,
           0.46013071895424834,
           0.780392156862745,
           0.8444444444444444,
           0.792156862745098,
           0.9294117647058825,
           0.7673202614379084,
           0.8640522875816993,
           0.9398692810457515,
           0.7830065359477124,
           0.6732026143790849,
           0.7477124183006536,
           0.8758169934640523,
           0.7751633986928104,
           0.8326797385620915,
           0.9620915032679739,
           0.9633986928104575,
           0.9294117647058823,
           0.8130718954248365,
           0.6993464052287582,
           0.815686274509804,
           0.811764705882353,
           0.776470588235294,
           0.8797385620915033,
           0.6666666666666666,
           0.4823529411764706,
           0.37254901960784315,
           0.3058823529411765,
           0.29150326797385623,
           0.2901960784313726,
           0.2875816993464052
          ],
          [
           0.3281045751633987,
           0.3516339869281046,
           0.4366013071895425,
           0.7594771241830065,
           0.857516339869281,
           0.7555555555555555,
           0.9215686274509803,
           0.815686274509804,
           0.7176470588235294,
           0.8705882352941177,
           0.9607843137254902,
           0.9843137254901961,
           0.9490196078431373,
           0.8078431372549021,
           0.792156862745098,
           0.8771241830065359,
           0.7411764705882353,
           0.6901960784313724,
           0.8039215686274509,
           0.9150326797385621,
           0.9725490196078431,
           0.9921568627450981,
           0.8784313725490196,
           0.8313725490196079,
           0.8849673202614379,
           0.665359477124183,
           0.48366013071895425,
           0.37516339869281046,
           0.30718954248366015,
           0.2954248366013072,
           0.2901960784313726,
           0.2849673202614379
          ],
          [
           0.322875816993464,
           0.3490196078431373,
           0.4104575163398693,
           0.6836601307189544,
           0.8823529411764706,
           0.7294117647058823,
           0.85359477124183,
           0.9490196078431373,
           0.7647058823529411,
           0.6522875816993464,
           0.6588235294117647,
           0.6640522875816993,
           0.6915032679738561,
           0.7660130718954248,
           0.8993464052287581,
           0.8078431372549021,
           0.7032679738562092,
           0.6836601307189542,
           0.6,
           0.6104575163398693,
           0.6888888888888888,
           0.8169934640522877,
           0.7947712418300653,
           0.8078431372549019,
           0.8888888888888888,
           0.6666666666666666,
           0.48366013071895425,
           0.37516339869281046,
           0.3084967320261438,
           0.2954248366013072,
           0.2888888888888889,
           0.2823529411764706
          ],
          [
           0.32156862745098036,
           0.33856209150326794,
           0.3686274509803922,
           0.5633986928104575,
           0.8967320261437908,
           0.7725490196078431,
           0.7098039215686275,
           0.9124183006535947,
           0.9633986928104575,
           0.8627450980392156,
           0.7320261437908497,
           0.7189542483660131,
           0.8366013071895425,
           0.942483660130719,
           0.8300653594771242,
           0.7150326797385621,
           0.8627450980392157,
           0.9607843137254902,
           0.9241830065359476,
           0.865359477124183,
           0.74640522875817,
           0.6549019607843137,
           0.5725490196078432,
           0.7058823529411765,
           0.8888888888888888,
           0.665359477124183,
           0.4823529411764706,
           0.3738562091503268,
           0.3058823529411765,
           0.2954248366013072,
           0.28888888888888886,
           0.2810457516339869
          ],
          [
           0.32287581699346407,
           0.34117647058823525,
           0.3594771241830066,
           0.4143790849673203,
           0.7202614379084967,
           0.9124183006535947,
           0.7594771241830065,
           0.6522875816993464,
           0.8104575163398694,
           0.9411764705882354,
           0.9633986928104575,
           0.9607843137254902,
           0.9098039215686274,
           0.7437908496732026,
           0.6941176470588236,
           0.8287581699346406,
           0.8718954248366013,
           0.7281045751633988,
           0.7254901960784313,
           0.8601307189542483,
           0.9490196078431373,
           0.9477124183006537,
           0.8836601307189542,
           0.9006535947712417,
           0.9071895424836601,
           0.6928104575163397,
           0.4862745098039216,
           0.3790849673202614,
           0.3006535947712418,
           0.2901960784313726,
           0.29150326797385623,
           0.28496732026143795
          ],
          [
           0.31633986928104574,
           0.32941176470588235,
           0.35032679738562095,
           0.3764705882352941,
           0.526797385620915,
           0.8209150326797386,
           0.9281045751633986,
           0.7725490196078431,
           0.6261437908496732,
           0.5986928104575163,
           0.6,
           0.6039215686274509,
           0.6078431372549019,
           0.6823529411764705,
           0.8287581699346406,
           0.8758169934640523,
           0.7176470588235294,
           0.534640522875817,
           0.44836601307189544,
           0.4666666666666666,
           0.5673202614379085,
           0.7254901960784313,
           0.8888888888888888,
           0.9751633986928104,
           0.9385620915032679,
           0.7307189542483661,
           0.5189542483660131,
           0.39477124183006534,
           0.31241830065359477,
           0.2928104575163399,
           0.2888888888888889,
           0.28758169934640526
          ],
          [
           0.30457516339869284,
           0.31241830065359477,
           0.33464052287581697,
           0.34640522875817,
           0.37254901960784315,
           0.5398692810457516,
           0.8091503267973855,
           0.9620915032679739,
           0.9333333333333335,
           0.8457516339869281,
           0.7686274509803921,
           0.7934640522875817,
           0.869281045751634,
           0.9359477124183005,
           0.8875816993464052,
           0.7150326797385621,
           0.5372549019607843,
           0.4444444444444445,
           0.3843137254901961,
           0.32941176470588235,
           0.31633986928104574,
           0.36601307189542487,
           0.4588235294117647,
           0.5908496732026144,
           0.6810457516339868,
           0.5555555555555555,
           0.43137254901960786,
           0.3542483660130719,
           0.30196078431372547,
           0.2954248366013072,
           0.2901960784313726,
           0.29150326797385623
          ],
          [
           0.3019607843137255,
           0.3084967320261438,
           0.31895424836601305,
           0.3254901960784314,
           0.33856209150326794,
           0.35294117647058826,
           0.4522875816993464,
           0.6470588235294118,
           0.8392156862745098,
           0.9450980392156864,
           0.9803921568627452,
           0.9647058823529412,
           0.9071895424836601,
           0.7856209150326797,
           0.6248366013071895,
           0.49411764705882355,
           0.41568627450980394,
           0.3568627450980392,
           0.3241830065359477,
           0.3137254901960784,
           0.3084967320261438,
           0.3111111111111111,
           0.3111111111111111,
           0.330718954248366,
           0.3673202614379085,
           0.3516339869281046,
           0.3372549019607843,
           0.30849673202614375,
           0.29150326797385623,
           0.2954248366013072,
           0.28758169934640526,
           0.28366013071895424
          ],
          [
           0.29934640522875816,
           0.30457516339869284,
           0.3098039215686275,
           0.31633986928104574,
           0.32941176470588235,
           0.3424836601307189,
           0.3333333333333333,
           0.35294117647058826,
           0.4052287581699346,
           0.4928104575163399,
           0.5490196078431372,
           0.5490196078431373,
           0.4993464052287582,
           0.4444444444444445,
           0.42091503267973857,
           0.3712418300653595,
           0.32679738562091504,
           0.3111111111111111,
           0.3045751633986928,
           0.29934640522875816,
           0.2954248366013072,
           0.2928104575163399,
           0.30196078431372547,
           0.3084967320261438,
           0.3045751633986928,
           0.3006535947712418,
           0.2980392156862745,
           0.2888888888888889,
           0.2862745098039216,
           0.28496732026143795,
           0.28888888888888886,
           0.29150326797385623
          ],
          [
           0.29934640522875816,
           0.2993464052287582,
           0.3006535947712418,
           0.3006535947712418,
           0.32026143790849676,
           0.33202614379084966,
           0.3150326797385621,
           0.330718954248366,
           0.32287581699346407,
           0.322875816993464,
           0.29934640522875816,
           0.3359477124183006,
           0.3241830065359477,
           0.3333333333333333,
           0.330718954248366,
           0.3019607843137255,
           0.29673202614379085,
           0.2862745098039216,
           0.27450980392156865,
           0.273202614379085,
           0.27581699346405225,
           0.28758169934640526,
           0.2928104575163399,
           0.29934640522875816,
           0.3006535947712418,
           0.29411764705882354,
           0.2862745098039216,
           0.28627450980392155,
           0.28758169934640526,
           0.2888888888888889,
           0.2888888888888889,
           0.29150326797385623
          ],
          [
           0.29673202614379085,
           0.2980392156862745,
           0.2980392156862745,
           0.29673202614379085,
           0.2928104575163399,
           0.29934640522875816,
           0.29934640522875816,
           0.31241830065359477,
           0.3111111111111111,
           0.3137254901960784,
           0.30980392156862746,
           0.30457516339869284,
           0.3032679738562091,
           0.3071895424836601,
           0.29934640522875816,
           0.2901960784313726,
           0.29411764705882354,
           0.29673202614379085,
           0.29411764705882354,
           0.2901960784313726,
           0.29411764705882354,
           0.30718954248366015,
           0.3084967320261438,
           0.3124183006535948,
           0.31764705882352945,
           0.3150326797385621,
           0.30980392156862746,
           0.31764705882352945,
           0.31895424836601305,
           0.31895424836601305,
           0.31764705882352945,
           0.3215686274509804
          ],
          [
           0.2980392156862745,
           0.3058823529411765,
           0.3058823529411765,
           0.3058823529411765,
           0.3032679738562092,
           0.30457516339869284,
           0.3084967320261438,
           0.31503267973856214,
           0.3163398692810458,
           0.3163398692810458,
           0.31503267973856214,
           0.32287581699346407,
           0.3215686274509804,
           0.32287581699346407,
           0.3189542483660131,
           0.31764705882352945,
           0.3176470588235294,
           0.32941176470588235,
           0.3359477124183006,
           0.33856209150326794,
           0.33856209150326794,
           0.3424836601307189,
           0.3398692810457516,
           0.342483660130719,
           0.35032679738562095,
           0.3490196078431373,
           0.35032679738562095,
           0.35032679738562095,
           0.3490196078431373,
           0.34771241830065364,
           0.3516339869281046,
           0.35816993464052294
          ],
          [
           0.3281045751633987,
           0.3281045751633987,
           0.32679738562091504,
           0.322875816993464,
           0.32941176470588235,
           0.3359477124183006,
           0.33464052287581697,
           0.3398692810457516,
           0.34379084967320267,
           0.34117647058823536,
           0.3424836601307189,
           0.35032679738562095,
           0.35032679738562095,
           0.3516339869281046,
           0.3450980392156863,
           0.3450980392156863,
           0.3450980392156863,
           0.34379084967320267,
           0.3424836601307189,
           0.34379084967320256,
           0.34640522875817,
           0.34771241830065364,
           0.3450980392156863,
           0.3450980392156863,
           0.3359477124183006,
           0.3333333333333333,
           0.3333333333333333,
           0.32679738562091504,
           0.3241830065359477,
           0.32287581699346407,
           0.3150326797385621,
           0.31241830065359477
          ],
          [
           0.3490196078431372,
           0.3424836601307189,
           0.3372549019607843,
           0.33464052287581697,
           0.3372549019607843,
           0.3398692810457516,
           0.3398692810457516,
           0.3372549019607843,
           0.3359477124183006,
           0.3333333333333333,
           0.3333333333333333,
           0.32679738562091504,
           0.3281045751633987,
           0.32941176470588235,
           0.322875816993464,
           0.31895424836601305,
           0.3202614379084967,
           0.3150326797385621,
           0.3084967320261438,
           0.30980392156862746,
           0.30718954248366015,
           0.3045751633986928,
           0.30718954248366015,
           0.3032679738562091,
           0.2980392156862745,
           0.29673202614379085,
           0.2954248366013072,
           0.2862745098039216,
           0.2862745098039216,
           0.28496732026143795,
           0.2823529411764706,
           0.2823529411764706
          ],
          [
           0.3241830065359477,
           0.3215686274509804,
           0.31895424836601305,
           0.3137254901960784,
           0.3150326797385621,
           0.3137254901960784,
           0.31241830065359477,
           0.30457516339869284,
           0.2954248366013072,
           0.2928104575163399,
           0.2901960784313726,
           0.2928104575163399,
           0.2928104575163399,
           0.28888888888888886,
           0.2823529411764706,
           0.2797385620915033,
           0.27712418300653596,
           0.27581699346405225,
           0.27058823529411763,
           0.2679738562091503,
           0.2679738562091503,
           0.2679738562091503,
           0.27058823529411763,
           0.27320261437908494,
           0.269281045751634,
           0.2679738562091503,
           0.27058823529411763,
           0.269281045751634,
           0.27058823529411763,
           0.27320261437908494,
           0.27058823529411763,
           0.27450980392156865
          ],
          [
           0.29673202614379085,
           0.29673202614379085,
           0.2980392156862745,
           0.2928104575163399,
           0.2901960784313726,
           0.2888888888888889,
           0.28627450980392155,
           0.28627450980392155,
           0.2901960784313726,
           0.2875816993464052,
           0.2849673202614379,
           0.2797385620915033,
           0.2745098039215686,
           0.27058823529411763,
           0.27320261437908494,
           0.269281045751634,
           0.26666666666666666,
           0.269281045751634,
           0.269281045751634,
           0.26405228758169935,
           0.2601307189542484,
           0.2601307189542484,
           0.26405228758169935,
           0.265359477124183,
           0.2627450980392157,
           0.2627450980392157,
           0.265359477124183,
           0.265359477124183,
           0.2679738562091503,
           0.27058823529411763,
           0.27058823529411763,
           0.27320261437908494
          ],
          [
           0.2928104575163399,
           0.3006535947712418,
           0.3006535947712418,
           0.2980392156862745,
           0.29150326797385623,
           0.2928104575163399,
           0.2875816993464052,
           0.2849673202614379,
           0.2823529411764706,
           0.2849673202614379,
           0.28496732026143795,
           0.2901960784313726,
           0.2836601307189543,
           0.2758169934640523,
           0.27058823529411763,
           0.26405228758169935,
           0.2601307189542484,
           0.26405228758169935,
           0.26666666666666666,
           0.25882352941176473,
           0.25620915032679736,
           0.2549019607843137,
           0.2562091503267974,
           0.2601307189542484,
           0.25620915032679736,
           0.26143790849673204,
           0.2627450980392157,
           0.26143790849673204,
           0.26405228758169935,
           0.26666666666666666,
           0.27058823529411763,
           0.27320261437908494
          ],
          [
           0.29673202614379085,
           0.2980392156862745,
           0.2954248366013072,
           0.2954248366013072,
           0.29411764705882354,
           0.2928104575163399,
           0.2901960784313726,
           0.28758169934640526,
           0.2901960784313726,
           0.2888888888888889,
           0.2928104575163399,
           0.29150326797385623,
           0.2888888888888889,
           0.2784313725490196,
           0.2745098039215686,
           0.27320261437908494,
           0.2679738562091503,
           0.2679738562091503,
           0.265359477124183,
           0.26143790849673204,
           0.2601307189542484,
           0.2627450980392157,
           0.2627450980392157,
           0.26405228758169935,
           0.2627450980392157,
           0.26405228758169935,
           0.265359477124183,
           0.26143790849673204,
           0.2627450980392157,
           0.25882352941176473,
           0.2627450980392157,
           0.26666666666666666
          ],
          [
           0.28888888888888886,
           0.2915032679738562,
           0.28888888888888886,
           0.28627450980392155,
           0.28758169934640526,
           0.28627450980392155,
           0.28104575163398693,
           0.28104575163398693,
           0.2849673202614379,
           0.2836601307189543,
           0.28496732026143795,
           0.2823529411764706,
           0.2797385620915032,
           0.2718954248366013,
           0.27058823529411763,
           0.27058823529411763,
           0.269281045751634,
           0.26666666666666666,
           0.2601307189542484,
           0.25882352941176473,
           0.2562091503267974,
           0.2575163398692811,
           0.2549019607843137,
           0.25620915032679736,
           0.26013071895424833,
           0.26013071895424833,
           0.261437908496732,
           0.26013071895424833,
           0.25620915032679736,
           0.2549019607843137,
           0.25620915032679736,
           0.2549019607843137
          ],
          [
           0.2823529411764706,
           0.28104575163398693,
           0.2823529411764706,
           0.2797385620915033,
           0.2784313725490196,
           0.2784313725490196,
           0.273202614379085,
           0.27450980392156865,
           0.2758169934640523,
           0.2718954248366013,
           0.2718954248366013,
           0.27058823529411763,
           0.26666666666666666,
           0.26405228758169935,
           0.26405228758169935,
           0.26405228758169935,
           0.26405228758169935,
           0.257516339869281,
           0.25359477124183005,
           0.2522875816993464,
           0.24705882352941178,
           0.2431372549019608,
           0.2431372549019608,
           0.24444444444444446,
           0.2522875816993464,
           0.2522875816993464,
           0.25359477124183005,
           0.2522875816993464,
           0.25098039215686274,
           0.25098039215686274,
           0.24444444444444446,
           0.24575163398692812
          ]
         ]
        }
       ],
       "layout": {
        "template": {
         "data": {
          "bar": [
           {
            "error_x": {
             "color": "#f2f5fa"
            },
            "error_y": {
             "color": "#f2f5fa"
            },
            "marker": {
             "line": {
              "color": "rgb(17,17,17)",
              "width": 0.5
             },
             "pattern": {
              "fillmode": "overlay",
              "size": 10,
              "solidity": 0.2
             }
            },
            "type": "bar"
           }
          ],
          "barpolar": [
           {
            "marker": {
             "line": {
              "color": "rgb(17,17,17)",
              "width": 0.5
             },
             "pattern": {
              "fillmode": "overlay",
              "size": 10,
              "solidity": 0.2
             }
            },
            "type": "barpolar"
           }
          ],
          "carpet": [
           {
            "aaxis": {
             "endlinecolor": "#A2B1C6",
             "gridcolor": "#506784",
             "linecolor": "#506784",
             "minorgridcolor": "#506784",
             "startlinecolor": "#A2B1C6"
            },
            "baxis": {
             "endlinecolor": "#A2B1C6",
             "gridcolor": "#506784",
             "linecolor": "#506784",
             "minorgridcolor": "#506784",
             "startlinecolor": "#A2B1C6"
            },
            "type": "carpet"
           }
          ],
          "choropleth": [
           {
            "colorbar": {
             "outlinewidth": 0,
             "ticks": ""
            },
            "type": "choropleth"
           }
          ],
          "contour": [
           {
            "colorbar": {
             "outlinewidth": 0,
             "ticks": ""
            },
            "colorscale": [
             [
              0,
              "#0d0887"
             ],
             [
              0.1111111111111111,
              "#46039f"
             ],
             [
              0.2222222222222222,
              "#7201a8"
             ],
             [
              0.3333333333333333,
              "#9c179e"
             ],
             [
              0.4444444444444444,
              "#bd3786"
             ],
             [
              0.5555555555555556,
              "#d8576b"
             ],
             [
              0.6666666666666666,
              "#ed7953"
             ],
             [
              0.7777777777777778,
              "#fb9f3a"
             ],
             [
              0.8888888888888888,
              "#fdca26"
             ],
             [
              1,
              "#f0f921"
             ]
            ],
            "type": "contour"
           }
          ],
          "contourcarpet": [
           {
            "colorbar": {
             "outlinewidth": 0,
             "ticks": ""
            },
            "type": "contourcarpet"
           }
          ],
          "heatmap": [
           {
            "colorbar": {
             "outlinewidth": 0,
             "ticks": ""
            },
            "colorscale": [
             [
              0,
              "#0d0887"
             ],
             [
              0.1111111111111111,
              "#46039f"
             ],
             [
              0.2222222222222222,
              "#7201a8"
             ],
             [
              0.3333333333333333,
              "#9c179e"
             ],
             [
              0.4444444444444444,
              "#bd3786"
             ],
             [
              0.5555555555555556,
              "#d8576b"
             ],
             [
              0.6666666666666666,
              "#ed7953"
             ],
             [
              0.7777777777777778,
              "#fb9f3a"
             ],
             [
              0.8888888888888888,
              "#fdca26"
             ],
             [
              1,
              "#f0f921"
             ]
            ],
            "type": "heatmap"
           }
          ],
          "heatmapgl": [
           {
            "colorbar": {
             "outlinewidth": 0,
             "ticks": ""
            },
            "colorscale": [
             [
              0,
              "#0d0887"
             ],
             [
              0.1111111111111111,
              "#46039f"
             ],
             [
              0.2222222222222222,
              "#7201a8"
             ],
             [
              0.3333333333333333,
              "#9c179e"
             ],
             [
              0.4444444444444444,
              "#bd3786"
             ],
             [
              0.5555555555555556,
              "#d8576b"
             ],
             [
              0.6666666666666666,
              "#ed7953"
             ],
             [
              0.7777777777777778,
              "#fb9f3a"
             ],
             [
              0.8888888888888888,
              "#fdca26"
             ],
             [
              1,
              "#f0f921"
             ]
            ],
            "type": "heatmapgl"
           }
          ],
          "histogram": [
           {
            "marker": {
             "pattern": {
              "fillmode": "overlay",
              "size": 10,
              "solidity": 0.2
             }
            },
            "type": "histogram"
           }
          ],
          "histogram2d": [
           {
            "colorbar": {
             "outlinewidth": 0,
             "ticks": ""
            },
            "colorscale": [
             [
              0,
              "#0d0887"
             ],
             [
              0.1111111111111111,
              "#46039f"
             ],
             [
              0.2222222222222222,
              "#7201a8"
             ],
             [
              0.3333333333333333,
              "#9c179e"
             ],
             [
              0.4444444444444444,
              "#bd3786"
             ],
             [
              0.5555555555555556,
              "#d8576b"
             ],
             [
              0.6666666666666666,
              "#ed7953"
             ],
             [
              0.7777777777777778,
              "#fb9f3a"
             ],
             [
              0.8888888888888888,
              "#fdca26"
             ],
             [
              1,
              "#f0f921"
             ]
            ],
            "type": "histogram2d"
           }
          ],
          "histogram2dcontour": [
           {
            "colorbar": {
             "outlinewidth": 0,
             "ticks": ""
            },
            "colorscale": [
             [
              0,
              "#0d0887"
             ],
             [
              0.1111111111111111,
              "#46039f"
             ],
             [
              0.2222222222222222,
              "#7201a8"
             ],
             [
              0.3333333333333333,
              "#9c179e"
             ],
             [
              0.4444444444444444,
              "#bd3786"
             ],
             [
              0.5555555555555556,
              "#d8576b"
             ],
             [
              0.6666666666666666,
              "#ed7953"
             ],
             [
              0.7777777777777778,
              "#fb9f3a"
             ],
             [
              0.8888888888888888,
              "#fdca26"
             ],
             [
              1,
              "#f0f921"
             ]
            ],
            "type": "histogram2dcontour"
           }
          ],
          "mesh3d": [
           {
            "colorbar": {
             "outlinewidth": 0,
             "ticks": ""
            },
            "type": "mesh3d"
           }
          ],
          "parcoords": [
           {
            "line": {
             "colorbar": {
              "outlinewidth": 0,
              "ticks": ""
             }
            },
            "type": "parcoords"
           }
          ],
          "pie": [
           {
            "automargin": true,
            "type": "pie"
           }
          ],
          "scatter": [
           {
            "marker": {
             "line": {
              "color": "#283442"
             }
            },
            "type": "scatter"
           }
          ],
          "scatter3d": [
           {
            "line": {
             "colorbar": {
              "outlinewidth": 0,
              "ticks": ""
             }
            },
            "marker": {
             "colorbar": {
              "outlinewidth": 0,
              "ticks": ""
             }
            },
            "type": "scatter3d"
           }
          ],
          "scattercarpet": [
           {
            "marker": {
             "colorbar": {
              "outlinewidth": 0,
              "ticks": ""
             }
            },
            "type": "scattercarpet"
           }
          ],
          "scattergeo": [
           {
            "marker": {
             "colorbar": {
              "outlinewidth": 0,
              "ticks": ""
             }
            },
            "type": "scattergeo"
           }
          ],
          "scattergl": [
           {
            "marker": {
             "line": {
              "color": "#283442"
             }
            },
            "type": "scattergl"
           }
          ],
          "scattermapbox": [
           {
            "marker": {
             "colorbar": {
              "outlinewidth": 0,
              "ticks": ""
             }
            },
            "type": "scattermapbox"
           }
          ],
          "scatterpolar": [
           {
            "marker": {
             "colorbar": {
              "outlinewidth": 0,
              "ticks": ""
             }
            },
            "type": "scatterpolar"
           }
          ],
          "scatterpolargl": [
           {
            "marker": {
             "colorbar": {
              "outlinewidth": 0,
              "ticks": ""
             }
            },
            "type": "scatterpolargl"
           }
          ],
          "scatterternary": [
           {
            "marker": {
             "colorbar": {
              "outlinewidth": 0,
              "ticks": ""
             }
            },
            "type": "scatterternary"
           }
          ],
          "surface": [
           {
            "colorbar": {
             "outlinewidth": 0,
             "ticks": ""
            },
            "colorscale": [
             [
              0,
              "#0d0887"
             ],
             [
              0.1111111111111111,
              "#46039f"
             ],
             [
              0.2222222222222222,
              "#7201a8"
             ],
             [
              0.3333333333333333,
              "#9c179e"
             ],
             [
              0.4444444444444444,
              "#bd3786"
             ],
             [
              0.5555555555555556,
              "#d8576b"
             ],
             [
              0.6666666666666666,
              "#ed7953"
             ],
             [
              0.7777777777777778,
              "#fb9f3a"
             ],
             [
              0.8888888888888888,
              "#fdca26"
             ],
             [
              1,
              "#f0f921"
             ]
            ],
            "type": "surface"
           }
          ],
          "table": [
           {
            "cells": {
             "fill": {
              "color": "#506784"
             },
             "line": {
              "color": "rgb(17,17,17)"
             }
            },
            "header": {
             "fill": {
              "color": "#2a3f5f"
             },
             "line": {
              "color": "rgb(17,17,17)"
             }
            },
            "type": "table"
           }
          ]
         },
         "layout": {
          "annotationdefaults": {
           "arrowcolor": "#f2f5fa",
           "arrowhead": 0,
           "arrowwidth": 1
          },
          "autotypenumbers": "strict",
          "coloraxis": {
           "colorbar": {
            "outlinewidth": 0,
            "ticks": ""
           }
          },
          "colorscale": {
           "diverging": [
            [
             0,
             "#8e0152"
            ],
            [
             0.1,
             "#c51b7d"
            ],
            [
             0.2,
             "#de77ae"
            ],
            [
             0.3,
             "#f1b6da"
            ],
            [
             0.4,
             "#fde0ef"
            ],
            [
             0.5,
             "#f7f7f7"
            ],
            [
             0.6,
             "#e6f5d0"
            ],
            [
             0.7,
             "#b8e186"
            ],
            [
             0.8,
             "#7fbc41"
            ],
            [
             0.9,
             "#4d9221"
            ],
            [
             1,
             "#276419"
            ]
           ],
           "sequential": [
            [
             0,
             "#0d0887"
            ],
            [
             0.1111111111111111,
             "#46039f"
            ],
            [
             0.2222222222222222,
             "#7201a8"
            ],
            [
             0.3333333333333333,
             "#9c179e"
            ],
            [
             0.4444444444444444,
             "#bd3786"
            ],
            [
             0.5555555555555556,
             "#d8576b"
            ],
            [
             0.6666666666666666,
             "#ed7953"
            ],
            [
             0.7777777777777778,
             "#fb9f3a"
            ],
            [
             0.8888888888888888,
             "#fdca26"
            ],
            [
             1,
             "#f0f921"
            ]
           ],
           "sequentialminus": [
            [
             0,
             "#0d0887"
            ],
            [
             0.1111111111111111,
             "#46039f"
            ],
            [
             0.2222222222222222,
             "#7201a8"
            ],
            [
             0.3333333333333333,
             "#9c179e"
            ],
            [
             0.4444444444444444,
             "#bd3786"
            ],
            [
             0.5555555555555556,
             "#d8576b"
            ],
            [
             0.6666666666666666,
             "#ed7953"
            ],
            [
             0.7777777777777778,
             "#fb9f3a"
            ],
            [
             0.8888888888888888,
             "#fdca26"
            ],
            [
             1,
             "#f0f921"
            ]
           ]
          },
          "colorway": [
           "#636efa",
           "#EF553B",
           "#00cc96",
           "#ab63fa",
           "#FFA15A",
           "#19d3f3",
           "#FF6692",
           "#B6E880",
           "#FF97FF",
           "#FECB52"
          ],
          "font": {
           "color": "#f2f5fa"
          },
          "geo": {
           "bgcolor": "rgb(17,17,17)",
           "lakecolor": "rgb(17,17,17)",
           "landcolor": "rgb(17,17,17)",
           "showlakes": true,
           "showland": true,
           "subunitcolor": "#506784"
          },
          "hoverlabel": {
           "align": "left"
          },
          "hovermode": "closest",
          "mapbox": {
           "style": "dark"
          },
          "paper_bgcolor": "rgb(17,17,17)",
          "plot_bgcolor": "rgb(17,17,17)",
          "polar": {
           "angularaxis": {
            "gridcolor": "#506784",
            "linecolor": "#506784",
            "ticks": ""
           },
           "bgcolor": "rgb(17,17,17)",
           "radialaxis": {
            "gridcolor": "#506784",
            "linecolor": "#506784",
            "ticks": ""
           }
          },
          "scene": {
           "xaxis": {
            "backgroundcolor": "rgb(17,17,17)",
            "gridcolor": "#506784",
            "gridwidth": 2,
            "linecolor": "#506784",
            "showbackground": true,
            "ticks": "",
            "zerolinecolor": "#C8D4E3"
           },
           "yaxis": {
            "backgroundcolor": "rgb(17,17,17)",
            "gridcolor": "#506784",
            "gridwidth": 2,
            "linecolor": "#506784",
            "showbackground": true,
            "ticks": "",
            "zerolinecolor": "#C8D4E3"
           },
           "zaxis": {
            "backgroundcolor": "rgb(17,17,17)",
            "gridcolor": "#506784",
            "gridwidth": 2,
            "linecolor": "#506784",
            "showbackground": true,
            "ticks": "",
            "zerolinecolor": "#C8D4E3"
           }
          },
          "shapedefaults": {
           "line": {
            "color": "#f2f5fa"
           }
          },
          "sliderdefaults": {
           "bgcolor": "#C8D4E3",
           "bordercolor": "rgb(17,17,17)",
           "borderwidth": 1,
           "tickwidth": 0
          },
          "ternary": {
           "aaxis": {
            "gridcolor": "#506784",
            "linecolor": "#506784",
            "ticks": ""
           },
           "baxis": {
            "gridcolor": "#506784",
            "linecolor": "#506784",
            "ticks": ""
           },
           "bgcolor": "rgb(17,17,17)",
           "caxis": {
            "gridcolor": "#506784",
            "linecolor": "#506784",
            "ticks": ""
           }
          },
          "title": {
           "x": 0.05
          },
          "updatemenudefaults": {
           "bgcolor": "#506784",
           "borderwidth": 0
          },
          "xaxis": {
           "automargin": true,
           "gridcolor": "#283442",
           "linecolor": "#506784",
           "ticks": "",
           "title": {
            "standoff": 15
           },
           "zerolinecolor": "#283442",
           "zerolinewidth": 2
          },
          "yaxis": {
           "automargin": true,
           "gridcolor": "#283442",
           "linecolor": "#506784",
           "ticks": "",
           "title": {
            "standoff": 15
           },
           "zerolinecolor": "#283442",
           "zerolinewidth": 2
          }
         }
        },
        "title": {
         "text": "MLP vs CNN Prediction distribution",
         "x": 0.25
        },
        "xaxis": {
         "anchor": "y",
         "domain": [
          0,
          0.27
         ],
         "title": {
          "text": "MLP Predicts [5] -- CNN Predicts [3] "
         }
        },
        "xaxis2": {
         "anchor": "y2",
         "domain": [
          0.37,
          1
         ],
         "dtick": 1
        },
        "xaxis3": {
         "anchor": "y3",
         "domain": [
          0.37,
          1
         ]
        },
        "yaxis": {
         "anchor": "x",
         "domain": [
          0,
          1
         ]
        },
        "yaxis2": {
         "anchor": "x2",
         "domain": [
          0.575,
          1
         ],
         "title": {
          "text": "Prob MLP"
         }
        },
        "yaxis3": {
         "anchor": "x3",
         "domain": [
          0,
          0.425
         ],
         "title": {
          "text": "Prob CMM"
         }
        }
       }
      }
     },
     "metadata": {},
     "output_type": "display_data"
    }
   ],
   "source": [
    "plot_pred_dist()"
   ]
  },
  {
   "cell_type": "code",
   "execution_count": 103,
   "metadata": {},
   "outputs": [
    {
     "name": "stdout",
     "output_type": "stream",
     "text": [
      "1/1 [==============================] - 0s 28ms/step\n",
      "1/1 [==============================] - 0s 26ms/step\n"
     ]
    },
    {
     "data": {
      "application/vnd.plotly.v1+json": {
       "config": {
        "plotlyServerURL": "https://plot.ly"
       },
       "data": [
        {
         "colorscale": [
          [
           0,
           "rgb(0, 0, 0)"
          ],
          [
           0.09090909090909091,
           "rgb(16, 16, 16)"
          ],
          [
           0.18181818181818182,
           "rgb(38, 38, 38)"
          ],
          [
           0.2727272727272727,
           "rgb(59, 59, 59)"
          ],
          [
           0.36363636363636365,
           "rgb(81, 80, 80)"
          ],
          [
           0.45454545454545453,
           "rgb(102, 101, 101)"
          ],
          [
           0.5454545454545454,
           "rgb(124, 123, 122)"
          ],
          [
           0.6363636363636364,
           "rgb(146, 146, 145)"
          ],
          [
           0.7272727272727273,
           "rgb(171, 171, 170)"
          ],
          [
           0.8181818181818182,
           "rgb(197, 197, 195)"
          ],
          [
           0.9090909090909091,
           "rgb(224, 224, 223)"
          ],
          [
           1,
           "rgb(254, 254, 253)"
          ]
         ],
         "name": "Image",
         "showscale": false,
         "transpose": true,
         "type": "heatmap",
         "xaxis": "x",
         "yaxis": "y",
         "z": [
          [
           0.2431372549019608,
           0.27320261437908494,
           0.2928104575163399,
           0.3111111111111111,
           0.3215686274509804,
           0.3032679738562091,
           0.3006535947712418,
           0.31633986928104574,
           0.3202614379084967,
           0.3032679738562091,
           0.2928104575163399,
           0.29411764705882354,
           0.3032679738562092,
           0.3058823529411765,
           0.3032679738562091,
           0.29150326797385623,
           0.2745098039215686,
           0.2771241830065359,
           0.3045751633986928,
           0.3620915032679739,
           0.44836601307189544,
           0.5372549019607843,
           0.5882352941176471,
           0.5790849673202615,
           0.526797385620915,
           0.4588235294117647,
           0.39869281045751626,
           0.33202614379084966,
           0.27581699346405225,
           0.2679738562091503,
           0.3111111111111111,
           0.38431372549019605
          ],
          [
           0.3215686274509804,
           0.3712418300653595,
           0.4222222222222222,
           0.46535947712418296,
           0.49411764705882355,
           0.4862745098039216,
           0.4901960784313726,
           0.5176470588235295,
           0.5254901960784314,
           0.5071895424836601,
           0.4954248366013072,
           0.4901960784313726,
           0.4928104575163399,
           0.4980392156862745,
           0.4993464052287582,
           0.49150326797385624,
           0.4797385620915033,
           0.4758169934640522,
           0.4797385620915033,
           0.5215686274509804,
           0.6065359477124184,
           0.6915032679738561,
           0.7189542483660131,
           0.7215686274509804,
           0.6967320261437907,
           0.6392156862745098,
           0.5594771241830064,
           0.4104575163398693,
           0.3215686274509804,
           0.28104575163398693,
           0.29934640522875816,
           0.3686274509803921
          ],
          [
           0.3712418300653595,
           0.4431372549019608,
           0.5202614379084968,
           0.5869281045751634,
           0.6313725490196078,
           0.6339869281045751,
           0.6379084967320261,
           0.6679738562091503,
           0.6823529411764705,
           0.6666666666666666,
           0.6549019607843137,
           0.6483660130718953,
           0.6470588235294117,
           0.6509803921568628,
           0.6509803921568627,
           0.6470588235294117,
           0.6379084967320261,
           0.6431372549019607,
           0.6405228758169935,
           0.6601307189542484,
           0.7163398692810459,
           0.7673202614379084,
           0.7777777777777777,
           0.7895424836601307,
           0.7830065359477124,
           0.7503267973856209,
           0.6771241830065359,
           0.46928104575163393,
           0.35947712418300654,
           0.29934640522875816,
           0.2954248366013072,
           0.3607843137254902
          ],
          [
           0.37516339869281046,
           0.44575163398692813,
           0.522875816993464,
           0.5908496732026144,
           0.6352941176470588,
           0.6366013071895424,
           0.6392156862745098,
           0.6588235294117647,
           0.6718954248366013,
           0.6640522875816993,
           0.661437908496732,
           0.6562091503267974,
           0.6522875816993464,
           0.6509803921568628,
           0.645751633986928,
           0.6418300653594771,
           0.6366013071895424,
           0.6248366013071895,
           0.6274509803921569,
           0.6457516339869281,
           0.6679738562091503,
           0.6849673202614378,
           0.695424836601307,
           0.70718954248366,
           0.70718954248366,
           0.6888888888888888,
           0.6483660130718953,
           0.4705882352941177,
           0.37254901960784315,
           0.3084967320261438,
           0.29673202614379085,
           0.35947712418300654
          ],
          [
           0.34379084967320256,
           0.3908496732026143,
           0.44052287581699345,
           0.4901960784313726,
           0.5215686274509804,
           0.5084967320261438,
           0.5071895424836601,
           0.5098039215686274,
           0.5111111111111112,
           0.5176470588235295,
           0.5241830065359477,
           0.5241830065359477,
           0.5176470588235293,
           0.5111111111111111,
           0.5032679738562091,
           0.4980392156862745,
           0.4954248366013072,
           0.4366013071895425,
           0.4496732026143791,
           0.48888888888888893,
           0.4901960784313726,
           0.4928104575163399,
           0.5189542483660131,
           0.5281045751633987,
           0.5189542483660131,
           0.5071895424836601,
           0.5071895424836601,
           0.42745098039215684,
           0.3712418300653595,
           0.3084967320261438,
           0.2928104575163399,
           0.35555555555555557
          ],
          [
           0.2954248366013072,
           0.31633986928104574,
           0.34117647058823525,
           0.3712418300653595,
           0.39346405228758163,
           0.3764705882352941,
           0.37777777777777777,
           0.3607843137254902,
           0.3581699346405229,
           0.3712418300653595,
           0.3738562091503268,
           0.3738562091503268,
           0.3686274509803922,
           0.3620915032679739,
           0.3581699346405229,
           0.35947712418300654,
           0.3647058823529412,
           0.3372549019607843,
           0.35555555555555557,
           0.3803921568627451,
           0.3712418300653595,
           0.3581699346405229,
           0.38169934640522873,
           0.388235294117647,
           0.3764705882352941,
           0.3764705882352941,
           0.4052287581699347,
           0.38169934640522873,
           0.3568627450980392,
           0.30457516339869284,
           0.28366013071895424,
           0.3424836601307189
          ],
          [
           0.23660130718954245,
           0.23921568627450976,
           0.2549019607843137,
           0.28496732026143795,
           0.3084967320261438,
           0.3006535947712418,
           0.30718954248366015,
           0.28496732026143795,
           0.2745098039215686,
           0.2836601307189543,
           0.2836601307189543,
           0.27712418300653596,
           0.2679738562091503,
           0.26405228758169935,
           0.27320261437908494,
           0.2901960784313726,
           0.3045751633986928,
           0.30718954248366015,
           0.3150326797385621,
           0.31241830065359477,
           0.2888888888888889,
           0.2784313725490196,
           0.27320261437908494,
           0.2745098039215686,
           0.2784313725490196,
           0.29150326797385623,
           0.32026143790849676,
           0.35294117647058826,
           0.35032679738562095,
           0.29673202614379085,
           0.26666666666666666,
           0.31895424836601305
          ],
          [
           0.2261437908496732,
           0.2169934640522876,
           0.2196078431372549,
           0.24444444444444446,
           0.2718954248366013,
           0.2718954248366013,
           0.28235294117647064,
           0.26143790849673204,
           0.2522875816993464,
           0.2627450980392157,
           0.2549019607843137,
           0.23921568627450981,
           0.2235294117647059,
           0.2235294117647059,
           0.24444444444444446,
           0.27712418300653596,
           0.29411764705882354,
           0.33202614379084966,
           0.3202614379084967,
           0.2980392156862745,
           0.3006535947712418,
           0.30980392156862746,
           0.28496732026143795,
           0.27712418300653596,
           0.28496732026143795,
           0.3006535947712418,
           0.30588235294117644,
           0.33202614379084966,
           0.3450980392156863,
           0.2954248366013072,
           0.25098039215686274,
           0.2901960784313726
          ],
          [
           0.23921568627450981,
           0.22091503267973858,
           0.24575163398692812,
           0.2888888888888889,
           0.3150326797385621,
           0.3398692810457516,
           0.3686274509803922,
           0.330718954248366,
           0.2823529411764706,
           0.26143790849673204,
           0.25620915032679736,
           0.24313725490196078,
           0.2352941176470588,
           0.2431372549019608,
           0.2627450980392157,
           0.2954248366013072,
           0.3647058823529412,
           0.4496732026143791,
           0.4496732026143791,
           0.4143790849673203,
           0.4104575163398693,
           0.4196078431372549,
           0.4169934640522876,
           0.41830065359477125,
           0.42483660130718953,
           0.43137254901960786,
           0.41307189542483663,
           0.4052287581699347,
           0.3633986928104575,
           0.29673202614379085,
           0.25620915032679736,
           0.2784313725490196
          ],
          [
           0.2627450980392157,
           0.24575163398692812,
           0.3215686274509804,
           0.39738562091503266,
           0.4222222222222222,
           0.4797385620915033,
           0.5176470588235295,
           0.4444444444444444,
           0.33202614379084966,
           0.2627450980392157,
           0.265359477124183,
           0.2549019607843137,
           0.269281045751634,
           0.2928104575163399,
           0.30980392156862746,
           0.3450980392156862,
           0.5019607843137255,
           0.615686274509804,
           0.6470588235294117,
           0.6104575163398692,
           0.5607843137254902,
           0.5594771241830065,
           0.5895424836601307,
           0.603921568627451,
           0.6091503267973857,
           0.6143790849673203,
           0.596078431372549,
           0.5516339869281046,
           0.42483660130718953,
           0.32418300653594767,
           0.28366013071895424,
           0.28758169934640526
          ],
          [
           0.3032679738562091,
           0.31241830065359477,
           0.40915032679738567,
           0.5058823529411764,
           0.5477124183006535,
           0.5895424836601307,
           0.5869281045751634,
           0.4797385620915033,
           0.3568627450980393,
           0.2862745098039216,
           0.2718954248366013,
           0.25098039215686274,
           0.2679738562091503,
           0.3058823529411765,
           0.35294117647058815,
           0.42745098039215684,
           0.6130718954248366,
           0.7163398692810458,
           0.7503267973856209,
           0.722875816993464,
           0.6679738562091503,
           0.6588235294117647,
           0.6758169934640522,
           0.6732026143790849,
           0.6797385620915032,
           0.7071895424836602,
           0.7333333333333334,
           0.6562091503267974,
           0.5215686274509804,
           0.39738562091503277,
           0.3150326797385621,
           0.2954248366013072
          ],
          [
           0.3084967320261438,
           0.34117647058823536,
           0.45751633986928103,
           0.5790849673202615,
           0.6300653594771242,
           0.6405228758169934,
           0.5803921568627451,
           0.46928104575163393,
           0.35294117647058826,
           0.27320261437908494,
           0.24444444444444446,
           0.20915032679738563,
           0.21699346405228756,
           0.25620915032679736,
           0.32287581699346407,
           0.4287581699346405,
           0.6274509803921569,
           0.7581699346405228,
           0.8026143790849675,
           0.7594771241830065,
           0.6640522875816993,
           0.611764705882353,
           0.6,
           0.5686274509803922,
           0.5830065359477125,
           0.6601307189542484,
           0.7503267973856209,
           0.7333333333333334,
           0.611764705882353,
           0.4640522875816993,
           0.35294117647058826,
           0.29934640522875816
          ],
          [
           0.30196078431372547,
           0.3490196078431373,
           0.4901960784313726,
           0.6326797385620915,
           0.6928104575163397,
           0.6849673202614378,
           0.5816993464052288,
           0.4379084967320262,
           0.322875816993464,
           0.25882352941176473,
           0.2261437908496732,
           0.19738562091503267,
           0.20000000000000004,
           0.23137254901960783,
           0.29411764705882354,
           0.40653594771241836,
           0.6000000000000001,
           0.7594771241830065,
           0.8130718954248367,
           0.7516339869281046,
           0.6196078431372549,
           0.5320261437908497,
           0.49673202614379086,
           0.4405228758169935,
           0.4562091503267974,
           0.5738562091503269,
           0.7267973856209151,
           0.7568627450980392,
           0.6535947712418301,
           0.4980392156862745,
           0.36601307189542487,
           0.29934640522875816
          ],
          [
           0.29673202614379085,
           0.3450980392156862,
           0.4954248366013072,
           0.6483660130718955,
           0.7111111111111111,
           0.6849673202614378,
           0.5647058823529412,
           0.40392156862745104,
           0.29411764705882354,
           0.2549019607843137,
           0.23398692810457514,
           0.21960784313725493,
           0.22875816993464052,
           0.25359477124183005,
           0.30718954248366015,
           0.41830065359477125,
           0.5869281045751634,
           0.7254901960784315,
           0.7712418300653594,
           0.7019607843137253,
           0.5594771241830064,
           0.45751633986928103,
           0.4052287581699346,
           0.3450980392156862,
           0.3647058823529412,
           0.5019607843137255,
           0.6862745098039215,
           0.7529411764705882,
           0.6679738562091503,
           0.5111111111111111,
           0.3686274509803922,
           0.29673202614379085
          ],
          [
           0.29411764705882354,
           0.3281045751633987,
           0.4732026143790849,
           0.6287581699346405,
           0.6862745098039215,
           0.6601307189542484,
           0.5542483660130718,
           0.411764705882353,
           0.3281045751633987,
           0.3137254901960784,
           0.3006535947712418,
           0.29411764705882354,
           0.30588235294117644,
           0.3241830065359477,
           0.3673202614379085,
           0.46535947712418296,
           0.5947712418300654,
           0.6967320261437907,
           0.7228758169934641,
           0.6431372549019607,
           0.49411764705882355,
           0.388235294117647,
           0.33202614379084966,
           0.2784313725490196,
           0.30980392156862746,
           0.45359477124183006,
           0.6379084967320261,
           0.7320261437908497,
           0.6640522875816993,
           0.5098039215686274,
           0.35947712418300654,
           0.28758169934640526
          ],
          [
           0.28496732026143795,
           0.29673202614379085,
           0.43790849673202614,
           0.5934640522875817,
           0.6535947712418301,
           0.6483660130718955,
           0.5830065359477125,
           0.5071895424836601,
           0.47450980392156855,
           0.4732026143790849,
           0.44836601307189544,
           0.43790849673202614,
           0.4366013071895425,
           0.4431372549019608,
           0.4705882352941177,
           0.5333333333333333,
           0.6222222222222222,
           0.7163398692810459,
           0.7150326797385621,
           0.6039215686274509,
           0.43660130718954254,
           0.3254901960784314,
           0.26666666666666666,
           0.2261437908496732,
           0.269281045751634,
           0.411764705882353,
           0.5764705882352942,
           0.6849673202614378,
           0.6352941176470588,
           0.48888888888888893,
           0.3372549019607843,
           0.269281045751634
          ],
          [
           0.26405228758169935,
           0.2627450980392157,
           0.40392156862745104,
           0.5686274509803921,
           0.6339869281045751,
           0.6562091503267974,
           0.6444444444444445,
           0.6836601307189542,
           0.7215686274509805,
           0.7202614379084968,
           0.6915032679738563,
           0.6692810457516339,
           0.6601307189542484,
           0.6549019607843137,
           0.657516339869281,
           0.6862745098039215,
           0.7228758169934641,
           0.7503267973856209,
           0.7098039215686275,
           0.5856209150326798,
           0.41568627450980394,
           0.3137254901960784,
           0.25098039215686274,
           0.21830065359477122,
           0.26405228758169935,
           0.3869281045751634,
           0.5071895424836601,
           0.5843137254901961,
           0.5581699346405229,
           0.43660130718954254,
           0.3058823529411765,
           0.25098039215686274
          ],
          [
           0.26405228758169935,
           0.22222222222222224,
           0.34379084967320256,
           0.48888888888888893,
           0.5320261437908497,
           0.5581699346405228,
           0.5790849673202614,
           0.6431372549019607,
           0.7045751633986926,
           0.7267973856209151,
           0.7032679738562092,
           0.6901960784313724,
           0.6836601307189542,
           0.6692810457516339,
           0.657516339869281,
           0.6549019607843137,
           0.6601307189542484,
           0.6483660130718953,
           0.592156862745098,
           0.4836601307189543,
           0.3516339869281045,
           0.28758169934640526,
           0.23660130718954245,
           0.2013071895424837,
           0.22745098039215686,
           0.3084967320261438,
           0.3830065359477124,
           0.4823529411764706,
           0.47843137254901963,
           0.38169934640522873,
           0.27320261437908494,
           0.23790849673202616
          ],
          [
           0.2888888888888889,
           0.2549019607843137,
           0.2954248366013072,
           0.3542483660130719,
           0.3764705882352941,
           0.42091503267973857,
           0.44052287581699345,
           0.47712418300653586,
           0.5137254901960784,
           0.5281045751633987,
           0.5228758169934641,
           0.5189542483660131,
           0.5202614379084968,
           0.5163398692810457,
           0.5111111111111111,
           0.5124183006535947,
           0.515032679738562,
           0.4549019607843137,
           0.4052287581699347,
           0.35555555555555557,
           0.29150326797385623,
           0.2549019607843137,
           0.22875816993464052,
           0.2130718954248366,
           0.22352941176470587,
           0.2575163398692811,
           0.2823529411764706,
           0.33202614379084966,
           0.34117647058823525,
           0.29934640522875816,
           0.24836601307189543,
           0.2431372549019608
          ],
          [
           0.3150326797385621,
           0.2954248366013072,
           0.2679738562091503,
           0.24836601307189543,
           0.25882352941176473,
           0.3111111111111111,
           0.3150326797385621,
           0.32941176470588235,
           0.33856209150326794,
           0.3359477124183006,
           0.34117647058823536,
           0.342483660130719,
           0.34640522875817,
           0.3516339869281046,
           0.35555555555555557,
           0.3647058823529412,
           0.37516339869281046,
           0.30980392156862746,
           0.27843137254901956,
           0.27320261437908494,
           0.257516339869281,
           0.2366013071895425,
           0.22745098039215686,
           0.23006535947712417,
           0.23660130718954245,
           0.23790849673202616,
           0.23921568627450981,
           0.2379084967320261,
           0.24705882352941178,
           0.2431372549019608,
           0.23660130718954245,
           0.24836601307189543
          ],
          [
           0.3254901960784314,
           0.2888888888888889,
           0.2522875816993464,
           0.22875816993464052,
           0.22875816993464052,
           0.265359477124183,
           0.26405228758169935,
           0.28104575163398693,
           0.29150326797385623,
           0.2862745098039216,
           0.2823529411764706,
           0.28366013071895424,
           0.28104575163398693,
           0.2797385620915032,
           0.2797385620915033,
           0.28235294117647064,
           0.2862745098039216,
           0.2718954248366013,
           0.26013071895424833,
           0.2562091503267974,
           0.24575163398692812,
           0.2366013071895425,
           0.22875816993464052,
           0.22875816993464052,
           0.23137254901960783,
           0.23398692810457514,
           0.23790849673202616,
           0.24575163398692812,
           0.25359477124183005,
           0.2431372549019608,
           0.23137254901960783,
           0.2431372549019608
          ],
          [
           0.32941176470588235,
           0.28496732026143795,
           0.2522875816993464,
           0.23660130718954245,
           0.23267973856209154,
           0.26666666666666666,
           0.25882352941176473,
           0.2718954248366013,
           0.2784313725490196,
           0.2718954248366013,
           0.265359477124183,
           0.2575163398692811,
           0.2522875816993464,
           0.24575163398692812,
           0.2431372549019608,
           0.2431372549019608,
           0.24444444444444444,
           0.22745098039215686,
           0.22091503267973855,
           0.22483660130718955,
           0.2261437908496732,
           0.2261437908496732,
           0.22483660130718955,
           0.22483660130718955,
           0.2261437908496732,
           0.22875816993464052,
           0.23267973856209148,
           0.23398692810457514,
           0.24444444444444446,
           0.2352941176470588,
           0.2235294117647059,
           0.23790849673202616
          ],
          [
           0.32941176470588235,
           0.2849673202614379,
           0.26143790849673204,
           0.2522875816993464,
           0.25098039215686274,
           0.28627450980392155,
           0.2771241830065359,
           0.2718954248366013,
           0.265359477124183,
           0.26143790849673204,
           0.2575163398692811,
           0.2496732026143791,
           0.24183006535947715,
           0.23137254901960783,
           0.2261437908496732,
           0.22875816993464052,
           0.22745098039215686,
           0.21437908496732028,
           0.21045751633986928,
           0.21437908496732025,
           0.2169934640522876,
           0.2169934640522876,
           0.2169934640522876,
           0.21830065359477124,
           0.22091503267973858,
           0.2261437908496732,
           0.23006535947712417,
           0.23267973856209148,
           0.24183006535947713,
           0.23267973856209148,
           0.22483660130718955,
           0.24444444444444446
          ],
          [
           0.33856209150326794,
           0.2862745098039216,
           0.2575163398692811,
           0.25098039215686274,
           0.24836601307189543,
           0.2718954248366013,
           0.2627450980392157,
           0.2588235294117647,
           0.25359477124183005,
           0.24836601307189543,
           0.24705882352941178,
           0.24052287581699347,
           0.2352941176470588,
           0.22875816993464052,
           0.22483660130718955,
           0.22745098039215686,
           0.22875816993464052,
           0.22745098039215686,
           0.2261437908496732,
           0.2235294117647059,
           0.2196078431372549,
           0.21437908496732025,
           0.2130718954248366,
           0.2156862745098039,
           0.2235294117647059,
           0.22875816993464052,
           0.23790849673202616,
           0.2366013071895425,
           0.24836601307189543,
           0.24183006535947713,
           0.23529411764705885,
           0.24705882352941178
          ],
          [
           0.35947712418300654,
           0.29411764705882354,
           0.2601307189542484,
           0.2496732026143791,
           0.24313725490196078,
           0.2562091503267974,
           0.24183006535947715,
           0.24444444444444446,
           0.24575163398692812,
           0.24052287581699347,
           0.24052287581699347,
           0.23790849673202616,
           0.2339869281045752,
           0.23529411764705885,
           0.23398692810457514,
           0.23267973856209148,
           0.24313725490196078,
           0.24836601307189543,
           0.24705882352941178,
           0.23921568627450981,
           0.2261437908496732,
           0.21830065359477124,
           0.21699346405228756,
           0.21830065359477124,
           0.22745098039215686,
           0.2352941176470588,
           0.24444444444444444,
           0.24705882352941178,
           0.25620915032679736,
           0.2522875816993464,
           0.2431372549019608,
           0.24705882352941178
          ],
          [
           0.37516339869281046,
           0.3045751633986928,
           0.2679738562091503,
           0.2601307189542484,
           0.2549019607843137,
           0.2601307189542484,
           0.24183006535947715,
           0.2352941176470588,
           0.23660130718954245,
           0.2352941176470588,
           0.2352941176470588,
           0.23398692810457514,
           0.23398692810457514,
           0.2366013071895425,
           0.23790849673202616,
           0.23660130718954245,
           0.24705882352941178,
           0.2549019607843137,
           0.2549019607843137,
           0.24705882352941178,
           0.23267973856209148,
           0.2261437908496732,
           0.2261437908496732,
           0.22483660130718955,
           0.23006535947712417,
           0.23790849673202616,
           0.24575163398692812,
           0.2549019607843137,
           0.2588235294117647,
           0.25098039215686274,
           0.24052287581699347,
           0.23790849673202616
          ],
          [
           0.37516339869281046,
           0.30065359477124187,
           0.2679738562091503,
           0.265359477124183,
           0.2627450980392157,
           0.26405228758169935,
           0.25098039215686274,
           0.23267973856209148,
           0.2235294117647059,
           0.22222222222222224,
           0.22222222222222224,
           0.2196078431372549,
           0.2196078431372549,
           0.2196078431372549,
           0.2196078431372549,
           0.22222222222222224,
           0.2235294117647059,
           0.23267973856209148,
           0.23790849673202616,
           0.23790849673202616,
           0.2339869281045752,
           0.23398692810457514,
           0.23267973856209148,
           0.23137254901960783,
           0.23137254901960783,
           0.23137254901960783,
           0.23267973856209148,
           0.24836601307189543,
           0.2522875816993464,
           0.24183006535947713,
           0.2261437908496732,
           0.21568627450980393
          ],
          [
           0.3568627450980393,
           0.2797385620915033,
           0.2431372549019608,
           0.23921568627450981,
           0.22875816993464052,
           0.2235294117647059,
           0.20522875816993466,
           0.21830065359477124,
           0.23137254901960783,
           0.22875816993464052,
           0.22745098039215686,
           0.22222222222222224,
           0.22222222222222224,
           0.2235294117647059,
           0.2235294117647059,
           0.22222222222222224,
           0.2235294117647059,
           0.21176470588235294,
           0.21045751633986928,
           0.2196078431372549,
           0.23137254901960783,
           0.23660130718954245,
           0.23398692810457514,
           0.22875816993464052,
           0.2196078431372549,
           0.20915032679738563,
           0.21437908496732025,
           0.23398692810457514,
           0.2379084967320261,
           0.2261437908496732,
           0.203921568627451,
           0.1869281045751634
          ],
          [
           0.36993464052287583,
           0.2901960784313726,
           0.24444444444444446,
           0.2235294117647059,
           0.20784313725490197,
           0.20915032679738563,
           0.19738562091503267,
           0.2169934640522876,
           0.23267973856209148,
           0.2366013071895425,
           0.23137254901960783,
           0.22745098039215686,
           0.22745098039215686,
           0.2235294117647059,
           0.2196078431372549,
           0.2196078431372549,
           0.22483660130718955,
           0.20522875816993466,
           0.20261437908496735,
           0.21045751633986928,
           0.22091503267973855,
           0.23398692810457514,
           0.2431372549019608,
           0.24444444444444446,
           0.2405228758169935,
           0.2352941176470588,
           0.23398692810457514,
           0.22483660130718955,
           0.23790849673202616,
           0.22875816993464052,
           0.21176470588235294,
           0.20915032679738563
          ],
          [
           0.3934640522875817,
           0.32026143790849676,
           0.2758169934640523,
           0.25359477124183005,
           0.24183006535947713,
           0.2522875816993464,
           0.24705882352941178,
           0.24575163398692812,
           0.2522875816993464,
           0.25882352941176473,
           0.25620915032679736,
           0.2522875816993464,
           0.24575163398692812,
           0.2366013071895425,
           0.23006535947712417,
           0.22875816993464052,
           0.22875816993464052,
           0.2130718954248366,
           0.21045751633986928,
           0.21699346405228756,
           0.2261437908496732,
           0.2405228758169935,
           0.25882352941176473,
           0.269281045751634,
           0.2745098039215686,
           0.27320261437908494,
           0.269281045751634,
           0.2601307189542484,
           0.2771241830065359,
           0.27058823529411763,
           0.2575163398692811,
           0.2627450980392157
          ],
          [
           0.4300653594771242,
           0.3738562091503268,
           0.3450980392156863,
           0.3372549019607843,
           0.3372549019607843,
           0.35555555555555557,
           0.3542483660130719,
           0.3372549019607843,
           0.3281045751633987,
           0.32941176470588235,
           0.3281045751633987,
           0.3150326797385621,
           0.29673202614379085,
           0.2797385620915033,
           0.26405228758169935,
           0.25359477124183005,
           0.24183006535947715,
           0.23398692810457514,
           0.23267973856209148,
           0.2379084967320261,
           0.25359477124183005,
           0.27581699346405225,
           0.30457516339869284,
           0.32679738562091504,
           0.34117647058823536,
           0.34379084967320267,
           0.34771241830065364,
           0.35947712418300654,
           0.3790849673202614,
           0.37516339869281046,
           0.3647058823529412,
           0.3699346405228758
          ],
          [
           0.4758169934640523,
           0.44052287581699345,
           0.4287581699346405,
           0.4339869281045752,
           0.44183006535947716,
           0.4732026143790849,
           0.4732026143790849,
           0.4640522875816993,
           0.45098039215686275,
           0.43790849673202614,
           0.42614379084967324,
           0.40130718954248373,
           0.3686274509803922,
           0.3359477124183006,
           0.3084967320261438,
           0.2849673202614379,
           0.26405228758169935,
           0.2522875816993464,
           0.2549019607843137,
           0.2679738562091503,
           0.2928104575163399,
           0.330718954248366,
           0.37516339869281046,
           0.411764705882353,
           0.4392156862745098,
           0.45751633986928103,
           0.46535947712418296,
           0.4862745098039216,
           0.5098039215686275,
           0.5137254901960785,
           0.5058823529411764,
           0.515032679738562
          ]
         ]
        },
        {
         "name": "MLP prob distribution",
         "type": "bar",
         "x": [
          0,
          1,
          2,
          3,
          4,
          5,
          6,
          7,
          8,
          9
         ],
         "xaxis": "x2",
         "y": [
          0.00033785958657972515,
          0.0016197713557630777,
          0.0128230731934309,
          0.04810292273759842,
          0.06521297246217728,
          0.5142127871513367,
          0.009104973636567593,
          0.00291335117071867,
          0.005092129111289978,
          0.34058016538619995
         ],
         "yaxis": "y2"
        },
        {
         "name": "CNN prob distribution",
         "type": "bar",
         "x": [
          0,
          1,
          2,
          3,
          4,
          5,
          6,
          7,
          8,
          9
         ],
         "xaxis": "x3",
         "y": [
          4.33373440223728e-32,
          4.398921165150742e-19,
          9.678548645652888e-24,
          2.91398220657324e-12,
          3.623713069810374e-21,
          1,
          6.290174133615617e-16,
          4.2721022549144856e-16,
          2.5779796100058086e-23,
          1.3832477387099428e-19
         ],
         "yaxis": "y3"
        },
        {
         "colorscale": [
          [
           0,
           "rgb(0, 0, 0)"
          ],
          [
           0.09090909090909091,
           "rgb(16, 16, 16)"
          ],
          [
           0.18181818181818182,
           "rgb(38, 38, 38)"
          ],
          [
           0.2727272727272727,
           "rgb(59, 59, 59)"
          ],
          [
           0.36363636363636365,
           "rgb(81, 80, 80)"
          ],
          [
           0.45454545454545453,
           "rgb(102, 101, 101)"
          ],
          [
           0.5454545454545454,
           "rgb(124, 123, 122)"
          ],
          [
           0.6363636363636364,
           "rgb(146, 146, 145)"
          ],
          [
           0.7272727272727273,
           "rgb(171, 171, 170)"
          ],
          [
           0.8181818181818182,
           "rgb(197, 197, 195)"
          ],
          [
           0.9090909090909091,
           "rgb(224, 224, 223)"
          ],
          [
           1,
           "rgb(254, 254, 253)"
          ]
         ],
         "name": "Image",
         "showscale": false,
         "transpose": true,
         "type": "heatmap",
         "xaxis": "x",
         "yaxis": "y",
         "z": [
          [
           0.2431372549019608,
           0.27320261437908494,
           0.2928104575163399,
           0.3111111111111111,
           0.3215686274509804,
           0.3032679738562091,
           0.3006535947712418,
           0.31633986928104574,
           0.3202614379084967,
           0.3032679738562091,
           0.2928104575163399,
           0.29411764705882354,
           0.3032679738562092,
           0.3058823529411765,
           0.3032679738562091,
           0.29150326797385623,
           0.2745098039215686,
           0.2771241830065359,
           0.3045751633986928,
           0.3620915032679739,
           0.44836601307189544,
           0.5372549019607843,
           0.5882352941176471,
           0.5790849673202615,
           0.526797385620915,
           0.4588235294117647,
           0.39869281045751626,
           0.33202614379084966,
           0.27581699346405225,
           0.2679738562091503,
           0.3111111111111111,
           0.38431372549019605
          ],
          [
           0.3215686274509804,
           0.3712418300653595,
           0.4222222222222222,
           0.46535947712418296,
           0.49411764705882355,
           0.4862745098039216,
           0.4901960784313726,
           0.5176470588235295,
           0.5254901960784314,
           0.5071895424836601,
           0.4954248366013072,
           0.4901960784313726,
           0.4928104575163399,
           0.4980392156862745,
           0.4993464052287582,
           0.49150326797385624,
           0.4797385620915033,
           0.4758169934640522,
           0.4797385620915033,
           0.5215686274509804,
           0.6065359477124184,
           0.6915032679738561,
           0.7189542483660131,
           0.7215686274509804,
           0.6967320261437907,
           0.6392156862745098,
           0.5594771241830064,
           0.4104575163398693,
           0.3215686274509804,
           0.28104575163398693,
           0.29934640522875816,
           0.3686274509803921
          ],
          [
           0.3712418300653595,
           0.4431372549019608,
           0.5202614379084968,
           0.5869281045751634,
           0.6313725490196078,
           0.6339869281045751,
           0.6379084967320261,
           0.6679738562091503,
           0.6823529411764705,
           0.6666666666666666,
           0.6549019607843137,
           0.6483660130718953,
           0.6470588235294117,
           0.6509803921568628,
           0.6509803921568627,
           0.6470588235294117,
           0.6379084967320261,
           0.6431372549019607,
           0.6405228758169935,
           0.6601307189542484,
           0.7163398692810459,
           0.7673202614379084,
           0.7777777777777777,
           0.7895424836601307,
           0.7830065359477124,
           0.7503267973856209,
           0.6771241830065359,
           0.46928104575163393,
           0.35947712418300654,
           0.29934640522875816,
           0.2954248366013072,
           0.3607843137254902
          ],
          [
           0.37516339869281046,
           0.44575163398692813,
           0.522875816993464,
           0.5908496732026144,
           0.6352941176470588,
           0.6366013071895424,
           0.6392156862745098,
           0.6588235294117647,
           0.6718954248366013,
           0.6640522875816993,
           0.661437908496732,
           0.6562091503267974,
           0.6522875816993464,
           0.6509803921568628,
           0.645751633986928,
           0.6418300653594771,
           0.6366013071895424,
           0.6248366013071895,
           0.6274509803921569,
           0.6457516339869281,
           0.6679738562091503,
           0.6849673202614378,
           0.695424836601307,
           0.70718954248366,
           0.70718954248366,
           0.6888888888888888,
           0.6483660130718953,
           0.4705882352941177,
           0.37254901960784315,
           0.3084967320261438,
           0.29673202614379085,
           0.35947712418300654
          ],
          [
           0.34379084967320256,
           0.3908496732026143,
           0.44052287581699345,
           0.4901960784313726,
           0.5215686274509804,
           0.5084967320261438,
           0.5071895424836601,
           0.5098039215686274,
           0.5111111111111112,
           0.5176470588235295,
           0.5241830065359477,
           0.5241830065359477,
           0.5176470588235293,
           0.5111111111111111,
           0.5032679738562091,
           0.4980392156862745,
           0.4954248366013072,
           0.4366013071895425,
           0.4496732026143791,
           0.48888888888888893,
           0.4901960784313726,
           0.4928104575163399,
           0.5189542483660131,
           0.5281045751633987,
           0.5189542483660131,
           0.5071895424836601,
           0.5071895424836601,
           0.42745098039215684,
           0.3712418300653595,
           0.3084967320261438,
           0.2928104575163399,
           0.35555555555555557
          ],
          [
           0.2954248366013072,
           0.31633986928104574,
           0.34117647058823525,
           0.3712418300653595,
           0.39346405228758163,
           0.3764705882352941,
           0.37777777777777777,
           0.3607843137254902,
           0.3581699346405229,
           0.3712418300653595,
           0.3738562091503268,
           0.3738562091503268,
           0.3686274509803922,
           0.3620915032679739,
           0.3581699346405229,
           0.35947712418300654,
           0.3647058823529412,
           0.3372549019607843,
           0.35555555555555557,
           0.3803921568627451,
           0.3712418300653595,
           0.3581699346405229,
           0.38169934640522873,
           0.388235294117647,
           0.3764705882352941,
           0.3764705882352941,
           0.4052287581699347,
           0.38169934640522873,
           0.3568627450980392,
           0.30457516339869284,
           0.28366013071895424,
           0.3424836601307189
          ],
          [
           0.23660130718954245,
           0.23921568627450976,
           0.2549019607843137,
           0.28496732026143795,
           0.3084967320261438,
           0.3006535947712418,
           0.30718954248366015,
           0.28496732026143795,
           0.2745098039215686,
           0.2836601307189543,
           0.2836601307189543,
           0.27712418300653596,
           0.2679738562091503,
           0.26405228758169935,
           0.27320261437908494,
           0.2901960784313726,
           0.3045751633986928,
           0.30718954248366015,
           0.3150326797385621,
           0.31241830065359477,
           0.2888888888888889,
           0.2784313725490196,
           0.27320261437908494,
           0.2745098039215686,
           0.2784313725490196,
           0.29150326797385623,
           0.32026143790849676,
           0.35294117647058826,
           0.35032679738562095,
           0.29673202614379085,
           0.26666666666666666,
           0.31895424836601305
          ],
          [
           0.2261437908496732,
           0.2169934640522876,
           0.2196078431372549,
           0.24444444444444446,
           0.2718954248366013,
           0.2718954248366013,
           0.28235294117647064,
           0.26143790849673204,
           0.2522875816993464,
           0.2627450980392157,
           0.2549019607843137,
           0.23921568627450981,
           0.2235294117647059,
           0.2235294117647059,
           0.24444444444444446,
           0.27712418300653596,
           0.29411764705882354,
           0.33202614379084966,
           0.3202614379084967,
           0.2980392156862745,
           0.3006535947712418,
           0.30980392156862746,
           0.28496732026143795,
           0.27712418300653596,
           0.28496732026143795,
           0.3006535947712418,
           0.30588235294117644,
           0.33202614379084966,
           0.3450980392156863,
           0.2954248366013072,
           0.25098039215686274,
           0.2901960784313726
          ],
          [
           0.23921568627450981,
           0.22091503267973858,
           0.24575163398692812,
           0.2888888888888889,
           0.3150326797385621,
           0.3398692810457516,
           0.3686274509803922,
           0.330718954248366,
           0.2823529411764706,
           0.26143790849673204,
           0.25620915032679736,
           0.24313725490196078,
           0.2352941176470588,
           0.2431372549019608,
           0.2627450980392157,
           0.2954248366013072,
           0.3647058823529412,
           0.4496732026143791,
           0.4496732026143791,
           0.4143790849673203,
           0.4104575163398693,
           0.4196078431372549,
           0.4169934640522876,
           0.41830065359477125,
           0.42483660130718953,
           0.43137254901960786,
           0.41307189542483663,
           0.4052287581699347,
           0.3633986928104575,
           0.29673202614379085,
           0.25620915032679736,
           0.2784313725490196
          ],
          [
           0.2627450980392157,
           0.24575163398692812,
           0.3215686274509804,
           0.39738562091503266,
           0.4222222222222222,
           0.4797385620915033,
           0.5176470588235295,
           0.4444444444444444,
           0.33202614379084966,
           0.2627450980392157,
           0.265359477124183,
           0.2549019607843137,
           0.269281045751634,
           0.2928104575163399,
           0.30980392156862746,
           0.3450980392156862,
           0.5019607843137255,
           0.615686274509804,
           0.6470588235294117,
           0.6104575163398692,
           0.5607843137254902,
           0.5594771241830065,
           0.5895424836601307,
           0.603921568627451,
           0.6091503267973857,
           0.6143790849673203,
           0.596078431372549,
           0.5516339869281046,
           0.42483660130718953,
           0.32418300653594767,
           0.28366013071895424,
           0.28758169934640526
          ],
          [
           0.3032679738562091,
           0.31241830065359477,
           0.40915032679738567,
           0.5058823529411764,
           0.5477124183006535,
           0.5895424836601307,
           0.5869281045751634,
           0.4797385620915033,
           0.3568627450980393,
           0.2862745098039216,
           0.2718954248366013,
           0.25098039215686274,
           0.2679738562091503,
           0.3058823529411765,
           0.35294117647058815,
           0.42745098039215684,
           0.6130718954248366,
           0.7163398692810458,
           0.7503267973856209,
           0.722875816993464,
           0.6679738562091503,
           0.6588235294117647,
           0.6758169934640522,
           0.6732026143790849,
           0.6797385620915032,
           0.7071895424836602,
           0.7333333333333334,
           0.6562091503267974,
           0.5215686274509804,
           0.39738562091503277,
           0.3150326797385621,
           0.2954248366013072
          ],
          [
           0.3084967320261438,
           0.34117647058823536,
           0.45751633986928103,
           0.5790849673202615,
           0.6300653594771242,
           0.6405228758169934,
           0.5803921568627451,
           0.46928104575163393,
           0.35294117647058826,
           0.27320261437908494,
           0.24444444444444446,
           0.20915032679738563,
           0.21699346405228756,
           0.25620915032679736,
           0.32287581699346407,
           0.4287581699346405,
           0.6274509803921569,
           0.7581699346405228,
           0.8026143790849675,
           0.7594771241830065,
           0.6640522875816993,
           0.611764705882353,
           0.6,
           0.5686274509803922,
           0.5830065359477125,
           0.6601307189542484,
           0.7503267973856209,
           0.7333333333333334,
           0.611764705882353,
           0.4640522875816993,
           0.35294117647058826,
           0.29934640522875816
          ],
          [
           0.30196078431372547,
           0.3490196078431373,
           0.4901960784313726,
           0.6326797385620915,
           0.6928104575163397,
           0.6849673202614378,
           0.5816993464052288,
           0.4379084967320262,
           0.322875816993464,
           0.25882352941176473,
           0.2261437908496732,
           0.19738562091503267,
           0.20000000000000004,
           0.23137254901960783,
           0.29411764705882354,
           0.40653594771241836,
           0.6000000000000001,
           0.7594771241830065,
           0.8130718954248367,
           0.7516339869281046,
           0.6196078431372549,
           0.5320261437908497,
           0.49673202614379086,
           0.4405228758169935,
           0.4562091503267974,
           0.5738562091503269,
           0.7267973856209151,
           0.7568627450980392,
           0.6535947712418301,
           0.4980392156862745,
           0.36601307189542487,
           0.29934640522875816
          ],
          [
           0.29673202614379085,
           0.3450980392156862,
           0.4954248366013072,
           0.6483660130718955,
           0.7111111111111111,
           0.6849673202614378,
           0.5647058823529412,
           0.40392156862745104,
           0.29411764705882354,
           0.2549019607843137,
           0.23398692810457514,
           0.21960784313725493,
           0.22875816993464052,
           0.25359477124183005,
           0.30718954248366015,
           0.41830065359477125,
           0.5869281045751634,
           0.7254901960784315,
           0.7712418300653594,
           0.7019607843137253,
           0.5594771241830064,
           0.45751633986928103,
           0.4052287581699346,
           0.3450980392156862,
           0.3647058823529412,
           0.5019607843137255,
           0.6862745098039215,
           0.7529411764705882,
           0.6679738562091503,
           0.5111111111111111,
           0.3686274509803922,
           0.29673202614379085
          ],
          [
           0.29411764705882354,
           0.3281045751633987,
           0.4732026143790849,
           0.6287581699346405,
           0.6862745098039215,
           0.6601307189542484,
           0.5542483660130718,
           0.411764705882353,
           0.3281045751633987,
           0.3137254901960784,
           0.3006535947712418,
           0.29411764705882354,
           0.30588235294117644,
           0.3241830065359477,
           0.3673202614379085,
           0.46535947712418296,
           0.5947712418300654,
           0.6967320261437907,
           0.7228758169934641,
           0.6431372549019607,
           0.49411764705882355,
           0.388235294117647,
           0.33202614379084966,
           0.2784313725490196,
           0.30980392156862746,
           0.45359477124183006,
           0.6379084967320261,
           0.7320261437908497,
           0.6640522875816993,
           0.5098039215686274,
           0.35947712418300654,
           0.28758169934640526
          ],
          [
           0.28496732026143795,
           0.29673202614379085,
           0.43790849673202614,
           0.5934640522875817,
           0.6535947712418301,
           0.6483660130718955,
           0.5830065359477125,
           0.5071895424836601,
           0.47450980392156855,
           0.4732026143790849,
           0.44836601307189544,
           0.43790849673202614,
           0.4366013071895425,
           0.4431372549019608,
           0.4705882352941177,
           0.5333333333333333,
           0.6222222222222222,
           0.7163398692810459,
           0.7150326797385621,
           0.6039215686274509,
           0.43660130718954254,
           0.3254901960784314,
           0.26666666666666666,
           0.2261437908496732,
           0.269281045751634,
           0.411764705882353,
           0.5764705882352942,
           0.6849673202614378,
           0.6352941176470588,
           0.48888888888888893,
           0.3372549019607843,
           0.269281045751634
          ],
          [
           0.26405228758169935,
           0.2627450980392157,
           0.40392156862745104,
           0.5686274509803921,
           0.6339869281045751,
           0.6562091503267974,
           0.6444444444444445,
           0.6836601307189542,
           0.7215686274509805,
           0.7202614379084968,
           0.6915032679738563,
           0.6692810457516339,
           0.6601307189542484,
           0.6549019607843137,
           0.657516339869281,
           0.6862745098039215,
           0.7228758169934641,
           0.7503267973856209,
           0.7098039215686275,
           0.5856209150326798,
           0.41568627450980394,
           0.3137254901960784,
           0.25098039215686274,
           0.21830065359477122,
           0.26405228758169935,
           0.3869281045751634,
           0.5071895424836601,
           0.5843137254901961,
           0.5581699346405229,
           0.43660130718954254,
           0.3058823529411765,
           0.25098039215686274
          ],
          [
           0.26405228758169935,
           0.22222222222222224,
           0.34379084967320256,
           0.48888888888888893,
           0.5320261437908497,
           0.5581699346405228,
           0.5790849673202614,
           0.6431372549019607,
           0.7045751633986926,
           0.7267973856209151,
           0.7032679738562092,
           0.6901960784313724,
           0.6836601307189542,
           0.6692810457516339,
           0.657516339869281,
           0.6549019607843137,
           0.6601307189542484,
           0.6483660130718953,
           0.592156862745098,
           0.4836601307189543,
           0.3516339869281045,
           0.28758169934640526,
           0.23660130718954245,
           0.2013071895424837,
           0.22745098039215686,
           0.3084967320261438,
           0.3830065359477124,
           0.4823529411764706,
           0.47843137254901963,
           0.38169934640522873,
           0.27320261437908494,
           0.23790849673202616
          ],
          [
           0.2888888888888889,
           0.2549019607843137,
           0.2954248366013072,
           0.3542483660130719,
           0.3764705882352941,
           0.42091503267973857,
           0.44052287581699345,
           0.47712418300653586,
           0.5137254901960784,
           0.5281045751633987,
           0.5228758169934641,
           0.5189542483660131,
           0.5202614379084968,
           0.5163398692810457,
           0.5111111111111111,
           0.5124183006535947,
           0.515032679738562,
           0.4549019607843137,
           0.4052287581699347,
           0.35555555555555557,
           0.29150326797385623,
           0.2549019607843137,
           0.22875816993464052,
           0.2130718954248366,
           0.22352941176470587,
           0.2575163398692811,
           0.2823529411764706,
           0.33202614379084966,
           0.34117647058823525,
           0.29934640522875816,
           0.24836601307189543,
           0.2431372549019608
          ],
          [
           0.3150326797385621,
           0.2954248366013072,
           0.2679738562091503,
           0.24836601307189543,
           0.25882352941176473,
           0.3111111111111111,
           0.3150326797385621,
           0.32941176470588235,
           0.33856209150326794,
           0.3359477124183006,
           0.34117647058823536,
           0.342483660130719,
           0.34640522875817,
           0.3516339869281046,
           0.35555555555555557,
           0.3647058823529412,
           0.37516339869281046,
           0.30980392156862746,
           0.27843137254901956,
           0.27320261437908494,
           0.257516339869281,
           0.2366013071895425,
           0.22745098039215686,
           0.23006535947712417,
           0.23660130718954245,
           0.23790849673202616,
           0.23921568627450981,
           0.2379084967320261,
           0.24705882352941178,
           0.2431372549019608,
           0.23660130718954245,
           0.24836601307189543
          ],
          [
           0.3254901960784314,
           0.2888888888888889,
           0.2522875816993464,
           0.22875816993464052,
           0.22875816993464052,
           0.265359477124183,
           0.26405228758169935,
           0.28104575163398693,
           0.29150326797385623,
           0.2862745098039216,
           0.2823529411764706,
           0.28366013071895424,
           0.28104575163398693,
           0.2797385620915032,
           0.2797385620915033,
           0.28235294117647064,
           0.2862745098039216,
           0.2718954248366013,
           0.26013071895424833,
           0.2562091503267974,
           0.24575163398692812,
           0.2366013071895425,
           0.22875816993464052,
           0.22875816993464052,
           0.23137254901960783,
           0.23398692810457514,
           0.23790849673202616,
           0.24575163398692812,
           0.25359477124183005,
           0.2431372549019608,
           0.23137254901960783,
           0.2431372549019608
          ],
          [
           0.32941176470588235,
           0.28496732026143795,
           0.2522875816993464,
           0.23660130718954245,
           0.23267973856209154,
           0.26666666666666666,
           0.25882352941176473,
           0.2718954248366013,
           0.2784313725490196,
           0.2718954248366013,
           0.265359477124183,
           0.2575163398692811,
           0.2522875816993464,
           0.24575163398692812,
           0.2431372549019608,
           0.2431372549019608,
           0.24444444444444444,
           0.22745098039215686,
           0.22091503267973855,
           0.22483660130718955,
           0.2261437908496732,
           0.2261437908496732,
           0.22483660130718955,
           0.22483660130718955,
           0.2261437908496732,
           0.22875816993464052,
           0.23267973856209148,
           0.23398692810457514,
           0.24444444444444446,
           0.2352941176470588,
           0.2235294117647059,
           0.23790849673202616
          ],
          [
           0.32941176470588235,
           0.2849673202614379,
           0.26143790849673204,
           0.2522875816993464,
           0.25098039215686274,
           0.28627450980392155,
           0.2771241830065359,
           0.2718954248366013,
           0.265359477124183,
           0.26143790849673204,
           0.2575163398692811,
           0.2496732026143791,
           0.24183006535947715,
           0.23137254901960783,
           0.2261437908496732,
           0.22875816993464052,
           0.22745098039215686,
           0.21437908496732028,
           0.21045751633986928,
           0.21437908496732025,
           0.2169934640522876,
           0.2169934640522876,
           0.2169934640522876,
           0.21830065359477124,
           0.22091503267973858,
           0.2261437908496732,
           0.23006535947712417,
           0.23267973856209148,
           0.24183006535947713,
           0.23267973856209148,
           0.22483660130718955,
           0.24444444444444446
          ],
          [
           0.33856209150326794,
           0.2862745098039216,
           0.2575163398692811,
           0.25098039215686274,
           0.24836601307189543,
           0.2718954248366013,
           0.2627450980392157,
           0.2588235294117647,
           0.25359477124183005,
           0.24836601307189543,
           0.24705882352941178,
           0.24052287581699347,
           0.2352941176470588,
           0.22875816993464052,
           0.22483660130718955,
           0.22745098039215686,
           0.22875816993464052,
           0.22745098039215686,
           0.2261437908496732,
           0.2235294117647059,
           0.2196078431372549,
           0.21437908496732025,
           0.2130718954248366,
           0.2156862745098039,
           0.2235294117647059,
           0.22875816993464052,
           0.23790849673202616,
           0.2366013071895425,
           0.24836601307189543,
           0.24183006535947713,
           0.23529411764705885,
           0.24705882352941178
          ],
          [
           0.35947712418300654,
           0.29411764705882354,
           0.2601307189542484,
           0.2496732026143791,
           0.24313725490196078,
           0.2562091503267974,
           0.24183006535947715,
           0.24444444444444446,
           0.24575163398692812,
           0.24052287581699347,
           0.24052287581699347,
           0.23790849673202616,
           0.2339869281045752,
           0.23529411764705885,
           0.23398692810457514,
           0.23267973856209148,
           0.24313725490196078,
           0.24836601307189543,
           0.24705882352941178,
           0.23921568627450981,
           0.2261437908496732,
           0.21830065359477124,
           0.21699346405228756,
           0.21830065359477124,
           0.22745098039215686,
           0.2352941176470588,
           0.24444444444444444,
           0.24705882352941178,
           0.25620915032679736,
           0.2522875816993464,
           0.2431372549019608,
           0.24705882352941178
          ],
          [
           0.37516339869281046,
           0.3045751633986928,
           0.2679738562091503,
           0.2601307189542484,
           0.2549019607843137,
           0.2601307189542484,
           0.24183006535947715,
           0.2352941176470588,
           0.23660130718954245,
           0.2352941176470588,
           0.2352941176470588,
           0.23398692810457514,
           0.23398692810457514,
           0.2366013071895425,
           0.23790849673202616,
           0.23660130718954245,
           0.24705882352941178,
           0.2549019607843137,
           0.2549019607843137,
           0.24705882352941178,
           0.23267973856209148,
           0.2261437908496732,
           0.2261437908496732,
           0.22483660130718955,
           0.23006535947712417,
           0.23790849673202616,
           0.24575163398692812,
           0.2549019607843137,
           0.2588235294117647,
           0.25098039215686274,
           0.24052287581699347,
           0.23790849673202616
          ],
          [
           0.37516339869281046,
           0.30065359477124187,
           0.2679738562091503,
           0.265359477124183,
           0.2627450980392157,
           0.26405228758169935,
           0.25098039215686274,
           0.23267973856209148,
           0.2235294117647059,
           0.22222222222222224,
           0.22222222222222224,
           0.2196078431372549,
           0.2196078431372549,
           0.2196078431372549,
           0.2196078431372549,
           0.22222222222222224,
           0.2235294117647059,
           0.23267973856209148,
           0.23790849673202616,
           0.23790849673202616,
           0.2339869281045752,
           0.23398692810457514,
           0.23267973856209148,
           0.23137254901960783,
           0.23137254901960783,
           0.23137254901960783,
           0.23267973856209148,
           0.24836601307189543,
           0.2522875816993464,
           0.24183006535947713,
           0.2261437908496732,
           0.21568627450980393
          ],
          [
           0.3568627450980393,
           0.2797385620915033,
           0.2431372549019608,
           0.23921568627450981,
           0.22875816993464052,
           0.2235294117647059,
           0.20522875816993466,
           0.21830065359477124,
           0.23137254901960783,
           0.22875816993464052,
           0.22745098039215686,
           0.22222222222222224,
           0.22222222222222224,
           0.2235294117647059,
           0.2235294117647059,
           0.22222222222222224,
           0.2235294117647059,
           0.21176470588235294,
           0.21045751633986928,
           0.2196078431372549,
           0.23137254901960783,
           0.23660130718954245,
           0.23398692810457514,
           0.22875816993464052,
           0.2196078431372549,
           0.20915032679738563,
           0.21437908496732025,
           0.23398692810457514,
           0.2379084967320261,
           0.2261437908496732,
           0.203921568627451,
           0.1869281045751634
          ],
          [
           0.36993464052287583,
           0.2901960784313726,
           0.24444444444444446,
           0.2235294117647059,
           0.20784313725490197,
           0.20915032679738563,
           0.19738562091503267,
           0.2169934640522876,
           0.23267973856209148,
           0.2366013071895425,
           0.23137254901960783,
           0.22745098039215686,
           0.22745098039215686,
           0.2235294117647059,
           0.2196078431372549,
           0.2196078431372549,
           0.22483660130718955,
           0.20522875816993466,
           0.20261437908496735,
           0.21045751633986928,
           0.22091503267973855,
           0.23398692810457514,
           0.2431372549019608,
           0.24444444444444446,
           0.2405228758169935,
           0.2352941176470588,
           0.23398692810457514,
           0.22483660130718955,
           0.23790849673202616,
           0.22875816993464052,
           0.21176470588235294,
           0.20915032679738563
          ],
          [
           0.3934640522875817,
           0.32026143790849676,
           0.2758169934640523,
           0.25359477124183005,
           0.24183006535947713,
           0.2522875816993464,
           0.24705882352941178,
           0.24575163398692812,
           0.2522875816993464,
           0.25882352941176473,
           0.25620915032679736,
           0.2522875816993464,
           0.24575163398692812,
           0.2366013071895425,
           0.23006535947712417,
           0.22875816993464052,
           0.22875816993464052,
           0.2130718954248366,
           0.21045751633986928,
           0.21699346405228756,
           0.2261437908496732,
           0.2405228758169935,
           0.25882352941176473,
           0.269281045751634,
           0.2745098039215686,
           0.27320261437908494,
           0.269281045751634,
           0.2601307189542484,
           0.2771241830065359,
           0.27058823529411763,
           0.2575163398692811,
           0.2627450980392157
          ],
          [
           0.4300653594771242,
           0.3738562091503268,
           0.3450980392156863,
           0.3372549019607843,
           0.3372549019607843,
           0.35555555555555557,
           0.3542483660130719,
           0.3372549019607843,
           0.3281045751633987,
           0.32941176470588235,
           0.3281045751633987,
           0.3150326797385621,
           0.29673202614379085,
           0.2797385620915033,
           0.26405228758169935,
           0.25359477124183005,
           0.24183006535947715,
           0.23398692810457514,
           0.23267973856209148,
           0.2379084967320261,
           0.25359477124183005,
           0.27581699346405225,
           0.30457516339869284,
           0.32679738562091504,
           0.34117647058823536,
           0.34379084967320267,
           0.34771241830065364,
           0.35947712418300654,
           0.3790849673202614,
           0.37516339869281046,
           0.3647058823529412,
           0.3699346405228758
          ],
          [
           0.4758169934640523,
           0.44052287581699345,
           0.4287581699346405,
           0.4339869281045752,
           0.44183006535947716,
           0.4732026143790849,
           0.4732026143790849,
           0.4640522875816993,
           0.45098039215686275,
           0.43790849673202614,
           0.42614379084967324,
           0.40130718954248373,
           0.3686274509803922,
           0.3359477124183006,
           0.3084967320261438,
           0.2849673202614379,
           0.26405228758169935,
           0.2522875816993464,
           0.2549019607843137,
           0.2679738562091503,
           0.2928104575163399,
           0.330718954248366,
           0.37516339869281046,
           0.411764705882353,
           0.4392156862745098,
           0.45751633986928103,
           0.46535947712418296,
           0.4862745098039216,
           0.5098039215686275,
           0.5137254901960785,
           0.5058823529411764,
           0.515032679738562
          ]
         ]
        }
       ],
       "layout": {
        "template": {
         "data": {
          "bar": [
           {
            "error_x": {
             "color": "#f2f5fa"
            },
            "error_y": {
             "color": "#f2f5fa"
            },
            "marker": {
             "line": {
              "color": "rgb(17,17,17)",
              "width": 0.5
             },
             "pattern": {
              "fillmode": "overlay",
              "size": 10,
              "solidity": 0.2
             }
            },
            "type": "bar"
           }
          ],
          "barpolar": [
           {
            "marker": {
             "line": {
              "color": "rgb(17,17,17)",
              "width": 0.5
             },
             "pattern": {
              "fillmode": "overlay",
              "size": 10,
              "solidity": 0.2
             }
            },
            "type": "barpolar"
           }
          ],
          "carpet": [
           {
            "aaxis": {
             "endlinecolor": "#A2B1C6",
             "gridcolor": "#506784",
             "linecolor": "#506784",
             "minorgridcolor": "#506784",
             "startlinecolor": "#A2B1C6"
            },
            "baxis": {
             "endlinecolor": "#A2B1C6",
             "gridcolor": "#506784",
             "linecolor": "#506784",
             "minorgridcolor": "#506784",
             "startlinecolor": "#A2B1C6"
            },
            "type": "carpet"
           }
          ],
          "choropleth": [
           {
            "colorbar": {
             "outlinewidth": 0,
             "ticks": ""
            },
            "type": "choropleth"
           }
          ],
          "contour": [
           {
            "colorbar": {
             "outlinewidth": 0,
             "ticks": ""
            },
            "colorscale": [
             [
              0,
              "#0d0887"
             ],
             [
              0.1111111111111111,
              "#46039f"
             ],
             [
              0.2222222222222222,
              "#7201a8"
             ],
             [
              0.3333333333333333,
              "#9c179e"
             ],
             [
              0.4444444444444444,
              "#bd3786"
             ],
             [
              0.5555555555555556,
              "#d8576b"
             ],
             [
              0.6666666666666666,
              "#ed7953"
             ],
             [
              0.7777777777777778,
              "#fb9f3a"
             ],
             [
              0.8888888888888888,
              "#fdca26"
             ],
             [
              1,
              "#f0f921"
             ]
            ],
            "type": "contour"
           }
          ],
          "contourcarpet": [
           {
            "colorbar": {
             "outlinewidth": 0,
             "ticks": ""
            },
            "type": "contourcarpet"
           }
          ],
          "heatmap": [
           {
            "colorbar": {
             "outlinewidth": 0,
             "ticks": ""
            },
            "colorscale": [
             [
              0,
              "#0d0887"
             ],
             [
              0.1111111111111111,
              "#46039f"
             ],
             [
              0.2222222222222222,
              "#7201a8"
             ],
             [
              0.3333333333333333,
              "#9c179e"
             ],
             [
              0.4444444444444444,
              "#bd3786"
             ],
             [
              0.5555555555555556,
              "#d8576b"
             ],
             [
              0.6666666666666666,
              "#ed7953"
             ],
             [
              0.7777777777777778,
              "#fb9f3a"
             ],
             [
              0.8888888888888888,
              "#fdca26"
             ],
             [
              1,
              "#f0f921"
             ]
            ],
            "type": "heatmap"
           }
          ],
          "heatmapgl": [
           {
            "colorbar": {
             "outlinewidth": 0,
             "ticks": ""
            },
            "colorscale": [
             [
              0,
              "#0d0887"
             ],
             [
              0.1111111111111111,
              "#46039f"
             ],
             [
              0.2222222222222222,
              "#7201a8"
             ],
             [
              0.3333333333333333,
              "#9c179e"
             ],
             [
              0.4444444444444444,
              "#bd3786"
             ],
             [
              0.5555555555555556,
              "#d8576b"
             ],
             [
              0.6666666666666666,
              "#ed7953"
             ],
             [
              0.7777777777777778,
              "#fb9f3a"
             ],
             [
              0.8888888888888888,
              "#fdca26"
             ],
             [
              1,
              "#f0f921"
             ]
            ],
            "type": "heatmapgl"
           }
          ],
          "histogram": [
           {
            "marker": {
             "pattern": {
              "fillmode": "overlay",
              "size": 10,
              "solidity": 0.2
             }
            },
            "type": "histogram"
           }
          ],
          "histogram2d": [
           {
            "colorbar": {
             "outlinewidth": 0,
             "ticks": ""
            },
            "colorscale": [
             [
              0,
              "#0d0887"
             ],
             [
              0.1111111111111111,
              "#46039f"
             ],
             [
              0.2222222222222222,
              "#7201a8"
             ],
             [
              0.3333333333333333,
              "#9c179e"
             ],
             [
              0.4444444444444444,
              "#bd3786"
             ],
             [
              0.5555555555555556,
              "#d8576b"
             ],
             [
              0.6666666666666666,
              "#ed7953"
             ],
             [
              0.7777777777777778,
              "#fb9f3a"
             ],
             [
              0.8888888888888888,
              "#fdca26"
             ],
             [
              1,
              "#f0f921"
             ]
            ],
            "type": "histogram2d"
           }
          ],
          "histogram2dcontour": [
           {
            "colorbar": {
             "outlinewidth": 0,
             "ticks": ""
            },
            "colorscale": [
             [
              0,
              "#0d0887"
             ],
             [
              0.1111111111111111,
              "#46039f"
             ],
             [
              0.2222222222222222,
              "#7201a8"
             ],
             [
              0.3333333333333333,
              "#9c179e"
             ],
             [
              0.4444444444444444,
              "#bd3786"
             ],
             [
              0.5555555555555556,
              "#d8576b"
             ],
             [
              0.6666666666666666,
              "#ed7953"
             ],
             [
              0.7777777777777778,
              "#fb9f3a"
             ],
             [
              0.8888888888888888,
              "#fdca26"
             ],
             [
              1,
              "#f0f921"
             ]
            ],
            "type": "histogram2dcontour"
           }
          ],
          "mesh3d": [
           {
            "colorbar": {
             "outlinewidth": 0,
             "ticks": ""
            },
            "type": "mesh3d"
           }
          ],
          "parcoords": [
           {
            "line": {
             "colorbar": {
              "outlinewidth": 0,
              "ticks": ""
             }
            },
            "type": "parcoords"
           }
          ],
          "pie": [
           {
            "automargin": true,
            "type": "pie"
           }
          ],
          "scatter": [
           {
            "marker": {
             "line": {
              "color": "#283442"
             }
            },
            "type": "scatter"
           }
          ],
          "scatter3d": [
           {
            "line": {
             "colorbar": {
              "outlinewidth": 0,
              "ticks": ""
             }
            },
            "marker": {
             "colorbar": {
              "outlinewidth": 0,
              "ticks": ""
             }
            },
            "type": "scatter3d"
           }
          ],
          "scattercarpet": [
           {
            "marker": {
             "colorbar": {
              "outlinewidth": 0,
              "ticks": ""
             }
            },
            "type": "scattercarpet"
           }
          ],
          "scattergeo": [
           {
            "marker": {
             "colorbar": {
              "outlinewidth": 0,
              "ticks": ""
             }
            },
            "type": "scattergeo"
           }
          ],
          "scattergl": [
           {
            "marker": {
             "line": {
              "color": "#283442"
             }
            },
            "type": "scattergl"
           }
          ],
          "scattermapbox": [
           {
            "marker": {
             "colorbar": {
              "outlinewidth": 0,
              "ticks": ""
             }
            },
            "type": "scattermapbox"
           }
          ],
          "scatterpolar": [
           {
            "marker": {
             "colorbar": {
              "outlinewidth": 0,
              "ticks": ""
             }
            },
            "type": "scatterpolar"
           }
          ],
          "scatterpolargl": [
           {
            "marker": {
             "colorbar": {
              "outlinewidth": 0,
              "ticks": ""
             }
            },
            "type": "scatterpolargl"
           }
          ],
          "scatterternary": [
           {
            "marker": {
             "colorbar": {
              "outlinewidth": 0,
              "ticks": ""
             }
            },
            "type": "scatterternary"
           }
          ],
          "surface": [
           {
            "colorbar": {
             "outlinewidth": 0,
             "ticks": ""
            },
            "colorscale": [
             [
              0,
              "#0d0887"
             ],
             [
              0.1111111111111111,
              "#46039f"
             ],
             [
              0.2222222222222222,
              "#7201a8"
             ],
             [
              0.3333333333333333,
              "#9c179e"
             ],
             [
              0.4444444444444444,
              "#bd3786"
             ],
             [
              0.5555555555555556,
              "#d8576b"
             ],
             [
              0.6666666666666666,
              "#ed7953"
             ],
             [
              0.7777777777777778,
              "#fb9f3a"
             ],
             [
              0.8888888888888888,
              "#fdca26"
             ],
             [
              1,
              "#f0f921"
             ]
            ],
            "type": "surface"
           }
          ],
          "table": [
           {
            "cells": {
             "fill": {
              "color": "#506784"
             },
             "line": {
              "color": "rgb(17,17,17)"
             }
            },
            "header": {
             "fill": {
              "color": "#2a3f5f"
             },
             "line": {
              "color": "rgb(17,17,17)"
             }
            },
            "type": "table"
           }
          ]
         },
         "layout": {
          "annotationdefaults": {
           "arrowcolor": "#f2f5fa",
           "arrowhead": 0,
           "arrowwidth": 1
          },
          "autotypenumbers": "strict",
          "coloraxis": {
           "colorbar": {
            "outlinewidth": 0,
            "ticks": ""
           }
          },
          "colorscale": {
           "diverging": [
            [
             0,
             "#8e0152"
            ],
            [
             0.1,
             "#c51b7d"
            ],
            [
             0.2,
             "#de77ae"
            ],
            [
             0.3,
             "#f1b6da"
            ],
            [
             0.4,
             "#fde0ef"
            ],
            [
             0.5,
             "#f7f7f7"
            ],
            [
             0.6,
             "#e6f5d0"
            ],
            [
             0.7,
             "#b8e186"
            ],
            [
             0.8,
             "#7fbc41"
            ],
            [
             0.9,
             "#4d9221"
            ],
            [
             1,
             "#276419"
            ]
           ],
           "sequential": [
            [
             0,
             "#0d0887"
            ],
            [
             0.1111111111111111,
             "#46039f"
            ],
            [
             0.2222222222222222,
             "#7201a8"
            ],
            [
             0.3333333333333333,
             "#9c179e"
            ],
            [
             0.4444444444444444,
             "#bd3786"
            ],
            [
             0.5555555555555556,
             "#d8576b"
            ],
            [
             0.6666666666666666,
             "#ed7953"
            ],
            [
             0.7777777777777778,
             "#fb9f3a"
            ],
            [
             0.8888888888888888,
             "#fdca26"
            ],
            [
             1,
             "#f0f921"
            ]
           ],
           "sequentialminus": [
            [
             0,
             "#0d0887"
            ],
            [
             0.1111111111111111,
             "#46039f"
            ],
            [
             0.2222222222222222,
             "#7201a8"
            ],
            [
             0.3333333333333333,
             "#9c179e"
            ],
            [
             0.4444444444444444,
             "#bd3786"
            ],
            [
             0.5555555555555556,
             "#d8576b"
            ],
            [
             0.6666666666666666,
             "#ed7953"
            ],
            [
             0.7777777777777778,
             "#fb9f3a"
            ],
            [
             0.8888888888888888,
             "#fdca26"
            ],
            [
             1,
             "#f0f921"
            ]
           ]
          },
          "colorway": [
           "#636efa",
           "#EF553B",
           "#00cc96",
           "#ab63fa",
           "#FFA15A",
           "#19d3f3",
           "#FF6692",
           "#B6E880",
           "#FF97FF",
           "#FECB52"
          ],
          "font": {
           "color": "#f2f5fa"
          },
          "geo": {
           "bgcolor": "rgb(17,17,17)",
           "lakecolor": "rgb(17,17,17)",
           "landcolor": "rgb(17,17,17)",
           "showlakes": true,
           "showland": true,
           "subunitcolor": "#506784"
          },
          "hoverlabel": {
           "align": "left"
          },
          "hovermode": "closest",
          "mapbox": {
           "style": "dark"
          },
          "paper_bgcolor": "rgb(17,17,17)",
          "plot_bgcolor": "rgb(17,17,17)",
          "polar": {
           "angularaxis": {
            "gridcolor": "#506784",
            "linecolor": "#506784",
            "ticks": ""
           },
           "bgcolor": "rgb(17,17,17)",
           "radialaxis": {
            "gridcolor": "#506784",
            "linecolor": "#506784",
            "ticks": ""
           }
          },
          "scene": {
           "xaxis": {
            "backgroundcolor": "rgb(17,17,17)",
            "gridcolor": "#506784",
            "gridwidth": 2,
            "linecolor": "#506784",
            "showbackground": true,
            "ticks": "",
            "zerolinecolor": "#C8D4E3"
           },
           "yaxis": {
            "backgroundcolor": "rgb(17,17,17)",
            "gridcolor": "#506784",
            "gridwidth": 2,
            "linecolor": "#506784",
            "showbackground": true,
            "ticks": "",
            "zerolinecolor": "#C8D4E3"
           },
           "zaxis": {
            "backgroundcolor": "rgb(17,17,17)",
            "gridcolor": "#506784",
            "gridwidth": 2,
            "linecolor": "#506784",
            "showbackground": true,
            "ticks": "",
            "zerolinecolor": "#C8D4E3"
           }
          },
          "shapedefaults": {
           "line": {
            "color": "#f2f5fa"
           }
          },
          "sliderdefaults": {
           "bgcolor": "#C8D4E3",
           "bordercolor": "rgb(17,17,17)",
           "borderwidth": 1,
           "tickwidth": 0
          },
          "ternary": {
           "aaxis": {
            "gridcolor": "#506784",
            "linecolor": "#506784",
            "ticks": ""
           },
           "baxis": {
            "gridcolor": "#506784",
            "linecolor": "#506784",
            "ticks": ""
           },
           "bgcolor": "rgb(17,17,17)",
           "caxis": {
            "gridcolor": "#506784",
            "linecolor": "#506784",
            "ticks": ""
           }
          },
          "title": {
           "x": 0.05
          },
          "updatemenudefaults": {
           "bgcolor": "#506784",
           "borderwidth": 0
          },
          "xaxis": {
           "automargin": true,
           "gridcolor": "#283442",
           "linecolor": "#506784",
           "ticks": "",
           "title": {
            "standoff": 15
           },
           "zerolinecolor": "#283442",
           "zerolinewidth": 2
          },
          "yaxis": {
           "automargin": true,
           "gridcolor": "#283442",
           "linecolor": "#506784",
           "ticks": "",
           "title": {
            "standoff": 15
           },
           "zerolinecolor": "#283442",
           "zerolinewidth": 2
          }
         }
        },
        "title": {
         "text": "MLP vs CNN Prediction distribution",
         "x": 0.25
        },
        "xaxis": {
         "anchor": "y",
         "domain": [
          0,
          0.27
         ],
         "title": {
          "text": "MLP Predicts [5] -- CNN Predicts [5] "
         }
        },
        "xaxis2": {
         "anchor": "y2",
         "domain": [
          0.37,
          1
         ],
         "dtick": 1
        },
        "xaxis3": {
         "anchor": "y3",
         "domain": [
          0.37,
          1
         ]
        },
        "yaxis": {
         "anchor": "x",
         "domain": [
          0,
          1
         ]
        },
        "yaxis2": {
         "anchor": "x2",
         "domain": [
          0.575,
          1
         ],
         "title": {
          "text": "Prob MLP"
         }
        },
        "yaxis3": {
         "anchor": "x3",
         "domain": [
          0,
          0.425
         ],
         "title": {
          "text": "Prob CMM"
         }
        }
       }
      }
     },
     "metadata": {},
     "output_type": "display_data"
    }
   ],
   "source": [
    "plot_pred_dist()"
   ]
  }
 ],
 "metadata": {
  "colab": {
   "provenance": []
  },
  "kernelspec": {
   "display_name": "tfgpy",
   "language": "python",
   "name": "python3"
  },
  "language_info": {
   "codemirror_mode": {
    "name": "ipython",
    "version": 3
   },
   "file_extension": ".py",
   "mimetype": "text/x-python",
   "name": "python",
   "nbconvert_exporter": "python",
   "pygments_lexer": "ipython3",
   "version": "3.10.6"
  },
  "vscode": {
   "interpreter": {
    "hash": "7b6a876542c6e3b7dc485a3df575169d2e761a8f6ebfc9515906478165665ee3"
   }
  }
 },
 "nbformat": 4,
 "nbformat_minor": 4
}
